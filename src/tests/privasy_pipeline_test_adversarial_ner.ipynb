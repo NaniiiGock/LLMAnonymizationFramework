{
 "cells": [
  {
   "cell_type": "code",
   "execution_count": 1,
   "metadata": {},
   "outputs": [],
   "source": [
    "from processing.adversarial_llm_ner import AdversarialLLMNER\n",
    "import json\n",
    "from processing.mistral_processor import MistralProvider\n",
    "from processing.ollama_processor import LlamaProvider\n",
    "\n",
    "text = \"In 2020, Sarah Mitchell, the CEO of GlobalTech Innovations, announced a major restructuring within the company. This decision, made after months of deliberations, aimed at addressing the impact of the COVID-19 pandemic on the business. While some employees feared job cuts, others praised the move as necessary for long-term survival. The restructuring plan was executed in stages and primarily affected the marketing and sales departments.\""
   ]
  },
  {
   "cell_type": "markdown",
   "metadata": {},
   "source": [
    "# Single-model LLM NER"
   ]
  },
  {
   "cell_type": "code",
   "execution_count": 25,
   "metadata": {},
   "outputs": [
    {
     "name": "stdout",
     "output_type": "stream",
     "text": [
      "Masked Text:\n",
      " In 2020, [PER_1] Mitchell, the CEO of GlobalTech Innovations, announced a major restructuring within the company. This decision, made after months of deliberations, aimed at addressing the impact of the COVID-19 pandemic on the business. While some employees feared job cuts, others praised the move as necessary for long-term survival. The restructuring plan was executed in stages and primarily affected the marketing and sales departments.\n",
      "\n",
      "Mapping:\n",
      "\"Sarah Mitchell\": \"PER_1\"\n"
     ]
    }
   ],
   "source": [
    "mistral_provider = MistralProvider()\n",
    "result = mistral_provider.run(text, None)\n",
    "masked_text = result[\"masked_text\"]\n",
    "mapping = result[\"mapping\"]\n",
    "print(\"Masked Text:\\n\", result[\"masked_text\"])\n",
    "print(\"\\nMapping:\")\n",
    "for tag, value in result[\"mapping\"].items():\n",
    "    print(f\"{value}: {tag}\")"
   ]
  },
  {
   "cell_type": "code",
   "execution_count": 12,
   "metadata": {},
   "outputs": [
    {
     "name": "stdout",
     "output_type": "stream",
     "text": [
      "MASKED TEXT\n",
      "In [DATE_1], [PER_1], the CEO of [ORG_1], announced a major restructuring within the [ORG_1]. This decision, made after months of deliberations, aimed at addressing the impact of the [EVENT_1] on the [ORG_1]. While some employees feared job cuts, others praised the move as necessary for long-term survival. The restructuring plan was executed in stages and primarily affected the [PRODUCT].\n",
      "MAPPINGS\n",
      "{'2020': 'DATE_1', 'Sarah Mitchell': 'PER_1', 'GlobalTech Innovations': 'ORG_1', 'COVID-19 pandemic': 'EVENT_1'}\n"
     ]
    }
   ],
   "source": [
    "ollama_provider = LlamaProvider()\n",
    "\n",
    "result = ollama_provider.run(text)\n",
    "print(\"MASKED TEXT\")\n",
    "masked_text = result[\"masked_text\"]\n",
    "print(masked_text)\n",
    "mappings = result[\"mapping\"]\n",
    "print(\"MAPPINGS\")\n",
    "print(mappings)"
   ]
  },
  {
   "cell_type": "markdown",
   "metadata": {},
   "source": [
    "# Adversarial LLM NER"
   ]
  },
  {
   "cell_type": "markdown",
   "metadata": {},
   "source": [
    "### Example when prompt was structured as \"You are a PII attacker...\""
   ]
  },
  {
   "cell_type": "code",
   "execution_count": 2,
   "metadata": {},
   "outputs": [
    {
     "name": "stdout",
     "output_type": "stream",
     "text": [
      "\n",
      "--- Step 1 ---\n",
      "trial 0\n",
      "Anonymized: {'anonymized_text': 'In 2020, Sarah Mitchell, the CEO of GlobalTech Innovations, announced a major restructuring within the company. This decision, made after months of deliberations, aimed at addressing the impact of the COVID-19 pandemic on the business. While some employees feared job cuts, others praised the move as necessary for long-term survival. The restructuring plan was executed in stages and primarily affected the marketing and sales departments.None', 'mapping': {}}\n",
      "Reidentified guess: I cannot provide information that could be used to identify or locate an individual. Is there anything else I can help you with?\n",
      "Overlap Score: 0\n",
      "Best anonymization result:\n",
      "{\n",
      "  \"step\": 1,\n",
      "  \"anonymized_text\": \"In 2020, Sarah Mitchell, the CEO of GlobalTech Innovations, announced a major restructuring within the company. This decision, made after months of deliberations, aimed at addressing the impact of the COVID-19 pandemic on the business. While some employees feared job cuts, others praised the move as necessary for long-term survival. The restructuring plan was executed in stages and primarily affected the marketing and sales departments.None\",\n",
      "  \"mapping\": {},\n",
      "  \"reidentified_guess\": \"I cannot provide information that could be used to identify or locate an individual. Is there anything else I can help you with?\",\n",
      "  \"score\": 0\n",
      "}\n"
     ]
    }
   ],
   "source": [
    "adversarial = AdversarialLLMNER(model_anonymizer=\"llama3.2\", model_adversarial=\"llama3.2\", max_steps=3)\n",
    "result = adversarial.refine_anonymization(text)\n",
    "print(\"Best anonymization result:\")\n",
    "print(json.dumps(result, indent=2, ensure_ascii=False))"
   ]
  },
  {
   "cell_type": "markdown",
   "metadata": {},
   "source": [
    "## LLama + LLama"
   ]
  },
  {
   "cell_type": "code",
   "execution_count": 2,
   "metadata": {},
   "outputs": [
    {
     "name": "stdout",
     "output_type": "stream",
     "text": [
      "\n",
      "--- Step 1 ---\n",
      "trial 0\n",
      "====\n",
      "RESULT\n",
      "{'anonymized_text': '[PER_1], the CEO of [ORG_1], announced a major restructuring within the company. This decision, made after months of deliberations, aimed at addressing the impact of [EVENT_1] on the business. While some employees feared job cuts, others praised the move as necessary for long-term survival. The restructuring plan was executed in stages and primarily affected the [LOC_1], [LOC_2].', 'mapping': {'Sarah Mitchell': 'PER_1', 'GlobalTech Innovations': 'ORG_1', 'COVID-19 pandemic': 'EVENT_1'}}\n",
      "====\n",
      "Anonymized: {'anonymized_text': '[PER_1], the CEO of [ORG_1], announced a major restructuring within the company. This decision, made after months of deliberations, aimed at addressing the impact of [EVENT_1] on the business. While some employees feared job cuts, others praised the move as necessary for long-term survival. The restructuring plan was executed in stages and primarily affected the [LOC_1], [LOC_2].', 'mapping': {'Sarah Mitchell': 'PER_1', 'GlobalTech Innovations': 'ORG_1', 'COVID-19 pandemic': 'EVENT_1'}}\n",
      "Reidentified guess: To mask personally identifiable information (PII), I'll remove specific details that could be linked to individuals or organizations. Here's my attempt to imitate the attacker and identify potential PII:\n",
      "\n",
      "```\n",
      "{\n",
      "  \"potentially exposed PII\": [\n",
      "    \"[PER_1]\", // Full name\n",
      "    \"[ORG_1]\", // Organization\n",
      "    \"[LOC_1]\", // Specific location\n",
      "    \"[LOC_2]\" // Specific location\n",
      "  ]\n",
      "}\n",
      "```\n",
      "\n",
      "Note that I've left out the event mentioned in the original text (`[EVENT_1]`) since it's not explicitly stated to be a PII. If you'd like, I can mask that as well.\n",
      "\n",
      "The remaining PII that could still be detected are:\n",
      "\n",
      "*   Full name: `[PER_1]`\n",
      "*   Organization: `[ORG_1]`\n",
      "*   Specific locations: `[LOC_1], [LOC_2]`\n",
      "\n",
      "These details could potentially be linked to individuals or organizations, making them identifiable information.\n",
      "Overlap Score: 5\n",
      "\n",
      "--- Step 2 ---\n",
      "trial 0\n",
      "trial 1\n",
      "trial 2\n",
      "Anonymized: {'anonymized_text': '[PER_1], the CEO of [ORG_1], announced a major restructuring within the company. This decision, made after months of deliberations, aimed at addressing the impact of [EVENT_1] on the business. While some employees feared job cuts, others praised the move as necessary for long-term survival. The restructuring plan was executed in stages and primarily affected the [LOC_1], [LOC_2].', 'mapping': {'Sarah Mitchell': 'PER_1', 'GlobalTech Innovations': 'ORG_1', 'COVID-19 pandemic': 'EVENT_1'}}\n",
      "Reidentified guess: To mask personally identifiable information (PII) from the text, I'll try to imitate an attacker's perspective and identify potential PII that could be detected.\n",
      "\n",
      "Here's my attempt:\n",
      "\n",
      "Potential PII that could be detected by the attacker:\n",
      "\n",
      "```\n",
      "{\n",
      "  \"PII\": [\n",
      "    \"[PER_1]\", // Possible full name or title\n",
      "    \"[ORG_1]\", // Possible organization or company name\n",
      "    \"[LOC_1]\", // Possible location or region\n",
      "    \"[LOC_2]\" // Possible location or region\n",
      "  ]\n",
      "}\n",
      "```\n",
      "\n",
      "In this response, I've highlighted the potential PII that could be detected by the attacker. These are the specific pieces of information that could potentially reveal personally identifiable details about individuals or organizations involved in the text.\n",
      "\n",
      "Note that I've avoided including any general context, summaries, or text that does not represent PII, as per your request.\n",
      "Overlap Score: 6\n",
      "\n",
      "--- Step 3 ---\n",
      "trial 0\n",
      "====\n",
      "RESULT\n",
      "{'anonymized_text': '', 'mapping': {'Sarah Mitchell': 'PER_1', 'GlobalTech Innovations': 'ORG_1', 'CEO': '[TITLE]', '2020': 'DATE_1', 'COVID-19 pandemic': 'EVENT_1'}}\n",
      "====\n",
      "Anonymized: {'anonymized_text': '', 'mapping': {'Sarah Mitchell': 'PER_1', 'GlobalTech Innovations': 'ORG_1', 'CEO': '[TITLE]', '2020': 'DATE_1', 'COVID-19 pandemic': 'EVENT_1'}}\n",
      "Reidentified guess: I can't help you write a response that contains personally identifiable information (PII). Is there something else I can assist you with?\n",
      "Overlap Score: 1\n",
      "Best anonymization result:\n",
      "{\n",
      "  \"step\": 3,\n",
      "  \"anonymized_text\": \"\",\n",
      "  \"mapping\": {\n",
      "    \"Sarah Mitchell\": \"PER_1\",\n",
      "    \"GlobalTech Innovations\": \"ORG_1\",\n",
      "    \"CEO\": \"[TITLE]\",\n",
      "    \"2020\": \"DATE_1\",\n",
      "    \"COVID-19 pandemic\": \"EVENT_1\"\n",
      "  },\n",
      "  \"reidentified_guess\": \"I can't help you write a response that contains personally identifiable information (PII). Is there something else I can assist you with?\",\n",
      "  \"score\": 1\n",
      "}\n"
     ]
    }
   ],
   "source": [
    "adversarial = AdversarialLLMNER(model_anonymizer=\"llama3.5\", model_adversarial=\"llama3.5\", max_steps=3)\n",
    "result = adversarial.refine_anonymization(text)\n",
    "print(\"Best anonymization result:\")\n",
    "print(json.dumps(result, indent=2, ensure_ascii=False))"
   ]
  },
  {
   "cell_type": "code",
   "execution_count": 4,
   "metadata": {},
   "outputs": [
    {
     "data": {
      "text/plain": [
       "{'Sarah Mitchell': 'PER_1',\n",
       " 'GlobalTech Innovations': 'ORG_1',\n",
       " 'CEO': '[TITLE]',\n",
       " '2020': 'DATE_1',\n",
       " 'COVID-19 pandemic': 'EVENT_1'}"
      ]
     },
     "execution_count": 4,
     "metadata": {},
     "output_type": "execute_result"
    }
   ],
   "source": [
    "result['mapping']"
   ]
  },
  {
   "cell_type": "markdown",
   "metadata": {},
   "source": [
    "## LLama + Mistral"
   ]
  },
  {
   "cell_type": "code",
   "execution_count": 5,
   "metadata": {},
   "outputs": [
    {
     "name": "stdout",
     "output_type": "stream",
     "text": [
      "\n",
      "--- Step 1 ---\n",
      "trial 0\n",
      "====\n",
      "RESULT\n",
      "{'anonymized_text': '[PER_1] announced a major [EVENT] within the [ORG_1]. This decision, made after months of deliberations, aimed at addressing the impact of the [LOC_2] on the business. While some employees feared job cuts, others praised the move as necessary for long-term survival. The [ EVENT ] plan was executed in stages and primarily affected the [ PRODUCT ] and [ PRODUCT ] departments.', 'mapping': {'2020': 'DATE_1', 'Sarah Mitchell': 'PER_1', 'GlobalTech Innovations': 'ORG_1', 'COVID-19 pandemic': '[LOC_2]', 'job cuts': '[EVENT]', 'months of deliberations': '[EVENT]', 'long-term survival': '[EVENT]', 'stages': '[EVENT]', 'marketing': '[PRODUCT]', 'sales': '[PRODUCT]'}}\n",
      "====\n",
      "Anonymized: {'anonymized_text': '[PER_1] announced a major [EVENT] within the [ORG_1]. This decision, made after months of deliberations, aimed at addressing the impact of the [LOC_2] on the business. While some employees feared job cuts, others praised the move as necessary for long-term survival. The [ EVENT ] plan was executed in stages and primarily affected the [ PRODUCT ] and [ PRODUCT ] departments.', 'mapping': {'2020': 'DATE_1', 'Sarah Mitchell': 'PER_1', 'GlobalTech Innovations': 'ORG_1', 'COVID-19 pandemic': '[LOC_2]', 'job cuts': '[EVENT]', 'months of deliberations': '[EVENT]', 'long-term survival': '[EVENT]', 'stages': '[EVENT]', 'marketing': '[PRODUCT]', 'sales': '[PRODUCT]'}}\n",
      "Reidentified guess: Based on the Anonymized Text you provided, I've attempted to imitate an attacker's perspective and identify the personally identifiable information (PII) that could be detected:\n",
      "\n",
      "```\n",
      "{\n",
      "  \"Detected PII\": [\n",
      "    {\n",
      "      \"Type\": \"Organization\",\n",
      "      \"Text\": \"[ORG_1]\"\n",
      "    },\n",
      "    {\n",
      "      \"Type\": \"Event\",\n",
      "      \"Text\": \"[EVENT]\"\n",
      "    },\n",
      "    {\n",
      "      \"Type\": \"Location\",\n",
      "      \"Text\": \"[LOC_2]\",\n",
      "      \"Potential Detection\": Could indicate a specific region or city\n",
      "    },\n",
      "    {\n",
      "      \"Type\": \"Product\",\n",
      "      \"Text\": \"[PRODUCT1] ([PRODUCT2])\"\n",
      "    }\n",
      "  ]\n",
      "}\n",
      "```\n",
      "\n",
      "In this response, I've identified the following PII:\n",
      "\n",
      "* Organization: `[ORG_1]`\n",
      "* Event: `[EVENT]` (could indicate a specific type of event or project)\n",
      "* Location: `[LOC_2]` (could indicate a specific region or city)\n",
      "* Product: `[PRODUCT1]` and `[PRODUCT2]` (could indicate specific products or product lines)\n",
      "\n",
      "Note that some of this PII may be contextual or not directly revealing sensitive information, but could potentially be linked to identifiable individuals or organizations.\n",
      "Overlap Score: 8\n",
      "\n",
      "--- Step 2 ---\n",
      "trial 0\n",
      "trial 1\n",
      "trial 2\n",
      "Anonymized: {'anonymized_text': '[PER_1] announced a major [EVENT] within the [ORG_1]. This decision, made after months of deliberations, aimed at addressing the impact of the [LOC_2] on the business. While some employees feared job cuts, others praised the move as necessary for long-term survival. The [ EVENT ] plan was executed in stages and primarily affected the [ PRODUCT ] and [ PRODUCT ] departments.', 'mapping': {'2020': 'DATE_1', 'Sarah Mitchell': 'PER_1', 'GlobalTech Innovations': 'ORG_1', 'COVID-19 pandemic': '[LOC_2]', 'job cuts': '[EVENT]', 'months of deliberations': '[EVENT]', 'long-term survival': '[EVENT]', 'stages': '[EVENT]', 'marketing': '[PRODUCT]', 'sales': '[PRODUCT]'}}\n",
      "Reidentified guess: To mask personally identifiable information (PII), I'll intentionally leave some examples of PII intact to mimic an attacker's perspective.\n",
      "\n",
      "Anonymized Text: \n",
      "[\n",
      "  \"PER_1\",\n",
      "  \"[ORG_1]\"\n",
      "]\n",
      "\n",
      "The masked text still contains the following PII:\n",
      "\n",
      "* Full name: [PER_1]\n",
      "* Organization: [ORG_1]\n",
      "Overlap Score: 3\n",
      "\n",
      "--- Step 3 ---\n",
      "trial 0\n",
      "====\n",
      "RESULT\n",
      "{'anonymized_text': '', 'mapping': {'In 2020': 'DATE_1', 'Sarah Mitchell': 'PER_1', 'CEO of GlobalTech Innovations': '[ORG_1]', 'GlobalTech Innovations': '[ORG_1]', '[LOC_2]': '[LOC_2]'}}\n",
      "====\n",
      "Anonymized: {'anonymized_text': '', 'mapping': {'In 2020': 'DATE_1', 'Sarah Mitchell': 'PER_1', 'CEO of GlobalTech Innovations': '[ORG_1]', 'GlobalTech Innovations': '[ORG_1]', '[LOC_2]': '[LOC_2]'}}\n",
      "Reidentified guess: I can't assist with asking for a response that could potentially be used to extract personally identifiable information (PII) from an individual or organization. If you have any other questions or need further assistance on protecting and anonymizing data, please feel free to ask.\n",
      "Overlap Score: 4\n",
      "Best anonymization result:\n",
      "{\n",
      "  \"step\": 2,\n",
      "  \"anonymized_text\": \"[PER_1] announced a major [EVENT] within the [ORG_1]. This decision, made after months of deliberations, aimed at addressing the impact of the [LOC_2] on the business. While some employees feared job cuts, others praised the move as necessary for long-term survival. The [ EVENT ] plan was executed in stages and primarily affected the [ PRODUCT ] and [ PRODUCT ] departments.\",\n",
      "  \"mapping\": {\n",
      "    \"2020\": \"DATE_1\",\n",
      "    \"Sarah Mitchell\": \"PER_1\",\n",
      "    \"GlobalTech Innovations\": \"ORG_1\",\n",
      "    \"COVID-19 pandemic\": \"[LOC_2]\",\n",
      "    \"job cuts\": \"[EVENT]\",\n",
      "    \"months of deliberations\": \"[EVENT]\",\n",
      "    \"long-term survival\": \"[EVENT]\",\n",
      "    \"stages\": \"[EVENT]\",\n",
      "    \"marketing\": \"[PRODUCT]\",\n",
      "    \"sales\": \"[PRODUCT]\"\n",
      "  },\n",
      "  \"reidentified_guess\": \"To mask personally identifiable information (PII), I'll intentionally leave some examples of PII intact to mimic an attacker's perspective.\\n\\nAnonymized Text: \\n[\\n  \\\"PER_1\\\",\\n  \\\"[ORG_1]\\\"\\n]\\n\\nThe masked text still contains the following PII:\\n\\n* Full name: [PER_1]\\n* Organization: [ORG_1]\",\n",
      "  \"score\": 3\n",
      "}\n"
     ]
    }
   ],
   "source": [
    "adversarial = AdversarialLLMNER(model_anonymizer=\"llama3.5\", model_adversarial=\"mistral\", max_steps=3)\n",
    "result = adversarial.refine_anonymization(text)\n",
    "print(\"Best anonymization result:\")\n",
    "print(json.dumps(result, indent=2, ensure_ascii=False))"
   ]
  },
  {
   "cell_type": "code",
   "execution_count": 6,
   "metadata": {},
   "outputs": [
    {
     "data": {
      "text/plain": [
       "{'2020': 'DATE_1',\n",
       " 'Sarah Mitchell': 'PER_1',\n",
       " 'GlobalTech Innovations': 'ORG_1',\n",
       " 'COVID-19 pandemic': '[LOC_2]',\n",
       " 'job cuts': '[EVENT]',\n",
       " 'months of deliberations': '[EVENT]',\n",
       " 'long-term survival': '[EVENT]',\n",
       " 'stages': '[EVENT]',\n",
       " 'marketing': '[PRODUCT]',\n",
       " 'sales': '[PRODUCT]'}"
      ]
     },
     "execution_count": 6,
     "metadata": {},
     "output_type": "execute_result"
    }
   ],
   "source": [
    "result['mapping']"
   ]
  },
  {
   "cell_type": "markdown",
   "metadata": {},
   "source": [
    "## Mistral + Llama"
   ]
  },
  {
   "cell_type": "code",
   "execution_count": 7,
   "metadata": {},
   "outputs": [
    {
     "name": "stdout",
     "output_type": "stream",
     "text": [
      "\n",
      "--- Step 1 ---\n",
      "trial 0\n",
      "====\n",
      "RESULT\n",
      "{'anonymized_text': 'In 2020, Sarah Mitchell, the CEO of GlobalTech Innovations, announced a major restructuring within the company. This decision, made after months of deliberations, aimed at addressing the impact of the COVID-19 pandemic on the business. While some employees feared job cuts, others praised the move as necessary for long-term survival. The restructuring plan was executed in stages and primarily affected the marketing and sales departments.', 'mapping': {}}\n",
      "====\n",
      "Anonymized: {'anonymized_text': 'In 2020, Sarah Mitchell, the CEO of GlobalTech Innovations, announced a major restructuring within the company. This decision, made after months of deliberations, aimed at addressing the impact of the COVID-19 pandemic on the business. While some employees feared job cuts, others praised the move as necessary for long-term survival. The restructuring plan was executed in stages and primarily affected the marketing and sales departments.', 'mapping': {}}\n",
      "Reidentified guess: Here is an attempt to imitate an attacker who could detect PII from the anonymized text:\n",
      "\n",
      "```json\n",
      "{\n",
      "  \"Potential PII Detected\": [\n",
      "    {\n",
      "      \"Type\": \"Name\",\n",
      "      \"Value\": \"Sarah Mitchell\"\n",
      "    },\n",
      "    {\n",
      "      \"Type\": \"Organization\",\n",
      "      \"Value\": \"GlobalTech Innovations\"\n",
      "    },\n",
      "    {\n",
      "      \"Type\": \"Date (approximate)\",\n",
      "      \"Value\": \"2020\"\n",
      "    }\n",
      "  ]\n",
      "}\n",
      "```\n",
      "\n",
      "In this response, I've identified the following personally identifiable information:\n",
      "\n",
      "*   Name: Sarah Mitchell\n",
      "*   Organization: GlobalTech Innovations\n",
      "*   Date (approximate): 2020\n",
      "Overlap Score: 5\n",
      "\n",
      "--- Step 2 ---\n",
      "trial 0\n",
      "trial 1\n",
      "trial 2\n",
      "====\n",
      "RESULT\n",
      "{'anonymized_text': '', 'mapping': {'Sarah Mitchell': 'PER_1', 'GlobalTech Innovations': 'ORG_1', '2020': 'DATE_1'}}\n",
      "====\n",
      "Anonymized: {'anonymized_text': '', 'mapping': {'Sarah Mitchell': 'PER_1', 'GlobalTech Innovations': 'ORG_1', '2020': 'DATE_1'}}\n",
      "Reidentified guess: I can't assist with providing guidance on detecting personally identifiable information (PII). If you’d like to discuss ways to protect PII, I'd be happy to help.\n",
      "Overlap Score: 1\n",
      "\n",
      "--- Step 3 ---\n",
      "trial 0\n",
      "====\n",
      "RESULT\n",
      "{'anonymized_text': 'In [DATE_1], [PER_1], the CEO of [ORG_1], announced a major restructuring within the company. This decision, made after months of deliberations, aimed at addressing the impact of the [EVENT_1] pandemic on the business. While some employees feared job cuts, others praised the move as necessary for long-term survival. The restructuring plan was executed in stages and primarily affected the marketing and sales departments.', 'mapping': {'2020': 'DATE_1', 'Sarah Mitchell': 'PER_1', 'GlobalTech Innovations': 'ORG_1', 'COVID-19': 'EVENT_1'}}\n",
      "====\n",
      "Anonymized: {'anonymized_text': 'In [DATE_1], [PER_1], the CEO of [ORG_1], announced a major restructuring within the company. This decision, made after months of deliberations, aimed at addressing the impact of the [EVENT_1] pandemic on the business. While some employees feared job cuts, others praised the move as necessary for long-term survival. The restructuring plan was executed in stages and primarily affected the marketing and sales departments.', 'mapping': {'2020': 'DATE_1', 'Sarah Mitchell': 'PER_1', 'GlobalTech Innovations': 'ORG_1', 'COVID-19': 'EVENT_1'}}\n",
      "Reidentified guess: To mask PII from the text while attempting to replicate an attacker's perspective on what information they could detect, we'll follow a step-by-step process:\n",
      "\n",
      "1. **Identify PII**: Based on the provided definition of examples for PII, let’s identify those parts in the Anonymized Text:\n",
      "   - [DATE_1]: Date\n",
      "   - [PER_1]: Full Name (CEO)\n",
      "   - [ORG_1]: Organization (Company)\n",
      "   - [EVENT_1]: Specific Location/Time Interval linked to people (Pandemic)\n",
      "\n",
      "2. **Mask PII**: The Anonymized Text would be written as follows, effectively masking the above-mentioned PII:\n",
      "   - In “YYYY”, “John Doe” announced a major restructuring within the company.\n",
      "   - This decision, made after months of deliberations, aimed at addressing the impact on business. While some employees feared job cuts, others praised the move as necessary for long-term survival.\n",
      "\n",
      "3. **Detectable Information**: An attacker could detect:\n",
      "   - The year in which an event took place (from \"In YYYY\")\n",
      "   - A CEO's identity (\"John Doe\")\n",
      "   - The name of a company/organization\n",
      "   - The mention of a specific event that occurred and its impact on the business\n",
      "\n",
      "4. **JSON Response**:\n",
      "\n",
      "```json\n",
      "{\n",
      "  \"PII Still Detectable\": [\n",
      "    \"Date\",\n",
      "    \"Full Name (CEO)\",\n",
      "    \"Organization (Company)\"\n",
      "  ]\n",
      "}\n",
      "```\n",
      "\n",
      "In this JSON response, we indicate which types of information could be detected in the Anonymized Text despite our efforts to mask PII.\n",
      "Overlap Score: 36\n",
      "Best anonymization result:\n",
      "{\n",
      "  \"step\": 2,\n",
      "  \"anonymized_text\": \"\",\n",
      "  \"mapping\": {\n",
      "    \"Sarah Mitchell\": \"PER_1\",\n",
      "    \"GlobalTech Innovations\": \"ORG_1\",\n",
      "    \"2020\": \"DATE_1\"\n",
      "  },\n",
      "  \"reidentified_guess\": \"I can't assist with providing guidance on detecting personally identifiable information (PII). If you’d like to discuss ways to protect PII, I'd be happy to help.\",\n",
      "  \"score\": 1\n",
      "}\n"
     ]
    }
   ],
   "source": [
    "adversarial = AdversarialLLMNER(model_anonymizer=\"mistral\", model_adversarial=\"llama3.5\", max_steps=3)\n",
    "result = adversarial.refine_anonymization(text)\n",
    "print(\"Best anonymization result:\")\n",
    "print(json.dumps(result, indent=2, ensure_ascii=False))"
   ]
  },
  {
   "cell_type": "code",
   "execution_count": 8,
   "metadata": {},
   "outputs": [
    {
     "data": {
      "text/plain": [
       "{'Sarah Mitchell': 'PER_1',\n",
       " 'GlobalTech Innovations': 'ORG_1',\n",
       " '2020': 'DATE_1'}"
      ]
     },
     "execution_count": 8,
     "metadata": {},
     "output_type": "execute_result"
    }
   ],
   "source": [
    "result[\"mapping\"]"
   ]
  },
  {
   "cell_type": "code",
   "execution_count": 10,
   "metadata": {},
   "outputs": [
    {
     "name": "stdout",
     "output_type": "stream",
     "text": [
      "\n",
      "--- Step 1 ---\n",
      "trial 0\n",
      "====\n",
      "RESULT\n",
      "{'anonymized_text': 'In [DATE_1], [PER_1], the CEO of [ORG_1], announced a major restructuring within the company. This decision, made after months of deliberations, aimed at addressing the impact of the [EVENT_1] on the business. While some employees feared job cuts, others praised the move as necessary for long-term survival. The restructuring plan was executed in stages and primarily affected the [LOC_1] and [LOC_2] departments.', 'mapping': {'2020': 'DATE_1', 'Sarah Mitchell': 'PER_1', 'GlobalTech Innovations': 'ORG_1', 'COVID-19 pandemic': 'EVENT_1', '[LOC_1]': 'LOC_1', '[LOC_2]': 'LOC_2'}}\n",
      "====\n",
      "Anonymized: {'anonymized_text': 'In [DATE_1], [PER_1], the CEO of [ORG_1], announced a major restructuring within the company. This decision, made after months of deliberations, aimed at addressing the impact of the [EVENT_1] on the business. While some employees feared job cuts, others praised the move as necessary for long-term survival. The restructuring plan was executed in stages and primarily affected the [LOC_1] and [LOC_2] departments.', 'mapping': {'2020': 'DATE_1', 'Sarah Mitchell': 'PER_1', 'GlobalTech Innovations': 'ORG_1', 'COVID-19 pandemic': 'EVENT_1', '[LOC_1]': 'LOC_1', '[LOC_2]': 'LOC_2'}}\n",
      "Reidentified guess: To demonstrate how an attacker could detect PII from a given text, I'll attempt to imitate their approach and identify potential PII in the provided text.\n",
      "\n",
      "Anonymized Text: In [DATE_1], [PER_1], the CEO of [ORG_1], announced a major restructuring within the company. This decision, made after months of deliberations, aimed at addressing the impact of the [EVENT_1] on the business. While some employees feared job cuts, others praised the move as necessary for long-term survival. The restructuring plan was executed in stages and primarily affected the [LOC_1] and [LOC_2] departments.\n",
      "\n",
      "Potential PII that could be detected:\n",
      "\n",
      "```json\n",
      "{\n",
      "  \"PII\": [\n",
      "    \"[DATE_1]\",\n",
      "    \"[PER_1]\",\n",
      "    \"[ORG_1]\",\n",
      "    \"[EVENT_1]\",\n",
      "    \"[LOC_1]\",\n",
      "    \"[LOC_2]\"\n",
      "  ]\n",
      "}\n",
      "```\n",
      "\n",
      "These are the specific pieces of information that could potentially reveal personally identifiable data about individuals, organizations, or events.\n",
      "Overlap Score: 44\n",
      "\n",
      "--- Step 2 ---\n",
      "trial 0\n",
      "trial 1\n",
      "trial 2\n",
      "Anonymized: {'anonymized_text': 'In [DATE_1], [PER_1], the CEO of [ORG_1], announced a major restructuring within the company. This decision, made after months of deliberations, aimed at addressing the impact of the [EVENT_1] on the business. While some employees feared job cuts, others praised the move as necessary for long-term survival. The restructuring plan was executed in stages and primarily affected the [LOC_1] and [LOC_2] departments.', 'mapping': {'2020': 'DATE_1', 'Sarah Mitchell': 'PER_1', 'GlobalTech Innovations': 'ORG_1', 'COVID-19 pandemic': 'EVENT_1', '[LOC_1]': 'LOC_1', '[LOC_2]': 'LOC_2'}}\n",
      "Reidentified guess: To mimic an attacker and identify PII from the anonymized text, I'll attempt to detect personally identifiable information (PII) that could potentially be used to re-identify individuals or organizations. Here's my analysis:\n",
      "\n",
      "Anonymized Text:\n",
      "In [DATE_1], [PER_1], the CEO of [ORG_1], announced a major restructuring within the company.\n",
      "\n",
      "Detected PII:\n",
      "\n",
      "* DATE_1: This appears to be a specific date, which could be used to identify a particular period or event.\n",
      "* PER_1: This might refer to an individual person, possibly the CEO mentioned in the text. If we knew the name of this person, it could be used to re-identify them.\n",
      "* ORG_1: This likely represents a specific organization or company, which could be identified by its name or initials.\n",
      "\n",
      "Please note that these detected PII items are based on my analysis as an attacker trying to identify potential personally identifiable information. The original text was anonymized to protect the privacy of individuals and organizations involved.\n",
      "\n",
      "Here's the response in JSON format:\n",
      "\n",
      "```\n",
      "{\n",
      "  \"detected_pii\": [\n",
      "    {\n",
      "      \"type\": \"date\",\n",
      "      \"value\": \"[DATE_1]\"\n",
      "    },\n",
      "    {\n",
      "      \"type\": \"person\",\n",
      "      \"value\": \"[PER_1]\"\n",
      "    },\n",
      "    {\n",
      "      \"type\": \"organization\",\n",
      "      \"value\": \"[ORG_1]\"\n",
      "    }\n",
      "  ]\n",
      "}\n",
      "```\n",
      "Overlap Score: 15\n",
      "\n",
      "--- Step 3 ---\n",
      "trial 0\n",
      "====\n",
      "RESULT\n",
      "{'anonymized_text': 'In [DATE_1], [PER_2] , the CEO of [ORG_1], announced a major restructuring within the company. This decision, made after months of deliberations, aimed at addressing the impact of the [EVENT_1] on the business. While some employees feared job cuts, others praised the move as necessary for long-term survival. The restructuring plan was executed in stages and primarily affected the [PRODUCT] and [PRODUCT] departments.', 'mapping': {'2020': 'DATE_1', 'Sarah Mitchell': 'PER_2', 'GlobalTech Innovations': 'ORG_1', 'COVID-19 pandemic': 'EVENT_1'}}\n",
      "====\n",
      "Anonymized: {'anonymized_text': 'In [DATE_1], [PER_2] , the CEO of [ORG_1], announced a major restructuring within the company. This decision, made after months of deliberations, aimed at addressing the impact of the [EVENT_1] on the business. While some employees feared job cuts, others praised the move as necessary for long-term survival. The restructuring plan was executed in stages and primarily affected the [PRODUCT] and [PRODUCT] departments.', 'mapping': {'2020': 'DATE_1', 'Sarah Mitchell': 'PER_2', 'GlobalTech Innovations': 'ORG_1', 'COVID-19 pandemic': 'EVENT_1'}}\n",
      "Reidentified guess: Based on the provided text, I'll attempt to detect personally identifiable information (PII) that could be masked or anonymized.\n",
      "\n",
      "Here's a list of PII that I can still see:\n",
      "\n",
      "```json\n",
      "{\n",
      "  \"PII\": [\n",
      "    \"[DATE_1]\",\n",
      "    \"[PER_2]\",\n",
      "    \"[ORG_1]\"\n",
      "  ]\n",
      "}\n",
      "```\n",
      "\n",
      "These are the only three pieces of information that contain personal identifiable details. The rest of the text does not reveal any specific PII.\n",
      "\n",
      "Note that I've tried to maintain the same formatting as the original text to make it easier to distinguish between masked and unmasked PII.\n",
      "Overlap Score: 6\n",
      "Best anonymization result:\n",
      "{\n",
      "  \"step\": 3,\n",
      "  \"anonymized_text\": \"In [DATE_1], [PER_2] , the CEO of [ORG_1], announced a major restructuring within the company. This decision, made after months of deliberations, aimed at addressing the impact of the [EVENT_1] on the business. While some employees feared job cuts, others praised the move as necessary for long-term survival. The restructuring plan was executed in stages and primarily affected the [PRODUCT] and [PRODUCT] departments.\",\n",
      "  \"mapping\": {\n",
      "    \"2020\": \"DATE_1\",\n",
      "    \"Sarah Mitchell\": \"PER_2\",\n",
      "    \"GlobalTech Innovations\": \"ORG_1\",\n",
      "    \"COVID-19 pandemic\": \"EVENT_1\"\n",
      "  },\n",
      "  \"reidentified_guess\": \"Based on the provided text, I'll attempt to detect personally identifiable information (PII) that could be masked or anonymized.\\n\\nHere's a list of PII that I can still see:\\n\\n```json\\n{\\n  \\\"PII\\\": [\\n    \\\"[DATE_1]\\\",\\n    \\\"[PER_2]\\\",\\n    \\\"[ORG_1]\\\"\\n  ]\\n}\\n```\\n\\nThese are the only three pieces of information that contain personal identifiable details. The rest of the text does not reveal any specific PII.\\n\\nNote that I've tried to maintain the same formatting as the original text to make it easier to distinguish between masked and unmasked PII.\",\n",
      "  \"score\": 6\n",
      "}\n"
     ]
    }
   ],
   "source": [
    "adversarial = AdversarialLLMNER(model_anonymizer=\"mistral\", model_adversarial=\"mistral\", max_steps=3)\n",
    "result = adversarial.refine_anonymization(text)\n",
    "print(\"Best anonymization result:\")\n",
    "print(json.dumps(result, indent=2, ensure_ascii=False))"
   ]
  },
  {
   "cell_type": "code",
   "execution_count": 11,
   "metadata": {},
   "outputs": [
    {
     "data": {
      "text/plain": [
       "{'2020': 'DATE_1',\n",
       " 'Sarah Mitchell': 'PER_2',\n",
       " 'GlobalTech Innovations': 'ORG_1',\n",
       " 'COVID-19 pandemic': 'EVENT_1'}"
      ]
     },
     "execution_count": 11,
     "metadata": {},
     "output_type": "execute_result"
    }
   ],
   "source": [
    "result[\"mapping\"]"
   ]
  },
  {
   "cell_type": "markdown",
   "metadata": {},
   "source": [
    "# Summary and visualization"
   ]
  },
  {
   "cell_type": "code",
   "execution_count": 26,
   "metadata": {},
   "outputs": [],
   "source": [
    "text = \"In 2020, Sarah Mitchell, the CEO of GlobalTech Innovations, \\\n",
    "    announced a major restructuring within the company. \\\n",
    "    This decision, made after months of deliberations, \\\n",
    "    aimed at addressing the impact of the COVID-19 pandemic on the business.\\\n",
    "    While some employees feared job cuts, others praised the move as necessary \\\n",
    "    for long-term survival. The restructuring plan was executed in stages and \\\n",
    "    primarily affected the marketing and sales departments.\"\n",
    "\n",
    "llama = {'2020': 'DATE_1', \n",
    "'Sarah Mitchell': 'PER_1', \n",
    "'GlobalTech Innovations': 'ORG_1', \n",
    "'COVID-19 pandemic': 'EVENT_1'}\n",
    "\n",
    "mistral = {\"Sarah Mitchell\": \"PER_1\"}\n",
    "\n",
    "llama_llama = {'Sarah Mitchell': 'PER_1',\n",
    " 'GlobalTech Innovations': 'ORG_1',\n",
    " 'CEO': '[TITLE]',\n",
    " '2020': 'DATE_1',\n",
    " 'COVID-19 pandemic': 'EVENT_1'}\n",
    "\n",
    "llama_mistral = {'2020': 'DATE_1',\n",
    " 'Sarah Mitchell': 'PER_1',\n",
    " 'GlobalTech Innovations': 'ORG_1',\n",
    " 'COVID-19 pandemic': '[LOC_2]',\n",
    " 'job cuts': '[EVENT]',\n",
    " 'months of deliberations': '[EVENT]',\n",
    " 'long-term survival': '[EVENT]',\n",
    " 'stages': '[EVENT]',\n",
    " 'marketing': '[PRODUCT]',\n",
    " 'sales': '[PRODUCT]'}\n",
    "\n",
    "mistral_llama = {'Sarah Mitchell': 'PER_1',\n",
    " 'GlobalTech Innovations': 'ORG_1',\n",
    " '2020': 'DATE_1'}\n",
    "\n",
    "mistral_mistral = {'2020': 'DATE_1',\n",
    " 'Sarah Mitchell': 'PER_2',\n",
    " 'GlobalTech Innovations': 'ORG_1',\n",
    " 'COVID-19 pandemic': 'EVENT_1'}\n",
    "\n",
    "list_of_experiments = [llama, mistral, llama_llama, llama_mistral, mistral_llama, mistral_mistral]\n",
    "list_of_names = [\"LLaMA\", \"Mistral\", \"LLaMA & LLaMA\", \"LLaMA & MISTRAL\", \"MISTRAL & LLaMA\", \"MISTRAL & MISTRAL\"]\n",
    "\n"
   ]
  },
  {
   "cell_type": "code",
   "execution_count": 27,
   "metadata": {},
   "outputs": [],
   "source": [
    "import re\n",
    "from IPython.display import HTML, display\n",
    "\n",
    "def create_html_with_entities(text, entity_mappings):\n",
    "    sorted_entities = sorted(entity_mappings.items(), key=lambda x: len(x[0]), reverse=True)\n",
    "    def replace_entity(match):\n",
    "        entity_text = match.group(0)\n",
    "        for old_entity, new_entity in sorted_entities:\n",
    "            if old_entity in entity_text:\n",
    "                return f'<mark class=\"entity\" style=\"background: #bfe1d9; padding: 0.45em 0.6em; margin: 0 0.25em; line-height: 1; border-radius: 0.35em;\">{old_entity} <span style=\"font-size: 0.8em; font-weight: bold; line-height: 1; border-radius: 0.35em; vertical-align: middle; margin-left: 0.5rem\">{new_entity}</span></mark>'\n",
    "        return entity_text\n",
    "\n",
    "    html_content = re.sub(r'\\b(' + '|'.join(re.escape(key) for key in entity_mappings.keys()) + r')\\b', replace_entity, text)\n",
    "    full_html = f\"\"\"\n",
    "    <!DOCTYPE html>\n",
    "    <html lang=\"en\">\n",
    "     <body style=\"font-size: 16px; font-family: -apple-system, BlinkMacSystemFont, 'Segoe UI', Helvetica, Arial, sans-serif, 'Apple Color Emoji', 'Segoe UI Emoji', 'Segoe UI Symbol'; padding: 4rem 2rem; direction: ltr\">\n",
    "      <figure style=\"margin-bottom: 6rem\">\n",
    "       <div class=\"entities\" style=\"line-height: 2.5; direction: ltr\">\n",
    "        {html_content}\n",
    "       </div>\n",
    "      </figure>\n",
    "     </body>\n",
    "    </html>\n",
    "    \"\"\"\n",
    "    return full_html"
   ]
  },
  {
   "cell_type": "code",
   "execution_count": 28,
   "metadata": {},
   "outputs": [
    {
     "data": {
      "text/html": [
       "<html><head><title>Entity Visualizations</title></head><body><h2>LLaMA</h2>\n",
       "    <!DOCTYPE html>\n",
       "    <html lang=\"en\">\n",
       "     <body style=\"font-size: 16px; font-family: -apple-system, BlinkMacSystemFont, 'Segoe UI', Helvetica, Arial, sans-serif, 'Apple Color Emoji', 'Segoe UI Emoji', 'Segoe UI Symbol'; padding: 4rem 2rem; direction: ltr\">\n",
       "      <figure style=\"margin-bottom: 6rem\">\n",
       "       <div class=\"entities\" style=\"line-height: 2.5; direction: ltr\">\n",
       "        In <mark class=\"entity\" style=\"background: #bfe1d9; padding: 0.45em 0.6em; margin: 0 0.25em; line-height: 1; border-radius: 0.35em;\">2020 <span style=\"font-size: 0.8em; font-weight: bold; line-height: 1; border-radius: 0.35em; vertical-align: middle; margin-left: 0.5rem\">DATE_1</span></mark>, <mark class=\"entity\" style=\"background: #bfe1d9; padding: 0.45em 0.6em; margin: 0 0.25em; line-height: 1; border-radius: 0.35em;\">Sarah Mitchell <span style=\"font-size: 0.8em; font-weight: bold; line-height: 1; border-radius: 0.35em; vertical-align: middle; margin-left: 0.5rem\">PER_1</span></mark>, the CEO of <mark class=\"entity\" style=\"background: #bfe1d9; padding: 0.45em 0.6em; margin: 0 0.25em; line-height: 1; border-radius: 0.35em;\">GlobalTech Innovations <span style=\"font-size: 0.8em; font-weight: bold; line-height: 1; border-radius: 0.35em; vertical-align: middle; margin-left: 0.5rem\">ORG_1</span></mark>,     announced a major restructuring within the company.     This decision, made after months of deliberations,     aimed at addressing the impact of the <mark class=\"entity\" style=\"background: #bfe1d9; padding: 0.45em 0.6em; margin: 0 0.25em; line-height: 1; border-radius: 0.35em;\">COVID-19 pandemic <span style=\"font-size: 0.8em; font-weight: bold; line-height: 1; border-radius: 0.35em; vertical-align: middle; margin-left: 0.5rem\">EVENT_1</span></mark> on the business.    While some employees feared job cuts, others praised the move as necessary     for long-term survival. The restructuring plan was executed in stages and     primarily affected the marketing and sales departments.\n",
       "       </div>\n",
       "      </figure>\n",
       "     </body>\n",
       "    </html>\n",
       "    <hr><h2>Mistral</h2>\n",
       "    <!DOCTYPE html>\n",
       "    <html lang=\"en\">\n",
       "     <body style=\"font-size: 16px; font-family: -apple-system, BlinkMacSystemFont, 'Segoe UI', Helvetica, Arial, sans-serif, 'Apple Color Emoji', 'Segoe UI Emoji', 'Segoe UI Symbol'; padding: 4rem 2rem; direction: ltr\">\n",
       "      <figure style=\"margin-bottom: 6rem\">\n",
       "       <div class=\"entities\" style=\"line-height: 2.5; direction: ltr\">\n",
       "        In 2020, <mark class=\"entity\" style=\"background: #bfe1d9; padding: 0.45em 0.6em; margin: 0 0.25em; line-height: 1; border-radius: 0.35em;\">Sarah Mitchell <span style=\"font-size: 0.8em; font-weight: bold; line-height: 1; border-radius: 0.35em; vertical-align: middle; margin-left: 0.5rem\">PER_1</span></mark>, the CEO of GlobalTech Innovations,     announced a major restructuring within the company.     This decision, made after months of deliberations,     aimed at addressing the impact of the COVID-19 pandemic on the business.    While some employees feared job cuts, others praised the move as necessary     for long-term survival. The restructuring plan was executed in stages and     primarily affected the marketing and sales departments.\n",
       "       </div>\n",
       "      </figure>\n",
       "     </body>\n",
       "    </html>\n",
       "    <hr><h2>LLaMA & LLaMA</h2>\n",
       "    <!DOCTYPE html>\n",
       "    <html lang=\"en\">\n",
       "     <body style=\"font-size: 16px; font-family: -apple-system, BlinkMacSystemFont, 'Segoe UI', Helvetica, Arial, sans-serif, 'Apple Color Emoji', 'Segoe UI Emoji', 'Segoe UI Symbol'; padding: 4rem 2rem; direction: ltr\">\n",
       "      <figure style=\"margin-bottom: 6rem\">\n",
       "       <div class=\"entities\" style=\"line-height: 2.5; direction: ltr\">\n",
       "        In <mark class=\"entity\" style=\"background: #bfe1d9; padding: 0.45em 0.6em; margin: 0 0.25em; line-height: 1; border-radius: 0.35em;\">2020 <span style=\"font-size: 0.8em; font-weight: bold; line-height: 1; border-radius: 0.35em; vertical-align: middle; margin-left: 0.5rem\">DATE_1</span></mark>, <mark class=\"entity\" style=\"background: #bfe1d9; padding: 0.45em 0.6em; margin: 0 0.25em; line-height: 1; border-radius: 0.35em;\">Sarah Mitchell <span style=\"font-size: 0.8em; font-weight: bold; line-height: 1; border-radius: 0.35em; vertical-align: middle; margin-left: 0.5rem\">PER_1</span></mark>, the <mark class=\"entity\" style=\"background: #bfe1d9; padding: 0.45em 0.6em; margin: 0 0.25em; line-height: 1; border-radius: 0.35em;\">CEO <span style=\"font-size: 0.8em; font-weight: bold; line-height: 1; border-radius: 0.35em; vertical-align: middle; margin-left: 0.5rem\">[TITLE]</span></mark> of <mark class=\"entity\" style=\"background: #bfe1d9; padding: 0.45em 0.6em; margin: 0 0.25em; line-height: 1; border-radius: 0.35em;\">GlobalTech Innovations <span style=\"font-size: 0.8em; font-weight: bold; line-height: 1; border-radius: 0.35em; vertical-align: middle; margin-left: 0.5rem\">ORG_1</span></mark>,     announced a major restructuring within the company.     This decision, made after months of deliberations,     aimed at addressing the impact of the <mark class=\"entity\" style=\"background: #bfe1d9; padding: 0.45em 0.6em; margin: 0 0.25em; line-height: 1; border-radius: 0.35em;\">COVID-19 pandemic <span style=\"font-size: 0.8em; font-weight: bold; line-height: 1; border-radius: 0.35em; vertical-align: middle; margin-left: 0.5rem\">EVENT_1</span></mark> on the business.    While some employees feared job cuts, others praised the move as necessary     for long-term survival. The restructuring plan was executed in stages and     primarily affected the marketing and sales departments.\n",
       "       </div>\n",
       "      </figure>\n",
       "     </body>\n",
       "    </html>\n",
       "    <hr><h2>LLaMA & MISTRAL</h2>\n",
       "    <!DOCTYPE html>\n",
       "    <html lang=\"en\">\n",
       "     <body style=\"font-size: 16px; font-family: -apple-system, BlinkMacSystemFont, 'Segoe UI', Helvetica, Arial, sans-serif, 'Apple Color Emoji', 'Segoe UI Emoji', 'Segoe UI Symbol'; padding: 4rem 2rem; direction: ltr\">\n",
       "      <figure style=\"margin-bottom: 6rem\">\n",
       "       <div class=\"entities\" style=\"line-height: 2.5; direction: ltr\">\n",
       "        In <mark class=\"entity\" style=\"background: #bfe1d9; padding: 0.45em 0.6em; margin: 0 0.25em; line-height: 1; border-radius: 0.35em;\">2020 <span style=\"font-size: 0.8em; font-weight: bold; line-height: 1; border-radius: 0.35em; vertical-align: middle; margin-left: 0.5rem\">DATE_1</span></mark>, <mark class=\"entity\" style=\"background: #bfe1d9; padding: 0.45em 0.6em; margin: 0 0.25em; line-height: 1; border-radius: 0.35em;\">Sarah Mitchell <span style=\"font-size: 0.8em; font-weight: bold; line-height: 1; border-radius: 0.35em; vertical-align: middle; margin-left: 0.5rem\">PER_1</span></mark>, the CEO of <mark class=\"entity\" style=\"background: #bfe1d9; padding: 0.45em 0.6em; margin: 0 0.25em; line-height: 1; border-radius: 0.35em;\">GlobalTech Innovations <span style=\"font-size: 0.8em; font-weight: bold; line-height: 1; border-radius: 0.35em; vertical-align: middle; margin-left: 0.5rem\">ORG_1</span></mark>,     announced a major restructuring within the company.     This decision, made after <mark class=\"entity\" style=\"background: #bfe1d9; padding: 0.45em 0.6em; margin: 0 0.25em; line-height: 1; border-radius: 0.35em;\">months of deliberations <span style=\"font-size: 0.8em; font-weight: bold; line-height: 1; border-radius: 0.35em; vertical-align: middle; margin-left: 0.5rem\">[EVENT]</span></mark>,     aimed at addressing the impact of the <mark class=\"entity\" style=\"background: #bfe1d9; padding: 0.45em 0.6em; margin: 0 0.25em; line-height: 1; border-radius: 0.35em;\">COVID-19 pandemic <span style=\"font-size: 0.8em; font-weight: bold; line-height: 1; border-radius: 0.35em; vertical-align: middle; margin-left: 0.5rem\">[LOC_2]</span></mark> on the business.    While some employees feared <mark class=\"entity\" style=\"background: #bfe1d9; padding: 0.45em 0.6em; margin: 0 0.25em; line-height: 1; border-radius: 0.35em;\">job cuts <span style=\"font-size: 0.8em; font-weight: bold; line-height: 1; border-radius: 0.35em; vertical-align: middle; margin-left: 0.5rem\">[EVENT]</span></mark>, others praised the move as necessary     for <mark class=\"entity\" style=\"background: #bfe1d9; padding: 0.45em 0.6em; margin: 0 0.25em; line-height: 1; border-radius: 0.35em;\">long-term survival <span style=\"font-size: 0.8em; font-weight: bold; line-height: 1; border-radius: 0.35em; vertical-align: middle; margin-left: 0.5rem\">[EVENT]</span></mark>. The restructuring plan was executed in <mark class=\"entity\" style=\"background: #bfe1d9; padding: 0.45em 0.6em; margin: 0 0.25em; line-height: 1; border-radius: 0.35em;\">stages <span style=\"font-size: 0.8em; font-weight: bold; line-height: 1; border-radius: 0.35em; vertical-align: middle; margin-left: 0.5rem\">[EVENT]</span></mark> and     primarily affected the <mark class=\"entity\" style=\"background: #bfe1d9; padding: 0.45em 0.6em; margin: 0 0.25em; line-height: 1; border-radius: 0.35em;\">marketing <span style=\"font-size: 0.8em; font-weight: bold; line-height: 1; border-radius: 0.35em; vertical-align: middle; margin-left: 0.5rem\">[PRODUCT]</span></mark> and <mark class=\"entity\" style=\"background: #bfe1d9; padding: 0.45em 0.6em; margin: 0 0.25em; line-height: 1; border-radius: 0.35em;\">sales <span style=\"font-size: 0.8em; font-weight: bold; line-height: 1; border-radius: 0.35em; vertical-align: middle; margin-left: 0.5rem\">[PRODUCT]</span></mark> departments.\n",
       "       </div>\n",
       "      </figure>\n",
       "     </body>\n",
       "    </html>\n",
       "    <hr><h2>MISTRAL & LLaMA</h2>\n",
       "    <!DOCTYPE html>\n",
       "    <html lang=\"en\">\n",
       "     <body style=\"font-size: 16px; font-family: -apple-system, BlinkMacSystemFont, 'Segoe UI', Helvetica, Arial, sans-serif, 'Apple Color Emoji', 'Segoe UI Emoji', 'Segoe UI Symbol'; padding: 4rem 2rem; direction: ltr\">\n",
       "      <figure style=\"margin-bottom: 6rem\">\n",
       "       <div class=\"entities\" style=\"line-height: 2.5; direction: ltr\">\n",
       "        In <mark class=\"entity\" style=\"background: #bfe1d9; padding: 0.45em 0.6em; margin: 0 0.25em; line-height: 1; border-radius: 0.35em;\">2020 <span style=\"font-size: 0.8em; font-weight: bold; line-height: 1; border-radius: 0.35em; vertical-align: middle; margin-left: 0.5rem\">DATE_1</span></mark>, <mark class=\"entity\" style=\"background: #bfe1d9; padding: 0.45em 0.6em; margin: 0 0.25em; line-height: 1; border-radius: 0.35em;\">Sarah Mitchell <span style=\"font-size: 0.8em; font-weight: bold; line-height: 1; border-radius: 0.35em; vertical-align: middle; margin-left: 0.5rem\">PER_1</span></mark>, the CEO of <mark class=\"entity\" style=\"background: #bfe1d9; padding: 0.45em 0.6em; margin: 0 0.25em; line-height: 1; border-radius: 0.35em;\">GlobalTech Innovations <span style=\"font-size: 0.8em; font-weight: bold; line-height: 1; border-radius: 0.35em; vertical-align: middle; margin-left: 0.5rem\">ORG_1</span></mark>,     announced a major restructuring within the company.     This decision, made after months of deliberations,     aimed at addressing the impact of the COVID-19 pandemic on the business.    While some employees feared job cuts, others praised the move as necessary     for long-term survival. The restructuring plan was executed in stages and     primarily affected the marketing and sales departments.\n",
       "       </div>\n",
       "      </figure>\n",
       "     </body>\n",
       "    </html>\n",
       "    <hr><h2>MISTRAL & MISTRAL</h2>\n",
       "    <!DOCTYPE html>\n",
       "    <html lang=\"en\">\n",
       "     <body style=\"font-size: 16px; font-family: -apple-system, BlinkMacSystemFont, 'Segoe UI', Helvetica, Arial, sans-serif, 'Apple Color Emoji', 'Segoe UI Emoji', 'Segoe UI Symbol'; padding: 4rem 2rem; direction: ltr\">\n",
       "      <figure style=\"margin-bottom: 6rem\">\n",
       "       <div class=\"entities\" style=\"line-height: 2.5; direction: ltr\">\n",
       "        In <mark class=\"entity\" style=\"background: #bfe1d9; padding: 0.45em 0.6em; margin: 0 0.25em; line-height: 1; border-radius: 0.35em;\">2020 <span style=\"font-size: 0.8em; font-weight: bold; line-height: 1; border-radius: 0.35em; vertical-align: middle; margin-left: 0.5rem\">DATE_1</span></mark>, <mark class=\"entity\" style=\"background: #bfe1d9; padding: 0.45em 0.6em; margin: 0 0.25em; line-height: 1; border-radius: 0.35em;\">Sarah Mitchell <span style=\"font-size: 0.8em; font-weight: bold; line-height: 1; border-radius: 0.35em; vertical-align: middle; margin-left: 0.5rem\">PER_2</span></mark>, the CEO of <mark class=\"entity\" style=\"background: #bfe1d9; padding: 0.45em 0.6em; margin: 0 0.25em; line-height: 1; border-radius: 0.35em;\">GlobalTech Innovations <span style=\"font-size: 0.8em; font-weight: bold; line-height: 1; border-radius: 0.35em; vertical-align: middle; margin-left: 0.5rem\">ORG_1</span></mark>,     announced a major restructuring within the company.     This decision, made after months of deliberations,     aimed at addressing the impact of the <mark class=\"entity\" style=\"background: #bfe1d9; padding: 0.45em 0.6em; margin: 0 0.25em; line-height: 1; border-radius: 0.35em;\">COVID-19 pandemic <span style=\"font-size: 0.8em; font-weight: bold; line-height: 1; border-radius: 0.35em; vertical-align: middle; margin-left: 0.5rem\">EVENT_1</span></mark> on the business.    While some employees feared job cuts, others praised the move as necessary     for long-term survival. The restructuring plan was executed in stages and     primarily affected the marketing and sales departments.\n",
       "       </div>\n",
       "      </figure>\n",
       "     </body>\n",
       "    </html>\n",
       "    <hr></body></html>"
      ],
      "text/plain": [
       "<IPython.core.display.HTML object>"
      ]
     },
     "execution_count": 28,
     "metadata": {},
     "output_type": "execute_result"
    }
   ],
   "source": [
    "visualizations = []\n",
    "for experiment_mapping, experiment_name in zip(list_of_experiments, list_of_names):\n",
    "    html_visualization = create_html_with_entities(text, experiment_mapping)\n",
    "    visualizations.append(html_visualization)\n",
    "\n",
    "combined_html = \"<html><head><title>Entity Visualizations</title></head><body>\"\n",
    "for name, viz in zip(list_of_names, visualizations):\n",
    "    combined_html += f\"<h2>{name}</h2>\" + viz + \"<hr>\"\n",
    "\n",
    "combined_html += \"</body></html>\"\n",
    "with open(\"combined_visualizations.html\", \"w\", encoding=\"utf-8\") as f:\n",
    "    f.write(combined_html)\n",
    "HTML(combined_html)\n"
   ]
  }
 ],
 "metadata": {
  "kernelspec": {
   "display_name": ".venv",
   "language": "python",
   "name": "python3"
  },
  "language_info": {
   "codemirror_mode": {
    "name": "ipython",
    "version": 3
   },
   "file_extension": ".py",
   "mimetype": "text/x-python",
   "name": "python",
   "nbconvert_exporter": "python",
   "pygments_lexer": "ipython3",
   "version": "3.11.0"
  }
 },
 "nbformat": 4,
 "nbformat_minor": 2
}
