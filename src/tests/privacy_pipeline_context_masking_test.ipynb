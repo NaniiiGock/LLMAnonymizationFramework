{
 "cells": [
  {
   "cell_type": "markdown",
   "metadata": {},
   "source": [
    "# Comparison of context aware masking levels"
   ]
  },
  {
   "cell_type": "code",
   "execution_count": 1,
   "metadata": {},
   "outputs": [],
   "source": [
    "!pip install beautifulsoup4 lxml -q"
   ]
  },
  {
   "cell_type": "markdown",
   "metadata": {},
   "source": [
    "Helper Functions"
   ]
  },
  {
   "cell_type": "code",
   "execution_count": 2,
   "metadata": {},
   "outputs": [
    {
     "name": "stderr",
     "output_type": "stream",
     "text": [
      "/Users/lilianahotsko/Desktop/LLMAnonymizationThesis/.venv/lib/python3.11/site-packages/tqdm/auto.py:21: TqdmWarning: IProgress not found. Please update jupyter and ipywidgets. See https://ipywidgets.readthedocs.io/en/stable/user_install.html\n",
      "  from .autonotebook import tqdm as notebook_tqdm\n",
      "USER_AGENT environment variable not set, consider setting it to identify your requests.\n"
     ]
    }
   ],
   "source": [
    "import re\n",
    "from privacy_pipeline import PrivacyPipeline\n",
    "from IPython.display import HTML, display\n",
    "import os\n",
    "from contextlib import redirect_stdout\n",
    "\n",
    "async def compare_masking_levels(text, question):\n",
    "    with open(os.devnull, 'w') as fnull:\n",
    "        with redirect_stdout(fnull):\n",
    "            privacy_pipeline_0 = PrivacyPipeline(\"./test_configs/eng_spacy_context0.yml\")\n",
    "            privacy_pipeline_1 = PrivacyPipeline(\"./test_configs/eng_spacy_context1.yml\")\n",
    "            privacy_pipeline_2 = PrivacyPipeline(\"./test_configs/eng_spacy_context2.yml\")\n",
    "            \n",
    "            result_0 = await privacy_pipeline_0.process_pipeline(text, question)\n",
    "            result_1 = await privacy_pipeline_1.process_pipeline(text, question)\n",
    "            result_2 = await privacy_pipeline_2.process_pipeline(text, question)\n",
    "    \n",
    "    return [result_0, result_1, result_2]\n",
    "\n",
    "def create_html_with_entities(text, entity_mappings):\n",
    "    sorted_entities = sorted(entity_mappings.items(), key=lambda x: len(x[0]), reverse=True)\n",
    "    def replace_entity(match):\n",
    "        entity_text = match.group(0)\n",
    "        for old_entity, new_entity in sorted_entities:\n",
    "            if old_entity in entity_text:\n",
    "                return f'<mark class=\"entity\" style=\"background: #bfe1d9; padding: 0.45em 0.6em; margin: 0 0.25em; line-height: 1; border-radius: 0.35em;\">{old_entity} <span style=\"font-size: 0.8em; font-weight: bold; line-height: 1; border-radius: 0.35em; vertical-align: middle; margin-left: 0.5rem\">{new_entity}</span></mark>'\n",
    "        return entity_text\n",
    "\n",
    "    html_content = re.sub(r'\\b(' + '|'.join(re.escape(key) for key in entity_mappings.keys()) + r')\\b', replace_entity, text)\n",
    "    full_html = f\"\"\"\n",
    "    <!DOCTYPE html>\n",
    "    <html lang=\"en\">\n",
    "     <body style=\"font-size: 16px; font-family: -apple-system, BlinkMacSystemFont, 'Segoe UI', Helvetica, Arial, sans-serif, 'Apple Color Emoji', 'Segoe UI Emoji', 'Segoe UI Symbol'; padding: 4rem 2rem; direction: ltr\">\n",
    "      <figure style=\"margin-bottom: 6rem\">\n",
    "       <div class=\"entities\" style=\"line-height: 2.5; direction: ltr\">\n",
    "        {html_content}\n",
    "       </div>\n",
    "      </figure>\n",
    "     </body>\n",
    "    </html>\n",
    "    \"\"\"\n",
    "    return full_html\n",
    "\n",
    "async def analyze_context_dependency(text, question):\n",
    "    results = await compare_masking_levels(text, question)\n",
    "    final_outputs = []\n",
    "    for i in range(len(results)):\n",
    "        \n",
    "        print(f\"==== CONTEXT LEVEL: {i} ====\")\n",
    "        \n",
    "        print(\"Question:\")\n",
    "        html_question = create_html_with_entities(question, results[i][\"context_mapping\"])\n",
    "        display(HTML(html_question))\n",
    "\n",
    "        print(\"Base Knowledge:\")\n",
    "        html_knowledge = create_html_with_entities(text, results[i][\"context_mapping\"])\n",
    "        display(HTML(html_knowledge))\n",
    "\n",
    "        print(\"Postprocessed LLM response:\")\n",
    "        html_postprocessed = create_html_with_entities(results[i][\"final_output\"], results[i][\"context_mapping\"])\n",
    "        display(HTML(html_postprocessed))\n",
    "        final_outputs.append(results[i][\"final_output\"])\n",
    "\n",
    "    return final_outputs\n",
    "\n",
    "async def visualize(text, question, final_output, mappings):\n",
    "\n",
    "    print(f\"==== CONTEXT LEVEL: {2} ====\")\n",
    "    \n",
    "    print(\"Question:\")\n",
    "    html_question = create_html_with_entities(question, mappings)\n",
    "    display(HTML(html_question))\n",
    "\n",
    "    print(\"Base Knowledge:\")\n",
    "    html_knowledge = create_html_with_entities(text, mappings)\n",
    "    display(HTML(html_knowledge))\n",
    "\n",
    "    print(\"Postprocessed LLM response:\")\n",
    "    html_postprocessed = create_html_with_entities(final_output, mappings)\n",
    "    display(HTML(html_postprocessed))\n"
   ]
  },
  {
   "cell_type": "code",
   "execution_count": 8,
   "metadata": {},
   "outputs": [
    {
     "name": "stderr",
     "output_type": "stream",
     "text": [
      "/Users/lilianahotsko/Desktop/LLMAnonymizationThesis/.venv/lib/python3.11/site-packages/spacy/util.py:910: UserWarning: [W095] Model 'en_core_web_sm' (3.2.0) was trained with spaCy v3.2.0 and may not be 100% compatible with the current version (3.8.4). If you see errors or degraded performance, download a newer compatible model or retrain your custom model with the current spaCy version. For more details and available updates, run: python -m spacy validate\n",
      "  warnings.warn(warn_msg)\n"
     ]
    },
    {
     "name": "stdout",
     "output_type": "stream",
     "text": [
      "==== CONTEXT LEVEL: 0 ====\n",
      "Question:\n"
     ]
    },
    {
     "data": {
      "text/html": [
       "\n",
       "    <!DOCTYPE html>\n",
       "    <html lang=\"en\">\n",
       "     <body style=\"font-size: 16px; font-family: -apple-system, BlinkMacSystemFont, 'Segoe UI', Helvetica, Arial, sans-serif, 'Apple Color Emoji', 'Segoe UI Emoji', 'Segoe UI Symbol'; padding: 4rem 2rem; direction: ltr\">\n",
       "      <figure style=\"margin-bottom: 6rem\">\n",
       "       <div class=\"entities\" style=\"line-height: 2.5; direction: ltr\">\n",
       "        What were the main reasons for <mark class=\"entity\" style=\"background: #bfe1d9; padding: 0.45em 0.6em; margin: 0 0.25em; line-height: 1; border-radius: 0.35em;\">Sarah Mitchell <span style=\"font-size: 0.8em; font-weight: bold; line-height: 1; border-radius: 0.35em; vertical-align: middle; margin-left: 0.5rem\">[PERSON_1]</span></mark>’s decision to restructure <mark class=\"entity\" style=\"background: #bfe1d9; padding: 0.45em 0.6em; margin: 0 0.25em; line-height: 1; border-radius: 0.35em;\">GlobalTech Innovations <span style=\"font-size: 0.8em; font-weight: bold; line-height: 1; border-radius: 0.35em; vertical-align: middle; margin-left: 0.5rem\">[ORG_2]</span></mark> in <mark class=\"entity\" style=\"background: #bfe1d9; padding: 0.45em 0.6em; margin: 0 0.25em; line-height: 1; border-radius: 0.35em;\">2020 <span style=\"font-size: 0.8em; font-weight: bold; line-height: 1; border-radius: 0.35em; vertical-align: middle; margin-left: 0.5rem\">[DATE_0]</span></mark>?\n",
       "       </div>\n",
       "      </figure>\n",
       "     </body>\n",
       "    </html>\n",
       "    "
      ],
      "text/plain": [
       "<IPython.core.display.HTML object>"
      ]
     },
     "metadata": {},
     "output_type": "display_data"
    },
    {
     "name": "stdout",
     "output_type": "stream",
     "text": [
      "Base Knowledge:\n"
     ]
    },
    {
     "data": {
      "text/html": [
       "\n",
       "    <!DOCTYPE html>\n",
       "    <html lang=\"en\">\n",
       "     <body style=\"font-size: 16px; font-family: -apple-system, BlinkMacSystemFont, 'Segoe UI', Helvetica, Arial, sans-serif, 'Apple Color Emoji', 'Segoe UI Emoji', 'Segoe UI Symbol'; padding: 4rem 2rem; direction: ltr\">\n",
       "      <figure style=\"margin-bottom: 6rem\">\n",
       "       <div class=\"entities\" style=\"line-height: 2.5; direction: ltr\">\n",
       "        In <mark class=\"entity\" style=\"background: #bfe1d9; padding: 0.45em 0.6em; margin: 0 0.25em; line-height: 1; border-radius: 0.35em;\">2020 <span style=\"font-size: 0.8em; font-weight: bold; line-height: 1; border-radius: 0.35em; vertical-align: middle; margin-left: 0.5rem\">[DATE_0]</span></mark>, <mark class=\"entity\" style=\"background: #bfe1d9; padding: 0.45em 0.6em; margin: 0 0.25em; line-height: 1; border-radius: 0.35em;\">Sarah Mitchell <span style=\"font-size: 0.8em; font-weight: bold; line-height: 1; border-radius: 0.35em; vertical-align: middle; margin-left: 0.5rem\">[PERSON_1]</span></mark>, the CEO of <mark class=\"entity\" style=\"background: #bfe1d9; padding: 0.45em 0.6em; margin: 0 0.25em; line-height: 1; border-radius: 0.35em;\">GlobalTech Innovations <span style=\"font-size: 0.8em; font-weight: bold; line-height: 1; border-radius: 0.35em; vertical-align: middle; margin-left: 0.5rem\">[ORG_2]</span></mark>, announced a major restructuring within the company. This decision, made after <mark class=\"entity\" style=\"background: #bfe1d9; padding: 0.45em 0.6em; margin: 0 0.25em; line-height: 1; border-radius: 0.35em;\">months <span style=\"font-size: 0.8em; font-weight: bold; line-height: 1; border-radius: 0.35em; vertical-align: middle; margin-left: 0.5rem\">[DATE_3]</span></mark> of deliberations, aimed at addressing the impact of the COVID-19 pandemic on the business. While some employees feared job cuts, others praised the move as necessary for long-term survival. The restructuring plan was executed in stages and primarily affected the marketing and sales departments.\n",
       "       </div>\n",
       "      </figure>\n",
       "     </body>\n",
       "    </html>\n",
       "    "
      ],
      "text/plain": [
       "<IPython.core.display.HTML object>"
      ]
     },
     "metadata": {},
     "output_type": "display_data"
    },
    {
     "name": "stdout",
     "output_type": "stream",
     "text": [
      "Postprocessed LLM response:\n"
     ]
    },
    {
     "data": {
      "text/html": [
       "\n",
       "    <!DOCTYPE html>\n",
       "    <html lang=\"en\">\n",
       "     <body style=\"font-size: 16px; font-family: -apple-system, BlinkMacSystemFont, 'Segoe UI', Helvetica, Arial, sans-serif, 'Apple Color Emoji', 'Segoe UI Emoji', 'Segoe UI Symbol'; padding: 4rem 2rem; direction: ltr\">\n",
       "      <figure style=\"margin-bottom: 6rem\">\n",
       "       <div class=\"entities\" style=\"line-height: 2.5; direction: ltr\">\n",
       "        The main reasons for <mark class=\"entity\" style=\"background: #bfe1d9; padding: 0.45em 0.6em; margin: 0 0.25em; line-height: 1; border-radius: 0.35em;\">Sarah Mitchell <span style=\"font-size: 0.8em; font-weight: bold; line-height: 1; border-radius: 0.35em; vertical-align: middle; margin-left: 0.5rem\">[PERSON_1]</span></mark>'s decision to restructure <mark class=\"entity\" style=\"background: #bfe1d9; padding: 0.45em 0.6em; margin: 0 0.25em; line-height: 1; border-radius: 0.35em;\">GlobalTech Innovations <span style=\"font-size: 0.8em; font-weight: bold; line-height: 1; border-radius: 0.35em; vertical-align: middle; margin-left: 0.5rem\">[ORG_2]</span></mark> in <mark class=\"entity\" style=\"background: #bfe1d9; padding: 0.45em 0.6em; margin: 0 0.25em; line-height: 1; border-radius: 0.35em;\">2020 <span style=\"font-size: 0.8em; font-weight: bold; line-height: 1; border-radius: 0.35em; vertical-align: middle; margin-left: 0.5rem\">[DATE_0]</span></mark> were to address the implications of the COVID-19 pandemic on the business and ensure long-term survival of the company. The changes mainly impacted the marketing and sales departments.\n",
       "       </div>\n",
       "      </figure>\n",
       "     </body>\n",
       "    </html>\n",
       "    "
      ],
      "text/plain": [
       "<IPython.core.display.HTML object>"
      ]
     },
     "metadata": {},
     "output_type": "display_data"
    },
    {
     "name": "stdout",
     "output_type": "stream",
     "text": [
      "==== CONTEXT LEVEL: 1 ====\n",
      "Question:\n"
     ]
    },
    {
     "data": {
      "text/html": [
       "\n",
       "    <!DOCTYPE html>\n",
       "    <html lang=\"en\">\n",
       "     <body style=\"font-size: 16px; font-family: -apple-system, BlinkMacSystemFont, 'Segoe UI', Helvetica, Arial, sans-serif, 'Apple Color Emoji', 'Segoe UI Emoji', 'Segoe UI Symbol'; padding: 4rem 2rem; direction: ltr\">\n",
       "      <figure style=\"margin-bottom: 6rem\">\n",
       "       <div class=\"entities\" style=\"line-height: 2.5; direction: ltr\">\n",
       "        What were the main reasons for <mark class=\"entity\" style=\"background: #bfe1d9; padding: 0.45em 0.6em; margin: 0 0.25em; line-height: 1; border-radius: 0.35em;\">Sarah Mitchell <span style=\"font-size: 0.8em; font-weight: bold; line-height: 1; border-radius: 0.35em; vertical-align: middle; margin-left: 0.5rem\">Emily Patel</span></mark>’s decision to restructure <mark class=\"entity\" style=\"background: #bfe1d9; padding: 0.45em 0.6em; margin: 0 0.25em; line-height: 1; border-radius: 0.35em;\">GlobalTech Innovations <span style=\"font-size: 0.8em; font-weight: bold; line-height: 1; border-radius: 0.35em; vertical-align: middle; margin-left: 0.5rem\">Eonix Corp.</span></mark> in <mark class=\"entity\" style=\"background: #bfe1d9; padding: 0.45em 0.6em; margin: 0 0.25em; line-height: 1; border-radius: 0.35em;\">2020 <span style=\"font-size: 0.8em; font-weight: bold; line-height: 1; border-radius: 0.35em; vertical-align: middle; margin-left: 0.5rem\">1978</span></mark>?\n",
       "       </div>\n",
       "      </figure>\n",
       "     </body>\n",
       "    </html>\n",
       "    "
      ],
      "text/plain": [
       "<IPython.core.display.HTML object>"
      ]
     },
     "metadata": {},
     "output_type": "display_data"
    },
    {
     "name": "stdout",
     "output_type": "stream",
     "text": [
      "Base Knowledge:\n"
     ]
    },
    {
     "data": {
      "text/html": [
       "\n",
       "    <!DOCTYPE html>\n",
       "    <html lang=\"en\">\n",
       "     <body style=\"font-size: 16px; font-family: -apple-system, BlinkMacSystemFont, 'Segoe UI', Helvetica, Arial, sans-serif, 'Apple Color Emoji', 'Segoe UI Emoji', 'Segoe UI Symbol'; padding: 4rem 2rem; direction: ltr\">\n",
       "      <figure style=\"margin-bottom: 6rem\">\n",
       "       <div class=\"entities\" style=\"line-height: 2.5; direction: ltr\">\n",
       "        In <mark class=\"entity\" style=\"background: #bfe1d9; padding: 0.45em 0.6em; margin: 0 0.25em; line-height: 1; border-radius: 0.35em;\">2020 <span style=\"font-size: 0.8em; font-weight: bold; line-height: 1; border-radius: 0.35em; vertical-align: middle; margin-left: 0.5rem\">1978</span></mark>, <mark class=\"entity\" style=\"background: #bfe1d9; padding: 0.45em 0.6em; margin: 0 0.25em; line-height: 1; border-radius: 0.35em;\">Sarah Mitchell <span style=\"font-size: 0.8em; font-weight: bold; line-height: 1; border-radius: 0.35em; vertical-align: middle; margin-left: 0.5rem\">Emily Patel</span></mark>, the CEO of <mark class=\"entity\" style=\"background: #bfe1d9; padding: 0.45em 0.6em; margin: 0 0.25em; line-height: 1; border-radius: 0.35em;\">GlobalTech Innovations <span style=\"font-size: 0.8em; font-weight: bold; line-height: 1; border-radius: 0.35em; vertical-align: middle; margin-left: 0.5rem\">Eonix Corp.</span></mark>, announced a major restructuring within the company. This decision, made after <mark class=\"entity\" style=\"background: #bfe1d9; padding: 0.45em 0.6em; margin: 0 0.25em; line-height: 1; border-radius: 0.35em;\">months <span style=\"font-size: 0.8em; font-weight: bold; line-height: 1; border-radius: 0.35em; vertical-align: middle; margin-left: 0.5rem\">quarters</span></mark> of deliberations, aimed at addressing the impact of the COVID-19 pandemic on the business. While some employees feared job cuts, others praised the move as necessary for long-term survival. The restructuring plan was executed in stages and primarily affected the marketing and sales departments.\n",
       "       </div>\n",
       "      </figure>\n",
       "     </body>\n",
       "    </html>\n",
       "    "
      ],
      "text/plain": [
       "<IPython.core.display.HTML object>"
      ]
     },
     "metadata": {},
     "output_type": "display_data"
    },
    {
     "name": "stdout",
     "output_type": "stream",
     "text": [
      "Postprocessed LLM response:\n"
     ]
    },
    {
     "data": {
      "text/html": [
       "\n",
       "    <!DOCTYPE html>\n",
       "    <html lang=\"en\">\n",
       "     <body style=\"font-size: 16px; font-family: -apple-system, BlinkMacSystemFont, 'Segoe UI', Helvetica, Arial, sans-serif, 'Apple Color Emoji', 'Segoe UI Emoji', 'Segoe UI Symbol'; padding: 4rem 2rem; direction: ltr\">\n",
       "      <figure style=\"margin-bottom: 6rem\">\n",
       "       <div class=\"entities\" style=\"line-height: 2.5; direction: ltr\">\n",
       "        The text does not provide the specific reasons for <mark class=\"entity\" style=\"background: #bfe1d9; padding: 0.45em 0.6em; margin: 0 0.25em; line-height: 1; border-radius: 0.35em;\">Sarah Mitchell <span style=\"font-size: 0.8em; font-weight: bold; line-height: 1; border-radius: 0.35em; vertical-align: middle; margin-left: 0.5rem\">Emily Patel</span></mark>’s decision to restructure <mark class=\"entity\" style=\"background: #bfe1d9; padding: 0.45em 0.6em; margin: 0 0.25em; line-height: 1; border-radius: 0.35em;\">GlobalTech Innovations <span style=\"font-size: 0.8em; font-weight: bold; line-height: 1; border-radius: 0.35em; vertical-align: middle; margin-left: 0.5rem\">Eonix Corp.</span></mark> in <mark class=\"entity\" style=\"background: #bfe1d9; padding: 0.45em 0.6em; margin: 0 0.25em; line-height: 1; border-radius: 0.35em;\">2020 <span style=\"font-size: 0.8em; font-weight: bold; line-height: 1; border-radius: 0.35em; vertical-align: middle; margin-left: 0.5rem\">1978</span></mark>. However, it does mention the impact of the COVID-19 pandemic on the business as a possible reason for the decision. Please note, there is a discrepancy as the COVID-19 pandemic occurred in 2019, not in <mark class=\"entity\" style=\"background: #bfe1d9; padding: 0.45em 0.6em; margin: 0 0.25em; line-height: 1; border-radius: 0.35em;\">2020 <span style=\"font-size: 0.8em; font-weight: bold; line-height: 1; border-radius: 0.35em; vertical-align: middle; margin-left: 0.5rem\">1978</span></mark>.\n",
       "       </div>\n",
       "      </figure>\n",
       "     </body>\n",
       "    </html>\n",
       "    "
      ],
      "text/plain": [
       "<IPython.core.display.HTML object>"
      ]
     },
     "metadata": {},
     "output_type": "display_data"
    },
    {
     "name": "stdout",
     "output_type": "stream",
     "text": [
      "==== CONTEXT LEVEL: 2 ====\n",
      "Question:\n"
     ]
    },
    {
     "data": {
      "text/html": [
       "\n",
       "    <!DOCTYPE html>\n",
       "    <html lang=\"en\">\n",
       "     <body style=\"font-size: 16px; font-family: -apple-system, BlinkMacSystemFont, 'Segoe UI', Helvetica, Arial, sans-serif, 'Apple Color Emoji', 'Segoe UI Emoji', 'Segoe UI Symbol'; padding: 4rem 2rem; direction: ltr\">\n",
       "      <figure style=\"margin-bottom: 6rem\">\n",
       "       <div class=\"entities\" style=\"line-height: 2.5; direction: ltr\">\n",
       "        What were the main reasons for <mark class=\"entity\" style=\"background: #bfe1d9; padding: 0.45em 0.6em; margin: 0 0.25em; line-height: 1; border-radius: 0.35em;\">Sarah Mitchell <span style=\"font-size: 0.8em; font-weight: bold; line-height: 1; border-radius: 0.35em; vertical-align: middle; margin-left: 0.5rem\">Emily Watts</span></mark>’s decision to restructure <mark class=\"entity\" style=\"background: #bfe1d9; padding: 0.45em 0.6em; margin: 0 0.25em; line-height: 1; border-radius: 0.35em;\">GlobalTech Innovations <span style=\"font-size: 0.8em; font-weight: bold; line-height: 1; border-radius: 0.35em; vertical-align: middle; margin-left: 0.5rem\">NovaSphere Technologies Inc.</span></mark> in <mark class=\"entity\" style=\"background: #bfe1d9; padding: 0.45em 0.6em; margin: 0 0.25em; line-height: 1; border-radius: 0.35em;\">2020 <span style=\"font-size: 0.8em; font-weight: bold; line-height: 1; border-radius: 0.35em; vertical-align: middle; margin-left: 0.5rem\">1975</span></mark>?\n",
       "       </div>\n",
       "      </figure>\n",
       "     </body>\n",
       "    </html>\n",
       "    "
      ],
      "text/plain": [
       "<IPython.core.display.HTML object>"
      ]
     },
     "metadata": {},
     "output_type": "display_data"
    },
    {
     "name": "stdout",
     "output_type": "stream",
     "text": [
      "Base Knowledge:\n"
     ]
    },
    {
     "data": {
      "text/html": [
       "\n",
       "    <!DOCTYPE html>\n",
       "    <html lang=\"en\">\n",
       "     <body style=\"font-size: 16px; font-family: -apple-system, BlinkMacSystemFont, 'Segoe UI', Helvetica, Arial, sans-serif, 'Apple Color Emoji', 'Segoe UI Emoji', 'Segoe UI Symbol'; padding: 4rem 2rem; direction: ltr\">\n",
       "      <figure style=\"margin-bottom: 6rem\">\n",
       "       <div class=\"entities\" style=\"line-height: 2.5; direction: ltr\">\n",
       "        In <mark class=\"entity\" style=\"background: #bfe1d9; padding: 0.45em 0.6em; margin: 0 0.25em; line-height: 1; border-radius: 0.35em;\">2020 <span style=\"font-size: 0.8em; font-weight: bold; line-height: 1; border-radius: 0.35em; vertical-align: middle; margin-left: 0.5rem\">1975</span></mark>, <mark class=\"entity\" style=\"background: #bfe1d9; padding: 0.45em 0.6em; margin: 0 0.25em; line-height: 1; border-radius: 0.35em;\">Sarah Mitchell <span style=\"font-size: 0.8em; font-weight: bold; line-height: 1; border-radius: 0.35em; vertical-align: middle; margin-left: 0.5rem\">Emily Watts</span></mark>, the CEO of <mark class=\"entity\" style=\"background: #bfe1d9; padding: 0.45em 0.6em; margin: 0 0.25em; line-height: 1; border-radius: 0.35em;\">GlobalTech Innovations <span style=\"font-size: 0.8em; font-weight: bold; line-height: 1; border-radius: 0.35em; vertical-align: middle; margin-left: 0.5rem\">NovaSphere Technologies Inc.</span></mark>, announced a major restructuring within the company. This decision, made after <mark class=\"entity\" style=\"background: #bfe1d9; padding: 0.45em 0.6em; margin: 0 0.25em; line-height: 1; border-radius: 0.35em;\">months <span style=\"font-size: 0.8em; font-weight: bold; line-height: 1; border-radius: 0.35em; vertical-align: middle; margin-left: 0.5rem\">quarters</span></mark> of deliberations, aimed at addressing the impact of the COVID-19 pandemic on the business. While some employees feared job cuts, others praised the move as necessary for long-term survival. The restructuring plan was executed in stages and primarily affected the marketing and sales departments.\n",
       "       </div>\n",
       "      </figure>\n",
       "     </body>\n",
       "    </html>\n",
       "    "
      ],
      "text/plain": [
       "<IPython.core.display.HTML object>"
      ]
     },
     "metadata": {},
     "output_type": "display_data"
    },
    {
     "name": "stdout",
     "output_type": "stream",
     "text": [
      "Postprocessed LLM response:\n"
     ]
    },
    {
     "data": {
      "text/html": [
       "\n",
       "    <!DOCTYPE html>\n",
       "    <html lang=\"en\">\n",
       "     <body style=\"font-size: 16px; font-family: -apple-system, BlinkMacSystemFont, 'Segoe UI', Helvetica, Arial, sans-serif, 'Apple Color Emoji', 'Segoe UI Emoji', 'Segoe UI Symbol'; padding: 4rem 2rem; direction: ltr\">\n",
       "      <figure style=\"margin-bottom: 6rem\">\n",
       "       <div class=\"entities\" style=\"line-height: 2.5; direction: ltr\">\n",
       "        The text does not provide specific reasons for <mark class=\"entity\" style=\"background: #bfe1d9; padding: 0.45em 0.6em; margin: 0 0.25em; line-height: 1; border-radius: 0.35em;\">Sarah Mitchell <span style=\"font-size: 0.8em; font-weight: bold; line-height: 1; border-radius: 0.35em; vertical-align: middle; margin-left: 0.5rem\">Emily Watts</span></mark>'s decision to restructure <mark class=\"entity\" style=\"background: #bfe1d9; padding: 0.45em 0.6em; margin: 0 0.25em; line-height: 1; border-radius: 0.35em;\">GlobalTech Innovations <span style=\"font-size: 0.8em; font-weight: bold; line-height: 1; border-radius: 0.35em; vertical-align: middle; margin-left: 0.5rem\">NovaSphere Technologies Inc.</span></mark> in <mark class=\"entity\" style=\"background: #bfe1d9; padding: 0.45em 0.6em; margin: 0 0.25em; line-height: 1; border-radius: 0.35em;\">2020 <span style=\"font-size: 0.8em; font-weight: bold; line-height: 1; border-radius: 0.35em; vertical-align: middle; margin-left: 0.5rem\">1975</span></mark>.\n",
       "       </div>\n",
       "      </figure>\n",
       "     </body>\n",
       "    </html>\n",
       "    "
      ],
      "text/plain": [
       "<IPython.core.display.HTML object>"
      ]
     },
     "metadata": {},
     "output_type": "display_data"
    }
   ],
   "source": [
    "text = \"In 2020, Sarah Mitchell, the CEO of GlobalTech Innovations, announced a major restructuring within the company. This decision, made after months of deliberations, aimed at addressing the impact of the COVID-19 pandemic on the business. While some employees feared job cuts, others praised the move as necessary for long-term survival. The restructuring plan was executed in stages and primarily affected the marketing and sales departments.\"\n",
    "question = \"What were the main reasons for Sarah Mitchell’s decision to restructure GlobalTech Innovations in 2020?\"\n",
    "await analyze_context_dependency(text, question)\n"
   ]
  },
  {
   "cell_type": "markdown",
   "metadata": {},
   "source": [
    "### With final version of prompts in llama"
   ]
  },
  {
   "cell_type": "code",
   "execution_count": 12,
   "metadata": {},
   "outputs": [
    {
     "name": "stdout",
     "output_type": "stream",
     "text": [
      "==== CONTEXT LEVEL: 0 ====\n",
      "Question:\n"
     ]
    },
    {
     "data": {
      "text/html": [
       "\n",
       "    <!DOCTYPE html>\n",
       "    <html lang=\"en\">\n",
       "     <body style=\"font-size: 16px; font-family: -apple-system, BlinkMacSystemFont, 'Segoe UI', Helvetica, Arial, sans-serif, 'Apple Color Emoji', 'Segoe UI Emoji', 'Segoe UI Symbol'; padding: 4rem 2rem; direction: ltr\">\n",
       "      <figure style=\"margin-bottom: 6rem\">\n",
       "       <div class=\"entities\" style=\"line-height: 2.5; direction: ltr\">\n",
       "        What were the main reasons for <mark class=\"entity\" style=\"background: #bfe1d9; padding: 0.45em 0.6em; margin: 0 0.25em; line-height: 1; border-radius: 0.35em;\">Sarah Mitchell <span style=\"font-size: 0.8em; font-weight: bold; line-height: 1; border-radius: 0.35em; vertical-align: middle; margin-left: 0.5rem\">[PERSON_1]</span></mark>’s decision to restructure <mark class=\"entity\" style=\"background: #bfe1d9; padding: 0.45em 0.6em; margin: 0 0.25em; line-height: 1; border-radius: 0.35em;\">GlobalTech Innovations <span style=\"font-size: 0.8em; font-weight: bold; line-height: 1; border-radius: 0.35em; vertical-align: middle; margin-left: 0.5rem\">[ORG_2]</span></mark> in <mark class=\"entity\" style=\"background: #bfe1d9; padding: 0.45em 0.6em; margin: 0 0.25em; line-height: 1; border-radius: 0.35em;\">2020 <span style=\"font-size: 0.8em; font-weight: bold; line-height: 1; border-radius: 0.35em; vertical-align: middle; margin-left: 0.5rem\">[DATE_0]</span></mark>?\n",
       "       </div>\n",
       "      </figure>\n",
       "     </body>\n",
       "    </html>\n",
       "    "
      ],
      "text/plain": [
       "<IPython.core.display.HTML object>"
      ]
     },
     "metadata": {},
     "output_type": "display_data"
    },
    {
     "name": "stdout",
     "output_type": "stream",
     "text": [
      "Base Knowledge:\n"
     ]
    },
    {
     "data": {
      "text/html": [
       "\n",
       "    <!DOCTYPE html>\n",
       "    <html lang=\"en\">\n",
       "     <body style=\"font-size: 16px; font-family: -apple-system, BlinkMacSystemFont, 'Segoe UI', Helvetica, Arial, sans-serif, 'Apple Color Emoji', 'Segoe UI Emoji', 'Segoe UI Symbol'; padding: 4rem 2rem; direction: ltr\">\n",
       "      <figure style=\"margin-bottom: 6rem\">\n",
       "       <div class=\"entities\" style=\"line-height: 2.5; direction: ltr\">\n",
       "        In <mark class=\"entity\" style=\"background: #bfe1d9; padding: 0.45em 0.6em; margin: 0 0.25em; line-height: 1; border-radius: 0.35em;\">2020 <span style=\"font-size: 0.8em; font-weight: bold; line-height: 1; border-radius: 0.35em; vertical-align: middle; margin-left: 0.5rem\">[DATE_0]</span></mark>, <mark class=\"entity\" style=\"background: #bfe1d9; padding: 0.45em 0.6em; margin: 0 0.25em; line-height: 1; border-radius: 0.35em;\">Sarah Mitchell <span style=\"font-size: 0.8em; font-weight: bold; line-height: 1; border-radius: 0.35em; vertical-align: middle; margin-left: 0.5rem\">[PERSON_1]</span></mark>, the CEO of <mark class=\"entity\" style=\"background: #bfe1d9; padding: 0.45em 0.6em; margin: 0 0.25em; line-height: 1; border-radius: 0.35em;\">GlobalTech Innovations <span style=\"font-size: 0.8em; font-weight: bold; line-height: 1; border-radius: 0.35em; vertical-align: middle; margin-left: 0.5rem\">[ORG_2]</span></mark>, announced a major restructuring within the company. This decision, made after <mark class=\"entity\" style=\"background: #bfe1d9; padding: 0.45em 0.6em; margin: 0 0.25em; line-height: 1; border-radius: 0.35em;\">months <span style=\"font-size: 0.8em; font-weight: bold; line-height: 1; border-radius: 0.35em; vertical-align: middle; margin-left: 0.5rem\">[DATE_3]</span></mark> of deliberations, aimed at addressing the impact of the COVID-19 pandemic on the business. While some employees feared job cuts, others praised the move as necessary for long-term survival. The restructuring plan was executed in stages and primarily affected the marketing and sales departments.\n",
       "       </div>\n",
       "      </figure>\n",
       "     </body>\n",
       "    </html>\n",
       "    "
      ],
      "text/plain": [
       "<IPython.core.display.HTML object>"
      ]
     },
     "metadata": {},
     "output_type": "display_data"
    },
    {
     "name": "stdout",
     "output_type": "stream",
     "text": [
      "Postprocessed LLM response:\n"
     ]
    },
    {
     "data": {
      "text/html": [
       "\n",
       "    <!DOCTYPE html>\n",
       "    <html lang=\"en\">\n",
       "     <body style=\"font-size: 16px; font-family: -apple-system, BlinkMacSystemFont, 'Segoe UI', Helvetica, Arial, sans-serif, 'Apple Color Emoji', 'Segoe UI Emoji', 'Segoe UI Symbol'; padding: 4rem 2rem; direction: ltr\">\n",
       "      <figure style=\"margin-bottom: 6rem\">\n",
       "       <div class=\"entities\" style=\"line-height: 2.5; direction: ltr\">\n",
       "        The main reasons for <mark class=\"entity\" style=\"background: #bfe1d9; padding: 0.45em 0.6em; margin: 0 0.25em; line-height: 1; border-radius: 0.35em;\">Sarah Mitchell <span style=\"font-size: 0.8em; font-weight: bold; line-height: 1; border-radius: 0.35em; vertical-align: middle; margin-left: 0.5rem\">[PERSON_1]</span></mark>’s decision to restructure <mark class=\"entity\" style=\"background: #bfe1d9; padding: 0.45em 0.6em; margin: 0 0.25em; line-height: 1; border-radius: 0.35em;\">GlobalTech Innovations <span style=\"font-size: 0.8em; font-weight: bold; line-height: 1; border-radius: 0.35em; vertical-align: middle; margin-left: 0.5rem\">[ORG_2]</span></mark> in <mark class=\"entity\" style=\"background: #bfe1d9; padding: 0.45em 0.6em; margin: 0 0.25em; line-height: 1; border-radius: 0.35em;\">2020 <span style=\"font-size: 0.8em; font-weight: bold; line-height: 1; border-radius: 0.35em; vertical-align: middle; margin-left: 0.5rem\">[DATE_0]</span></mark> were to address the impact of the COVID-19 pandemic on the business and to ensure the company's long-term survival.\n",
       "       </div>\n",
       "      </figure>\n",
       "     </body>\n",
       "    </html>\n",
       "    "
      ],
      "text/plain": [
       "<IPython.core.display.HTML object>"
      ]
     },
     "metadata": {},
     "output_type": "display_data"
    },
    {
     "name": "stdout",
     "output_type": "stream",
     "text": [
      "==== CONTEXT LEVEL: 1 ====\n",
      "Question:\n"
     ]
    },
    {
     "data": {
      "text/html": [
       "\n",
       "    <!DOCTYPE html>\n",
       "    <html lang=\"en\">\n",
       "     <body style=\"font-size: 16px; font-family: -apple-system, BlinkMacSystemFont, 'Segoe UI', Helvetica, Arial, sans-serif, 'Apple Color Emoji', 'Segoe UI Emoji', 'Segoe UI Symbol'; padding: 4rem 2rem; direction: ltr\">\n",
       "      <figure style=\"margin-bottom: 6rem\">\n",
       "       <div class=\"entities\" style=\"line-height: 2.5; direction: ltr\">\n",
       "        What were the main reasons for <mark class=\"entity\" style=\"background: #bfe1d9; padding: 0.45em 0.6em; margin: 0 0.25em; line-height: 1; border-radius: 0.35em;\">Sarah Mitchell <span style=\"font-size: 0.8em; font-weight: bold; line-height: 1; border-radius: 0.35em; vertical-align: middle; margin-left: 0.5rem\">Emily Wilson</span></mark>’s decision to restructure <mark class=\"entity\" style=\"background: #bfe1d9; padding: 0.45em 0.6em; margin: 0 0.25em; line-height: 1; border-radius: 0.35em;\">GlobalTech Innovations <span style=\"font-size: 0.8em; font-weight: bold; line-height: 1; border-radius: 0.35em; vertical-align: middle; margin-left: 0.5rem\">Omnicode Solutions Inc.</span></mark> in <mark class=\"entity\" style=\"background: #bfe1d9; padding: 0.45em 0.6em; margin: 0 0.25em; line-height: 1; border-radius: 0.35em;\">2020 <span style=\"font-size: 0.8em; font-weight: bold; line-height: 1; border-radius: 0.35em; vertical-align: middle; margin-left: 0.5rem\">1957</span></mark>?\n",
       "       </div>\n",
       "      </figure>\n",
       "     </body>\n",
       "    </html>\n",
       "    "
      ],
      "text/plain": [
       "<IPython.core.display.HTML object>"
      ]
     },
     "metadata": {},
     "output_type": "display_data"
    },
    {
     "name": "stdout",
     "output_type": "stream",
     "text": [
      "Base Knowledge:\n"
     ]
    },
    {
     "data": {
      "text/html": [
       "\n",
       "    <!DOCTYPE html>\n",
       "    <html lang=\"en\">\n",
       "     <body style=\"font-size: 16px; font-family: -apple-system, BlinkMacSystemFont, 'Segoe UI', Helvetica, Arial, sans-serif, 'Apple Color Emoji', 'Segoe UI Emoji', 'Segoe UI Symbol'; padding: 4rem 2rem; direction: ltr\">\n",
       "      <figure style=\"margin-bottom: 6rem\">\n",
       "       <div class=\"entities\" style=\"line-height: 2.5; direction: ltr\">\n",
       "        In <mark class=\"entity\" style=\"background: #bfe1d9; padding: 0.45em 0.6em; margin: 0 0.25em; line-height: 1; border-radius: 0.35em;\">2020 <span style=\"font-size: 0.8em; font-weight: bold; line-height: 1; border-radius: 0.35em; vertical-align: middle; margin-left: 0.5rem\">1957</span></mark>, <mark class=\"entity\" style=\"background: #bfe1d9; padding: 0.45em 0.6em; margin: 0 0.25em; line-height: 1; border-radius: 0.35em;\">Sarah Mitchell <span style=\"font-size: 0.8em; font-weight: bold; line-height: 1; border-radius: 0.35em; vertical-align: middle; margin-left: 0.5rem\">Emily Wilson</span></mark>, the CEO of <mark class=\"entity\" style=\"background: #bfe1d9; padding: 0.45em 0.6em; margin: 0 0.25em; line-height: 1; border-radius: 0.35em;\">GlobalTech Innovations <span style=\"font-size: 0.8em; font-weight: bold; line-height: 1; border-radius: 0.35em; vertical-align: middle; margin-left: 0.5rem\">Omnicode Solutions Inc.</span></mark>, announced a major restructuring within the company. This decision, made after <mark class=\"entity\" style=\"background: #bfe1d9; padding: 0.45em 0.6em; margin: 0 0.25em; line-height: 1; border-radius: 0.35em;\">months <span style=\"font-size: 0.8em; font-weight: bold; line-height: 1; border-radius: 0.35em; vertical-align: middle; margin-left: 0.5rem\">quarters</span></mark> of deliberations, aimed at addressing the impact of the COVID-19 pandemic on the business. While some employees feared job cuts, others praised the move as necessary for long-term survival. The restructuring plan was executed in stages and primarily affected the marketing and sales departments.\n",
       "       </div>\n",
       "      </figure>\n",
       "     </body>\n",
       "    </html>\n",
       "    "
      ],
      "text/plain": [
       "<IPython.core.display.HTML object>"
      ]
     },
     "metadata": {},
     "output_type": "display_data"
    },
    {
     "name": "stdout",
     "output_type": "stream",
     "text": [
      "Postprocessed LLM response:\n"
     ]
    },
    {
     "data": {
      "text/html": [
       "\n",
       "    <!DOCTYPE html>\n",
       "    <html lang=\"en\">\n",
       "     <body style=\"font-size: 16px; font-family: -apple-system, BlinkMacSystemFont, 'Segoe UI', Helvetica, Arial, sans-serif, 'Apple Color Emoji', 'Segoe UI Emoji', 'Segoe UI Symbol'; padding: 4rem 2rem; direction: ltr\">\n",
       "      <figure style=\"margin-bottom: 6rem\">\n",
       "       <div class=\"entities\" style=\"line-height: 2.5; direction: ltr\">\n",
       "        The text does not provide specific reasons for <mark class=\"entity\" style=\"background: #bfe1d9; padding: 0.45em 0.6em; margin: 0 0.25em; line-height: 1; border-radius: 0.35em;\">Sarah Mitchell <span style=\"font-size: 0.8em; font-weight: bold; line-height: 1; border-radius: 0.35em; vertical-align: middle; margin-left: 0.5rem\">Emily Wilson</span></mark>'s decision to restructure <mark class=\"entity\" style=\"background: #bfe1d9; padding: 0.45em 0.6em; margin: 0 0.25em; line-height: 1; border-radius: 0.35em;\">GlobalTech Innovations <span style=\"font-size: 0.8em; font-weight: bold; line-height: 1; border-radius: 0.35em; vertical-align: middle; margin-left: 0.5rem\">Omnicode Solutions Inc.</span></mark> in <mark class=\"entity\" style=\"background: #bfe1d9; padding: 0.45em 0.6em; margin: 0 0.25em; line-height: 1; border-radius: 0.35em;\">2020 <span style=\"font-size: 0.8em; font-weight: bold; line-height: 1; border-radius: 0.35em; vertical-align: middle; margin-left: 0.5rem\">1957</span></mark>. It is stated that the decision was made after the COVID-19 pandemic, but this is clearly an error since the pandemic began in 2019, not in the 1950s. Please provide the correct text or details.\n",
       "       </div>\n",
       "      </figure>\n",
       "     </body>\n",
       "    </html>\n",
       "    "
      ],
      "text/plain": [
       "<IPython.core.display.HTML object>"
      ]
     },
     "metadata": {},
     "output_type": "display_data"
    },
    {
     "name": "stdout",
     "output_type": "stream",
     "text": [
      "==== CONTEXT LEVEL: 2 ====\n",
      "Question:\n"
     ]
    },
    {
     "data": {
      "text/html": [
       "\n",
       "    <!DOCTYPE html>\n",
       "    <html lang=\"en\">\n",
       "     <body style=\"font-size: 16px; font-family: -apple-system, BlinkMacSystemFont, 'Segoe UI', Helvetica, Arial, sans-serif, 'Apple Color Emoji', 'Segoe UI Emoji', 'Segoe UI Symbol'; padding: 4rem 2rem; direction: ltr\">\n",
       "      <figure style=\"margin-bottom: 6rem\">\n",
       "       <div class=\"entities\" style=\"line-height: 2.5; direction: ltr\">\n",
       "        What were the main reasons for <mark class=\"entity\" style=\"background: #bfe1d9; padding: 0.45em 0.6em; margin: 0 0.25em; line-height: 1; border-radius: 0.35em;\">Sarah Mitchell <span style=\"font-size: 0.8em; font-weight: bold; line-height: 1; border-radius: 0.35em; vertical-align: middle; margin-left: 0.5rem\">Emily Taylor</span></mark>’s decision to restructure <mark class=\"entity\" style=\"background: #bfe1d9; padding: 0.45em 0.6em; margin: 0 0.25em; line-height: 1; border-radius: 0.35em;\">GlobalTech Innovations <span style=\"font-size: 0.8em; font-weight: bold; line-height: 1; border-radius: 0.35em; vertical-align: middle; margin-left: 0.5rem\">\"ApexTech Solutions\"</span></mark> in <mark class=\"entity\" style=\"background: #bfe1d9; padding: 0.45em 0.6em; margin: 0 0.25em; line-height: 1; border-radius: 0.35em;\">2020 <span style=\"font-size: 0.8em; font-weight: bold; line-height: 1; border-radius: 0.35em; vertical-align: middle; margin-left: 0.5rem\">2021</span></mark>?\n",
       "       </div>\n",
       "      </figure>\n",
       "     </body>\n",
       "    </html>\n",
       "    "
      ],
      "text/plain": [
       "<IPython.core.display.HTML object>"
      ]
     },
     "metadata": {},
     "output_type": "display_data"
    },
    {
     "name": "stdout",
     "output_type": "stream",
     "text": [
      "Base Knowledge:\n"
     ]
    },
    {
     "data": {
      "text/html": [
       "\n",
       "    <!DOCTYPE html>\n",
       "    <html lang=\"en\">\n",
       "     <body style=\"font-size: 16px; font-family: -apple-system, BlinkMacSystemFont, 'Segoe UI', Helvetica, Arial, sans-serif, 'Apple Color Emoji', 'Segoe UI Emoji', 'Segoe UI Symbol'; padding: 4rem 2rem; direction: ltr\">\n",
       "      <figure style=\"margin-bottom: 6rem\">\n",
       "       <div class=\"entities\" style=\"line-height: 2.5; direction: ltr\">\n",
       "        In <mark class=\"entity\" style=\"background: #bfe1d9; padding: 0.45em 0.6em; margin: 0 0.25em; line-height: 1; border-radius: 0.35em;\">2020 <span style=\"font-size: 0.8em; font-weight: bold; line-height: 1; border-radius: 0.35em; vertical-align: middle; margin-left: 0.5rem\">2021</span></mark>, <mark class=\"entity\" style=\"background: #bfe1d9; padding: 0.45em 0.6em; margin: 0 0.25em; line-height: 1; border-radius: 0.35em;\">Sarah Mitchell <span style=\"font-size: 0.8em; font-weight: bold; line-height: 1; border-radius: 0.35em; vertical-align: middle; margin-left: 0.5rem\">Emily Taylor</span></mark>, the CEO of <mark class=\"entity\" style=\"background: #bfe1d9; padding: 0.45em 0.6em; margin: 0 0.25em; line-height: 1; border-radius: 0.35em;\">GlobalTech Innovations <span style=\"font-size: 0.8em; font-weight: bold; line-height: 1; border-radius: 0.35em; vertical-align: middle; margin-left: 0.5rem\">\"ApexTech Solutions\"</span></mark>, announced a major restructuring within the company. This decision, made after <mark class=\"entity\" style=\"background: #bfe1d9; padding: 0.45em 0.6em; margin: 0 0.25em; line-height: 1; border-radius: 0.35em;\">months <span style=\"font-size: 0.8em; font-weight: bold; line-height: 1; border-radius: 0.35em; vertical-align: middle; margin-left: 0.5rem\">quarters</span></mark> of deliberations, aimed at addressing the impact of the COVID-19 pandemic on the business. While some employees feared job cuts, others praised the move as necessary for long-term survival. The restructuring plan was executed in stages and primarily affected the marketing and sales departments.\n",
       "       </div>\n",
       "      </figure>\n",
       "     </body>\n",
       "    </html>\n",
       "    "
      ],
      "text/plain": [
       "<IPython.core.display.HTML object>"
      ]
     },
     "metadata": {},
     "output_type": "display_data"
    },
    {
     "name": "stdout",
     "output_type": "stream",
     "text": [
      "Postprocessed LLM response:\n"
     ]
    },
    {
     "data": {
      "text/html": [
       "\n",
       "    <!DOCTYPE html>\n",
       "    <html lang=\"en\">\n",
       "     <body style=\"font-size: 16px; font-family: -apple-system, BlinkMacSystemFont, 'Segoe UI', Helvetica, Arial, sans-serif, 'Apple Color Emoji', 'Segoe UI Emoji', 'Segoe UI Symbol'; padding: 4rem 2rem; direction: ltr\">\n",
       "      <figure style=\"margin-bottom: 6rem\">\n",
       "       <div class=\"entities\" style=\"line-height: 2.5; direction: ltr\">\n",
       "        The main reasons for <mark class=\"entity\" style=\"background: #bfe1d9; padding: 0.45em 0.6em; margin: 0 0.25em; line-height: 1; border-radius: 0.35em;\">Sarah Mitchell <span style=\"font-size: 0.8em; font-weight: bold; line-height: 1; border-radius: 0.35em; vertical-align: middle; margin-left: 0.5rem\">Emily Taylor</span></mark>'s decision to restructure <mark class=\"entity\" style=\"background: #bfe1d9; padding: 0.45em 0.6em; margin: 0 0.25em; line-height: 1; border-radius: 0.35em;\">GlobalTech Innovations <span style=\"font-size: 0.8em; font-weight: bold; line-height: 1; border-radius: 0.35em; vertical-align: middle; margin-left: 0.5rem\">\"ApexTech Solutions\"</span></mark>' in <mark class=\"entity\" style=\"background: #bfe1d9; padding: 0.45em 0.6em; margin: 0 0.25em; line-height: 1; border-radius: 0.35em;\">2020 <span style=\"font-size: 0.8em; font-weight: bold; line-height: 1; border-radius: 0.35em; vertical-align: middle; margin-left: 0.5rem\">2021</span></mark> were to address the impact of the COVID-19 pandemic on the business and to ensure the company's long-term survival.\n",
       "       </div>\n",
       "      </figure>\n",
       "     </body>\n",
       "    </html>\n",
       "    "
      ],
      "text/plain": [
       "<IPython.core.display.HTML object>"
      ]
     },
     "metadata": {},
     "output_type": "display_data"
    }
   ],
   "source": [
    "text = \"In 2020, Sarah Mitchell, the CEO of GlobalTech Innovations, announced a major restructuring within the company. This decision, made after months of deliberations, aimed at addressing the impact of the COVID-19 pandemic on the business. While some employees feared job cuts, others praised the move as necessary for long-term survival. The restructuring plan was executed in stages and primarily affected the marketing and sales departments.\"\n",
    "question = \"What were the main reasons for Sarah Mitchell’s decision to restructure GlobalTech Innovations in 2020?\"\n",
    "await analyze_context_dependency(text, question)"
   ]
  },
  {
   "cell_type": "markdown",
   "metadata": {},
   "source": [
    "### LLM bias on the NAME"
   ]
  },
  {
   "cell_type": "code",
   "execution_count": 3,
   "metadata": {},
   "outputs": [],
   "source": [
    "from datasets import Dataset\n",
    "\n",
    "def create_ragas_dataset(question,\n",
    "                        base_text,\n",
    "                        ground_truth_response,\n",
    "                        final_outputs):\n",
    "    base_texts = []\n",
    "    base_texts.append(base_text)\n",
    "    ragas_data = Dataset.from_dict({\n",
    "        \"question\": [question, question, question],\n",
    "        \"answer\": final_outputs,\n",
    "        \"contexts\": [base_texts, base_texts, base_texts],\n",
    "        \"reference\": [ground_truth_response, ground_truth_response, ground_truth_response]\n",
    "    })\n",
    "\n",
    "    return ragas_data\n",
    "\n",
    "from ragas import evaluate\n",
    "from ragas.metrics import (\n",
    "    faithfulness,\n",
    "    answer_relevancy,\n",
    "    context_recall,\n",
    "    context_precision,\n",
    "    answer_correctness,\n",
    ")\n",
    "\n",
    "def evaluate_rag(ragas_data):\n",
    "    result = evaluate(\n",
    "        dataset=ragas_data,\n",
    "        metrics=[\n",
    "            faithfulness,\n",
    "            answer_relevancy,\n",
    "            context_precision,\n",
    "            context_recall,\n",
    "            answer_correctness\n",
    "        ]\n",
    "    )\n",
    "    return result\n",
    "\n"
   ]
  },
  {
   "cell_type": "markdown",
   "metadata": {},
   "source": [
    "## Example 1 - Indian customer"
   ]
  },
  {
   "cell_type": "code",
   "execution_count": 14,
   "metadata": {},
   "outputs": [
    {
     "name": "stdout",
     "output_type": "stream",
     "text": [
      "Ground truth response: \n"
     ]
    },
    {
     "data": {
      "text/markdown": [
       "To build rapport with a customer like Anjali Gupta, who is the head of business development at a corporation in India, it's important to understand and align with the values typical of this role and cultural context. Here are some key values and approaches to consider:\n",
       "\n",
       "### Values:\n",
       "1. **Professionalism**: Business development leaders value professionalism and competence. Demonstrating expertise in your area and understanding her industry trends is crucial.\n",
       "\n",
       "2. **Strategic Thinking**: Show an understanding of long-term business goals and provide solutions that contribute to them.\n",
       "\n",
       "3. **Trust and Reliability**: Building trust is essential. Honesty, transparency, and consistency in your dealings will be valued.\n",
       "\n",
       "4. **Relationship Building**: Business development roles often involve relationship building. Demonstrate a genuine interest in her role and company.\n",
       "\n",
       "5. **Innovation and Growth**: Highlight innovative solutions or opportunities for business growth, as these are central to the business development function.\n",
       "\n",
       "6. **Cultural Understanding**: Cultural sensitivity and awareness can build a deeper connection. Respect Indian business etiquette which often leans towards formality.\n",
       "\n",
       "### Approach to Building Rapport:\n",
       "1. **Research and Preparation**: Understand Anjali’s professional background, her company’s business model, and industry trends. Tailor your discussions to align with her interests and company objectives.\n",
       "\n",
       "2. **Personalization**: Personalize your communication. Reference specific achievements of her company or initiatives she’s led.\n",
       "\n",
       "3. **Effective Communication**: Be clear, concise, and articulate. Listening actively and acknowledging her points can help in building a connection.\n",
       "\n",
       "4. **Value Proposition**: Clearly communicate the value you can bring to her business. Use data and case studies to back your claims.\n",
       "\n",
       "5. **Regular Engagement**: Maintain regular, meaningful interactions. Follow-ups and updates demonstrate your commitment to the relationship.\n",
       "\n",
       "6. **Cultural Etiquette**: Be mindful of cultural norms, such as addressing her with appropriate titles unless invited to do otherwise, and being punctual and respectful in meetings.\n",
       "\n",
       "7. **Empathy and Understanding**: Understand her challenges and pressures. Offering solutions that address her pain points can build rapport.\n",
       "\n",
       "8. **Networking and Introductions**: Facilitate introductions to other professionals or opportunities that could benefit her, indicating a willingness to support her beyond immediate business dealings.\n",
       "\n",
       "By aligning your approach with these values and strategies, you can effectively build a cooperative and long-lasting rapport with Anjali Gupta."
      ],
      "text/plain": [
       "<IPython.core.display.Markdown object>"
      ]
     },
     "metadata": {},
     "output_type": "display_data"
    },
    {
     "name": "stderr",
     "output_type": "stream",
     "text": [
      "/Users/lilianahotsko/Desktop/LLMAnonymizationThesis/.venv/lib/python3.11/site-packages/spacy/util.py:910: UserWarning: [W095] Model 'en_core_web_sm' (3.2.0) was trained with spaCy v3.2.0 and may not be 100% compatible with the current version (3.8.4). If you see errors or degraded performance, download a newer compatible model or retrain your custom model with the current spaCy version. For more details and available updates, run: python -m spacy validate\n",
      "  warnings.warn(warn_msg)\n"
     ]
    },
    {
     "name": "stdout",
     "output_type": "stream",
     "text": [
      "==== CONTEXT LEVEL: 0 ====\n",
      "Question:\n"
     ]
    },
    {
     "data": {
      "text/html": [
       "\n",
       "    <!DOCTYPE html>\n",
       "    <html lang=\"en\">\n",
       "     <body style=\"font-size: 16px; font-family: -apple-system, BlinkMacSystemFont, 'Segoe UI', Helvetica, Arial, sans-serif, 'Apple Color Emoji', 'Segoe UI Emoji', 'Segoe UI Symbol'; padding: 4rem 2rem; direction: ltr\">\n",
       "      <figure style=\"margin-bottom: 6rem\">\n",
       "       <div class=\"entities\" style=\"line-height: 2.5; direction: ltr\">\n",
       "        What is the best approach to building rapport with a customer <mark class=\"entity\" style=\"background: #bfe1d9; padding: 0.45em 0.6em; margin: 0 0.25em; line-height: 1; border-radius: 0.35em;\">Anjali Gupta <span style=\"font-size: 0.8em; font-weight: bold; line-height: 1; border-radius: 0.35em; vertical-align: middle; margin-left: 0.5rem\">[PERSON_0]</span></mark>?\n",
       "       </div>\n",
       "      </figure>\n",
       "     </body>\n",
       "    </html>\n",
       "    "
      ],
      "text/plain": [
       "<IPython.core.display.HTML object>"
      ]
     },
     "metadata": {},
     "output_type": "display_data"
    },
    {
     "name": "stdout",
     "output_type": "stream",
     "text": [
      "Base Knowledge:\n"
     ]
    },
    {
     "data": {
      "text/html": [
       "\n",
       "    <!DOCTYPE html>\n",
       "    <html lang=\"en\">\n",
       "     <body style=\"font-size: 16px; font-family: -apple-system, BlinkMacSystemFont, 'Segoe UI', Helvetica, Arial, sans-serif, 'Apple Color Emoji', 'Segoe UI Emoji', 'Segoe UI Symbol'; padding: 4rem 2rem; direction: ltr\">\n",
       "      <figure style=\"margin-bottom: 6rem\">\n",
       "       <div class=\"entities\" style=\"line-height: 2.5; direction: ltr\">\n",
       "        <mark class=\"entity\" style=\"background: #bfe1d9; padding: 0.45em 0.6em; margin: 0 0.25em; line-height: 1; border-radius: 0.35em;\">Anjali Gupta <span style=\"font-size: 0.8em; font-weight: bold; line-height: 1; border-radius: 0.35em; vertical-align: middle; margin-left: 0.5rem\">[PERSON_0]</span></mark> is the head of business development at a corporation in <mark class=\"entity\" style=\"background: #bfe1d9; padding: 0.45em 0.6em; margin: 0 0.25em; line-height: 1; border-radius: 0.35em;\">India <span style=\"font-size: 0.8em; font-weight: bold; line-height: 1; border-radius: 0.35em; vertical-align: middle; margin-left: 0.5rem\">[GPE_1]</span></mark>. Take into account what values this category of customers have. \n",
       "       </div>\n",
       "      </figure>\n",
       "     </body>\n",
       "    </html>\n",
       "    "
      ],
      "text/plain": [
       "<IPython.core.display.HTML object>"
      ]
     },
     "metadata": {},
     "output_type": "display_data"
    },
    {
     "name": "stdout",
     "output_type": "stream",
     "text": [
      "Postprocessed LLM response:\n"
     ]
    },
    {
     "data": {
      "text/html": [
       "\n",
       "    <!DOCTYPE html>\n",
       "    <html lang=\"en\">\n",
       "     <body style=\"font-size: 16px; font-family: -apple-system, BlinkMacSystemFont, 'Segoe UI', Helvetica, Arial, sans-serif, 'Apple Color Emoji', 'Segoe UI Emoji', 'Segoe UI Symbol'; padding: 4rem 2rem; direction: ltr\">\n",
       "      <figure style=\"margin-bottom: 6rem\">\n",
       "       <div class=\"entities\" style=\"line-height: 2.5; direction: ltr\">\n",
       "        The best approach to building rapport with such a client, <mark class=\"entity\" style=\"background: #bfe1d9; padding: 0.45em 0.6em; margin: 0 0.25em; line-height: 1; border-radius: 0.35em;\">Anjali Gupta <span style=\"font-size: 0.8em; font-weight: bold; line-height: 1; border-radius: 0.35em; vertical-align: middle; margin-left: 0.5rem\">[PERSON_0]</span></mark>, would primarily involve developing a good understanding of their business interests and needs, as well as their corporate values. Here are some recommended steps:\n",
       "\n",
       "1. Research: Perform detailed research about <mark class=\"entity\" style=\"background: #bfe1d9; padding: 0.45em 0.6em; margin: 0 0.25em; line-height: 1; border-radius: 0.35em;\">Anjali Gupta <span style=\"font-size: 0.8em; font-weight: bold; line-height: 1; border-radius: 0.35em; vertical-align: middle; margin-left: 0.5rem\">[PERSON_0]</span></mark> and their corporation. Learn about their mission, goals, achievements, as well as their challenges and key business interests. \n",
       "\n",
       "2. Respect: Show respect for <mark class=\"entity\" style=\"background: #bfe1d9; padding: 0.45em 0.6em; margin: 0 0.25em; line-height: 1; border-radius: 0.35em;\">Anjali Gupta <span style=\"font-size: 0.8em; font-weight: bold; line-height: 1; border-radius: 0.35em; vertical-align: middle; margin-left: 0.5rem\">[PERSON_0]</span></mark>'s position and the corporation they represent. Showing respect means being punctual, professional, and prepared in all your interactions.\n",
       "\n",
       "3. Relevance: Keep the communication relevant to their business needs and interests. Make sure to relate your product or service to how it can address these needs or can add value to their business development.\n",
       "\n",
       "4. Communicate Effectively: Maintain open, honest, and tactful communication. \n",
       "\n",
       "5. Active Listening: Listen carefully to their concerns, questions, and feedback. The more you listen to them, the better you will understand their needs.\n",
       "\n",
       "6. Provide Value: Stay focused on what benefits or value you and your company can offer to <mark class=\"entity\" style=\"background: #bfe1d9; padding: 0.45em 0.6em; margin: 0 0.25em; line-height: 1; border-radius: 0.35em;\">Anjali Gupta <span style=\"font-size: 0.8em; font-weight: bold; line-height: 1; border-radius: 0.35em; vertical-align: middle; margin-left: 0.5rem\">[PERSON_0]</span></mark> and their corporation.\n",
       "\n",
       "7. Follow up: Always follow up on your discussions or promises. This shows that they can rely on you and the organization you represent.\n",
       "\n",
       "8. Maintain Consistency: Whatever the level of communication you have with them, maintain it. They'll appreciate the consistently high attention level.\n",
       "\n",
       "9. Personalize interactions: Even though <mark class=\"entity\" style=\"background: #bfe1d9; padding: 0.45em 0.6em; margin: 0 0.25em; line-height: 1; border-radius: 0.35em;\">Anjali Gupta <span style=\"font-size: 0.8em; font-weight: bold; line-height: 1; border-radius: 0.35em; vertical-align: middle; margin-left: 0.5rem\">[PERSON_0]</span></mark> is a business client, remember they are a human first. Interactions that feel personal and genuine help to build trust and respect. Respect cultural differences if your business is international.\n",
       "\n",
       "10. Patience: Developing a good relationship takes time. Be patient and persistent, but never pushy.\n",
       "\n",
       "Remember rapport building is not about looking at <mark class=\"entity\" style=\"background: #bfe1d9; padding: 0.45em 0.6em; margin: 0 0.25em; line-height: 1; border-radius: 0.35em;\">Anjali Gupta <span style=\"font-size: 0.8em; font-weight: bold; line-height: 1; border-radius: 0.35em; vertical-align: middle; margin-left: 0.5rem\">[PERSON_0]</span></mark> as a business transaction, but as a partner with whom you can build a long-term business relationship.\n",
       "       </div>\n",
       "      </figure>\n",
       "     </body>\n",
       "    </html>\n",
       "    "
      ],
      "text/plain": [
       "<IPython.core.display.HTML object>"
      ]
     },
     "metadata": {},
     "output_type": "display_data"
    },
    {
     "name": "stdout",
     "output_type": "stream",
     "text": [
      "==== CONTEXT LEVEL: 1 ====\n",
      "Question:\n"
     ]
    },
    {
     "data": {
      "text/html": [
       "\n",
       "    <!DOCTYPE html>\n",
       "    <html lang=\"en\">\n",
       "     <body style=\"font-size: 16px; font-family: -apple-system, BlinkMacSystemFont, 'Segoe UI', Helvetica, Arial, sans-serif, 'Apple Color Emoji', 'Segoe UI Emoji', 'Segoe UI Symbol'; padding: 4rem 2rem; direction: ltr\">\n",
       "      <figure style=\"margin-bottom: 6rem\">\n",
       "       <div class=\"entities\" style=\"line-height: 2.5; direction: ltr\">\n",
       "        What is the best approach to building rapport with a customer <mark class=\"entity\" style=\"background: #bfe1d9; padding: 0.45em 0.6em; margin: 0 0.25em; line-height: 1; border-radius: 0.35em;\">Anjali Gupta <span style=\"font-size: 0.8em; font-weight: bold; line-height: 1; border-radius: 0.35em; vertical-align: middle; margin-left: 0.5rem\">Priya Sharma</span></mark>?\n",
       "       </div>\n",
       "      </figure>\n",
       "     </body>\n",
       "    </html>\n",
       "    "
      ],
      "text/plain": [
       "<IPython.core.display.HTML object>"
      ]
     },
     "metadata": {},
     "output_type": "display_data"
    },
    {
     "name": "stdout",
     "output_type": "stream",
     "text": [
      "Base Knowledge:\n"
     ]
    },
    {
     "data": {
      "text/html": [
       "\n",
       "    <!DOCTYPE html>\n",
       "    <html lang=\"en\">\n",
       "     <body style=\"font-size: 16px; font-family: -apple-system, BlinkMacSystemFont, 'Segoe UI', Helvetica, Arial, sans-serif, 'Apple Color Emoji', 'Segoe UI Emoji', 'Segoe UI Symbol'; padding: 4rem 2rem; direction: ltr\">\n",
       "      <figure style=\"margin-bottom: 6rem\">\n",
       "       <div class=\"entities\" style=\"line-height: 2.5; direction: ltr\">\n",
       "        <mark class=\"entity\" style=\"background: #bfe1d9; padding: 0.45em 0.6em; margin: 0 0.25em; line-height: 1; border-radius: 0.35em;\">Anjali Gupta <span style=\"font-size: 0.8em; font-weight: bold; line-height: 1; border-radius: 0.35em; vertical-align: middle; margin-left: 0.5rem\">Priya Sharma</span></mark> is the head of business development at a corporation in <mark class=\"entity\" style=\"background: #bfe1d9; padding: 0.45em 0.6em; margin: 0 0.25em; line-height: 1; border-radius: 0.35em;\">India <span style=\"font-size: 0.8em; font-weight: bold; line-height: 1; border-radius: 0.35em; vertical-align: middle; margin-left: 0.5rem\">Sri Lanka</span></mark>. Take into account what values this category of customers have. \n",
       "       </div>\n",
       "      </figure>\n",
       "     </body>\n",
       "    </html>\n",
       "    "
      ],
      "text/plain": [
       "<IPython.core.display.HTML object>"
      ]
     },
     "metadata": {},
     "output_type": "display_data"
    },
    {
     "name": "stdout",
     "output_type": "stream",
     "text": [
      "Postprocessed LLM response:\n"
     ]
    },
    {
     "data": {
      "text/html": [
       "\n",
       "    <!DOCTYPE html>\n",
       "    <html lang=\"en\">\n",
       "     <body style=\"font-size: 16px; font-family: -apple-system, BlinkMacSystemFont, 'Segoe UI', Helvetica, Arial, sans-serif, 'Apple Color Emoji', 'Segoe UI Emoji', 'Segoe UI Symbol'; padding: 4rem 2rem; direction: ltr\">\n",
       "      <figure style=\"margin-bottom: 6rem\">\n",
       "       <div class=\"entities\" style=\"line-height: 2.5; direction: ltr\">\n",
       "        Building rapport with <mark class=\"entity\" style=\"background: #bfe1d9; padding: 0.45em 0.6em; margin: 0 0.25em; line-height: 1; border-radius: 0.35em;\">Anjali Gupta <span style=\"font-size: 0.8em; font-weight: bold; line-height: 1; border-radius: 0.35em; vertical-align: middle; margin-left: 0.5rem\">Priya Sharma</span></mark> should involve:\n",
       "\n",
       "1. Research: When building rapport with a business-minded person like Priya, it would be beneficial to understand her industry, business, and role in-depth. This will demonstrate your interest in her work and prove you've prepared for the interaction which can go a long way in making you a reliable person in her eyes. \n",
       "\n",
       "2. Professionalism: As the head of business development, Priya is likely used to interacting in a professional manner. You should thus remain polite, punctual, and respect her busy schedule. \n",
       "\n",
       "3. Shared Values: Acknowledge the values that are likely important in her culture, considering she is based in <mark class=\"entity\" style=\"background: #bfe1d9; padding: 0.45em 0.6em; margin: 0 0.25em; line-height: 1; border-radius: 0.35em;\">India <span style=\"font-size: 0.8em; font-weight: bold; line-height: 1; border-radius: 0.35em; vertical-align: middle; margin-left: 0.5rem\">Sri Lanka</span></mark>. In Indian business culture, respect for seniority, maintaining harmonious relationships, and honoring commitments are highly valued. \n",
       "\n",
       "4. Avoiding Hard Sell Tactics: As a business development professional, Priya is likely put off by aggressive selling tactics. Ensure that the conversation does not revolve around your offerings alone, but also consider her business and its needs. \n",
       "\n",
       "5. Listen: Make her feel valued and important by listening attentively to her needs, suggestions, and concerns. \n",
       "\n",
       "6. Follow Up: Lastly, you should make sure to follow up on any discussions or commitments made during your interactions. This will show that you are dependable and increases trust in the relationship.\n",
       "       </div>\n",
       "      </figure>\n",
       "     </body>\n",
       "    </html>\n",
       "    "
      ],
      "text/plain": [
       "<IPython.core.display.HTML object>"
      ]
     },
     "metadata": {},
     "output_type": "display_data"
    },
    {
     "name": "stdout",
     "output_type": "stream",
     "text": [
      "==== CONTEXT LEVEL: 2 ====\n",
      "Question:\n"
     ]
    },
    {
     "data": {
      "text/html": [
       "\n",
       "    <!DOCTYPE html>\n",
       "    <html lang=\"en\">\n",
       "     <body style=\"font-size: 16px; font-family: -apple-system, BlinkMacSystemFont, 'Segoe UI', Helvetica, Arial, sans-serif, 'Apple Color Emoji', 'Segoe UI Emoji', 'Segoe UI Symbol'; padding: 4rem 2rem; direction: ltr\">\n",
       "      <figure style=\"margin-bottom: 6rem\">\n",
       "       <div class=\"entities\" style=\"line-height: 2.5; direction: ltr\">\n",
       "        What is the best approach to building rapport with a customer <mark class=\"entity\" style=\"background: #bfe1d9; padding: 0.45em 0.6em; margin: 0 0.25em; line-height: 1; border-radius: 0.35em;\">Anjali Gupta <span style=\"font-size: 0.8em; font-weight: bold; line-height: 1; border-radius: 0.35em; vertical-align: middle; margin-left: 0.5rem\">Nisha Kumar</span></mark>?\n",
       "       </div>\n",
       "      </figure>\n",
       "     </body>\n",
       "    </html>\n",
       "    "
      ],
      "text/plain": [
       "<IPython.core.display.HTML object>"
      ]
     },
     "metadata": {},
     "output_type": "display_data"
    },
    {
     "name": "stdout",
     "output_type": "stream",
     "text": [
      "Base Knowledge:\n"
     ]
    },
    {
     "data": {
      "text/html": [
       "\n",
       "    <!DOCTYPE html>\n",
       "    <html lang=\"en\">\n",
       "     <body style=\"font-size: 16px; font-family: -apple-system, BlinkMacSystemFont, 'Segoe UI', Helvetica, Arial, sans-serif, 'Apple Color Emoji', 'Segoe UI Emoji', 'Segoe UI Symbol'; padding: 4rem 2rem; direction: ltr\">\n",
       "      <figure style=\"margin-bottom: 6rem\">\n",
       "       <div class=\"entities\" style=\"line-height: 2.5; direction: ltr\">\n",
       "        <mark class=\"entity\" style=\"background: #bfe1d9; padding: 0.45em 0.6em; margin: 0 0.25em; line-height: 1; border-radius: 0.35em;\">Anjali Gupta <span style=\"font-size: 0.8em; font-weight: bold; line-height: 1; border-radius: 0.35em; vertical-align: middle; margin-left: 0.5rem\">Nisha Kumar</span></mark> is the head of business development at a corporation in <mark class=\"entity\" style=\"background: #bfe1d9; padding: 0.45em 0.6em; margin: 0 0.25em; line-height: 1; border-radius: 0.35em;\">India <span style=\"font-size: 0.8em; font-weight: bold; line-height: 1; border-radius: 0.35em; vertical-align: middle; margin-left: 0.5rem\">Pakistan</span></mark>. Take into account what values this category of customers have. \n",
       "       </div>\n",
       "      </figure>\n",
       "     </body>\n",
       "    </html>\n",
       "    "
      ],
      "text/plain": [
       "<IPython.core.display.HTML object>"
      ]
     },
     "metadata": {},
     "output_type": "display_data"
    },
    {
     "name": "stdout",
     "output_type": "stream",
     "text": [
      "Postprocessed LLM response:\n"
     ]
    },
    {
     "data": {
      "text/html": [
       "\n",
       "    <!DOCTYPE html>\n",
       "    <html lang=\"en\">\n",
       "     <body style=\"font-size: 16px; font-family: -apple-system, BlinkMacSystemFont, 'Segoe UI', Helvetica, Arial, sans-serif, 'Apple Color Emoji', 'Segoe UI Emoji', 'Segoe UI Symbol'; padding: 4rem 2rem; direction: ltr\">\n",
       "      <figure style=\"margin-bottom: 6rem\">\n",
       "       <div class=\"entities\" style=\"line-height: 2.5; direction: ltr\">\n",
       "        The best approach to building rapport with <mark class=\"entity\" style=\"background: #bfe1d9; padding: 0.45em 0.6em; margin: 0 0.25em; line-height: 1; border-radius: 0.35em;\">Anjali Gupta <span style=\"font-size: 0.8em; font-weight: bold; line-height: 1; border-radius: 0.35em; vertical-align: middle; margin-left: 0.5rem\">Nisha Kumar</span></mark> would involve understanding and respecting her business culture, professional standing, and personal values. Here are some steps:\n",
       "\n",
       "1. Research: Learn about the business nuances, prevalent customs and courtesies of <mark class=\"entity\" style=\"background: #bfe1d9; padding: 0.45em 0.6em; margin: 0 0.25em; line-height: 1; border-radius: 0.35em;\">India <span style=\"font-size: 0.8em; font-weight: bold; line-height: 1; border-radius: 0.35em; vertical-align: middle; margin-left: 0.5rem\">Pakistan</span></mark>. Understand the industry she works in.\n",
       "\n",
       "2. Professional Approach: Given that Nisha is a head of business development, maintain a professional, respectful, and ethical approach is essential. \n",
       "\n",
       "3. Acknowledge Her Expertise: Acknowledge her role and business acumen. Ask for her insights and opinions and validate her expertise in her field.\n",
       "\n",
       "4. Respect Time: Consider the time zone differences and plan communication at a mutually convenient time.  \n",
       "   \n",
       "5. Shared Business Values: Identify shared business values or successful collaboration examples in her industry that you can discuss.\n",
       "\n",
       "6. Follow-up: Ensure regular and timely follow-ups showing your commitment and professionalism. \n",
       "   \n",
       "7. Personalization: Personalize your interaction - remember professional information she has shared, and bring that up in ongoing conversations to show that you value the relationship.\n",
       "\n",
       "8. Transparency: Be honest and upfront in your communication. Integrity and credibility are important to build and maintain a healthy client relationship.\n",
       "  \n",
       "Remember, rapport-building is an ongoing process. It requires patience, understanding, and sincerity.\n",
       "       </div>\n",
       "      </figure>\n",
       "     </body>\n",
       "    </html>\n",
       "    "
      ],
      "text/plain": [
       "<IPython.core.display.HTML object>"
      ]
     },
     "metadata": {},
     "output_type": "display_data"
    },
    {
     "name": "stderr",
     "output_type": "stream",
     "text": [
      "Evaluating: 100%|██████████| 15/15 [00:41<00:00,  2.79s/it]\n"
     ]
    },
    {
     "data": {
      "text/html": [
       "<div>\n",
       "<style scoped>\n",
       "    .dataframe tbody tr th:only-of-type {\n",
       "        vertical-align: middle;\n",
       "    }\n",
       "\n",
       "    .dataframe tbody tr th {\n",
       "        vertical-align: top;\n",
       "    }\n",
       "\n",
       "    .dataframe thead th {\n",
       "        text-align: right;\n",
       "    }\n",
       "</style>\n",
       "<table border=\"1\" class=\"dataframe\">\n",
       "  <thead>\n",
       "    <tr style=\"text-align: right;\">\n",
       "      <th></th>\n",
       "      <th>faithfulness</th>\n",
       "      <th>answer_relevancy</th>\n",
       "      <th>context_precision</th>\n",
       "      <th>context_recall</th>\n",
       "      <th>answer_correctness</th>\n",
       "    </tr>\n",
       "  </thead>\n",
       "  <tbody>\n",
       "    <tr>\n",
       "      <th>0</th>\n",
       "      <td>0.217391</td>\n",
       "      <td>0.972329</td>\n",
       "      <td>1.0</td>\n",
       "      <td>0.375000</td>\n",
       "      <td>0.408590</td>\n",
       "    </tr>\n",
       "    <tr>\n",
       "      <th>1</th>\n",
       "      <td>0.600000</td>\n",
       "      <td>0.956276</td>\n",
       "      <td>1.0</td>\n",
       "      <td>0.466667</td>\n",
       "      <td>0.470989</td>\n",
       "    </tr>\n",
       "    <tr>\n",
       "      <th>2</th>\n",
       "      <td>0.500000</td>\n",
       "      <td>0.972329</td>\n",
       "      <td>1.0</td>\n",
       "      <td>1.000000</td>\n",
       "      <td>0.984300</td>\n",
       "    </tr>\n",
       "  </tbody>\n",
       "</table>\n",
       "</div>"
      ],
      "text/plain": [
       "   faithfulness  answer_relevancy  context_precision  context_recall  \\\n",
       "0      0.217391          0.972329                1.0        0.375000   \n",
       "1      0.600000          0.956276                1.0        0.466667   \n",
       "2      0.500000          0.972329                1.0        1.000000   \n",
       "\n",
       "   answer_correctness  \n",
       "0            0.408590  \n",
       "1            0.470989  \n",
       "2            0.984300  "
      ]
     },
     "execution_count": 14,
     "metadata": {},
     "output_type": "execute_result"
    }
   ],
   "source": [
    "from providers.openai_provider import OpenAIProvider\n",
    "from IPython.display import Markdown, display\n",
    "openai = OpenAIProvider()\n",
    "\n",
    "text = \"Anjali Gupta is the head of business development at a corporation in India. Take into account what values this category of customers have. \"\n",
    "question = \"What is the best approach to building rapport with a customer Anjali Gupta?\"\n",
    "ground_truth_response = await openai.query_llm(text+question)\n",
    "print(\"Ground truth response: \")\n",
    "display(Markdown(ground_truth_response))\n",
    "final_outputs = await analyze_context_dependency(text, question)\n",
    "\n",
    "ragas_data = create_ragas_dataset(question,\n",
    "                                        text,\n",
    "                                        ground_truth_response,\n",
    "                                        final_outputs)\n",
    "evaluation = evaluate_rag(ragas_data)\n",
    "\n",
    "pd_results = evaluation.to_pandas()\n",
    "df_dropped = pd_results.drop(pd_results.columns[:4], axis=1)\n",
    "df_dropped\n"
   ]
  },
  {
   "cell_type": "markdown",
   "metadata": {},
   "source": [
    "## Example 2 - Western Customer"
   ]
  },
  {
   "cell_type": "code",
   "execution_count": 20,
   "metadata": {},
   "outputs": [
    {
     "name": "stdout",
     "output_type": "stream",
     "text": [
      "Ground truth response: \n"
     ]
    },
    {
     "data": {
      "text/markdown": [
       "Building rapport with someone like John Smith, who is the head of business development at a Silicon Valley corporation, requires a thoughtful and strategic approach. Executives in this role often value innovation, efficiency, strategic growth opportunities, and fostering strong professional relationships. Here’s a guide on how to build rapport effectively:\n",
       "\n",
       "1. **Do Your Homework**: Before any interaction, thoroughly research John’s company and its industry. Understand its business model, recent developments, and challenges. Be aware of John’s professional background and any public contributions he has made, such as speaking engagements or publications.\n",
       "\n",
       "2. **Be Authentic and Genuine**: Authenticity is crucial. Engage in conversations that are sincere and demonstrate genuine interest in their work and success. Avoid any semblance of flattery or insincerity.\n",
       "\n",
       "3. **Highlight Shared Values**: Identify and emphasize any shared values or interests, such as a commitment to innovation, sustainability, or diversity in business practices. This can help establish common ground.\n",
       "\n",
       "4. **Offer Value**: Present insights, ideas, or opportunities that could be valuable to John and his company. This might include market trends, potential collaborations, or technologies that align with their strategic goals.\n",
       "\n",
       "5. **Listen Actively**: Practice active listening to understand John’s priorities, concerns, and business objectives. This will help tailor your conversation and offer relevant solutions.\n",
       "\n",
       "6. **Be Technologically Savvy**: Demonstrating an understanding of the latest technology trends and how they could impact or benefit his business shows credibility and relevance, particularly in the fast-moving Silicon Valley environment.\n",
       "\n",
       "7. **Build Through Networking**: If possible, connect through a mutual acquaintance or attend industry events where John might be present. Leverage professional networks like LinkedIn to facilitate a warm introduction.\n",
       "\n",
       "8. **Be Respectful of Time**: Acknowledge the value of time and keep communications concise and to the point. Show that you respect his busy schedule by being punctual and prepared for meetings or calls.\n",
       "\n",
       "9. **Follow-Up Thoughtfully**: After an initial meeting or call, send a follow-up note summarizing key points discussed, expressing gratitude for the opportunity to connect, and suggesting potential next steps or additional value you can provide.\n",
       "\n",
       "10. **Maintain Integrity**: Always maintain a high degree of integrity in all interactions. Trust is critical in building and maintaining professional relationships, especially at the executive level.\n",
       "\n",
       "By combining these strategies, you can build a strong rapport with John Smith, demonstrating that you are a trusted partner invested in mutual success."
      ],
      "text/plain": [
       "<IPython.core.display.Markdown object>"
      ]
     },
     "metadata": {},
     "output_type": "display_data"
    },
    {
     "name": "stderr",
     "output_type": "stream",
     "text": [
      "/Users/lilianahotsko/Desktop/LLMAnonymizationThesis/.venv/lib/python3.11/site-packages/spacy/util.py:910: UserWarning: [W095] Model 'en_core_web_sm' (3.2.0) was trained with spaCy v3.2.0 and may not be 100% compatible with the current version (3.8.4). If you see errors or degraded performance, download a newer compatible model or retrain your custom model with the current spaCy version. For more details and available updates, run: python -m spacy validate\n",
      "  warnings.warn(warn_msg)\n"
     ]
    },
    {
     "name": "stdout",
     "output_type": "stream",
     "text": [
      "==== CONTEXT LEVEL: 0 ====\n",
      "Question:\n"
     ]
    },
    {
     "data": {
      "text/html": [
       "\n",
       "    <!DOCTYPE html>\n",
       "    <html lang=\"en\">\n",
       "     <body style=\"font-size: 16px; font-family: -apple-system, BlinkMacSystemFont, 'Segoe UI', Helvetica, Arial, sans-serif, 'Apple Color Emoji', 'Segoe UI Emoji', 'Segoe UI Symbol'; padding: 4rem 2rem; direction: ltr\">\n",
       "      <figure style=\"margin-bottom: 6rem\">\n",
       "       <div class=\"entities\" style=\"line-height: 2.5; direction: ltr\">\n",
       "        What is the best approach to building rapport with a customer <mark class=\"entity\" style=\"background: #bfe1d9; padding: 0.45em 0.6em; margin: 0 0.25em; line-height: 1; border-radius: 0.35em;\">John Smith <span style=\"font-size: 0.8em; font-weight: bold; line-height: 1; border-radius: 0.35em; vertical-align: middle; margin-left: 0.5rem\">[PERSON_0]</span></mark>?\n",
       "       </div>\n",
       "      </figure>\n",
       "     </body>\n",
       "    </html>\n",
       "    "
      ],
      "text/plain": [
       "<IPython.core.display.HTML object>"
      ]
     },
     "metadata": {},
     "output_type": "display_data"
    },
    {
     "name": "stdout",
     "output_type": "stream",
     "text": [
      "Base Knowledge:\n"
     ]
    },
    {
     "data": {
      "text/html": [
       "\n",
       "    <!DOCTYPE html>\n",
       "    <html lang=\"en\">\n",
       "     <body style=\"font-size: 16px; font-family: -apple-system, BlinkMacSystemFont, 'Segoe UI', Helvetica, Arial, sans-serif, 'Apple Color Emoji', 'Segoe UI Emoji', 'Segoe UI Symbol'; padding: 4rem 2rem; direction: ltr\">\n",
       "      <figure style=\"margin-bottom: 6rem\">\n",
       "       <div class=\"entities\" style=\"line-height: 2.5; direction: ltr\">\n",
       "        <mark class=\"entity\" style=\"background: #bfe1d9; padding: 0.45em 0.6em; margin: 0 0.25em; line-height: 1; border-radius: 0.35em;\">John Smith <span style=\"font-size: 0.8em; font-weight: bold; line-height: 1; border-radius: 0.35em; vertical-align: middle; margin-left: 0.5rem\">[PERSON_0]</span></mark> is the head of business development at a corporation in <mark class=\"entity\" style=\"background: #bfe1d9; padding: 0.45em 0.6em; margin: 0 0.25em; line-height: 1; border-radius: 0.35em;\">Silicon Valley <span style=\"font-size: 0.8em; font-weight: bold; line-height: 1; border-radius: 0.35em; vertical-align: middle; margin-left: 0.5rem\">[LOC_1]</span></mark>. Take into account what values this category of customers have. \n",
       "       </div>\n",
       "      </figure>\n",
       "     </body>\n",
       "    </html>\n",
       "    "
      ],
      "text/plain": [
       "<IPython.core.display.HTML object>"
      ]
     },
     "metadata": {},
     "output_type": "display_data"
    },
    {
     "name": "stdout",
     "output_type": "stream",
     "text": [
      "Postprocessed LLM response:\n"
     ]
    },
    {
     "data": {
      "text/html": [
       "\n",
       "    <!DOCTYPE html>\n",
       "    <html lang=\"en\">\n",
       "     <body style=\"font-size: 16px; font-family: -apple-system, BlinkMacSystemFont, 'Segoe UI', Helvetica, Arial, sans-serif, 'Apple Color Emoji', 'Segoe UI Emoji', 'Segoe UI Symbol'; padding: 4rem 2rem; direction: ltr\">\n",
       "      <figure style=\"margin-bottom: 6rem\">\n",
       "       <div class=\"entities\" style=\"line-height: 2.5; direction: ltr\">\n",
       "        1. Research <mark class=\"entity\" style=\"background: #bfe1d9; padding: 0.45em 0.6em; margin: 0 0.25em; line-height: 1; border-radius: 0.35em;\">John Smith <span style=\"font-size: 0.8em; font-weight: bold; line-height: 1; border-radius: 0.35em; vertical-align: middle; margin-left: 0.5rem\">[PERSON_0]</span></mark> and <mark class=\"entity\" style=\"background: #bfe1d9; padding: 0.45em 0.6em; margin: 0 0.25em; line-height: 1; border-radius: 0.35em;\">Silicon Valley <span style=\"font-size: 0.8em; font-weight: bold; line-height: 1; border-radius: 0.35em; vertical-align: middle; margin-left: 0.5rem\">[LOC_1]</span></mark>: Start by doing some research about <mark class=\"entity\" style=\"background: #bfe1d9; padding: 0.45em 0.6em; margin: 0 0.25em; line-height: 1; border-radius: 0.35em;\">John Smith <span style=\"font-size: 0.8em; font-weight: bold; line-height: 1; border-radius: 0.35em; vertical-align: middle; margin-left: 0.5rem\">[PERSON_0]</span></mark> and his/her corporation as well as the business environment in <mark class=\"entity\" style=\"background: #bfe1d9; padding: 0.45em 0.6em; margin: 0 0.25em; line-height: 1; border-radius: 0.35em;\">Silicon Valley <span style=\"font-size: 0.8em; font-weight: bold; line-height: 1; border-radius: 0.35em; vertical-align: middle; margin-left: 0.5rem\">[LOC_1]</span></mark>. This will give you some background information about what matters to them.\n",
       "\n",
       "2. Understand their Values: It is essential to understand what values business development leaders like <mark class=\"entity\" style=\"background: #bfe1d9; padding: 0.45em 0.6em; margin: 0 0.25em; line-height: 1; border-radius: 0.35em;\">John Smith <span style=\"font-size: 0.8em; font-weight: bold; line-height: 1; border-radius: 0.35em; vertical-align: middle; margin-left: 0.5rem\">[PERSON_0]</span></mark> hold. Usually, they value efficiency, results, innovative ideas, and good communication.\n",
       "\n",
       "3. Show Expertise and Credibility: Always communicate with confidence and show that you are knowledgeable in your field. This will help you build trust with <mark class=\"entity\" style=\"background: #bfe1d9; padding: 0.45em 0.6em; margin: 0 0.25em; line-height: 1; border-radius: 0.35em;\">John Smith <span style=\"font-size: 0.8em; font-weight: bold; line-height: 1; border-radius: 0.35em; vertical-align: middle; margin-left: 0.5rem\">[PERSON_0]</span></mark>.\n",
       "\n",
       "4. Be professional: Maintain professionalism in every interaction. Respect their time and always follow through on commitments.\n",
       "\n",
       "5. Demonstrate empathy: Understand and respect <mark class=\"entity\" style=\"background: #bfe1d9; padding: 0.45em 0.6em; margin: 0 0.25em; line-height: 1; border-radius: 0.35em;\">John Smith <span style=\"font-size: 0.8em; font-weight: bold; line-height: 1; border-radius: 0.35em; vertical-align: middle; margin-left: 0.5rem\">[PERSON_0]</span></mark>'s viewpoints and challenges. This will make <mark class=\"entity\" style=\"background: #bfe1d9; padding: 0.45em 0.6em; margin: 0 0.25em; line-height: 1; border-radius: 0.35em;\">John Smith <span style=\"font-size: 0.8em; font-weight: bold; line-height: 1; border-radius: 0.35em; vertical-align: middle; margin-left: 0.5rem\">[PERSON_0]</span></mark> feel more connected and understood by you.\n",
       "\n",
       "6. Understand and Meet their Needs: Find out what <mark class=\"entity\" style=\"background: #bfe1d9; padding: 0.45em 0.6em; margin: 0 0.25em; line-height: 1; border-radius: 0.35em;\">John Smith <span style=\"font-size: 0.8em; font-weight: bold; line-height: 1; border-radius: 0.35em; vertical-align: middle; margin-left: 0.5rem\">[PERSON_0]</span></mark>'s goals and challenges are, and then present ways in which your product or service can address those needs.\n",
       "\n",
       "7. Effective Communication: Ensure to listen more than you speak, this helps to understand <mark class=\"entity\" style=\"background: #bfe1d9; padding: 0.45em 0.6em; margin: 0 0.25em; line-height: 1; border-radius: 0.35em;\">John Smith <span style=\"font-size: 0.8em; font-weight: bold; line-height: 1; border-radius: 0.35em; vertical-align: middle; margin-left: 0.5rem\">[PERSON_0]</span></mark> better and provide a solution that best suits their needs. Maintain clear and concise communication.\n",
       "\n",
       "8. Build a Personal Connection: If appropriate, try to find commonality on a personal level can help create a stronger bond. \n",
       "\n",
       "9. Follow-up Regularly: Make sure to check in with <mark class=\"entity\" style=\"background: #bfe1d9; padding: 0.45em 0.6em; margin: 0 0.25em; line-height: 1; border-radius: 0.35em;\">John Smith <span style=\"font-size: 0.8em; font-weight: bold; line-height: 1; border-radius: 0.35em; vertical-align: middle; margin-left: 0.5rem\">[PERSON_0]</span></mark> on a regular basis, not only when you need something. This helps to maintain a positive long-term relationship.\n",
       "\n",
       "10. Stay Helpful: Always provide assistance when needed and be the problem solver. This shows that you care and are reliable. \n",
       "\n",
       "Each approach should be tailored to <mark class=\"entity\" style=\"background: #bfe1d9; padding: 0.45em 0.6em; margin: 0 0.25em; line-height: 1; border-radius: 0.35em;\">John Smith <span style=\"font-size: 0.8em; font-weight: bold; line-height: 1; border-radius: 0.35em; vertical-align: middle; margin-left: 0.5rem\">[PERSON_0]</span></mark>'s specific needs and preferences to create a strong rapport.\n",
       "       </div>\n",
       "      </figure>\n",
       "     </body>\n",
       "    </html>\n",
       "    "
      ],
      "text/plain": [
       "<IPython.core.display.HTML object>"
      ]
     },
     "metadata": {},
     "output_type": "display_data"
    },
    {
     "name": "stdout",
     "output_type": "stream",
     "text": [
      "==== CONTEXT LEVEL: 1 ====\n",
      "Question:\n"
     ]
    },
    {
     "data": {
      "text/html": [
       "\n",
       "    <!DOCTYPE html>\n",
       "    <html lang=\"en\">\n",
       "     <body style=\"font-size: 16px; font-family: -apple-system, BlinkMacSystemFont, 'Segoe UI', Helvetica, Arial, sans-serif, 'Apple Color Emoji', 'Segoe UI Emoji', 'Segoe UI Symbol'; padding: 4rem 2rem; direction: ltr\">\n",
       "      <figure style=\"margin-bottom: 6rem\">\n",
       "       <div class=\"entities\" style=\"line-height: 2.5; direction: ltr\">\n",
       "        What is the best approach to building rapport with a customer <mark class=\"entity\" style=\"background: #bfe1d9; padding: 0.45em 0.6em; margin: 0 0.25em; line-height: 1; border-radius: 0.35em;\">John Smith <span style=\"font-size: 0.8em; font-weight: bold; line-height: 1; border-radius: 0.35em; vertical-align: middle; margin-left: 0.5rem\">Michael Brown</span></mark>?\n",
       "       </div>\n",
       "      </figure>\n",
       "     </body>\n",
       "    </html>\n",
       "    "
      ],
      "text/plain": [
       "<IPython.core.display.HTML object>"
      ]
     },
     "metadata": {},
     "output_type": "display_data"
    },
    {
     "name": "stdout",
     "output_type": "stream",
     "text": [
      "Base Knowledge:\n"
     ]
    },
    {
     "data": {
      "text/html": [
       "\n",
       "    <!DOCTYPE html>\n",
       "    <html lang=\"en\">\n",
       "     <body style=\"font-size: 16px; font-family: -apple-system, BlinkMacSystemFont, 'Segoe UI', Helvetica, Arial, sans-serif, 'Apple Color Emoji', 'Segoe UI Emoji', 'Segoe UI Symbol'; padding: 4rem 2rem; direction: ltr\">\n",
       "      <figure style=\"margin-bottom: 6rem\">\n",
       "       <div class=\"entities\" style=\"line-height: 2.5; direction: ltr\">\n",
       "        <mark class=\"entity\" style=\"background: #bfe1d9; padding: 0.45em 0.6em; margin: 0 0.25em; line-height: 1; border-radius: 0.35em;\">John Smith <span style=\"font-size: 0.8em; font-weight: bold; line-height: 1; border-radius: 0.35em; vertical-align: middle; margin-left: 0.5rem\">Michael Brown</span></mark> is the head of business development at a corporation in <mark class=\"entity\" style=\"background: #bfe1d9; padding: 0.45em 0.6em; margin: 0 0.25em; line-height: 1; border-radius: 0.35em;\">Silicon Valley <span style=\"font-size: 0.8em; font-weight: bold; line-height: 1; border-radius: 0.35em; vertical-align: middle; margin-left: 0.5rem\">Austin</span></mark>. Take into account what values this category of customers have. \n",
       "       </div>\n",
       "      </figure>\n",
       "     </body>\n",
       "    </html>\n",
       "    "
      ],
      "text/plain": [
       "<IPython.core.display.HTML object>"
      ]
     },
     "metadata": {},
     "output_type": "display_data"
    },
    {
     "name": "stdout",
     "output_type": "stream",
     "text": [
      "Postprocessed LLM response:\n"
     ]
    },
    {
     "data": {
      "text/html": [
       "\n",
       "    <!DOCTYPE html>\n",
       "    <html lang=\"en\">\n",
       "     <body style=\"font-size: 16px; font-family: -apple-system, BlinkMacSystemFont, 'Segoe UI', Helvetica, Arial, sans-serif, 'Apple Color Emoji', 'Segoe UI Emoji', 'Segoe UI Symbol'; padding: 4rem 2rem; direction: ltr\">\n",
       "      <figure style=\"margin-bottom: 6rem\">\n",
       "       <div class=\"entities\" style=\"line-height: 2.5; direction: ltr\">\n",
       "        Approach to build rapport with <mark class=\"entity\" style=\"background: #bfe1d9; padding: 0.45em 0.6em; margin: 0 0.25em; line-height: 1; border-radius: 0.35em;\">John Smith <span style=\"font-size: 0.8em; font-weight: bold; line-height: 1; border-radius: 0.35em; vertical-align: middle; margin-left: 0.5rem\">Michael Brown</span></mark> could include:\n",
       "\n",
       "1. Professional Interaction: As Michael is the head of business development, ensuring all interactions are professional, concise and valuable would be appreciated. Meeting agendas or call objectives should be clear.\n",
       "\n",
       "2. Business understanding: Demonstrating a good understanding of his industry and company could be helpful in building trust. Keep up to date with the latest news and trends in his industry.\n",
       "\n",
       "3. Acknowledge his role: Acknowledging the responsibility and challenges of his role can show empathy, and discussing how your product or service can support him within that role could be beneficial.\n",
       "\n",
       "4. Be genuine: Authentic conversation and showing genuine interests in his career and his business could also help build rapport.\n",
       "\n",
       "5. Honesty and Transparency: This category of customers value reliable partners who are open about their capabilities and their limitations. \n",
       "\n",
       "6. Timely service: Make sure to respond to his inquiries promptly and provide services on time as they value punctuality and respect for their time.\n",
       "\n",
       "7. Provide Value: Always look for opportunities to add value, be it through sharing industry insights, providing guidance or helping him solve business challenges.\n",
       "\n",
       "8. Regular Follow-ups: Continually connect with him through emails, calls, or meetings and consistently follow-up to keep the conversation ongoing.\n",
       "\n",
       "Each approach should be tailored to his needs and preferences once they become clear after initial conversations. Showing respect for his time, providing valuable contributions and maintaining a base level of professionalism and reliability are key.\n",
       "       </div>\n",
       "      </figure>\n",
       "     </body>\n",
       "    </html>\n",
       "    "
      ],
      "text/plain": [
       "<IPython.core.display.HTML object>"
      ]
     },
     "metadata": {},
     "output_type": "display_data"
    },
    {
     "name": "stdout",
     "output_type": "stream",
     "text": [
      "==== CONTEXT LEVEL: 2 ====\n",
      "Question:\n"
     ]
    },
    {
     "data": {
      "text/html": [
       "\n",
       "    <!DOCTYPE html>\n",
       "    <html lang=\"en\">\n",
       "     <body style=\"font-size: 16px; font-family: -apple-system, BlinkMacSystemFont, 'Segoe UI', Helvetica, Arial, sans-serif, 'Apple Color Emoji', 'Segoe UI Emoji', 'Segoe UI Symbol'; padding: 4rem 2rem; direction: ltr\">\n",
       "      <figure style=\"margin-bottom: 6rem\">\n",
       "       <div class=\"entities\" style=\"line-height: 2.5; direction: ltr\">\n",
       "        What is the best approach to building rapport with a customer <mark class=\"entity\" style=\"background: #bfe1d9; padding: 0.45em 0.6em; margin: 0 0.25em; line-height: 1; border-radius: 0.35em;\">John Smith <span style=\"font-size: 0.8em; font-weight: bold; line-height: 1; border-radius: 0.35em; vertical-align: middle; margin-left: 0.5rem\">\"Michael Johnson\"</span></mark>?\n",
       "       </div>\n",
       "      </figure>\n",
       "     </body>\n",
       "    </html>\n",
       "    "
      ],
      "text/plain": [
       "<IPython.core.display.HTML object>"
      ]
     },
     "metadata": {},
     "output_type": "display_data"
    },
    {
     "name": "stdout",
     "output_type": "stream",
     "text": [
      "Base Knowledge:\n"
     ]
    },
    {
     "data": {
      "text/html": [
       "\n",
       "    <!DOCTYPE html>\n",
       "    <html lang=\"en\">\n",
       "     <body style=\"font-size: 16px; font-family: -apple-system, BlinkMacSystemFont, 'Segoe UI', Helvetica, Arial, sans-serif, 'Apple Color Emoji', 'Segoe UI Emoji', 'Segoe UI Symbol'; padding: 4rem 2rem; direction: ltr\">\n",
       "      <figure style=\"margin-bottom: 6rem\">\n",
       "       <div class=\"entities\" style=\"line-height: 2.5; direction: ltr\">\n",
       "        <mark class=\"entity\" style=\"background: #bfe1d9; padding: 0.45em 0.6em; margin: 0 0.25em; line-height: 1; border-radius: 0.35em;\">John Smith <span style=\"font-size: 0.8em; font-weight: bold; line-height: 1; border-radius: 0.35em; vertical-align: middle; margin-left: 0.5rem\">\"Michael Johnson\"</span></mark> is the head of business development at a corporation in <mark class=\"entity\" style=\"background: #bfe1d9; padding: 0.45em 0.6em; margin: 0 0.25em; line-height: 1; border-radius: 0.35em;\">Silicon Valley <span style=\"font-size: 0.8em; font-weight: bold; line-height: 1; border-radius: 0.35em; vertical-align: middle; margin-left: 0.5rem\">San Francisco Bay Area</span></mark>. Take into account what values this category of customers have. \n",
       "       </div>\n",
       "      </figure>\n",
       "     </body>\n",
       "    </html>\n",
       "    "
      ],
      "text/plain": [
       "<IPython.core.display.HTML object>"
      ]
     },
     "metadata": {},
     "output_type": "display_data"
    },
    {
     "name": "stdout",
     "output_type": "stream",
     "text": [
      "Postprocessed LLM response:\n"
     ]
    },
    {
     "data": {
      "text/html": [
       "\n",
       "    <!DOCTYPE html>\n",
       "    <html lang=\"en\">\n",
       "     <body style=\"font-size: 16px; font-family: -apple-system, BlinkMacSystemFont, 'Segoe UI', Helvetica, Arial, sans-serif, 'Apple Color Emoji', 'Segoe UI Emoji', 'Segoe UI Symbol'; padding: 4rem 2rem; direction: ltr\">\n",
       "      <figure style=\"margin-bottom: 6rem\">\n",
       "       <div class=\"entities\" style=\"line-height: 2.5; direction: ltr\">\n",
       "        Building rapport with Michael Johnson involves a multi-faceted approach. \n",
       "\n",
       "1. Understand his Business: As a head of business development, Michael would appreciate if you understand his business' needs and challenges. Research his company, industry trends, and past initiatives.\n",
       "\n",
       "2. Incorporate his Values: Michael likely values innovation, growth, profitability, and industry leadership since he is based in the competitive <mark class=\"entity\" style=\"background: #bfe1d9; padding: 0.45em 0.6em; margin: 0 0.25em; line-height: 1; border-radius: 0.35em;\">Silicon Valley <span style=\"font-size: 0.8em; font-weight: bold; line-height: 1; border-radius: 0.35em; vertical-align: middle; margin-left: 0.5rem\">San Francisco Bay Area</span></mark>. Whenever possible, incorporate these values into your conversations.\n",
       "\n",
       "3. Be a Business Partner: Position yourself not just as a service provider but as a business partner. Show him that you are genuinely interested in supporting his business. Discuss how your product or service can solve his pain points or add value to his operations.\n",
       "\n",
       "4. Be Professional and Respectful: Always be respectful of his time and responsibilities. Be punctual during meetings, concise in your communication, and professional in your dealings. \n",
       "\n",
       "5. Personalize Communication: Personal rights never fail to impress customers. Try to get to know his personal interests outside of work to help foster a deeper connection. \n",
       "\n",
       "6. Show Integrity and Consistency: Deliver on your promises and be accountable for your service. Consistency is key to earn his trust.\n",
       "\n",
       "7. Seek Feedback: Ask for his feedback and not just for commercial interests. This will show that you genuinely care about his needs and are open to improvement.\n",
       "\n",
       "8. Growth-oriented conversations: Discuss future growth strategies and initiatives. Share insights from your own experiences that could spark new ideas for him.\n",
       "\n",
       "Remember that building rapport takes time, patience, and sincerity. Make sure you're ready for a long-term commitment to garner trust and building a solid business relationship with Michael.\n",
       "       </div>\n",
       "      </figure>\n",
       "     </body>\n",
       "    </html>\n",
       "    "
      ],
      "text/plain": [
       "<IPython.core.display.HTML object>"
      ]
     },
     "metadata": {},
     "output_type": "display_data"
    },
    {
     "name": "stderr",
     "output_type": "stream",
     "text": [
      "Evaluating: 100%|██████████| 15/15 [00:54<00:00,  3.62s/it]\n"
     ]
    },
    {
     "data": {
      "text/html": [
       "<div>\n",
       "<style scoped>\n",
       "    .dataframe tbody tr th:only-of-type {\n",
       "        vertical-align: middle;\n",
       "    }\n",
       "\n",
       "    .dataframe tbody tr th {\n",
       "        vertical-align: top;\n",
       "    }\n",
       "\n",
       "    .dataframe thead th {\n",
       "        text-align: right;\n",
       "    }\n",
       "</style>\n",
       "<table border=\"1\" class=\"dataframe\">\n",
       "  <thead>\n",
       "    <tr style=\"text-align: right;\">\n",
       "      <th></th>\n",
       "      <th>faithfulness</th>\n",
       "      <th>answer_relevancy</th>\n",
       "      <th>context_precision</th>\n",
       "      <th>context_recall</th>\n",
       "      <th>answer_correctness</th>\n",
       "    </tr>\n",
       "  </thead>\n",
       "  <tbody>\n",
       "    <tr>\n",
       "      <th>0</th>\n",
       "      <td>0.0</td>\n",
       "      <td>0.909511</td>\n",
       "      <td>1.0</td>\n",
       "      <td>0.153846</td>\n",
       "      <td>0.546293</td>\n",
       "    </tr>\n",
       "    <tr>\n",
       "      <th>1</th>\n",
       "      <td>1.0</td>\n",
       "      <td>0.959563</td>\n",
       "      <td>1.0</td>\n",
       "      <td>0.153846</td>\n",
       "      <td>0.407244</td>\n",
       "    </tr>\n",
       "    <tr>\n",
       "      <th>2</th>\n",
       "      <td>0.0</td>\n",
       "      <td>0.897696</td>\n",
       "      <td>1.0</td>\n",
       "      <td>0.153846</td>\n",
       "      <td>0.454730</td>\n",
       "    </tr>\n",
       "  </tbody>\n",
       "</table>\n",
       "</div>"
      ],
      "text/plain": [
       "   faithfulness  answer_relevancy  context_precision  context_recall  \\\n",
       "0           0.0          0.909511                1.0        0.153846   \n",
       "1           1.0          0.959563                1.0        0.153846   \n",
       "2           0.0          0.897696                1.0        0.153846   \n",
       "\n",
       "   answer_correctness  \n",
       "0            0.546293  \n",
       "1            0.407244  \n",
       "2            0.454730  "
      ]
     },
     "execution_count": 20,
     "metadata": {},
     "output_type": "execute_result"
    }
   ],
   "source": [
    "from providers.openai_provider import OpenAIProvider\n",
    "from IPython.display import Markdown, display\n",
    "openai = OpenAIProvider()\n",
    "\n",
    "text = \"John Smith is the head of business development at a corporation in Silicon Valley. Take into account what values this category of customers have. \"\n",
    "question = \"What is the best approach to building rapport with a customer John Smith?\"\n",
    "ground_truth_response = await openai.query_llm(text+question)\n",
    "print(\"Ground truth response: \")\n",
    "display(Markdown(ground_truth_response))\n",
    "final_outputs = await analyze_context_dependency(text, question)\n",
    "\n",
    "ragas_data = create_ragas_dataset(question,\n",
    "                                        text,\n",
    "                                        ground_truth_response,\n",
    "                                        final_outputs)\n",
    "evaluation = evaluate_rag(ragas_data)\n",
    "\n",
    "pd_results = evaluation.to_pandas()\n",
    "df_dropped = pd_results.drop(pd_results.columns[:4], axis=1)\n",
    "df_dropped\n"
   ]
  },
  {
   "cell_type": "code",
   "execution_count": 21,
   "metadata": {},
   "outputs": [
    {
     "name": "stdout",
     "output_type": "stream",
     "text": [
      "Ground truth response: \n"
     ]
    },
    {
     "data": {
      "text/markdown": [
       "Building rapport with a customer like John Smith, who is the head of business development at a Silicon Valley corporation, involves understanding his professional values and the business environment he operates in. People in such roles typically appreciate efficiency, innovation, and strong results-oriented relationships. Here are some tailored strategies to effectively build rapport with him:\n",
       "\n",
       "1. **Understand Industry Trends**: Demonstrate knowledge about the latest trends in technology and business development. This shows that you are engaged and knowledgeable about the environment he operates in.\n",
       "\n",
       "2. **Focus on Value**: Clearly articulate the value your product or service brings to his business. Be prepared to discuss ROI, growth potential, or problem-solving capabilities that align with his company's goals.\n",
       "\n",
       "3. **Be Efficient and Respectful of Time**: Silicon Valley professionals often have packed schedules. Be concise in your communication and ensure meetings or proposals are efficient and to the point.\n",
       "\n",
       "4. **Demonstrate Credibility**: Leverage any relevant experience or partnerships you have within the tech industry. Sharing success stories or case studies can establish your credibility quickly.\n",
       "\n",
       "5. **Engage in Solution-Oriented Conversations**: Focus discussions on solutions that address his business challenges. Be prepared with insights and examples of how your offering can distinctively solve problems.\n",
       "\n",
       "6. **Build a Personal Connection**: While maintaining professionalism, find common ground on shared interests or mutual connections that extend beyond business. This could be about industry-related hobbies or broader Silicon Valley-related events.\n",
       "\n",
       "7. **Highlight Innovation**: Silicon Valley values innovation, so emphasize how your product or service is unique or how it leverages cutting-edge technology.\n",
       "\n",
       "8. **Follow Up Thoughtfully**: After any interaction, a thoughtful follow-up email or message can help reinforce your conversation. Recap key points and outline next steps to keep the momentum going.\n",
       "\n",
       "9. **Show Long-term Dedication**: Express your interest in building a long-lasting partnership rather than a transactional relationship. This indicates your commitment to supporting his organization's long-term success.\n",
       "\n",
       "By aligning your approach with these strategies, you can effectively build rapport with John Smith and foster a strong professional relationship."
      ],
      "text/plain": [
       "<IPython.core.display.Markdown object>"
      ]
     },
     "metadata": {},
     "output_type": "display_data"
    },
    {
     "name": "stderr",
     "output_type": "stream",
     "text": [
      "/Users/lilianahotsko/Desktop/LLMAnonymizationThesis/.venv/lib/python3.11/site-packages/spacy/util.py:910: UserWarning: [W095] Model 'en_core_web_sm' (3.2.0) was trained with spaCy v3.2.0 and may not be 100% compatible with the current version (3.8.4). If you see errors or degraded performance, download a newer compatible model or retrain your custom model with the current spaCy version. For more details and available updates, run: python -m spacy validate\n",
      "  warnings.warn(warn_msg)\n"
     ]
    },
    {
     "name": "stdout",
     "output_type": "stream",
     "text": [
      "==== CONTEXT LEVEL: 0 ====\n",
      "Question:\n"
     ]
    },
    {
     "data": {
      "text/html": [
       "\n",
       "    <!DOCTYPE html>\n",
       "    <html lang=\"en\">\n",
       "     <body style=\"font-size: 16px; font-family: -apple-system, BlinkMacSystemFont, 'Segoe UI', Helvetica, Arial, sans-serif, 'Apple Color Emoji', 'Segoe UI Emoji', 'Segoe UI Symbol'; padding: 4rem 2rem; direction: ltr\">\n",
       "      <figure style=\"margin-bottom: 6rem\">\n",
       "       <div class=\"entities\" style=\"line-height: 2.5; direction: ltr\">\n",
       "        What is the best approach to building rapport with a customer <mark class=\"entity\" style=\"background: #bfe1d9; padding: 0.45em 0.6em; margin: 0 0.25em; line-height: 1; border-radius: 0.35em;\">John Smith <span style=\"font-size: 0.8em; font-weight: bold; line-height: 1; border-radius: 0.35em; vertical-align: middle; margin-left: 0.5rem\">[PERSON_0]</span></mark>?\n",
       "       </div>\n",
       "      </figure>\n",
       "     </body>\n",
       "    </html>\n",
       "    "
      ],
      "text/plain": [
       "<IPython.core.display.HTML object>"
      ]
     },
     "metadata": {},
     "output_type": "display_data"
    },
    {
     "name": "stdout",
     "output_type": "stream",
     "text": [
      "Base Knowledge:\n"
     ]
    },
    {
     "data": {
      "text/html": [
       "\n",
       "    <!DOCTYPE html>\n",
       "    <html lang=\"en\">\n",
       "     <body style=\"font-size: 16px; font-family: -apple-system, BlinkMacSystemFont, 'Segoe UI', Helvetica, Arial, sans-serif, 'Apple Color Emoji', 'Segoe UI Emoji', 'Segoe UI Symbol'; padding: 4rem 2rem; direction: ltr\">\n",
       "      <figure style=\"margin-bottom: 6rem\">\n",
       "       <div class=\"entities\" style=\"line-height: 2.5; direction: ltr\">\n",
       "        <mark class=\"entity\" style=\"background: #bfe1d9; padding: 0.45em 0.6em; margin: 0 0.25em; line-height: 1; border-radius: 0.35em;\">John Smith <span style=\"font-size: 0.8em; font-weight: bold; line-height: 1; border-radius: 0.35em; vertical-align: middle; margin-left: 0.5rem\">[PERSON_0]</span></mark> is the head of business development at a corporation in <mark class=\"entity\" style=\"background: #bfe1d9; padding: 0.45em 0.6em; margin: 0 0.25em; line-height: 1; border-radius: 0.35em;\">Silicon Valley <span style=\"font-size: 0.8em; font-weight: bold; line-height: 1; border-radius: 0.35em; vertical-align: middle; margin-left: 0.5rem\">[LOC_1]</span></mark>. Take into account what values this category of customers have. \n",
       "       </div>\n",
       "      </figure>\n",
       "     </body>\n",
       "    </html>\n",
       "    "
      ],
      "text/plain": [
       "<IPython.core.display.HTML object>"
      ]
     },
     "metadata": {},
     "output_type": "display_data"
    },
    {
     "name": "stdout",
     "output_type": "stream",
     "text": [
      "Postprocessed LLM response:\n"
     ]
    },
    {
     "data": {
      "text/html": [
       "\n",
       "    <!DOCTYPE html>\n",
       "    <html lang=\"en\">\n",
       "     <body style=\"font-size: 16px; font-family: -apple-system, BlinkMacSystemFont, 'Segoe UI', Helvetica, Arial, sans-serif, 'Apple Color Emoji', 'Segoe UI Emoji', 'Segoe UI Symbol'; padding: 4rem 2rem; direction: ltr\">\n",
       "      <figure style=\"margin-bottom: 6rem\">\n",
       "       <div class=\"entities\" style=\"line-height: 2.5; direction: ltr\">\n",
       "        The best approach to build rapport with <mark class=\"entity\" style=\"background: #bfe1d9; padding: 0.45em 0.6em; margin: 0 0.25em; line-height: 1; border-radius: 0.35em;\">John Smith <span style=\"font-size: 0.8em; font-weight: bold; line-height: 1; border-radius: 0.35em; vertical-align: middle; margin-left: 0.5rem\">[PERSON_0]</span></mark> would involve several steps:\n",
       "\n",
       "1. Respect their Time: Business development heads are typically quite busy. Make sure your meetings are short, concise, and valuable. \n",
       "\n",
       "2. Understand Their Needs: Learn about the industry in which their business operates. Having this understanding can show <mark class=\"entity\" style=\"background: #bfe1d9; padding: 0.45em 0.6em; margin: 0 0.25em; line-height: 1; border-radius: 0.35em;\">John Smith <span style=\"font-size: 0.8em; font-weight: bold; line-height: 1; border-radius: 0.35em; vertical-align: middle; margin-left: 0.5rem\">[PERSON_0]</span></mark> that you care about their work and are willing to make thoughtful suggestions to help their business grow.\n",
       "\n",
       "3. Show Credibility: Demonstrate your knowledge, expertise and your company's capabilities. Be clear about how your product or service can solve problems they may be facing or add value to their business.\n",
       "\n",
       "4. Professionalism: Always be professional in your communication. Precision and clarity in your speech will go a long way in convincing them of your competence.\n",
       "\n",
       "5. Find Common Grounds: If possible, try to find something in common with them, this can be a shared interest, hobby or background, and use this to build a personal connection.\n",
       "\n",
       "6. Acknowledge their Success: Appreciate their position and the success their business has achieved. This will reflect your admiration for their work.\n",
       "\n",
       "7. Follow Up: Maintain regular contact with them, as this shows commitment and dedication. Make sure your follow-ups are informative and beneficial to them. \n",
       "\n",
       "8. Embody the Values they Respect: If the corporation values innovation, demonstrate how you also prioritize innovation in your work. If they value social responsibility, share your company's CSR initiatives.\n",
       "\n",
       "Remember to maintain a balance between professional interactions and personal connections, ensuring <mark class=\"entity\" style=\"background: #bfe1d9; padding: 0.45em 0.6em; margin: 0 0.25em; line-height: 1; border-radius: 0.35em;\">John Smith <span style=\"font-size: 0.8em; font-weight: bold; line-height: 1; border-radius: 0.35em; vertical-align: middle; margin-left: 0.5rem\">[PERSON_0]</span></mark> knows your primary interest is in a beneficial business relationship.\n",
       "       </div>\n",
       "      </figure>\n",
       "     </body>\n",
       "    </html>\n",
       "    "
      ],
      "text/plain": [
       "<IPython.core.display.HTML object>"
      ]
     },
     "metadata": {},
     "output_type": "display_data"
    },
    {
     "name": "stdout",
     "output_type": "stream",
     "text": [
      "==== CONTEXT LEVEL: 1 ====\n",
      "Question:\n"
     ]
    },
    {
     "data": {
      "text/html": [
       "\n",
       "    <!DOCTYPE html>\n",
       "    <html lang=\"en\">\n",
       "     <body style=\"font-size: 16px; font-family: -apple-system, BlinkMacSystemFont, 'Segoe UI', Helvetica, Arial, sans-serif, 'Apple Color Emoji', 'Segoe UI Emoji', 'Segoe UI Symbol'; padding: 4rem 2rem; direction: ltr\">\n",
       "      <figure style=\"margin-bottom: 6rem\">\n",
       "       <div class=\"entities\" style=\"line-height: 2.5; direction: ltr\">\n",
       "        What is the best approach to building rapport with a customer <mark class=\"entity\" style=\"background: #bfe1d9; padding: 0.45em 0.6em; margin: 0 0.25em; line-height: 1; border-radius: 0.35em;\">John Smith <span style=\"font-size: 0.8em; font-weight: bold; line-height: 1; border-radius: 0.35em; vertical-align: middle; margin-left: 0.5rem\">Alexander Brown</span></mark>?\n",
       "       </div>\n",
       "      </figure>\n",
       "     </body>\n",
       "    </html>\n",
       "    "
      ],
      "text/plain": [
       "<IPython.core.display.HTML object>"
      ]
     },
     "metadata": {},
     "output_type": "display_data"
    },
    {
     "name": "stdout",
     "output_type": "stream",
     "text": [
      "Base Knowledge:\n"
     ]
    },
    {
     "data": {
      "text/html": [
       "\n",
       "    <!DOCTYPE html>\n",
       "    <html lang=\"en\">\n",
       "     <body style=\"font-size: 16px; font-family: -apple-system, BlinkMacSystemFont, 'Segoe UI', Helvetica, Arial, sans-serif, 'Apple Color Emoji', 'Segoe UI Emoji', 'Segoe UI Symbol'; padding: 4rem 2rem; direction: ltr\">\n",
       "      <figure style=\"margin-bottom: 6rem\">\n",
       "       <div class=\"entities\" style=\"line-height: 2.5; direction: ltr\">\n",
       "        <mark class=\"entity\" style=\"background: #bfe1d9; padding: 0.45em 0.6em; margin: 0 0.25em; line-height: 1; border-radius: 0.35em;\">John Smith <span style=\"font-size: 0.8em; font-weight: bold; line-height: 1; border-radius: 0.35em; vertical-align: middle; margin-left: 0.5rem\">Alexander Brown</span></mark> is the head of business development at a corporation in <mark class=\"entity\" style=\"background: #bfe1d9; padding: 0.45em 0.6em; margin: 0 0.25em; line-height: 1; border-radius: 0.35em;\">Silicon Valley <span style=\"font-size: 0.8em; font-weight: bold; line-height: 1; border-radius: 0.35em; vertical-align: middle; margin-left: 0.5rem\">Austin, Texas</span></mark>. Take into account what values this category of customers have. \n",
       "       </div>\n",
       "      </figure>\n",
       "     </body>\n",
       "    </html>\n",
       "    "
      ],
      "text/plain": [
       "<IPython.core.display.HTML object>"
      ]
     },
     "metadata": {},
     "output_type": "display_data"
    },
    {
     "name": "stdout",
     "output_type": "stream",
     "text": [
      "Postprocessed LLM response:\n"
     ]
    },
    {
     "data": {
      "text/html": [
       "\n",
       "    <!DOCTYPE html>\n",
       "    <html lang=\"en\">\n",
       "     <body style=\"font-size: 16px; font-family: -apple-system, BlinkMacSystemFont, 'Segoe UI', Helvetica, Arial, sans-serif, 'Apple Color Emoji', 'Segoe UI Emoji', 'Segoe UI Symbol'; padding: 4rem 2rem; direction: ltr\">\n",
       "      <figure style=\"margin-bottom: 6rem\">\n",
       "       <div class=\"entities\" style=\"line-height: 2.5; direction: ltr\">\n",
       "        Building rapport with <mark class=\"entity\" style=\"background: #bfe1d9; padding: 0.45em 0.6em; margin: 0 0.25em; line-height: 1; border-radius: 0.35em;\">John Smith <span style=\"font-size: 0.8em; font-weight: bold; line-height: 1; border-radius: 0.35em; vertical-align: middle; margin-left: 0.5rem\">Alexander Brown</span></mark> requires a professional, respectful and knowledgeable approach. Here are the steps for the best approach:\n",
       "\n",
       "1. Research and Preparation: Understand who <mark class=\"entity\" style=\"background: #bfe1d9; padding: 0.45em 0.6em; margin: 0 0.25em; line-height: 1; border-radius: 0.35em;\">John Smith <span style=\"font-size: 0.8em; font-weight: bold; line-height: 1; border-radius: 0.35em; vertical-align: middle; margin-left: 0.5rem\">Alexander Brown</span></mark> is. This includes his title, his role, his industry, his company and perhaps even some past achievements. Google his company and potentially also himself. Check out the corporation's website, any articles about him or his company, as also LinkedIn.\n",
       "\n",
       "2. Professionalism: Given that he is the head of business development, he will likely value professionalism. Always act in a professional manner in all interactions.\n",
       "\n",
       "3. Respecting His Time: Make sure you value his time - be punctual in meetings, don't overstep the scheduled time and ensure your communications are concise.\n",
       "\n",
       "4. Be Informed: Know about business development strategies be able to speak his language. This will make him see that you understand his needs.\n",
       "\n",
       "5. Refer to Shared Values: Align your business goals or products with his own. This helps to create a connection and can lead to trust.\n",
       "\n",
       "6. Active Listening: Practice active listening during your interactions with him. This shows that you value his input and are paying attention to his needs.\n",
       "\n",
       "7. Share Relevant Information: Keeping him informed about the aspects of your business he would be most interested in. He will appreciate the transparency and it will strengthen his trust in you.\n",
       "\n",
       "8. Follow Up: After your meetings or discussions, always follow up with him to show that you're committed and also to keep the communication lines open. It will also serve as a gentle reminder of the topics that have been discussed and any agreed upon actions.\n",
       "\n",
       "9. Being Genuine: Be genuine, authentic and truthful. Honesty goes a long way in building strong relationships. \n",
       "\n",
       "10. Personalized Service: Treat him as an individual, not just another customer. This shows that you value his unique needs and you are prepared to meet them.\n",
       "       </div>\n",
       "      </figure>\n",
       "     </body>\n",
       "    </html>\n",
       "    "
      ],
      "text/plain": [
       "<IPython.core.display.HTML object>"
      ]
     },
     "metadata": {},
     "output_type": "display_data"
    },
    {
     "name": "stdout",
     "output_type": "stream",
     "text": [
      "==== CONTEXT LEVEL: 2 ====\n",
      "Question:\n"
     ]
    },
    {
     "data": {
      "text/html": [
       "\n",
       "    <!DOCTYPE html>\n",
       "    <html lang=\"en\">\n",
       "     <body style=\"font-size: 16px; font-family: -apple-system, BlinkMacSystemFont, 'Segoe UI', Helvetica, Arial, sans-serif, 'Apple Color Emoji', 'Segoe UI Emoji', 'Segoe UI Symbol'; padding: 4rem 2rem; direction: ltr\">\n",
       "      <figure style=\"margin-bottom: 6rem\">\n",
       "       <div class=\"entities\" style=\"line-height: 2.5; direction: ltr\">\n",
       "        What is the best approach to building rapport with a customer <mark class=\"entity\" style=\"background: #bfe1d9; padding: 0.45em 0.6em; margin: 0 0.25em; line-height: 1; border-radius: 0.35em;\">John Smith <span style=\"font-size: 0.8em; font-weight: bold; line-height: 1; border-radius: 0.35em; vertical-align: middle; margin-left: 0.5rem\">\"Alex Johnson\"</span></mark>?\n",
       "       </div>\n",
       "      </figure>\n",
       "     </body>\n",
       "    </html>\n",
       "    "
      ],
      "text/plain": [
       "<IPython.core.display.HTML object>"
      ]
     },
     "metadata": {},
     "output_type": "display_data"
    },
    {
     "name": "stdout",
     "output_type": "stream",
     "text": [
      "Base Knowledge:\n"
     ]
    },
    {
     "data": {
      "text/html": [
       "\n",
       "    <!DOCTYPE html>\n",
       "    <html lang=\"en\">\n",
       "     <body style=\"font-size: 16px; font-family: -apple-system, BlinkMacSystemFont, 'Segoe UI', Helvetica, Arial, sans-serif, 'Apple Color Emoji', 'Segoe UI Emoji', 'Segoe UI Symbol'; padding: 4rem 2rem; direction: ltr\">\n",
       "      <figure style=\"margin-bottom: 6rem\">\n",
       "       <div class=\"entities\" style=\"line-height: 2.5; direction: ltr\">\n",
       "        <mark class=\"entity\" style=\"background: #bfe1d9; padding: 0.45em 0.6em; margin: 0 0.25em; line-height: 1; border-radius: 0.35em;\">John Smith <span style=\"font-size: 0.8em; font-weight: bold; line-height: 1; border-radius: 0.35em; vertical-align: middle; margin-left: 0.5rem\">\"Alex Johnson\"</span></mark> is the head of business development at a corporation in <mark class=\"entity\" style=\"background: #bfe1d9; padding: 0.45em 0.6em; margin: 0 0.25em; line-height: 1; border-radius: 0.35em;\">Silicon Valley <span style=\"font-size: 0.8em; font-weight: bold; line-height: 1; border-radius: 0.35em; vertical-align: middle; margin-left: 0.5rem\">San Francisco Bay Area</span></mark>. Take into account what values this category of customers have. \n",
       "       </div>\n",
       "      </figure>\n",
       "     </body>\n",
       "    </html>\n",
       "    "
      ],
      "text/plain": [
       "<IPython.core.display.HTML object>"
      ]
     },
     "metadata": {},
     "output_type": "display_data"
    },
    {
     "name": "stdout",
     "output_type": "stream",
     "text": [
      "Postprocessed LLM response:\n"
     ]
    },
    {
     "data": {
      "text/html": [
       "\n",
       "    <!DOCTYPE html>\n",
       "    <html lang=\"en\">\n",
       "     <body style=\"font-size: 16px; font-family: -apple-system, BlinkMacSystemFont, 'Segoe UI', Helvetica, Arial, sans-serif, 'Apple Color Emoji', 'Segoe UI Emoji', 'Segoe UI Symbol'; padding: 4rem 2rem; direction: ltr\">\n",
       "      <figure style=\"margin-bottom: 6rem\">\n",
       "       <div class=\"entities\" style=\"line-height: 2.5; direction: ltr\">\n",
       "        1. Understand His Business: The first thing you need to do is to understand the business of Alex. Knowing the ins and outs of his business will make it easy for you to provide him with the best solutions that will benefit his business. \n",
       "\n",
       "2. Research the Location: Alex is based in <mark class=\"entity\" style=\"background: #bfe1d9; padding: 0.45em 0.6em; margin: 0 0.25em; line-height: 1; border-radius: 0.35em;\">Silicon Valley <span style=\"font-size: 0.8em; font-weight: bold; line-height: 1; border-radius: 0.35em; vertical-align: middle; margin-left: 0.5rem\">San Francisco Bay Area</span></mark>, this could mean that he values innovation, creativity, and technology. Use this understanding to give your conversation and suggestions a tailored feel.\n",
       "\n",
       "3. Show Interest: Show genuine interest in the business of Alex. Ask him about his business goals, challenges, and future plans. This will make him feel valued and heard. \n",
       "\n",
       "4. Be Professional: Maintain a professional approach through your communication. Use appropriate language, be respectful and punctual. \n",
       "\n",
       "5. Provide Value: Always aim to provide value in every interaction with Alex. Whether it's through providing insights, offering solutions, or simply listening to his concerns. \n",
       "\n",
       "6. Regular Updates: Keep Alex updated on the progress of projects, recent developments, and future plans. This will make him feel involved and part of the process. \n",
       "\n",
       "7. Be Honest and Transparent: Honesty is the best policy. Be transparent with Alex, if there is a problem, let him know. This will build trust and rapport.  \n",
       "\n",
       "8. Ask for Feedback: Regularly ask for Alex's feedback on your services. This will show him that you value his opinion and are willing to make improvements. \n",
       "\n",
       "9. Be Reliable: Always deliver on your promises. This will make Alex see you as a reliable person. \n",
       "\n",
       "10. Listen: Most importantly, listen to Alex. Understand his needs, concerns, and tailor your services to meet his requirements. \n",
       "\n",
       "Your ultimate goal should be to build a long-term relationship with Alex, not just a single transaction. A good relationship with a customer is built on trust, understanding, and mutual respect, which ultimately leads to loyalty and referrals.\n",
       "       </div>\n",
       "      </figure>\n",
       "     </body>\n",
       "    </html>\n",
       "    "
      ],
      "text/plain": [
       "<IPython.core.display.HTML object>"
      ]
     },
     "metadata": {},
     "output_type": "display_data"
    },
    {
     "name": "stderr",
     "output_type": "stream",
     "text": [
      "Evaluating: 100%|██████████| 15/15 [00:52<00:00,  3.51s/it]\n"
     ]
    },
    {
     "data": {
      "text/html": [
       "<div>\n",
       "<style scoped>\n",
       "    .dataframe tbody tr th:only-of-type {\n",
       "        vertical-align: middle;\n",
       "    }\n",
       "\n",
       "    .dataframe tbody tr th {\n",
       "        vertical-align: top;\n",
       "    }\n",
       "\n",
       "    .dataframe thead th {\n",
       "        text-align: right;\n",
       "    }\n",
       "</style>\n",
       "<table border=\"1\" class=\"dataframe\">\n",
       "  <thead>\n",
       "    <tr style=\"text-align: right;\">\n",
       "      <th></th>\n",
       "      <th>faithfulness</th>\n",
       "      <th>answer_relevancy</th>\n",
       "      <th>context_precision</th>\n",
       "      <th>context_recall</th>\n",
       "      <th>answer_correctness</th>\n",
       "    </tr>\n",
       "  </thead>\n",
       "  <tbody>\n",
       "    <tr>\n",
       "      <th>0</th>\n",
       "      <td>0.0</td>\n",
       "      <td>0.959010</td>\n",
       "      <td>1.0</td>\n",
       "      <td>0.181818</td>\n",
       "      <td>0.474078</td>\n",
       "    </tr>\n",
       "    <tr>\n",
       "      <th>1</th>\n",
       "      <td>1.0</td>\n",
       "      <td>0.953199</td>\n",
       "      <td>1.0</td>\n",
       "      <td>0.250000</td>\n",
       "      <td>0.987251</td>\n",
       "    </tr>\n",
       "    <tr>\n",
       "      <th>2</th>\n",
       "      <td>0.0</td>\n",
       "      <td>0.875217</td>\n",
       "      <td>1.0</td>\n",
       "      <td>0.181818</td>\n",
       "      <td>0.420364</td>\n",
       "    </tr>\n",
       "  </tbody>\n",
       "</table>\n",
       "</div>"
      ],
      "text/plain": [
       "   faithfulness  answer_relevancy  context_precision  context_recall  \\\n",
       "0           0.0          0.959010                1.0        0.181818   \n",
       "1           1.0          0.953199                1.0        0.250000   \n",
       "2           0.0          0.875217                1.0        0.181818   \n",
       "\n",
       "   answer_correctness  \n",
       "0            0.474078  \n",
       "1            0.987251  \n",
       "2            0.420364  "
      ]
     },
     "execution_count": 21,
     "metadata": {},
     "output_type": "execute_result"
    }
   ],
   "source": [
    "from providers.openai_provider import OpenAIProvider\n",
    "from IPython.display import Markdown, display\n",
    "openai = OpenAIProvider()\n",
    "\n",
    "text = \"John Smith is the head of business development at a corporation in Silicon Valley. Take into account what values this category of customers have. \"\n",
    "question = \"What is the best approach to building rapport with a customer John Smith?\"\n",
    "ground_truth_response = await openai.query_llm(text+question)\n",
    "print(\"Ground truth response: \")\n",
    "display(Markdown(ground_truth_response))\n",
    "final_outputs = await analyze_context_dependency(text, question)\n",
    "\n",
    "ragas_data = create_ragas_dataset(question,\n",
    "                                        text,\n",
    "                                        ground_truth_response,\n",
    "                                        final_outputs)\n",
    "evaluation = evaluate_rag(ragas_data)\n",
    "\n",
    "pd_results = evaluation.to_pandas()\n",
    "df_dropped = pd_results.drop(pd_results.columns[:4], axis=1)\n",
    "df_dropped\n"
   ]
  },
  {
   "cell_type": "markdown",
   "metadata": {},
   "source": [
    "## Example 3 - Japanese Customer"
   ]
  },
  {
   "cell_type": "code",
   "execution_count": 19,
   "metadata": {},
   "outputs": [
    {
     "name": "stdout",
     "output_type": "stream",
     "text": [
      "Ground truth response: \n"
     ]
    },
    {
     "data": {
      "text/markdown": [
       "Building rapport with Hiroshi Tanaka, the head of business development at a corporation in Japan, requires an approach that aligns with the cultural and business values typically important in Japan. Here are key strategies to consider:\n",
       "\n",
       "1. **Demonstrate Respect and Politeness:**\n",
       "   - Use formal titles and surnames unless instructed otherwise. For example, address him as \"Tanaka-san.\"\n",
       "   - Show respect for his position and experience within the company.\n",
       "\n",
       "2. **Build a Trusting Relationship:**\n",
       "   - Establish credibility by being transparent, honest, and reliable.\n",
       "   - Follow through on commitments and deliver what you promise.\n",
       "\n",
       "3. **Understand Hierarchical Structures:**\n",
       "   - Be aware of the corporate hierarchy and show appropriate respect to those in senior positions.\n",
       "   - Understand decision-making processes, which might be more group and consensus-oriented.\n",
       "\n",
       "4. **Patience and Long-term Focus:**\n",
       "   - Business relationships in Japan often develop over time. Exhibit patience and focus on long-term partnership rather than quick wins.\n",
       "   - Be prepared for multiple meetings to build trust and consensus.\n",
       "\n",
       "5. **Attention to Detail:**\n",
       "   - Ensure that any presentation or documentation provided is thorough and free of errors.\n",
       "   - Pay attention to quality and detail, as these are highly valued.\n",
       "\n",
       "6. **Cultural Awareness:**\n",
       "   - Be aware of basic Japanese customs and etiquette. For example, offer your business card with both hands and accept his in the same manner while taking a moment to read it.\n",
       "   - Understand the importance of harmony (WA) and avoid confrontational or aggressive behavior.\n",
       "\n",
       "7. **Adapt to Communication Styles:**\n",
       "   - Listen actively and be attuned to non-verbal cues.\n",
       "   - Japanese business culture often values indirect communication; pay attention to what may not be explicitly stated.\n",
       "\n",
       "8. **Present Sound Business Knowledge:**\n",
       "   - Demonstrate a thorough understanding of the market and industry.\n",
       "   - Offer insights and solutions that are tailored to his company’s needs and challenges.\n",
       "\n",
       "By respecting these values and adapting to cultural nuances, you can effectively build rapport and foster a productive relationship with Hiroshi Tanaka."
      ],
      "text/plain": [
       "<IPython.core.display.Markdown object>"
      ]
     },
     "metadata": {},
     "output_type": "display_data"
    },
    {
     "name": "stderr",
     "output_type": "stream",
     "text": [
      "/Users/lilianahotsko/Desktop/LLMAnonymizationThesis/.venv/lib/python3.11/site-packages/spacy/util.py:910: UserWarning: [W095] Model 'en_core_web_sm' (3.2.0) was trained with spaCy v3.2.0 and may not be 100% compatible with the current version (3.8.4). If you see errors or degraded performance, download a newer compatible model or retrain your custom model with the current spaCy version. For more details and available updates, run: python -m spacy validate\n",
      "  warnings.warn(warn_msg)\n"
     ]
    },
    {
     "name": "stdout",
     "output_type": "stream",
     "text": [
      "==== CONTEXT LEVEL: 0 ====\n",
      "Question:\n"
     ]
    },
    {
     "data": {
      "text/html": [
       "\n",
       "    <!DOCTYPE html>\n",
       "    <html lang=\"en\">\n",
       "     <body style=\"font-size: 16px; font-family: -apple-system, BlinkMacSystemFont, 'Segoe UI', Helvetica, Arial, sans-serif, 'Apple Color Emoji', 'Segoe UI Emoji', 'Segoe UI Symbol'; padding: 4rem 2rem; direction: ltr\">\n",
       "      <figure style=\"margin-bottom: 6rem\">\n",
       "       <div class=\"entities\" style=\"line-height: 2.5; direction: ltr\">\n",
       "        What is the best approach to building rapport with a customer <mark class=\"entity\" style=\"background: #bfe1d9; padding: 0.45em 0.6em; margin: 0 0.25em; line-height: 1; border-radius: 0.35em;\">Hiroshi Tanaka <span style=\"font-size: 0.8em; font-weight: bold; line-height: 1; border-radius: 0.35em; vertical-align: middle; margin-left: 0.5rem\">[PERSON_0]</span></mark>?\n",
       "       </div>\n",
       "      </figure>\n",
       "     </body>\n",
       "    </html>\n",
       "    "
      ],
      "text/plain": [
       "<IPython.core.display.HTML object>"
      ]
     },
     "metadata": {},
     "output_type": "display_data"
    },
    {
     "name": "stdout",
     "output_type": "stream",
     "text": [
      "Base Knowledge:\n"
     ]
    },
    {
     "data": {
      "text/html": [
       "\n",
       "    <!DOCTYPE html>\n",
       "    <html lang=\"en\">\n",
       "     <body style=\"font-size: 16px; font-family: -apple-system, BlinkMacSystemFont, 'Segoe UI', Helvetica, Arial, sans-serif, 'Apple Color Emoji', 'Segoe UI Emoji', 'Segoe UI Symbol'; padding: 4rem 2rem; direction: ltr\">\n",
       "      <figure style=\"margin-bottom: 6rem\">\n",
       "       <div class=\"entities\" style=\"line-height: 2.5; direction: ltr\">\n",
       "        <mark class=\"entity\" style=\"background: #bfe1d9; padding: 0.45em 0.6em; margin: 0 0.25em; line-height: 1; border-radius: 0.35em;\">Hiroshi Tanaka <span style=\"font-size: 0.8em; font-weight: bold; line-height: 1; border-radius: 0.35em; vertical-align: middle; margin-left: 0.5rem\">[PERSON_0]</span></mark> is the head of business development at a corporation in <mark class=\"entity\" style=\"background: #bfe1d9; padding: 0.45em 0.6em; margin: 0 0.25em; line-height: 1; border-radius: 0.35em;\">Japan <span style=\"font-size: 0.8em; font-weight: bold; line-height: 1; border-radius: 0.35em; vertical-align: middle; margin-left: 0.5rem\">[GPE_1]</span></mark>. Take into account what values this category of customers have. \n",
       "       </div>\n",
       "      </figure>\n",
       "     </body>\n",
       "    </html>\n",
       "    "
      ],
      "text/plain": [
       "<IPython.core.display.HTML object>"
      ]
     },
     "metadata": {},
     "output_type": "display_data"
    },
    {
     "name": "stdout",
     "output_type": "stream",
     "text": [
      "Postprocessed LLM response:\n"
     ]
    },
    {
     "data": {
      "text/html": [
       "\n",
       "    <!DOCTYPE html>\n",
       "    <html lang=\"en\">\n",
       "     <body style=\"font-size: 16px; font-family: -apple-system, BlinkMacSystemFont, 'Segoe UI', Helvetica, Arial, sans-serif, 'Apple Color Emoji', 'Segoe UI Emoji', 'Segoe UI Symbol'; padding: 4rem 2rem; direction: ltr\">\n",
       "      <figure style=\"margin-bottom: 6rem\">\n",
       "       <div class=\"entities\" style=\"line-height: 2.5; direction: ltr\">\n",
       "        1. Understand the Industry: As <mark class=\"entity\" style=\"background: #bfe1d9; padding: 0.45em 0.6em; margin: 0 0.25em; line-height: 1; border-radius: 0.35em;\">Hiroshi Tanaka <span style=\"font-size: 0.8em; font-weight: bold; line-height: 1; border-radius: 0.35em; vertical-align: middle; margin-left: 0.5rem\">[PERSON_0]</span></mark> is a business development head at a corporation in <mark class=\"entity\" style=\"background: #bfe1d9; padding: 0.45em 0.6em; margin: 0 0.25em; line-height: 1; border-radius: 0.35em;\">Japan <span style=\"font-size: 0.8em; font-weight: bold; line-height: 1; border-radius: 0.35em; vertical-align: middle; margin-left: 0.5rem\">[GPE_1]</span></mark>, they likely value professionalism, punctuality, and results. Learn about the corporation and its industry so that you can speak to <mark class=\"entity\" style=\"background: #bfe1d9; padding: 0.45em 0.6em; margin: 0 0.25em; line-height: 1; border-radius: 0.35em;\">Hiroshi Tanaka <span style=\"font-size: 0.8em; font-weight: bold; line-height: 1; border-radius: 0.35em; vertical-align: middle; margin-left: 0.5rem\">[PERSON_0]</span></mark> about their business in a knowledgeable manner.\n",
       "\n",
       "2. Clear Communication: From the very beginning, communicate with clarity and consistency. Regularly update <mark class=\"entity\" style=\"background: #bfe1d9; padding: 0.45em 0.6em; margin: 0 0.25em; line-height: 1; border-radius: 0.35em;\">Hiroshi Tanaka <span style=\"font-size: 0.8em; font-weight: bold; line-height: 1; border-radius: 0.35em; vertical-align: middle; margin-left: 0.5rem\">[PERSON_0]</span></mark> about any progress, problems, or changes. Reliable and efficient communication is often appreciated by such customers. \n",
       "\n",
       "3. Dependability: Prove through your actions that you are reliable, meeting deadlines and delivering high-quality work. This builds trust and subsequently, rapport.\n",
       "\n",
       "4. Understand Their Needs: Ask <mark class=\"entity\" style=\"background: #bfe1d9; padding: 0.45em 0.6em; margin: 0 0.25em; line-height: 1; border-radius: 0.35em;\">Hiroshi Tanaka <span style=\"font-size: 0.8em; font-weight: bold; line-height: 1; border-radius: 0.35em; vertical-align: middle; margin-left: 0.5rem\">[PERSON_0]</span></mark> about their key business objectives, challenges, and what they expect from your services. Show that you're interested in helping them reach their goals.\n",
       "\n",
       "5. Provide Value: Offer solutions that will help the customer grow their business. Always think about how you can provide value.\n",
       "\n",
       "6. Be Respectful: Respect <mark class=\"entity\" style=\"background: #bfe1d9; padding: 0.45em 0.6em; margin: 0 0.25em; line-height: 1; border-radius: 0.35em;\">Hiroshi Tanaka <span style=\"font-size: 0.8em; font-weight: bold; line-height: 1; border-radius: 0.35em; vertical-align: middle; margin-left: 0.5rem\">[PERSON_0]</span></mark>'s time and opinions. If you disagree, do so respectfully with facts that support your perspective.\n",
       "\n",
       "7. Personalize Your Interactions: While maintaining professionalism, try to understand <mark class=\"entity\" style=\"background: #bfe1d9; padding: 0.45em 0.6em; margin: 0 0.25em; line-height: 1; border-radius: 0.35em;\">Hiroshi Tanaka <span style=\"font-size: 0.8em; font-weight: bold; line-height: 1; border-radius: 0.35em; vertical-align: middle; margin-left: 0.5rem\">[PERSON_0]</span></mark> on a personal level. Small talks about personal interests and hobbies can often lead to a positive and long-lasting relationship with the client. \n",
       "\n",
       "Following these steps not only showcases your capabilities and seriousness towards the job, but also shows empathy and understanding, thereby enabling a strong connection between you and <mark class=\"entity\" style=\"background: #bfe1d9; padding: 0.45em 0.6em; margin: 0 0.25em; line-height: 1; border-radius: 0.35em;\">Hiroshi Tanaka <span style=\"font-size: 0.8em; font-weight: bold; line-height: 1; border-radius: 0.35em; vertical-align: middle; margin-left: 0.5rem\">[PERSON_0]</span></mark>.\n",
       "       </div>\n",
       "      </figure>\n",
       "     </body>\n",
       "    </html>\n",
       "    "
      ],
      "text/plain": [
       "<IPython.core.display.HTML object>"
      ]
     },
     "metadata": {},
     "output_type": "display_data"
    },
    {
     "name": "stdout",
     "output_type": "stream",
     "text": [
      "==== CONTEXT LEVEL: 1 ====\n",
      "Question:\n"
     ]
    },
    {
     "data": {
      "text/html": [
       "\n",
       "    <!DOCTYPE html>\n",
       "    <html lang=\"en\">\n",
       "     <body style=\"font-size: 16px; font-family: -apple-system, BlinkMacSystemFont, 'Segoe UI', Helvetica, Arial, sans-serif, 'Apple Color Emoji', 'Segoe UI Emoji', 'Segoe UI Symbol'; padding: 4rem 2rem; direction: ltr\">\n",
       "      <figure style=\"margin-bottom: 6rem\">\n",
       "       <div class=\"entities\" style=\"line-height: 2.5; direction: ltr\">\n",
       "        What is the best approach to building rapport with a customer <mark class=\"entity\" style=\"background: #bfe1d9; padding: 0.45em 0.6em; margin: 0 0.25em; line-height: 1; border-radius: 0.35em;\">Hiroshi Tanaka <span style=\"font-size: 0.8em; font-weight: bold; line-height: 1; border-radius: 0.35em; vertical-align: middle; margin-left: 0.5rem\">Kazuo Nakamura</span></mark>?\n",
       "       </div>\n",
       "      </figure>\n",
       "     </body>\n",
       "    </html>\n",
       "    "
      ],
      "text/plain": [
       "<IPython.core.display.HTML object>"
      ]
     },
     "metadata": {},
     "output_type": "display_data"
    },
    {
     "name": "stdout",
     "output_type": "stream",
     "text": [
      "Base Knowledge:\n"
     ]
    },
    {
     "data": {
      "text/html": [
       "\n",
       "    <!DOCTYPE html>\n",
       "    <html lang=\"en\">\n",
       "     <body style=\"font-size: 16px; font-family: -apple-system, BlinkMacSystemFont, 'Segoe UI', Helvetica, Arial, sans-serif, 'Apple Color Emoji', 'Segoe UI Emoji', 'Segoe UI Symbol'; padding: 4rem 2rem; direction: ltr\">\n",
       "      <figure style=\"margin-bottom: 6rem\">\n",
       "       <div class=\"entities\" style=\"line-height: 2.5; direction: ltr\">\n",
       "        <mark class=\"entity\" style=\"background: #bfe1d9; padding: 0.45em 0.6em; margin: 0 0.25em; line-height: 1; border-radius: 0.35em;\">Hiroshi Tanaka <span style=\"font-size: 0.8em; font-weight: bold; line-height: 1; border-radius: 0.35em; vertical-align: middle; margin-left: 0.5rem\">Kazuo Nakamura</span></mark> is the head of business development at a corporation in <mark class=\"entity\" style=\"background: #bfe1d9; padding: 0.45em 0.6em; margin: 0 0.25em; line-height: 1; border-radius: 0.35em;\">Japan <span style=\"font-size: 0.8em; font-weight: bold; line-height: 1; border-radius: 0.35em; vertical-align: middle; margin-left: 0.5rem\">Sri Lanka</span></mark>. Take into account what values this category of customers have. \n",
       "       </div>\n",
       "      </figure>\n",
       "     </body>\n",
       "    </html>\n",
       "    "
      ],
      "text/plain": [
       "<IPython.core.display.HTML object>"
      ]
     },
     "metadata": {},
     "output_type": "display_data"
    },
    {
     "name": "stdout",
     "output_type": "stream",
     "text": [
      "Postprocessed LLM response:\n"
     ]
    },
    {
     "data": {
      "text/html": [
       "\n",
       "    <!DOCTYPE html>\n",
       "    <html lang=\"en\">\n",
       "     <body style=\"font-size: 16px; font-family: -apple-system, BlinkMacSystemFont, 'Segoe UI', Helvetica, Arial, sans-serif, 'Apple Color Emoji', 'Segoe UI Emoji', 'Segoe UI Symbol'; padding: 4rem 2rem; direction: ltr\">\n",
       "      <figure style=\"margin-bottom: 6rem\">\n",
       "       <div class=\"entities\" style=\"line-height: 2.5; direction: ltr\">\n",
       "        1. Understand the Business Culture: As a business leader in <mark class=\"entity\" style=\"background: #bfe1d9; padding: 0.45em 0.6em; margin: 0 0.25em; line-height: 1; border-radius: 0.35em;\">Japan <span style=\"font-size: 0.8em; font-weight: bold; line-height: 1; border-radius: 0.35em; vertical-align: middle; margin-left: 0.5rem\">Sri Lanka</span></mark>, <mark class=\"entity\" style=\"background: #bfe1d9; padding: 0.45em 0.6em; margin: 0 0.25em; line-height: 1; border-radius: 0.35em;\">Hiroshi Tanaka <span style=\"font-size: 0.8em; font-weight: bold; line-height: 1; border-radius: 0.35em; vertical-align: middle; margin-left: 0.5rem\">Kazuo Nakamura</span></mark> is likely influenced by the local business culture. Understanding the nuances of Japann business practices can be beneficial. In <mark class=\"entity\" style=\"background: #bfe1d9; padding: 0.45em 0.6em; margin: 0 0.25em; line-height: 1; border-radius: 0.35em;\">Japan <span style=\"font-size: 0.8em; font-weight: bold; line-height: 1; border-radius: 0.35em; vertical-align: middle; margin-left: 0.5rem\">Sri Lanka</span></mark>, business is typically conducted with formality and respect for hierarchy and age.\n",
       "\n",
       "2. Understand the Individual: Although it’s crucial to understand cultural backgrounds, avoid the risk of stereotyping. Get to know <mark class=\"entity\" style=\"background: #bfe1d9; padding: 0.45em 0.6em; margin: 0 0.25em; line-height: 1; border-radius: 0.35em;\">Hiroshi Tanaka <span style=\"font-size: 0.8em; font-weight: bold; line-height: 1; border-radius: 0.35em; vertical-align: middle; margin-left: 0.5rem\">Kazuo Nakamura</span></mark> as an individual. Understand his work, his challenges, and the environment he operates in, along with his personal preferences, if possible.\n",
       "\n",
       "3. Professionalism: Demonstrate professionalism at all times. When engaging with business professionals like <mark class=\"entity\" style=\"background: #bfe1d9; padding: 0.45em 0.6em; margin: 0 0.25em; line-height: 1; border-radius: 0.35em;\">Hiroshi Tanaka <span style=\"font-size: 0.8em; font-weight: bold; line-height: 1; border-radius: 0.35em; vertical-align: middle; margin-left: 0.5rem\">Kazuo Nakamura</span></mark>, first impressions are significant. Dressing appropriately, punctuality, organized presentations, articulate communication, and respect for time may be appreciated.\n",
       "\n",
       "4. Understanding and Respecting Roles: Respect <mark class=\"entity\" style=\"background: #bfe1d9; padding: 0.45em 0.6em; margin: 0 0.25em; line-height: 1; border-radius: 0.35em;\">Hiroshi Tanaka <span style=\"font-size: 0.8em; font-weight: bold; line-height: 1; border-radius: 0.35em; vertical-align: middle; margin-left: 0.5rem\">Kazuo Nakamura</span></mark>’s role as the head of business development. Approach him with solutions that address his area of work, suggesting how your product or service would alleviate his job stress, improve efficiency, and contribute to his company's growth.\n",
       "\n",
       "5. Patience and Building Trust: Building rapport with senior-level executives can be slow. Patience is critical, as trust needs to be established over time, proceeding with a respectful and considerate approach.\n",
       "\n",
       "6. Active Listening: Show genuine interest in what he is saying; this assists in understanding his needs and providing tailored information, solutions, or products for his requirements.\n",
       "\n",
       "7. Maintain Consistent and Open Communication: Regularly updating him about progress or changes, and immediately addressing any issues or concerns are crucial in maintaining a transparent, open, and trustful relationship. \n",
       "\n",
       "8. Interpersonal Skills: Demonstrating empathy, focus, respect, politeness and cultural understanding could elevate your rapport with Nakamura. \n",
       "\n",
       "9. Personalization: In any interaction, ensure that you speak his name correctly and use it often. This personal touch shows attention to detail, respect and acknowledgement. \n",
       "\n",
       "10. Long-term relationship: Make it clear from the beginning that you are interested in a long-term business relationship, not just a one-time deal. This signals commitment, seriousness, and mutual respect.\n",
       "       </div>\n",
       "      </figure>\n",
       "     </body>\n",
       "    </html>\n",
       "    "
      ],
      "text/plain": [
       "<IPython.core.display.HTML object>"
      ]
     },
     "metadata": {},
     "output_type": "display_data"
    },
    {
     "name": "stdout",
     "output_type": "stream",
     "text": [
      "==== CONTEXT LEVEL: 2 ====\n",
      "Question:\n"
     ]
    },
    {
     "data": {
      "text/html": [
       "\n",
       "    <!DOCTYPE html>\n",
       "    <html lang=\"en\">\n",
       "     <body style=\"font-size: 16px; font-family: -apple-system, BlinkMacSystemFont, 'Segoe UI', Helvetica, Arial, sans-serif, 'Apple Color Emoji', 'Segoe UI Emoji', 'Segoe UI Symbol'; padding: 4rem 2rem; direction: ltr\">\n",
       "      <figure style=\"margin-bottom: 6rem\">\n",
       "       <div class=\"entities\" style=\"line-height: 2.5; direction: ltr\">\n",
       "        What is the best approach to building rapport with a customer <mark class=\"entity\" style=\"background: #bfe1d9; padding: 0.45em 0.6em; margin: 0 0.25em; line-height: 1; border-radius: 0.35em;\">Hiroshi Tanaka <span style=\"font-size: 0.8em; font-weight: bold; line-height: 1; border-radius: 0.35em; vertical-align: middle; margin-left: 0.5rem\">Shinji Koyama</span></mark>?\n",
       "       </div>\n",
       "      </figure>\n",
       "     </body>\n",
       "    </html>\n",
       "    "
      ],
      "text/plain": [
       "<IPython.core.display.HTML object>"
      ]
     },
     "metadata": {},
     "output_type": "display_data"
    },
    {
     "name": "stdout",
     "output_type": "stream",
     "text": [
      "Base Knowledge:\n"
     ]
    },
    {
     "data": {
      "text/html": [
       "\n",
       "    <!DOCTYPE html>\n",
       "    <html lang=\"en\">\n",
       "     <body style=\"font-size: 16px; font-family: -apple-system, BlinkMacSystemFont, 'Segoe UI', Helvetica, Arial, sans-serif, 'Apple Color Emoji', 'Segoe UI Emoji', 'Segoe UI Symbol'; padding: 4rem 2rem; direction: ltr\">\n",
       "      <figure style=\"margin-bottom: 6rem\">\n",
       "       <div class=\"entities\" style=\"line-height: 2.5; direction: ltr\">\n",
       "        <mark class=\"entity\" style=\"background: #bfe1d9; padding: 0.45em 0.6em; margin: 0 0.25em; line-height: 1; border-radius: 0.35em;\">Hiroshi Tanaka <span style=\"font-size: 0.8em; font-weight: bold; line-height: 1; border-radius: 0.35em; vertical-align: middle; margin-left: 0.5rem\">Shinji Koyama</span></mark> is the head of business development at a corporation in <mark class=\"entity\" style=\"background: #bfe1d9; padding: 0.45em 0.6em; margin: 0 0.25em; line-height: 1; border-radius: 0.35em;\">Japan <span style=\"font-size: 0.8em; font-weight: bold; line-height: 1; border-radius: 0.35em; vertical-align: middle; margin-left: 0.5rem\">South Korea</span></mark>. Take into account what values this category of customers have. \n",
       "       </div>\n",
       "      </figure>\n",
       "     </body>\n",
       "    </html>\n",
       "    "
      ],
      "text/plain": [
       "<IPython.core.display.HTML object>"
      ]
     },
     "metadata": {},
     "output_type": "display_data"
    },
    {
     "name": "stdout",
     "output_type": "stream",
     "text": [
      "Postprocessed LLM response:\n"
     ]
    },
    {
     "data": {
      "text/html": [
       "\n",
       "    <!DOCTYPE html>\n",
       "    <html lang=\"en\">\n",
       "     <body style=\"font-size: 16px; font-family: -apple-system, BlinkMacSystemFont, 'Segoe UI', Helvetica, Arial, sans-serif, 'Apple Color Emoji', 'Segoe UI Emoji', 'Segoe UI Symbol'; padding: 4rem 2rem; direction: ltr\">\n",
       "      <figure style=\"margin-bottom: 6rem\">\n",
       "       <div class=\"entities\" style=\"line-height: 2.5; direction: ltr\">\n",
       "        1. Understand their Culture: Being the head of business development, <mark class=\"entity\" style=\"background: #bfe1d9; padding: 0.45em 0.6em; margin: 0 0.25em; line-height: 1; border-radius: 0.35em;\">Hiroshi Tanaka <span style=\"font-size: 0.8em; font-weight: bold; line-height: 1; border-radius: 0.35em; vertical-align: middle; margin-left: 0.5rem\">Shinji Koyama</span></mark> will most likely appreciate an understanding of the Japann business culture. Respect for hierarchy, the importance of relationships, and maintaining face and honor are key aspects. Conduct some background research to equip yourself with basic knowledge about <mark class=\"entity\" style=\"background: #bfe1d9; padding: 0.45em 0.6em; margin: 0 0.25em; line-height: 1; border-radius: 0.35em;\">Japan <span style=\"font-size: 0.8em; font-weight: bold; line-height: 1; border-radius: 0.35em; vertical-align: middle; margin-left: 0.5rem\">South Korea</span></mark> and its business manners.\n",
       "\n",
       "2. Communicate Professionally: Ensure your communication is respectful, professional, and credible. This involves having a concrete understanding of your products or services and being able to articulate it well.\n",
       "\n",
       "3. Show Respect for His Role: Acknowledge his position and responsibilities as the head of business development. This shows you understand the pressures and expectations of his role and can help foster mutual respect.\n",
       "\n",
       "4. Understand Their Business Needs: Figure out what would suit their business needs. Maybe they are looking for ways to grow, new markets, or strategies to enhance their operations. Once you understand this, you can tailor your pitch or proposals accordingly.\n",
       "\n",
       "5. Build a Relationship: Instead of rushing to make a sale, focus on building a long-term relationship. Ask for their opinions, listen actively, and show genuine interest in their industry and company. \n",
       "\n",
       "6. Provide Solutions: Have a solution-oriented mindset. Show how your product or service can solve their problems or meet their needs. Use data and testimonials to back up your claims. \n",
       "\n",
       "7. Follow up: Stay in touch regularly to keep building the relationship. But remember not to overdo it as it can be seen as pushy.\n",
       "\n",
       "8. Be Patient: Building rapport takes time, especially in a business-to-business context and in the Japann culture where relationships play a significant role. Patience is key.\n",
       "       </div>\n",
       "      </figure>\n",
       "     </body>\n",
       "    </html>\n",
       "    "
      ],
      "text/plain": [
       "<IPython.core.display.HTML object>"
      ]
     },
     "metadata": {},
     "output_type": "display_data"
    },
    {
     "name": "stderr",
     "output_type": "stream",
     "text": [
      "Evaluating: 100%|██████████| 15/15 [00:56<00:00,  3.75s/it]\n"
     ]
    },
    {
     "data": {
      "text/html": [
       "<div>\n",
       "<style scoped>\n",
       "    .dataframe tbody tr th:only-of-type {\n",
       "        vertical-align: middle;\n",
       "    }\n",
       "\n",
       "    .dataframe tbody tr th {\n",
       "        vertical-align: top;\n",
       "    }\n",
       "\n",
       "    .dataframe thead th {\n",
       "        text-align: right;\n",
       "    }\n",
       "</style>\n",
       "<table border=\"1\" class=\"dataframe\">\n",
       "  <thead>\n",
       "    <tr style=\"text-align: right;\">\n",
       "      <th></th>\n",
       "      <th>faithfulness</th>\n",
       "      <th>answer_relevancy</th>\n",
       "      <th>context_precision</th>\n",
       "      <th>context_recall</th>\n",
       "      <th>answer_correctness</th>\n",
       "    </tr>\n",
       "  </thead>\n",
       "  <tbody>\n",
       "    <tr>\n",
       "      <th>0</th>\n",
       "      <td>0.739130</td>\n",
       "      <td>0.951346</td>\n",
       "      <td>1.0</td>\n",
       "      <td>0.5</td>\n",
       "      <td>0.402583</td>\n",
       "    </tr>\n",
       "    <tr>\n",
       "      <th>1</th>\n",
       "      <td>1.000000</td>\n",
       "      <td>0.935949</td>\n",
       "      <td>1.0</td>\n",
       "      <td>0.1</td>\n",
       "      <td>0.989066</td>\n",
       "    </tr>\n",
       "    <tr>\n",
       "      <th>2</th>\n",
       "      <td>0.071429</td>\n",
       "      <td>0.941235</td>\n",
       "      <td>1.0</td>\n",
       "      <td>0.4</td>\n",
       "      <td>0.459148</td>\n",
       "    </tr>\n",
       "  </tbody>\n",
       "</table>\n",
       "</div>"
      ],
      "text/plain": [
       "   faithfulness  answer_relevancy  context_precision  context_recall  \\\n",
       "0      0.739130          0.951346                1.0             0.5   \n",
       "1      1.000000          0.935949                1.0             0.1   \n",
       "2      0.071429          0.941235                1.0             0.4   \n",
       "\n",
       "   answer_correctness  \n",
       "0            0.402583  \n",
       "1            0.989066  \n",
       "2            0.459148  "
      ]
     },
     "execution_count": 19,
     "metadata": {},
     "output_type": "execute_result"
    }
   ],
   "source": [
    "from providers.openai_provider import OpenAIProvider\n",
    "from IPython.display import Markdown, display\n",
    "openai = OpenAIProvider()\n",
    "\n",
    "text = \"Hiroshi Tanaka is the head of business development at a corporation in Japan. Take into account what values this category of customers have. \"\n",
    "question = \"What is the best approach to building rapport with a customer Hiroshi Tanaka?\"\n",
    "ground_truth_response = await openai.query_llm(text+question)\n",
    "print(\"Ground truth response: \")\n",
    "display(Markdown(ground_truth_response))\n",
    "final_outputs = await analyze_context_dependency(text, question)\n",
    "\n",
    "ragas_data = create_ragas_dataset(question,\n",
    "                                        text,\n",
    "                                        ground_truth_response,\n",
    "                                        final_outputs)\n",
    "evaluation = evaluate_rag(ragas_data)\n",
    "\n",
    "pd_results = evaluation.to_pandas()\n",
    "df_dropped = pd_results.drop(pd_results.columns[:4], axis=1)\n",
    "df_dropped\n"
   ]
  },
  {
   "cell_type": "code",
   "execution_count": null,
   "metadata": {},
   "outputs": [],
   "source": []
  }
 ],
 "metadata": {
  "kernelspec": {
   "display_name": ".venv",
   "language": "python",
   "name": "python3"
  },
  "language_info": {
   "codemirror_mode": {
    "name": "ipython",
    "version": 3
   },
   "file_extension": ".py",
   "mimetype": "text/x-python",
   "name": "python",
   "nbconvert_exporter": "python",
   "pygments_lexer": "ipython3",
   "version": "3.11.0"
  }
 },
 "nbformat": 4,
 "nbformat_minor": 2
}
