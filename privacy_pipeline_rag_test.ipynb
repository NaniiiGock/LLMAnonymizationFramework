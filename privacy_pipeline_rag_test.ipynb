{
 "cells": [
  {
   "cell_type": "code",
   "execution_count": 3,
   "metadata": {},
   "outputs": [
    {
     "name": "stderr",
     "output_type": "stream",
     "text": [
      "/Users/lilianahotsko/Desktop/LLMAnonymizationThesis/.venv/lib/python3.11/site-packages/tqdm/auto.py:21: TqdmWarning: IProgress not found. Please update jupyter and ipywidgets. See https://ipywidgets.readthedocs.io/en/stable/user_install.html\n",
      "  from .autonotebook import tqdm as notebook_tqdm\n"
     ]
    }
   ],
   "source": [
    "from providers.generic_provider import GenericProvider\n",
    "from database.chroma_db import ChromaDBManager\n",
    "import tqdm\n",
    "import uuid"
   ]
  },
  {
   "cell_type": "markdown",
   "metadata": {},
   "source": [
    "# read the texts from kaggle dataset \n",
    "https://www.kaggle.com/datasets/nbroad/wiki-20220301-en-sci"
   ]
  },
  {
   "cell_type": "code",
   "execution_count": 2,
   "metadata": {},
   "outputs": [
    {
     "name": "stderr",
     "output_type": "stream",
     "text": [
      "/Users/lilianahotsko/Desktop/LLMAnonymizationThesis/.venv/lib/python3.11/site-packages/tqdm/auto.py:21: TqdmWarning: IProgress not found. Please update jupyter and ipywidgets. See https://ipywidgets.readthedocs.io/en/stable/user_install.html\n",
      "  from .autonotebook import tqdm as notebook_tqdm\n"
     ]
    }
   ],
   "source": [
    "from datasets import load_dataset\n",
    "from pathlib import Path\n",
    "\n",
    "files = list(map(str, Path(\"test_data_rag\").glob(\"*.parquet\")))\n",
    "ds = load_dataset(\"parquet\", data_files=files, split=\"train\")"
   ]
  },
  {
   "cell_type": "code",
   "execution_count": 3,
   "metadata": {},
   "outputs": [
    {
     "data": {
      "text/plain": [
       "131049"
      ]
     },
     "execution_count": 3,
     "metadata": {},
     "output_type": "execute_result"
    }
   ],
   "source": [
    "len(ds[\"text\"])"
   ]
  },
  {
   "cell_type": "code",
   "execution_count": 4,
   "metadata": {},
   "outputs": [
    {
     "data": {
      "text/html": [
       "<div>\n",
       "<style scoped>\n",
       "    .dataframe tbody tr th:only-of-type {\n",
       "        vertical-align: middle;\n",
       "    }\n",
       "\n",
       "    .dataframe tbody tr th {\n",
       "        vertical-align: top;\n",
       "    }\n",
       "\n",
       "    .dataframe thead th {\n",
       "        text-align: right;\n",
       "    }\n",
       "</style>\n",
       "<table border=\"1\" class=\"dataframe\">\n",
       "  <thead>\n",
       "    <tr style=\"text-align: right;\">\n",
       "      <th></th>\n",
       "      <th>text</th>\n",
       "      <th>url</th>\n",
       "      <th>title</th>\n",
       "    </tr>\n",
       "  </thead>\n",
       "  <tbody>\n",
       "    <tr>\n",
       "      <th>0</th>\n",
       "      <td>UV radiation resistance-associated gene protei...</td>\n",
       "      <td>https://en.wikipedia.org/wiki/UVRAG</td>\n",
       "      <td>UVRAG</td>\n",
       "    </tr>\n",
       "    <tr>\n",
       "      <th>1</th>\n",
       "      <td>Olfactory receptor 51E1 is a protein that in h...</td>\n",
       "      <td>https://en.wikipedia.org/wiki/OR51E1</td>\n",
       "      <td>OR51E1</td>\n",
       "    </tr>\n",
       "    <tr>\n",
       "      <th>2</th>\n",
       "      <td>Olfactory receptor 10AG1 is a protein that in ...</td>\n",
       "      <td>https://en.wikipedia.org/wiki/OR10AG1</td>\n",
       "      <td>OR10AG1</td>\n",
       "    </tr>\n",
       "    <tr>\n",
       "      <th>3</th>\n",
       "      <td>Olfactory receptor 14A16 is a protein that in ...</td>\n",
       "      <td>https://en.wikipedia.org/wiki/OR5AT1</td>\n",
       "      <td>OR5AT1</td>\n",
       "    </tr>\n",
       "    <tr>\n",
       "      <th>4</th>\n",
       "      <td>Olfactory receptor 10R2 is a protein that in h...</td>\n",
       "      <td>https://en.wikipedia.org/wiki/OR10R2</td>\n",
       "      <td>OR10R2</td>\n",
       "    </tr>\n",
       "    <tr>\n",
       "      <th>5</th>\n",
       "      <td>Olfactory receptor 1B1 is a protein that in hu...</td>\n",
       "      <td>https://en.wikipedia.org/wiki/OR1B1</td>\n",
       "      <td>OR1B1</td>\n",
       "    </tr>\n",
       "    <tr>\n",
       "      <th>6</th>\n",
       "      <td>Olfactory receptor 2A12 is a protein that in h...</td>\n",
       "      <td>https://en.wikipedia.org/wiki/OR2A12</td>\n",
       "      <td>OR2A12</td>\n",
       "    </tr>\n",
       "    <tr>\n",
       "      <th>7</th>\n",
       "      <td>This uniform polyhedron compound is a symmetri...</td>\n",
       "      <td>https://en.wikipedia.org/wiki/Compound%20of%20...</td>\n",
       "      <td>Compound of twelve pentagrammic crossed antipr...</td>\n",
       "    </tr>\n",
       "    <tr>\n",
       "      <th>8</th>\n",
       "      <td>Olfactory receptor 3A4 is a protein that in hu...</td>\n",
       "      <td>https://en.wikipedia.org/wiki/OR3A4</td>\n",
       "      <td>OR3A4</td>\n",
       "    </tr>\n",
       "    <tr>\n",
       "      <th>9</th>\n",
       "      <td>Olfactory receptor 2A5 is a protein that in hu...</td>\n",
       "      <td>https://en.wikipedia.org/wiki/OR2A5</td>\n",
       "      <td>OR2A5</td>\n",
       "    </tr>\n",
       "  </tbody>\n",
       "</table>\n",
       "</div>"
      ],
      "text/plain": [
       "                                                text  \\\n",
       "0  UV radiation resistance-associated gene protei...   \n",
       "1  Olfactory receptor 51E1 is a protein that in h...   \n",
       "2  Olfactory receptor 10AG1 is a protein that in ...   \n",
       "3  Olfactory receptor 14A16 is a protein that in ...   \n",
       "4  Olfactory receptor 10R2 is a protein that in h...   \n",
       "5  Olfactory receptor 1B1 is a protein that in hu...   \n",
       "6  Olfactory receptor 2A12 is a protein that in h...   \n",
       "7  This uniform polyhedron compound is a symmetri...   \n",
       "8  Olfactory receptor 3A4 is a protein that in hu...   \n",
       "9  Olfactory receptor 2A5 is a protein that in hu...   \n",
       "\n",
       "                                                 url  \\\n",
       "0                https://en.wikipedia.org/wiki/UVRAG   \n",
       "1               https://en.wikipedia.org/wiki/OR51E1   \n",
       "2              https://en.wikipedia.org/wiki/OR10AG1   \n",
       "3               https://en.wikipedia.org/wiki/OR5AT1   \n",
       "4               https://en.wikipedia.org/wiki/OR10R2   \n",
       "5                https://en.wikipedia.org/wiki/OR1B1   \n",
       "6               https://en.wikipedia.org/wiki/OR2A12   \n",
       "7  https://en.wikipedia.org/wiki/Compound%20of%20...   \n",
       "8                https://en.wikipedia.org/wiki/OR3A4   \n",
       "9                https://en.wikipedia.org/wiki/OR2A5   \n",
       "\n",
       "                                               title  \n",
       "0                                              UVRAG  \n",
       "1                                             OR51E1  \n",
       "2                                            OR10AG1  \n",
       "3                                             OR5AT1  \n",
       "4                                             OR10R2  \n",
       "5                                              OR1B1  \n",
       "6                                             OR2A12  \n",
       "7  Compound of twelve pentagrammic crossed antipr...  \n",
       "8                                              OR3A4  \n",
       "9                                              OR2A5  "
      ]
     },
     "execution_count": 4,
     "metadata": {},
     "output_type": "execute_result"
    }
   ],
   "source": [
    "df = ds.to_pandas()\n",
    "df[:10]\n"
   ]
  },
  {
   "cell_type": "markdown",
   "metadata": {},
   "source": [
    "----\n",
    "# Retrieval with Chroma"
   ]
  },
  {
   "cell_type": "code",
   "execution_count": 4,
   "metadata": {},
   "outputs": [],
   "source": [
    "# def store_from_folder_chroma(folder_name=\"uploaded_files\", \n",
    "#                             collection_name=\"rag_collection\",\n",
    "#                             persist_path = \"./test_data_rag_vectorstore2\"):\n",
    "#     chroma_db = ChromaDBManager(\n",
    "#         collection_name=collection_name,\n",
    "#         persist_path=persist_path,\n",
    "#         chunk_size=300,\n",
    "#         chunk_overlap=50,\n",
    "#         model_name=\"all-MiniLM-L6-v2\", \n",
    "#         reset=True\n",
    "#     )\n",
    "#     chroma_db.store_file(folder_name)\n",
    "\n",
    "# def retrieve_from_chroma(query, \n",
    "#                         collection_name=\"rag_collection\",\n",
    "#                         persist_path = \"./test_data_rag_vectorstore2\"):\n",
    "#     chroma_db = ChromaDBManager(\n",
    "#         collection_name=collection_name,\n",
    "#         persist_path=persist_path,\n",
    "#         chunk_size=300,\n",
    "#         chunk_overlap=50,\n",
    "#         model_name=\"all-MiniLM-L6-v2\", \n",
    "#         reset=False\n",
    "#     )\n",
    "#     retrieved_chunks = chroma_db.retrieve(query)\n",
    "#     return retrieved_chunks\n",
    "\n",
    "# def get_stored_chunks(collection_name=\"rag_collection\",\n",
    "#                         persist_path = \"./test_data_rag_vectorstore2\"):\n",
    "#     chroma_db = ChromaDBManager(\n",
    "#         collection_name=collection_name,\n",
    "#         persist_path=persist_path,\n",
    "#         chunk_size=300,\n",
    "#         chunk_overlap=50,\n",
    "#         model_name=\"all-MiniLM-L6-v2\", \n",
    "#         reset=False\n",
    "#     )\n",
    "#     results = chroma_db.collection.get(include=[\"documents\"])\n",
    "#     stored_chunks = list(zip(results[\"documents\"]))\n",
    "#     return stored_chunks\n"
   ]
  },
  {
   "cell_type": "code",
   "execution_count": 2,
   "metadata": {},
   "outputs": [
    {
     "name": "stdout",
     "output_type": "stream",
     "text": [
      "Existing collections: ['langchain', 'rag_collection']\n",
      "Collection 'rag_collection' deleted.\n",
      "Collection 'rag_collection' has been reset.\n"
     ]
    }
   ],
   "source": [
    "persist_path = \"./test_data_rag_vectorstore2\"\n",
    "collection_name = \"rag_collection\"\n",
    "\n",
    "db = ChromaDBManager(\n",
    "    collection_name=collection_name,\n",
    "    persist_path=persist_path,\n",
    "    chunk_size=300,\n",
    "    chunk_overlap=50,\n",
    "    model_name=\"all-MiniLM-L6-v2\"\n",
    ")"
   ]
  },
  {
   "cell_type": "code",
   "execution_count": 6,
   "metadata": {},
   "outputs": [
    {
     "name": "stderr",
     "output_type": "stream",
     "text": [
      "100%|██████████| 100/100 [01:08<00:00,  1.47it/s]\n"
     ]
    }
   ],
   "source": [
    "all_chunks = []\n",
    "\n",
    "for i in tqdm.tqdm(range(0, 100)):\n",
    "    text = ds[\"text\"][i]\n",
    "    title = ds[\"title\"][i]\n",
    "    url = ds[\"url\"][i]\n",
    "    chunks = db.splitter.split_text(text)\n",
    "    embeddings = db._embed_texts(chunks)\n",
    "    ids = [str(uuid.uuid4()) for _ in chunks]\n",
    "    metadatas = [{\"title\": title, \"url\": url} for _ in chunks]\n",
    "    db.collection.add(documents=chunks, embeddings=embeddings, ids=ids, metadatas=metadatas)\n"
   ]
  },
  {
   "cell_type": "code",
   "execution_count": 7,
   "metadata": {},
   "outputs": [
    {
     "data": {
      "text/plain": [
       "1147"
      ]
     },
     "execution_count": 7,
     "metadata": {},
     "output_type": "execute_result"
    }
   ],
   "source": [
    "db.count_documents()"
   ]
  },
  {
   "cell_type": "code",
   "execution_count": 8,
   "metadata": {},
   "outputs": [],
   "source": [
    "results = db.collection.get(include=[\"documents\", \"metadatas\"])\n",
    "stored_chunks = list(zip(results[\"documents\"], results[\"metadatas\"]))\n"
   ]
  },
  {
   "cell_type": "code",
   "execution_count": 9,
   "metadata": {},
   "outputs": [
    {
     "data": {
      "text/plain": [
       "[('UV radiation resistance-associated gene protein is a protein that in humans is encoded by the UVRAG gene.',\n",
       "  {'title': 'UVRAG', 'url': 'https://en.wikipedia.org/wiki/UVRAG'}),\n",
       " ('This gene complements the ultraviolet sensitivity of xeroderma pigmentosum group C cells and encodes a protein with a C2 domain. The protein activates the Beclin1-PI(3)KC3 complex, promoting autophagy and suppressing the proliferation and tumorigenicity of human colon cancer cells.',\n",
       "  {'title': 'UVRAG', 'url': 'https://en.wikipedia.org/wiki/UVRAG'}),\n",
       " ('Chromosomal aberrations involving this gene are associated with left-right axis malformation and mutations in this gene have been associated with colon cancer.\\n\\nReferences\\n\\nFurther reading',\n",
       "  {'title': 'UVRAG', 'url': 'https://en.wikipedia.org/wiki/UVRAG'}),\n",
       " ('Olfactory receptor 51E1 is a protein that in humans is encoded by the OR51E1 gene.',\n",
       "  {'title': 'OR51E1', 'url': 'https://en.wikipedia.org/wiki/OR51E1'}),\n",
       " ('Olfactory receptors interact with odorant molecules in the nose, to initiate a neuronal response that triggers the perception of a smell. The olfactory receptor proteins are members of a large family of G-protein-coupled receptors arising from single coding-exon genes. Olfactory receptors share a',\n",
       "  {'title': 'OR51E1', 'url': 'https://en.wikipedia.org/wiki/OR51E1'}),\n",
       " ('coding-exon genes. Olfactory receptors share a 7-transmembrane domain structure with many neurotransmitter and hormone receptors and are responsible for the recognition and G protein-mediated transduction of odorant signals. The olfactory receptor gene family is the largest in the genome. The',\n",
       "  {'title': 'OR51E1', 'url': 'https://en.wikipedia.org/wiki/OR51E1'}),\n",
       " ('gene family is the largest in the genome. The nomenclature assigned to the olfactory receptor genes and proteins for this organism is independent of other organisms.',\n",
       "  {'title': 'OR51E1', 'url': 'https://en.wikipedia.org/wiki/OR51E1'}),\n",
       " ('Ligands\\nThe receptor is associated with some compounds with a \"cheese\" or \"sour\" scent note.\\nExamples of compounds that activate OR51E1 include:\\n butyl butyryl lactate\\n isovaleric acid\\n nonanoic acid\\n 3-methylpentanoic acid\\n 4-methylpentanoic acid\\nThe following are in decreasing order of activity:',\n",
       "  {'title': 'OR51E1', 'url': 'https://en.wikipedia.org/wiki/OR51E1'}),\n",
       " ('butyric acid\\n methyl eugenol\\n methyl salicylate\\n (+)-menthol\\n eugenyl acetate\\n 2,4-dinitrotoluene\\n pyrazine\\n dimethyl disulfide\\n methyl furfuryl disulfide\\n pentanol\\n propanal',\n",
       "  {'title': 'OR51E1', 'url': 'https://en.wikipedia.org/wiki/OR51E1'}),\n",
       " ('See also \\n Olfactory receptor\\n\\nReferences\\n\\nFurther reading\\n\\nExternal links \\n \\n\\nOlfactory receptors',\n",
       "  {'title': 'OR51E1', 'url': 'https://en.wikipedia.org/wiki/OR51E1'})]"
      ]
     },
     "execution_count": 9,
     "metadata": {},
     "output_type": "execute_result"
    }
   ],
   "source": [
    "stored_chunks[:10]"
   ]
  },
  {
   "cell_type": "markdown",
   "metadata": {},
   "source": [
    "# Helper Functions"
   ]
  },
  {
   "cell_type": "code",
   "execution_count": 1,
   "metadata": {},
   "outputs": [],
   "source": [
    "def build_question_prompt(chunk):\n",
    "    return f\"\"\"\n",
    "You are an AI assistant helping generate synthetic questions for a RAG dataset.\n",
    "\n",
    "Given the context below, generate a clear and answerable question that could be answered using only this context.\n",
    "\n",
    "Context:\n",
    "\\\"\\\"\\\"\n",
    "{chunk}\n",
    "\\\"\\\"\\\"\n",
    "\n",
    "Question:\"\"\"\n",
    "\n",
    "async def generate_questions(stored_chunks, llm_question_generator, db):\n",
    "    questions = []\n",
    "    all_retrieved_chunks = []\n",
    "    for chunk in stored_chunks:\n",
    "        prompt = build_question_prompt(chunk)\n",
    "        question = await llm_question_generator.invoke(prompt)\n",
    "        questions.append(question.strip())\n",
    "        retrieved_chunks = db.retrieve(question)\n",
    "        all_retrieved_chunks.append(retrieved_chunks)\n",
    "    return questions, all_retrieved_chunks\n",
    "\n",
    "\n",
    "async def generate_question(chunk, llm_question_generator):\n",
    "    prompt = build_question_prompt(chunk)\n",
    "    question = await llm_question_generator.invoke(prompt)\n",
    "    return question.strip()\n",
    "\n",
    "async def generate_ground_truth_responses(questions, retrieved_chunks, reference_llm_provider):\n",
    "    ground_truth_responses = []\n",
    "    for i in range(len(questions)):\n",
    "        context = \"\\n\".join(retrieved_chunks[i])\n",
    "        prompt = f\"Answer the question based on the following context:\\n\\n{context}\\n\\nQuestion: {questions[i]}\"\n",
    "        response = await reference_llm_provider.invoke(prompt)\n",
    "        ground_truth_responses.append(response)\n",
    "    return ground_truth_responses\n",
    "\n",
    "async def run_reference_query(query, context_chunks, llm_provider):\n",
    "    context = \"\\n\".join(context_chunks)\n",
    "    prompt = f\"Answer the question based on the following context:\\n\\n{context}\\n\\nQuestion: {query}\"\n",
    "    return await llm_provider.invoke(prompt), context_chunks\n",
    "\n",
    "async def run_test_query(query, context_chunks, test_llm_provider):\n",
    "    context = \"\\n\".join(context_chunks)\n",
    "    prompt = f\"Answer the question based on the following context:\\n\\n{context}\\n\\nQuestion: {query}\"\n",
    "    return await test_llm_provider.invoke(prompt), context_chunks\n",
    "\n"
   ]
  },
  {
   "cell_type": "code",
   "execution_count": 2,
   "metadata": {},
   "outputs": [
    {
     "name": "stderr",
     "output_type": "stream",
     "text": [
      "/Users/lilianahotsko/Desktop/LLMAnonymizationThesis/.venv/lib/python3.11/site-packages/tqdm/auto.py:21: TqdmWarning: IProgress not found. Please update jupyter and ipywidgets. See https://ipywidgets.readthedocs.io/en/stable/user_install.html\n",
      "  from .autonotebook import tqdm as notebook_tqdm\n"
     ]
    }
   ],
   "source": [
    "from datasets import Dataset\n",
    "\n",
    "async def create_ragas_dataset(questions,\n",
    "                        retrieved_chunks,\n",
    "                        ground_truth_responses,\n",
    "                        test_llm_provider):\n",
    "\n",
    "    answers = []\n",
    "    contexts = []\n",
    "\n",
    "    for i in range(len(questions)):\n",
    "        test_answer, test_context_chunks = await run_test_query(questions[i], retrieved_chunks[i], test_llm_provider)\n",
    "        answers.append(test_answer)\n",
    "        contexts.append(test_context_chunks)\n",
    "\n",
    "    ragas_data = Dataset.from_dict({\n",
    "        \"question\": questions,\n",
    "        \"answer\": answers,\n",
    "        \"contexts\": retrieved_chunks,\n",
    "        \"reference\": ground_truth_responses\n",
    "    })\n",
    "\n",
    "    return ragas_data\n"
   ]
  },
  {
   "cell_type": "code",
   "execution_count": 3,
   "metadata": {},
   "outputs": [],
   "source": [
    "from datasets import Dataset\n",
    "\n",
    "async def create_ragas_dataset_with_final_answer(questions,\n",
    "                        retrieved_chunks,\n",
    "                        ground_truth_responses,\n",
    "                        final_responses):\n",
    "\n",
    "    ragas_data = Dataset.from_dict({\n",
    "        \"question\": questions,\n",
    "        \"answer\": final_responses,\n",
    "        \"contexts\": retrieved_chunks,\n",
    "        \"reference\": ground_truth_responses\n",
    "    })\n",
    "\n",
    "    return ragas_data\n"
   ]
  },
  {
   "cell_type": "code",
   "execution_count": 5,
   "metadata": {},
   "outputs": [],
   "source": [
    "from ragas import evaluate\n",
    "from ragas.metrics import (\n",
    "    faithfulness,\n",
    "    answer_relevancy,\n",
    "    context_recall,\n",
    "    context_precision,\n",
    "    answer_correctness,\n",
    ")\n",
    "\n",
    "def evaluate_rag(ragas_data):\n",
    "    result = evaluate(\n",
    "        dataset=ragas_data,\n",
    "        metrics=[\n",
    "            faithfulness,\n",
    "            answer_relevancy,\n",
    "            context_precision,\n",
    "            context_recall,\n",
    "            answer_correctness\n",
    "        ]\n",
    "    )\n",
    "    return result\n"
   ]
  },
  {
   "cell_type": "markdown",
   "metadata": {},
   "source": [
    "# Ukrainian"
   ]
  },
  {
   "cell_type": "markdown",
   "metadata": {},
   "source": [
    "## All llms - gpts"
   ]
  },
  {
   "cell_type": "code",
   "execution_count": 6,
   "metadata": {},
   "outputs": [],
   "source": [
    "# Test setup\n",
    "\n",
    "llm_question_generator = GenericProvider({\n",
    "    \"provider\":\"openai\",\n",
    "    \"model\": \"gpt-4o\",\n",
    "    \"temperature\": 0.5,\n",
    "    \"max_tokens\": 512\n",
    "})\n",
    "\n",
    "reference_llm_provider = GenericProvider({\n",
    "    \"provider\":\"openai\",\n",
    "    \"model\": \"gpt-4o\",\n",
    "    \"temperature\": 0,\n",
    "    \"max_tokens\": 512\n",
    "})\n",
    "\n",
    "test_llm_provider = GenericProvider({\n",
    "    \"provider\":\"openai\",\n",
    "    \"model\": \"gpt-4o\",\n",
    "    \"temperature\": 0,\n",
    "    \"max_tokens\": 512\n",
    "})"
   ]
  },
  {
   "cell_type": "code",
   "execution_count": 7,
   "metadata": {},
   "outputs": [
    {
     "name": "stdout",
     "output_type": "stream",
     "text": [
      "Existing collections: ['rag_collection_ukrainian_trip_text', 'rag_collection_ukrainian_trip_masked_text']\n",
      "Collection 'rag_collection_ukrainian_trip_text' deleted.\n",
      "Collection 'rag_collection_ukrainian_trip_text' has been reset.\n",
      "Цього року сім’я Петрових вирішила вирушити на довгоочікувану подорож до Італії. Ідея поїхати на відпочинок виникла після кількох років важкої роботи та навчання. Ігор, голова сім’ї, був радий, що нарешті зможе взяти відпустку. Як інженер у великій компанії, він завжди мав багато роботи, тому сімейні подорожі були рідкістю. Проте цього року він вирішив приділити більше часу своїм близьким. Олена, його дружина, лікар у місцевій клініці, теж дуже хотіла поїхати до Італії, адже це була її давня мрія — побачити Колізей і насолодитися смачною італійською кухнею. Відпочинок був для неї не лише можливістю побачити нові місця, але й шансом розслабитися після виснажливої роботи в клініці.  Їхній син, Андрій, студент університету, був дуже радий, що вирушить до Італії. В нього було безліч планів, адже він активно займається волейболом і чув від друзів багато захоплених відгуків про пляжі та атмосферу країни. Андрій також мав намір відвідати кілька університетів у Римі, щоб дізнатися більше про студентське життя в Італії та, можливо, навіть влаштувати стажування чи обмін на майбутнє.  Марічка, їхня молодша донька, яка ще ходила до школи, була в захваті від цієї подорожі. Вона дуже любила подорожувати і мріяла побачити знамениті пам’ятки Італії, зокрема Пізанську вежу. Її захоплювала ідея зробити безліч фотографій на фоні історичних пам’яток та вуличок італійських міст.  Всі члени сім’ї з нетерпінням чекали цієї поїздки. Їхні серця були сповнені очікуванням пригод, відкриттів і спільних моментів радості. Вони разом планували маршрут, обговорювали, що хочуть побачити, і розподіляли свої інтереси таким чином, щоб кожен мав можливість насолоджуватися подорожжю на свій лад.  День 1: Підготовка до подорожі Підготовка до подорожі була схожою на справжній виріб: купа валіз, документів, а також ціла низка невирішених питань. Ігор ще раз перевірив робочі документи та пообіцяв не турбуватися про роботу впродовж відпустки. Олена обирала, що взяти з собою — легкі сукні для спекотної погоди, комфортне взуття для екскурсій та кілька медичних засобів на всяк випадок. Андрій, як завжди, зацікавлений у всіх нових технологіях, розглядав на своєму смартфоні карту і відмічав цікаві місця для відвідування в Римі та Флоренції. Марічка ж вирішила запакувати кілька фотоапаратів і, звісно, взяти свій щоденник, щоб записувати свої враження під час подорожі.  Коли настав час виїзду, вони сіли в машину, і збуджена атмосфера в повітрі була немов передчуття великої пригоди. Ігор був за кермом, а Олена поруч. Вони вже уявляли, як через кілька годин полетять в італійське небо. Андрій і Марічка сиділи на задньому сидінні і ділилися своїми очікуваннями від подорожі.  День 2: Приліт до Італії Коли сім’я Петрових прилетіла до Італії, перше, що вони помітили — це неповторний аромат, що витає в повітрі. Італійський вітер приносив запахи квітів і свіжого хліба, який, здавалося, був пекучим і смачним навіть без проби. Вони відчули себе на іншій планеті, де кожен крок приносив нові враження.  Спочатку вони вирушили до Риму, де їх зустрічав гарячий сонячний день. Готель був в самому центрі міста, і з його вікон відкривався вид на старовинні вулички та малі кафе, де за чашкою кави сиділи місцеві мешканці. Ігор і Олена вирішили спочатку прогулятися містом і відвідати Колізей. Це було справжнім відкриттям для Олени, яка завжди мріяла побачити одну з найвідоміших архітектурних пам’яток у світі. Ігор із задоволенням слухав екскурсовода, який розповідав історію цього великого амфітеатру, що став свідком багатьох важливих подій в історії Риму.  Андрій та Марічка ж не могли дочекатися моменту, щоб побачити ще більше. Для Андрія це була можливість подивитися на студентське життя в Італії. Він був у захваті від того, як живуть місцеві студенти: де вони зустрічаються, як проходять їхні лекції, де гуляють у вільний час. Марічка ж була в повному захваті від римських вуличок. Вона гуляла по них з фотоапаратом в руках, кожен раз зупиняючись, щоб зробити нові кадри.  Вечір вони провели в одному з ресторанів, де скуштували справжню італійську піцу і пасту. Це була справжня гастрономічна насолода, яку неможливо було передати словами. Ігор та Олена не переставали захоплюватися кожним шматочком, а Андрій і Марічка з радістю ділилися своїми враженнями про перший день у Римі.  День 3: Флоренція і Пізанська вежа На наступний день родина вирушила до Флоренції. Це місто було просто чарівним. Вузькі вулички, старовинні будівлі та величезні музеї, які вражали своєю історією. Олена була дуже щаслива, адже їй вдалося побачити не тільки знамениті твори мистецтва, але й отримати натхнення для подальшої роботи.  Андрій відвідав кілька університетів у Флоренції, що дало йому безцінний досвід. Він познайомився з кількома студентами, поговорив з викладачами та дізнався більше про навчання в Італії. Це надихнуло його на роздуми про майбутнє.  Марічка ж з нетерпінням чекала Пізанської вежі. І ось, на четвертий день, вони вирушили до Пізи. І хоча погода була трохи хмарною, це не завадило їй зробити кілька чудових фотографій біля знаменитої вежі.  \n",
      "Stored 20 chunks from 'uploaded_files' into 'rag_collection_ukrainian_trip_text'.\n"
     ]
    },
    {
     "name": "stderr",
     "output_type": "stream",
     "text": [
      "Evaluating: 100%|██████████| 25/25 [00:19<00:00,  1.30it/s]\n"
     ]
    },
    {
     "name": "stdout",
     "output_type": "stream",
     "text": [
      "Average values for each metric:\n",
      "faithfulness          0.816667\n",
      "answer_relevancy      0.750914\n",
      "context_precision     0.621667\n",
      "context_recall        1.000000\n",
      "answer_correctness    0.741647\n",
      "dtype: float64\n"
     ]
    }
   ],
   "source": [
    "\n",
    "folder_name=\"uploaded_files\"\n",
    "collection_name=\"rag_collection_ukrainian_trip_text\"\n",
    "persist_path = \"./test_data_rag_vectorstore_tests\"\n",
    "\n",
    "chroma_db = ChromaDBManager(\n",
    "        collection_name=collection_name,\n",
    "        persist_path=persist_path,\n",
    "        chunk_size=300,\n",
    "        chunk_overlap=50,\n",
    "        model_name=\"all-MiniLM-L6-v2\", \n",
    "        reset=True\n",
    "    )\n",
    "\n",
    "chroma_db.store_file(folder_name)\n",
    "stored_chunks = chroma_db.get_stored_chunks()\n",
    "questions, retrieved_chunks = await generate_questions(stored_chunks[:5], llm_question_generator, chroma_db)\n",
    "ground_truth_responses = await generate_ground_truth_responses(questions, retrieved_chunks, reference_llm_provider)\n",
    "\n",
    "ragas_data = await create_ragas_dataset(questions,\n",
    "                                        retrieved_chunks,\n",
    "                                        ground_truth_responses,\n",
    "                                        test_llm_provider)\n",
    "result = evaluate_rag(ragas_data)\n",
    "pd_results = result.to_pandas()\n",
    "pd_results.head()\n",
    "metric_averages = pd_results.select_dtypes(include=\"number\").mean()\n",
    "print(\"Average values for each metric:\")\n",
    "print(metric_averages)"
   ]
  },
  {
   "cell_type": "markdown",
   "metadata": {},
   "source": [
    "## Local llm invokation"
   ]
  },
  {
   "cell_type": "code",
   "execution_count": 24,
   "metadata": {},
   "outputs": [
    {
     "name": "stderr",
     "output_type": "stream",
     "text": [
      "Evaluating: 100%|██████████| 25/25 [00:19<00:00,  1.30it/s]\n"
     ]
    },
    {
     "name": "stdout",
     "output_type": "stream",
     "text": [
      "Average values for each metric:\n",
      "faithfulness          0.500000\n",
      "answer_relevancy      0.756439\n",
      "context_precision     0.316667\n",
      "context_recall        1.000000\n",
      "answer_correctness    0.453978\n",
      "dtype: float64\n"
     ]
    }
   ],
   "source": [
    "test_llm_provider = GenericProvider({\n",
    "    \"provider\":\"llama\",\n",
    "    \"model\": \"llama3.2\",\n",
    "    \"temperature\": 0,\n",
    "    \"max_tokens\": 512\n",
    "})\n",
    "\n",
    "ragas_data_llama = await create_ragas_dataset(questions,\n",
    "                                        retrieved_chunks,\n",
    "                                        ground_truth_responses,\n",
    "                                        test_llm_provider)\n",
    "\n",
    "result = evaluate_rag(ragas_data_llama)\n",
    "pd_results = result.to_pandas()\n",
    "pd_results.head()\n",
    "metric_averages = pd_results.select_dtypes(include=\"number\").mean()\n",
    "print(\"Average values for each metric:\")\n",
    "print(metric_averages)"
   ]
  },
  {
   "cell_type": "code",
   "execution_count": 25,
   "metadata": {},
   "outputs": [
    {
     "name": "stderr",
     "output_type": "stream",
     "text": [
      "Evaluating: 100%|██████████| 25/25 [00:18<00:00,  1.34it/s]\n"
     ]
    },
    {
     "name": "stdout",
     "output_type": "stream",
     "text": [
      "Average values for each metric:\n",
      "faithfulness          0.800000\n",
      "answer_relevancy      0.556633\n",
      "context_precision     0.316667\n",
      "context_recall        1.000000\n",
      "answer_correctness    0.566313\n",
      "dtype: float64\n"
     ]
    }
   ],
   "source": [
    "test_llm_provider = GenericProvider({\n",
    "    \"provider\":\"mistral\",\n",
    "    \"model\": \"mistral\",\n",
    "    \"temperature\": 0,\n",
    "    \"max_tokens\": 512\n",
    "})\n",
    "\n",
    "ragas_data_mistral = await create_ragas_dataset(questions,\n",
    "                                        retrieved_chunks,\n",
    "                                        ground_truth_responses,\n",
    "                                        test_llm_provider)\n",
    "\n",
    "result = evaluate_rag(ragas_data_mistral)\n",
    "pd_results = result.to_pandas()\n",
    "pd_results.head()\n",
    "metric_averages = pd_results.select_dtypes(include=\"number\").mean()\n",
    "print(\"Average values for each metric:\")\n",
    "print(metric_averages)"
   ]
  },
  {
   "cell_type": "markdown",
   "metadata": {},
   "source": [
    "## Anonymization Pipelines\n"
   ]
  },
  {
   "cell_type": "markdown",
   "metadata": {},
   "source": [
    "### Pattern NER + Spacy Original NER(uk)"
   ]
  },
  {
   "cell_type": "code",
   "execution_count": 9,
   "metadata": {},
   "outputs": [],
   "source": [
    "####### MASKING #######\n",
    "from processing.pattern_processing import PatternProcessor\n",
    "from processing.ner_processing import NERProcessor"
   ]
  },
  {
   "cell_type": "code",
   "execution_count": 10,
   "metadata": {},
   "outputs": [
    {
     "data": {
      "text/plain": [
       "'Цього року сім’я Петрових вирішила вирушити на довгоочікувану подорож до Італії. Ідея поїхати на відпочинок виникла після кількох років важкої роботи та навчання. Ігор, голова сім’ї, був радий, що нарешті зможе взяти відпустку. Як інженер у великій компанії, він завжди мав багато роботи, томукомпанії, він завжди мав багато роботи, тому сімейні подорожі були рідкістю. Проте цього року він вирішив приділити більше часу своїм близьким. Олена, його дружина, лікар у місцевій клініці, теж дуже хотіла поїхати до Італії, адже це була її давня мрія — побачити Колізей і насолодитися смачноюмрія — побачити Колізей і насолодитися смачною італійською кухнею. Відпочинок був для неї не лише можливістю побачити нові місця, але й шансом розслабитися після виснажливої роботи в клініці.  Їхній син, Андрій, студент університету, був дуже радий, що вирушить до Італії. В нього було безлічрадий, що вирушить до Італії. В нього було безліч планів, адже він активно займається волейболом і чув від друзів багато захоплених відгуків про пляжі та атмосферу країни. Андрій також мав намір відвідати кілька університетів у Римі, щоб дізнатися більше про студентське життя в Італії та, можливо,про студентське життя в Італії та, можливо, навіть влаштувати стажування чи обмін на майбутнє.  Марічка, їхня молодша донька, яка ще ходила до школи, була в захваті від цієї подорожі. Вона дуже любила подорожувати і мріяла побачити знамениті пам’ятки Італії, зокрема Пізанську вежу. Її захоплювалаІталії, зокрема Пізанську вежу. Її захоплювала ідея зробити безліч фотографій на фоні історичних пам’яток та вуличок італійських міст.  Всі члени сім’ї з нетерпінням чекали цієї поїздки. Їхні серця були сповнені очікуванням пригод, відкриттів і спільних моментів радості. Вони разом планувалиі спільних моментів радості. Вони разом планували маршрут, обговорювали, що хочуть побачити, і розподіляли свої інтереси таким чином, щоб кожен мав можливість насолоджуватися подорожжю на свій лад.  День 1: Підготовка до подорожі Підготовка до подорожі була схожою на справжній виріб: купа валіз,була схожою на справжній виріб: купа валіз, документів, а також ціла низка невирішених питань. Ігор ще раз перевірив робочі документи та пообіцяв не турбуватися про роботу впродовж відпустки. Олена обирала, що взяти з собою — легкі сукні для спекотної погоди, комфортне взуття для екскурсій тапогоди, комфортне взуття для екскурсій та кілька медичних засобів на всяк випадок. Андрій, як завжди, зацікавлений у всіх нових технологіях, розглядав на своєму смартфоні карту і відмічав цікаві місця для відвідування в Римі та Флоренції. Марічка ж вирішила запакувати кілька фотоапаратів і, звісно,запакувати кілька фотоапаратів і, звісно, взяти свій щоденник, щоб записувати свої враження під час подорожі.  Коли настав час виїзду, вони сіли в машину, і збуджена атмосфера в повітрі була немов передчуття великої пригоди. Ігор був за кермом, а Олена поруч. Вони вже уявляли, як через кілька годинпоруч. Вони вже уявляли, як через кілька годин полетять в італійське небо. Андрій і Марічка сиділи на задньому сидінні і ділилися своїми очікуваннями від подорожі.  День 2: Приліт до Італії Коли сім’я Петрових прилетіла до Італії, перше, що вони помітили — це неповторний аромат, що витає в повітрі.— це неповторний аромат, що витає в повітрі. Італійський вітер приносив запахи квітів і свіжого хліба, який, здавалося, був пекучим і смачним навіть без проби. Вони відчули себе на іншій планеті, де кожен крок приносив нові враження.  Спочатку вони вирушили до Риму, де їх зустрічав гарячий сонячнийдо Риму, де їх зустрічав гарячий сонячний день. Готель був в самому центрі міста, і з його вікон відкривався вид на старовинні вулички та малі кафе, де за чашкою кави сиділи місцеві мешканці. Ігор і Олена вирішили спочатку прогулятися містом і відвідати Колізей. Це було справжнім відкриттям дляКолізей. Це було справжнім відкриттям для Олени, яка завжди мріяла побачити одну з найвідоміших архітектурних пам’яток у світі. Ігор із задоволенням слухав екскурсовода, який розповідав історію цього великого амфітеатру, що став свідком багатьох важливих подій в історії Риму.  Андрій та Марічка жподій в історії Риму.  Андрій та Марічка ж не могли дочекатися моменту, щоб побачити ще більше. Для Андрія це була можливість подивитися на студентське життя в Італії. Він був у захваті від того, як живуть місцеві студенти: де вони зустрічаються, як проходять їхні лекції, де гуляють у вільний час.проходять їхні лекції, де гуляють у вільний час. Марічка ж була в повному захваті від римських вуличок. Вона гуляла по них з фотоапаратом в руках, кожен раз зупиняючись, щоб зробити нові кадри.  Вечір вони провели в одному з ресторанів, де скуштували справжню італійську піцу і пасту. Це буласправжню італійську піцу і пасту. Це була справжня гастрономічна насолода, яку неможливо було передати словами. Ігор та Олена не переставали захоплюватися кожним шматочком, а Андрій і Марічка з радістю ділилися своїми враженнями про перший день у Римі.  День 3: Флоренція і Пізанська вежа Нау Римі.  День 3: Флоренція і Пізанська вежа На наступний день родина вирушила до Флоренції. Це місто було просто чарівним. Вузькі вулички, старовинні будівлі та величезні музеї, які вражали своєю історією. Олена була дуже щаслива, адже їй вдалося побачити не тільки знамениті твори мистецтва, але йне тільки знамениті твори мистецтва, але й отримати натхнення для подальшої роботи.  Андрій відвідав кілька університетів у Флоренції, що дало йому безцінний досвід. Він познайомився з кількома студентами, поговорив з викладачами та дізнався більше про навчання в Італії. Це надихнуло його напро навчання в Італії. Це надихнуло його на роздуми про майбутнє.  Марічка ж з нетерпінням чекала Пізанської вежі. І ось, на четвертий день, вони вирушили до Пізи. І хоча погода була трохи хмарною, це не завадило їй зробити кілька чудових фотографій біля знаменитої вежі.'"
      ]
     },
     "execution_count": 10,
     "metadata": {},
     "output_type": "execute_result"
    }
   ],
   "source": [
    "# get combined text from all chunks\n",
    "chunk_texts = []\n",
    "for i in range(len(stored_chunks)):\n",
    "    text = stored_chunks[i][0]\n",
    "    chunk_texts.append(text)\n",
    "\n",
    "combined_texts = \"\".join(chunk_texts)\n",
    "combined_texts"
   ]
  },
  {
   "cell_type": "code",
   "execution_count": null,
   "metadata": {},
   "outputs": [],
   "source": [
    "!python -m spacy download uk_core_news_sm"
   ]
  },
  {
   "cell_type": "code",
   "execution_count": 11,
   "metadata": {},
   "outputs": [],
   "source": [
    "#mask texts \n",
    "pattern_processor = PatternProcessor({})\n",
    "processed_text, pattern_replacements, entity_map = pattern_processor.preprocess(combined_texts)"
   ]
  },
  {
   "cell_type": "code",
   "execution_count": 12,
   "metadata": {},
   "outputs": [],
   "source": [
    "spacy_ur_web_sm = NERProcessor(config={\"model\":\"uk_core_news_sm\"})\n",
    "spacy_result = spacy_ur_web_sm.preprocess(processed_text, pattern_replacements, entity_map)\n",
    "processed_text, ner_replacements, entity_map = spacy_result"
   ]
  },
  {
   "cell_type": "code",
   "execution_count": 13,
   "metadata": {},
   "outputs": [
    {
     "data": {
      "text/plain": [
       "'Цього року сім’я [PER_0] вирішила вирушити на довгоочікувану подорож до [LOC_1]. Ідея поїхати на відпочинок виникла після кількох років важкої роботи та навчання. [PER_2], голова сім’ї, був радий, що нарешті зможе взяти відпустку. Як інженер у великій компанії, він завжди мав багато роботи, томукомпанії, він завжди мав багато роботи, тому сімейні подорожі були рідкістю. Проте цього року він вирішив приділити більше часу своїм близьким. [PER_3], його дружина, лікар у місцевій клініці, теж дуже хотіла поїхати до [LOC_1], адже це була її давня мрія — побачити [PER_4] і насолодитися смачноюмрія — побачити [PER_4] і насолодитися смачною італійською кухнею. Відпочинок був для неї не лише можливістю побачити нові місця, але й шансом розслабитися після виснажливої роботи в клініці.  Їхній син, [PER_5], студент університету, був дуже радий, що вирушить до [LOC_1]. В нього було безлічрадий, що вирушить до [LOC_1]. В нього було безліч планів, адже він активно займається волейболом і чув від друзів багато захоплених відгуків про пляжі та атмосферу країни. [PER_5] також мав намір відвідати кілька університетів у [LOC_6], щоб дізнатися більше про студентське життя в [LOC_1] та, можливо,про студентське життя в [LOC_1] та, можливо, навіть влаштувати стажування чи обмін на майбутнє.  [PER_10], їхня молодша донька, яка ще ходила до школи, була в захваті від цієї подорожі. Вона дуже любила подорожувати і мріяла побачити знамениті пам’ятки [LOC_1], зокрема [LOC_7]. Її захоплювала[LOC_1], зокрема [LOC_7]. Її захоплювала ідея зробити безліч фотографій на фоні історичних пам’яток та вуличок італійських міст.  Всі члени сім’ї з нетерпінням чекали цієї поїздки. Їхні серця були сповнені очікуванням пригод, відкриттів і спільних моментів радості. Вони разом планувалиі спільних моментів радості. Вони разом планували маршрут, обговорювали, що хочуть побачити, і розподіляли свої інтереси таким чином, щоб кожен мав можливість насолоджуватися подорожжю на свій лад.  День 1: [LOC_8] до подорожі [LOC_8] до подорожі була схожою на справжній виріб: купа валіз,була схожою на справжній виріб: купа валіз, документів, а також ціла низка невирішених питань. [PER_2] ще раз перевірив робочі документи та пообіцяв не турбуватися про роботу впродовж відпустки. [PER_3] обирала, що взяти з собою — легкі сукні для спекотної погоди, комфортне взуття для екскурсій тапогоди, комфортне взуття для екскурсій та кілька медичних засобів на всяк випадок. [PER_5], як завжди, зацікавлений у всіх нових технологіях, розглядав на своєму смартфоні карту і відмічав цікаві місця для відвідування в [LOC_6] та [LOC_9]. [PER_10] ж вирішила запакувати кілька фотоапаратів і, звісно,запакувати кілька фотоапаратів і, звісно, взяти свій щоденник, щоб записувати свої враження під час подорожі.  Коли настав час виїзду, вони сіли в машину, і збуджена атмосфера в повітрі була немов передчуття великої пригоди. [PER_2] був за кермом, а [PER_3] поруч. Вони вже уявляли, як через кілька годинпоруч. Вони вже уявляли, як через кілька годин полетять в італійське небо. [PER_5] і [PER_10] сиділи на задньому сидінні і ділилися своїми очікуваннями від подорожі.  День 2: Приліт до [LOC_1] Коли сім’я [PER_0] прилетіла до [LOC_1], перше, що вони помітили — це неповторний аромат, що витає в повітрі.— це неповторний аромат, що витає в повітрі. Італійський вітер приносив запахи квітів і свіжого хліба, який, здавалося, був пекучим і смачним навіть без проби. Вони відчули себе на іншій планеті, де кожен крок приносив нові враження.  Спочатку вони вирушили до [LOC_11], де їх зустрічав гарячий сонячнийдо [LOC_11], де їх зустрічав гарячий сонячний день. Готель був в самому центрі міста, і з його вікон відкривався вид на старовинні вулички та малі кафе, де за чашкою кави сиділи місцеві мешканці. [PER_2] і [PER_3] вирішили спочатку прогулятися містом і відвідати [PER_4]. Це було справжнім відкриттям для[PER_4]. Це було справжнім відкриттям для [PER_12], яка завжди мріяла побачити одну з найвідоміших архітектурних пам’яток у світі. [PER_2] із задоволенням слухав екскурсовода, який розповідав історію цього великого амфітеатру, що став свідком багатьох важливих подій в історії [LOC_11].  [PER_5] та [PER_10] жподій в історії [LOC_11].  [PER_5] та [PER_10] ж не могли дочекатися моменту, щоб побачити ще більше. Для [PER_13] це була можливість подивитися на студентське життя в [LOC_1]. Він був у захваті від того, як живуть місцеві студенти: де вони зустрічаються, як проходять їхні лекції, де гуляють у вільний час.проходять їхні лекції, де гуляють у вільний час. [PER_10] ж була в повному захваті від римських вуличок. Вона гуляла по них з фотоапаратом в руках, кожен раз зупиняючись, щоб зробити нові кадри.  Вечір вони провели в одному з ресторанів, де скуштували справжню італійську піцу і пасту. Це буласправжню італійську піцу і пасту. Це була справжня гастрономічна насолода, яку неможливо було передати словами. [PER_2] та [PER_3] не переставали захоплюватися кожним шматочком, а [PER_5] і [PER_10] з радістю ділилися своїми враженнями про перший день у [LOC_6].  День 3: Флоренція і [LOC_14] Нау [LOC_6].  День 3: Флоренція і [LOC_14] На наступний день родина вирушила до [LOC_9]. Це місто було просто чарівним. Вузькі вулички, старовинні будівлі та величезні музеї, які вражали своєю історією. [PER_3] була дуже щаслива, адже їй вдалося побачити не тільки знамениті твори мистецтва, але йне тільки знамениті твори мистецтва, але й отримати натхнення для подальшої роботи.  [PER_5] відвідав кілька університетів у [LOC_9], що дало йому безцінний досвід. Він познайомився з кількома студентами, поговорив з викладачами та дізнався більше про навчання в [LOC_1]. Це надихнуло його напро навчання в [LOC_1]. Це надихнуло його на роздуми про майбутнє.  [PER_10] ж з нетерпінням чекала [LOC_16]. І ось, на четвертий день, вони вирушили до [PER_17]. І хоча погода була трохи хмарною, це не завадило їй зробити кілька чудових фотографій біля знаменитої вежі.'"
      ]
     },
     "execution_count": 13,
     "metadata": {},
     "output_type": "execute_result"
    }
   ],
   "source": [
    "processed_text"
   ]
  },
  {
   "cell_type": "code",
   "execution_count": 15,
   "metadata": {},
   "outputs": [
    {
     "name": "stdout",
     "output_type": "stream",
     "text": [
      "Existing collections: ['rag_collection_ukrainian_trip_text', 'rag_collection_ukrainian_trip_masked_text']\n",
      "Collection 'rag_collection_ukrainian_trip_masked_text' deleted.\n",
      "Collection 'rag_collection_ukrainian_trip_masked_text' has been reset.\n",
      "'Цього року сім’я [PER_0] вирішила вирушити на довгоочікувану подорож до [LOC_1]. Ідея поїхати на відпочинок виникла після кількох років важкої роботи та навчання. [PER_2], голова сім’ї, був радий, що нарешті зможе взяти відпустку. Як інженер у великій компанії, він завжди мав багато роботи, томукомпанії, він завжди мав багато роботи, тому сімейні подорожі були рідкістю. Проте цього року він вирішив приділити більше часу своїм близьким. [PER_3], його дружина, лікар у місцевій клініці, теж дуже хотіла поїхати до [LOC_1], адже це була її давня мрія — побачити [PER_4] і насолодитися смачноюмрія — побачити [PER_4] і насолодитися смачною італійською кухнею. Відпочинок був для неї не лише можливістю побачити нові місця, але й шансом розслабитися після виснажливої роботи в клініці.  Їхній син, [PER_5], студент університету, був дуже радий, що вирушить до [LOC_1]. В нього було безлічрадий, що вирушить до [LOC_1]. В нього було безліч планів, адже він активно займається волейболом і чув від друзів багато захоплених відгуків про пляжі та атмосферу країни. [PER_5] також мав намір відвідати кілька університетів у [LOC_6], щоб дізнатися більше про студентське життя в [LOC_1] та, можливо,про студентське життя в [LOC_1] та, можливо, навіть влаштувати стажування чи обмін на майбутнє.  [PER_10], їхня молодша донька, яка ще ходила до школи, була в захваті від цієї подорожі. Вона дуже любила подорожувати і мріяла побачити знамениті пам’ятки [LOC_1], зокрема [LOC_7]. Її захоплювала[LOC_1], зокрема [LOC_7]. Її захоплювала ідея зробити безліч фотографій на фоні історичних пам’яток та вуличок італійських міст.  Всі члени сім’ї з нетерпінням чекали цієї поїздки. Їхні серця були сповнені очікуванням пригод, відкриттів і спільних моментів радості. Вони разом планувалиі спільних моментів радості. Вони разом планували маршрут, обговорювали, що хочуть побачити, і розподіляли свої інтереси таким чином, щоб кожен мав можливість насолоджуватися подорожжю на свій лад.  День 1: [LOC_8] до подорожі [LOC_8] до подорожі була схожою на справжній виріб: купа валіз,була схожою на справжній виріб: купа валіз, документів, а також ціла низка невирішених питань. [PER_2] ще раз перевірив робочі документи та пообіцяв не турбуватися про роботу впродовж відпустки. [PER_3] обирала, що взяти з собою — легкі сукні для спекотної погоди, комфортне взуття для екскурсій тапогоди, комфортне взуття для екскурсій та кілька медичних засобів на всяк випадок. [PER_5], як завжди, зацікавлений у всіх нових технологіях, розглядав на своєму смартфоні карту і відмічав цікаві місця для відвідування в [LOC_6] та [LOC_9]. [PER_10] ж вирішила запакувати кілька фотоапаратів і, звісно,запакувати кілька фотоапаратів і, звісно, взяти свій щоденник, щоб записувати свої враження під час подорожі.  Коли настав час виїзду, вони сіли в машину, і збуджена атмосфера в повітрі була немов передчуття великої пригоди. [PER_2] був за кермом, а [PER_3] поруч. Вони вже уявляли, як через кілька годинпоруч. Вони вже уявляли, як через кілька годин полетять в італійське небо. [PER_5] і [PER_10] сиділи на задньому сидінні і ділилися своїми очікуваннями від подорожі.  День 2: Приліт до [LOC_1] Коли сім’я [PER_0] прилетіла до [LOC_1], перше, що вони помітили — це неповторний аромат, що витає в повітрі.— це неповторний аромат, що витає в повітрі. Італійський вітер приносив запахи квітів і свіжого хліба, який, здавалося, був пекучим і смачним навіть без проби. Вони відчули себе на іншій планеті, де кожен крок приносив нові враження.  Спочатку вони вирушили до [LOC_11], де їх зустрічав гарячий сонячнийдо [LOC_11], де їх зустрічав гарячий сонячний день. Готель був в самому центрі міста, і з його вікон відкривався вид на старовинні вулички та малі кафе, де за чашкою кави сиділи місцеві мешканці. [PER_2] і [PER_3] вирішили спочатку прогулятися містом і відвідати [PER_4]. Це було справжнім відкриттям для[PER_4]. Це було справжнім відкриттям для [PER_12], яка завжди мріяла побачити одну з найвідоміших архітектурних пам’яток у світі. [PER_2] із задоволенням слухав екскурсовода, який розповідав історію цього великого амфітеатру, що став свідком багатьох важливих подій в історії [LOC_11].  [PER_5] та [PER_10] жподій в історії [LOC_11].  [PER_5] та [PER_10] ж не могли дочекатися моменту, щоб побачити ще більше. Для [PER_13] це була можливість подивитися на студентське життя в [LOC_1]. Він був у захваті від того, як живуть місцеві студенти: де вони зустрічаються, як проходять їхні лекції, де гуляють у вільний час.проходять їхні лекції, де гуляють у вільний час. [PER_10] ж була в повному захваті від римських вуличок. Вона гуляла по них з фотоапаратом в руках, кожен раз зупиняючись, щоб зробити нові кадри.  Вечір вони провели в одному з ресторанів, де скуштували справжню італійську піцу і пасту. Це буласправжню італійську піцу і пасту. Це була справжня гастрономічна насолода, яку неможливо було передати словами. [PER_2] та [PER_3] не переставали захоплюватися кожним шматочком, а [PER_5] і [PER_10] з радістю ділилися своїми враженнями про перший день у [LOC_6].  День 3: Флоренція і [LOC_14] Нау [LOC_6].  День 3: Флоренція і [LOC_14] На наступний день родина вирушила до [LOC_9]. Це місто було просто чарівним. Вузькі вулички, старовинні будівлі та величезні музеї, які вражали своєю історією. [PER_3] була дуже щаслива, адже їй вдалося побачити не тільки знамениті твори мистецтва, але йне тільки знамениті твори мистецтва, але й отримати натхнення для подальшої роботи.  [PER_5] відвідав кілька університетів у [LOC_9], що дало йому безцінний досвід. Він познайомився з кількома студентами, поговорив з викладачами та дізнався більше про навчання в [LOC_1]. Це надихнуло його напро навчання в [LOC_1]. Це надихнуло його на роздуми про майбутнє.  [PER_10] ж з нетерпінням чекала [LOC_16]. І ось, на четвертий день, вони вирушили до [PER_17]. І хоча погода була трохи хмарною, це не завадило їй зробити кілька чудових фотографій біля знаменитої вежі.'\n",
      "Stored 24 chunks from 'uploaded_files_masked_uk' into 'rag_collection_ukrainian_trip_masked_text'.\n"
     ]
    }
   ],
   "source": [
    "folder_name=\"uploaded_files_masked_uk\"\n",
    "collection_name=\"rag_collection_ukrainian_trip_masked_text\"\n",
    "persist_path = \"./test_data_rag_vectorstore_tests\"\n",
    "\n",
    "chroma_db = ChromaDBManager(\n",
    "        collection_name=collection_name,\n",
    "        persist_path=persist_path,\n",
    "        chunk_size=300,\n",
    "        chunk_overlap=50,\n",
    "        model_name=\"all-MiniLM-L6-v2\", \n",
    "        reset=True\n",
    "    )\n",
    "\n",
    "chroma_db.store_file(folder_name)\n",
    "masked_stored_chunks = chroma_db.get_stored_chunks()"
   ]
  },
  {
   "cell_type": "code",
   "execution_count": 16,
   "metadata": {},
   "outputs": [],
   "source": [
    "questions, retrieved_chunks = await generate_questions(masked_stored_chunks[:5], llm_question_generator, chroma_db)"
   ]
  },
  {
   "cell_type": "code",
   "execution_count": 17,
   "metadata": {},
   "outputs": [
    {
     "data": {
      "text/plain": [
       "[\"Хто в сім'ї [PER_0] займав посаду інженера у великій компанії?\",\n",
       " \"Які зміни у своєму графіку вирішив зробити чоловік, щоб приділити більше часу сім'ї?\",\n",
       " 'Яка була давня мрія особи щодо подорожі до [LOC_1]?',\n",
       " 'Який вид спорту активно займається син [PER_5]?',\n",
       " 'Які плани були у [PER_5] під час відвідування [LOC_6]?']"
      ]
     },
     "execution_count": 17,
     "metadata": {},
     "output_type": "execute_result"
    }
   ],
   "source": [
    "questions"
   ]
  },
  {
   "cell_type": "code",
   "execution_count": 24,
   "metadata": {},
   "outputs": [
    {
     "data": {
      "text/plain": [
       "[\"[PER_10] ж з нетерпінням чекала [LOC_16]. І ось, на четвертий день, вони вирушили до [PER_17]. І хоча погода була трохи хмарною, це не завадило їй зробити кілька чудових фотографій біля знаменитої вежі.'\",\n",
       " 'записувати свої враження під час подорожі.  Коли настав час виїзду, вони сіли в машину, і збуджена атмосфера в повітрі була немов передчуття великої пригоди. [PER_2] був за кермом, а [PER_3] поруч. Вони вже уявляли, як через кілька годинпоруч. Вони вже уявляли, як через кілька годин полетять в',\n",
       " 'архітектурних пам’яток у світі. [PER_2] із задоволенням слухав екскурсовода, який розповідав історію цього великого амфітеатру, що став свідком багатьох важливих подій в історії [LOC_11].  [PER_5] та [PER_10] жподій в історії [LOC_11].  [PER_5] та [PER_10] ж не могли дочекатися моменту, щоб',\n",
       " 'вже уявляли, як через кілька годин полетять в італійське небо. [PER_5] і [PER_10] сиділи на задньому сидінні і ділилися своїми очікуваннями від подорожі.  День 2: Приліт до [LOC_1] Коли сім’я [PER_0] прилетіла до [LOC_1], перше, що вони помітили — це неповторний аромат, що витає в повітрі.— це',\n",
       " \"'Цього року сім’я [PER_0] вирішила вирушити на довгоочікувану подорож до [LOC_1]. Ідея поїхати на відпочинок виникла після кількох років важкої роботи та навчання. [PER_2], голова сім’ї, був радий, що нарешті зможе взяти відпустку. Як інженер у великій компанії, він завжди мав багато роботи,\"]"
      ]
     },
     "execution_count": 24,
     "metadata": {},
     "output_type": "execute_result"
    }
   ],
   "source": [
    "retrieved_chunks[0]\n"
   ]
  },
  {
   "cell_type": "code",
   "execution_count": 19,
   "metadata": {},
   "outputs": [
    {
     "name": "stderr",
     "output_type": "stream",
     "text": [
      "Evaluating: 100%|██████████| 25/25 [00:17<00:00,  1.45it/s]\n"
     ]
    },
    {
     "name": "stdout",
     "output_type": "stream",
     "text": [
      "Average values for each metric:\n",
      "faithfulness          0.833333\n",
      "answer_relevancy      0.539174\n",
      "context_precision     0.317778\n",
      "context_recall        1.000000\n",
      "answer_correctness    0.682849\n",
      "dtype: float64\n"
     ]
    }
   ],
   "source": [
    "reference_llm_provider = GenericProvider({\n",
    "    \"provider\":\"openai\",\n",
    "    \"model\": \"gpt-4o\",\n",
    "    \"temperature\": 0,\n",
    "    \"max_tokens\": 512\n",
    "})\n",
    "\n",
    "test_llm_provider = GenericProvider({\n",
    "    \"provider\":\"openai\",\n",
    "    \"model\": \"gpt-4o\",\n",
    "    \"temperature\": 0,\n",
    "    \"max_tokens\": 512\n",
    "})\n",
    "\n",
    "ground_truth_responses = await generate_ground_truth_responses(questions, retrieved_chunks, reference_llm_provider)\n",
    "\n",
    "ragas_data = await create_ragas_dataset(questions,\n",
    "                                        retrieved_chunks,\n",
    "                                        ground_truth_responses,\n",
    "                                        test_llm_provider)\n",
    "result = evaluate_rag(ragas_data)\n",
    "pd_results = result.to_pandas()\n",
    "pd_results.head()\n",
    "metric_averages = pd_results.select_dtypes(include=\"number\").mean()\n",
    "print(\"Average values for each metric:\")\n",
    "print(metric_averages)"
   ]
  },
  {
   "cell_type": "code",
   "execution_count": 23,
   "metadata": {},
   "outputs": [
    {
     "data": {
      "text/plain": [
       "[\"У сім'ї [PER_0] інженером у великій компанії був [PER_2].\",\n",
       " \"Чоловік вирішив приділити більше часу сім'ї, вирушивши з ними на довгоочікувану подорож після кількох років важкої роботи, взявши відпустку.\",\n",
       " 'Давня мрія [PER_10], молодшої доньки, щодо подорожі до [LOC_1] полягала в тому, щоб побачити знамениті пам’ятки, зокрема [LOC_7].',\n",
       " 'На основі наданого контексту немає інформації про вид спорту, яким активно займається син [PER_5].',\n",
       " 'Плани [PER_5] під час відвідування [LOC_6] не описані в наданому контексті. Текст згадує враження [PER_10] про перший день у [LOC_6], але не конкретизує, які саме плани були у [PER_5].']"
      ]
     },
     "execution_count": 23,
     "metadata": {},
     "output_type": "execute_result"
    }
   ],
   "source": [
    "ragas_data[\"answer\"]"
   ]
  },
  {
   "cell_type": "markdown",
   "metadata": {},
   "source": [
    "### Pattern NER + RoBerta NER"
   ]
  },
  {
   "cell_type": "code",
   "execution_count": 25,
   "metadata": {},
   "outputs": [
    {
     "name": "stderr",
     "output_type": "stream",
     "text": [
      "2025-04-14 23:02:41 INFO: Checking for updates to resources.json in case models have been updated.  Note: this behavior can be turned off with download_method=None or download_method=DownloadMethod.REUSE_RESOURCES\n",
      "Downloading https://raw.githubusercontent.com/stanfordnlp/stanza-resources/main/resources_1.10.0.json: 426kB [00:00, 15.9MB/s]                    \n",
      "2025-04-14 23:02:41 INFO: Downloaded file to /Users/lilianahotsko/stanza_resources/resources.json\n",
      "2025-04-14 23:02:42 INFO: Loading these models for language: uk (Ukrainian):\n",
      "===========================\n",
      "| Processor | Package     |\n",
      "---------------------------\n",
      "| tokenize  | iu          |\n",
      "| mwt       | iu          |\n",
      "| pos       | iu_charlm   |\n",
      "| lemma     | iu_nocharlm |\n",
      "===========================\n",
      "\n",
      "2025-04-14 23:02:42 INFO: Using device: cpu\n",
      "2025-04-14 23:02:42 INFO: Loading: tokenize\n",
      "2025-04-14 23:02:42 INFO: Loading: mwt\n",
      "2025-04-14 23:02:42 INFO: Loading: pos\n",
      "2025-04-14 23:02:43 INFO: Loading: lemma\n",
      "2025-04-14 23:02:43 INFO: Done loading processors!\n",
      "Downloading https://raw.githubusercontent.com/stanfordnlp/stanza-resources/main/resources_1.10.0.json: 426kB [00:00, 15.9MB/s]                    \n",
      "2025-04-14 23:02:45 INFO: Downloaded file to /Users/lilianahotsko/stanza_resources/resources.json\n",
      "2025-04-14 23:02:45 INFO: Downloading default packages for language: uk (Ukrainian) ...\n",
      "2025-04-14 23:02:46 INFO: File exists: /Users/lilianahotsko/stanza_resources/uk/default.zip\n",
      "2025-04-14 23:02:47 INFO: Finished downloading models and saved to /Users/lilianahotsko/stanza_resources\n",
      "2025-04-14 23:02:47 INFO: Checking for updates to resources.json in case models have been updated.  Note: this behavior can be turned off with download_method=None or download_method=DownloadMethod.REUSE_RESOURCES\n",
      "Downloading https://raw.githubusercontent.com/stanfordnlp/stanza-resources/main/resources_1.10.0.json: 426kB [00:00, 15.8MB/s]                    \n",
      "2025-04-14 23:02:47 INFO: Downloaded file to /Users/lilianahotsko/stanza_resources/resources.json\n",
      "2025-04-14 23:02:48 INFO: Loading these models for language: uk (Ukrainian):\n",
      "===========================\n",
      "| Processor | Package     |\n",
      "---------------------------\n",
      "| tokenize  | iu          |\n",
      "| mwt       | iu          |\n",
      "| pos       | iu_charlm   |\n",
      "| lemma     | iu_nocharlm |\n",
      "===========================\n",
      "\n",
      "2025-04-14 23:02:48 INFO: Using device: cpu\n",
      "2025-04-14 23:02:48 INFO: Loading: tokenize\n",
      "2025-04-14 23:02:48 INFO: Loading: mwt\n",
      "2025-04-14 23:02:48 INFO: Loading: pos\n",
      "2025-04-14 23:02:49 INFO: Loading: lemma\n",
      "2025-04-14 23:02:49 INFO: Done loading processors!\n"
     ]
    },
    {
     "name": "stdout",
     "output_type": "stream",
     "text": [
      "Петрових\n",
      "Італії\n",
      "кількох років\n",
      "Ігор\n",
      "голова\n",
      "інженер\n",
      "цього року\n",
      "Олена\n",
      "лікар\n",
      "Італії\n",
      "Колізей\n",
      "Андрій\n",
      "Андрій\n",
      "Римі\n",
      "Італії\n",
      "Марічка\n",
      "Пізанську вежу\n",
      "День 1\n",
      "Ігор\n",
      "Олена\n",
      "Римі\n",
      "Флоренції\n",
      "Марічка\n",
      "кілька годинпоруч\n",
      "кілька годин\n",
      "Приліт\n",
      "Італійський\n",
      "Риму\n",
      "Колізей\n",
      "Олени\n",
      "Риму\n",
      "Андрія\n",
      "Римі\n",
      "День 3\n",
      "Флоренція\n",
      "Пізанська вежа\n",
      "наступний день\n",
      "Вузькі\n",
      "Флоренції\n",
      "Пізанської вежі\n",
      "Пізи\n"
     ]
    }
   ],
   "source": [
    "pattern_processor = PatternProcessor({})\n",
    "processed_text, pattern_replacements, entity_map = pattern_processor.preprocess(combined_texts)\n",
    "roberta_ner = NERProcessor(config={\"model\":\"roberta_ukr\"})\n",
    "roberta_result = roberta_ner.preprocess(processed_text, pattern_replacements, entity_map)\n",
    "processed_text, ner_replacements, entity_map = spacy_result"
   ]
  },
  {
   "cell_type": "code",
   "execution_count": 26,
   "metadata": {},
   "outputs": [
    {
     "data": {
      "text/plain": [
       "'Цього року сім’я [PER_0] вирішила вирушити на довгоочікувану подорож до [LOC_1]. Ідея поїхати на відпочинок виникла після кількох років важкої роботи та навчання. [PER_2], голова сім’ї, був радий, що нарешті зможе взяти відпустку. Як інженер у великій компанії, він завжди мав багато роботи, томукомпанії, він завжди мав багато роботи, тому сімейні подорожі були рідкістю. Проте цього року він вирішив приділити більше часу своїм близьким. [PER_3], його дружина, лікар у місцевій клініці, теж дуже хотіла поїхати до [LOC_1], адже це була її давня мрія — побачити [PER_4] і насолодитися смачноюмрія — побачити [PER_4] і насолодитися смачною італійською кухнею. Відпочинок був для неї не лише можливістю побачити нові місця, але й шансом розслабитися після виснажливої роботи в клініці.  Їхній син, [PER_5], студент університету, був дуже радий, що вирушить до [LOC_1]. В нього було безлічрадий, що вирушить до [LOC_1]. В нього було безліч планів, адже він активно займається волейболом і чув від друзів багато захоплених відгуків про пляжі та атмосферу країни. [PER_5] також мав намір відвідати кілька університетів у [LOC_6], щоб дізнатися більше про студентське життя в [LOC_1] та, можливо,про студентське життя в [LOC_1] та, можливо, навіть влаштувати стажування чи обмін на майбутнє.  [PER_10], їхня молодша донька, яка ще ходила до школи, була в захваті від цієї подорожі. Вона дуже любила подорожувати і мріяла побачити знамениті пам’ятки [LOC_1], зокрема [LOC_7]. Її захоплювала[LOC_1], зокрема [LOC_7]. Її захоплювала ідея зробити безліч фотографій на фоні історичних пам’яток та вуличок італійських міст.  Всі члени сім’ї з нетерпінням чекали цієї поїздки. Їхні серця були сповнені очікуванням пригод, відкриттів і спільних моментів радості. Вони разом планувалиі спільних моментів радості. Вони разом планували маршрут, обговорювали, що хочуть побачити, і розподіляли свої інтереси таким чином, щоб кожен мав можливість насолоджуватися подорожжю на свій лад.  День 1: [LOC_8] до подорожі [LOC_8] до подорожі була схожою на справжній виріб: купа валіз,була схожою на справжній виріб: купа валіз, документів, а також ціла низка невирішених питань. [PER_2] ще раз перевірив робочі документи та пообіцяв не турбуватися про роботу впродовж відпустки. [PER_3] обирала, що взяти з собою — легкі сукні для спекотної погоди, комфортне взуття для екскурсій тапогоди, комфортне взуття для екскурсій та кілька медичних засобів на всяк випадок. [PER_5], як завжди, зацікавлений у всіх нових технологіях, розглядав на своєму смартфоні карту і відмічав цікаві місця для відвідування в [LOC_6] та [LOC_9]. [PER_10] ж вирішила запакувати кілька фотоапаратів і, звісно,запакувати кілька фотоапаратів і, звісно, взяти свій щоденник, щоб записувати свої враження під час подорожі.  Коли настав час виїзду, вони сіли в машину, і збуджена атмосфера в повітрі була немов передчуття великої пригоди. [PER_2] був за кермом, а [PER_3] поруч. Вони вже уявляли, як через кілька годинпоруч. Вони вже уявляли, як через кілька годин полетять в італійське небо. [PER_5] і [PER_10] сиділи на задньому сидінні і ділилися своїми очікуваннями від подорожі.  День 2: Приліт до [LOC_1] Коли сім’я [PER_0] прилетіла до [LOC_1], перше, що вони помітили — це неповторний аромат, що витає в повітрі.— це неповторний аромат, що витає в повітрі. Італійський вітер приносив запахи квітів і свіжого хліба, який, здавалося, був пекучим і смачним навіть без проби. Вони відчули себе на іншій планеті, де кожен крок приносив нові враження.  Спочатку вони вирушили до [LOC_11], де їх зустрічав гарячий сонячнийдо [LOC_11], де їх зустрічав гарячий сонячний день. Готель був в самому центрі міста, і з його вікон відкривався вид на старовинні вулички та малі кафе, де за чашкою кави сиділи місцеві мешканці. [PER_2] і [PER_3] вирішили спочатку прогулятися містом і відвідати [PER_4]. Це було справжнім відкриттям для[PER_4]. Це було справжнім відкриттям для [PER_12], яка завжди мріяла побачити одну з найвідоміших архітектурних пам’яток у світі. [PER_2] із задоволенням слухав екскурсовода, який розповідав історію цього великого амфітеатру, що став свідком багатьох важливих подій в історії [LOC_11].  [PER_5] та [PER_10] жподій в історії [LOC_11].  [PER_5] та [PER_10] ж не могли дочекатися моменту, щоб побачити ще більше. Для [PER_13] це була можливість подивитися на студентське життя в [LOC_1]. Він був у захваті від того, як живуть місцеві студенти: де вони зустрічаються, як проходять їхні лекції, де гуляють у вільний час.проходять їхні лекції, де гуляють у вільний час. [PER_10] ж була в повному захваті від римських вуличок. Вона гуляла по них з фотоапаратом в руках, кожен раз зупиняючись, щоб зробити нові кадри.  Вечір вони провели в одному з ресторанів, де скуштували справжню італійську піцу і пасту. Це буласправжню італійську піцу і пасту. Це була справжня гастрономічна насолода, яку неможливо було передати словами. [PER_2] та [PER_3] не переставали захоплюватися кожним шматочком, а [PER_5] і [PER_10] з радістю ділилися своїми враженнями про перший день у [LOC_6].  День 3: Флоренція і [LOC_14] Нау [LOC_6].  День 3: Флоренція і [LOC_14] На наступний день родина вирушила до [LOC_9]. Це місто було просто чарівним. Вузькі вулички, старовинні будівлі та величезні музеї, які вражали своєю історією. [PER_3] була дуже щаслива, адже їй вдалося побачити не тільки знамениті твори мистецтва, але йне тільки знамениті твори мистецтва, але й отримати натхнення для подальшої роботи.  [PER_5] відвідав кілька університетів у [LOC_9], що дало йому безцінний досвід. Він познайомився з кількома студентами, поговорив з викладачами та дізнався більше про навчання в [LOC_1]. Це надихнуло його напро навчання в [LOC_1]. Це надихнуло його на роздуми про майбутнє.  [PER_10] ж з нетерпінням чекала [LOC_16]. І ось, на четвертий день, вони вирушили до [PER_17]. І хоча погода була трохи хмарною, це не завадило їй зробити кілька чудових фотографій біля знаменитої вежі.'"
      ]
     },
     "execution_count": 26,
     "metadata": {},
     "output_type": "execute_result"
    }
   ],
   "source": [
    "processed_text"
   ]
  },
  {
   "cell_type": "code",
   "execution_count": 27,
   "metadata": {},
   "outputs": [
    {
     "name": "stdout",
     "output_type": "stream",
     "text": [
      "Existing collections: ['rag_collection_ukrainian_trip_text', 'rag_collection_ukrainian_trip_masked_text']\n",
      "Collection 'rag_collection_ukrainian_trip_masked_text_roberta' does not exist. Skipping deletion.\n",
      "Collection 'rag_collection_ukrainian_trip_masked_text_roberta' has been reset.\n",
      "'Цього року сім’я [PER_0] вирішила вирушити на довгоочікувану подорож до [LOC_1]. Ідея поїхати на відпочинок виникла після кількох років важкої роботи та навчання. [PER_2], голова сім’ї, був радий, що нарешті зможе взяти відпустку. Як інженер у великій компанії, він завжди мав багато роботи, томукомпанії, він завжди мав багато роботи, тому сімейні подорожі були рідкістю. Проте цього року він вирішив приділити більше часу своїм близьким. [PER_3], його дружина, лікар у місцевій клініці, теж дуже хотіла поїхати до [LOC_1], адже це була її давня мрія — побачити [PER_4] і насолодитися смачноюмрія — побачити [PER_4] і насолодитися смачною італійською кухнею. Відпочинок був для неї не лише можливістю побачити нові місця, але й шансом розслабитися після виснажливої роботи в клініці.  Їхній син, [PER_5], студент університету, був дуже радий, що вирушить до [LOC_1]. В нього було безлічрадий, що вирушить до [LOC_1]. В нього було безліч планів, адже він активно займається волейболом і чув від друзів багато захоплених відгуків про пляжі та атмосферу країни. [PER_5] також мав намір відвідати кілька університетів у [LOC_6], щоб дізнатися більше про студентське життя в [LOC_1] та, можливо,про студентське життя в [LOC_1] та, можливо, навіть влаштувати стажування чи обмін на майбутнє.  [PER_10], їхня молодша донька, яка ще ходила до школи, була в захваті від цієї подорожі. Вона дуже любила подорожувати і мріяла побачити знамениті пам’ятки [LOC_1], зокрема [LOC_7]. Її захоплювала[LOC_1], зокрема [LOC_7]. Її захоплювала ідея зробити безліч фотографій на фоні історичних пам’яток та вуличок італійських міст.  Всі члени сім’ї з нетерпінням чекали цієї поїздки. Їхні серця були сповнені очікуванням пригод, відкриттів і спільних моментів радості. Вони разом планувалиі спільних моментів радості. Вони разом планували маршрут, обговорювали, що хочуть побачити, і розподіляли свої інтереси таким чином, щоб кожен мав можливість насолоджуватися подорожжю на свій лад.  День 1: [LOC_8] до подорожі [LOC_8] до подорожі була схожою на справжній виріб: купа валіз,була схожою на справжній виріб: купа валіз, документів, а також ціла низка невирішених питань. [PER_2] ще раз перевірив робочі документи та пообіцяв не турбуватися про роботу впродовж відпустки. [PER_3] обирала, що взяти з собою — легкі сукні для спекотної погоди, комфортне взуття для екскурсій тапогоди, комфортне взуття для екскурсій та кілька медичних засобів на всяк випадок. [PER_5], як завжди, зацікавлений у всіх нових технологіях, розглядав на своєму смартфоні карту і відмічав цікаві місця для відвідування в [LOC_6] та [LOC_9]. [PER_10] ж вирішила запакувати кілька фотоапаратів і, звісно,запакувати кілька фотоапаратів і, звісно, взяти свій щоденник, щоб записувати свої враження під час подорожі.  Коли настав час виїзду, вони сіли в машину, і збуджена атмосфера в повітрі була немов передчуття великої пригоди. [PER_2] був за кермом, а [PER_3] поруч. Вони вже уявляли, як через кілька годинпоруч. Вони вже уявляли, як через кілька годин полетять в італійське небо. [PER_5] і [PER_10] сиділи на задньому сидінні і ділилися своїми очікуваннями від подорожі.  День 2: Приліт до [LOC_1] Коли сім’я [PER_0] прилетіла до [LOC_1], перше, що вони помітили — це неповторний аромат, що витає в повітрі.— це неповторний аромат, що витає в повітрі. Італійський вітер приносив запахи квітів і свіжого хліба, який, здавалося, був пекучим і смачним навіть без проби. Вони відчули себе на іншій планеті, де кожен крок приносив нові враження.  Спочатку вони вирушили до [LOC_11], де їх зустрічав гарячий сонячнийдо [LOC_11], де їх зустрічав гарячий сонячний день. Готель був в самому центрі міста, і з його вікон відкривався вид на старовинні вулички та малі кафе, де за чашкою кави сиділи місцеві мешканці. [PER_2] і [PER_3] вирішили спочатку прогулятися містом і відвідати [PER_4]. Це було справжнім відкриттям для[PER_4]. Це було справжнім відкриттям для [PER_12], яка завжди мріяла побачити одну з найвідоміших архітектурних пам’яток у світі. [PER_2] із задоволенням слухав екскурсовода, який розповідав історію цього великого амфітеатру, що став свідком багатьох важливих подій в історії [LOC_11].  [PER_5] та [PER_10] жподій в історії [LOC_11].  [PER_5] та [PER_10] ж не могли дочекатися моменту, щоб побачити ще більше. Для [PER_13] це була можливість подивитися на студентське життя в [LOC_1]. Він був у захваті від того, як живуть місцеві студенти: де вони зустрічаються, як проходять їхні лекції, де гуляють у вільний час.проходять їхні лекції, де гуляють у вільний час. [PER_10] ж була в повному захваті від римських вуличок. Вона гуляла по них з фотоапаратом в руках, кожен раз зупиняючись, щоб зробити нові кадри.  Вечір вони провели в одному з ресторанів, де скуштували справжню італійську піцу і пасту. Це буласправжню італійську піцу і пасту. Це була справжня гастрономічна насолода, яку неможливо було передати словами. [PER_2] та [PER_3] не переставали захоплюватися кожним шматочком, а [PER_5] і [PER_10] з радістю ділилися своїми враженнями про перший день у [LOC_6].  День 3: Флоренція і [LOC_14] Нау [LOC_6].  День 3: Флоренція і [LOC_14] На наступний день родина вирушила до [LOC_9]. Це місто було просто чарівним. Вузькі вулички, старовинні будівлі та величезні музеї, які вражали своєю історією. [PER_3] була дуже щаслива, адже їй вдалося побачити не тільки знамениті твори мистецтва, але йне тільки знамениті твори мистецтва, але й отримати натхнення для подальшої роботи.  [PER_5] відвідав кілька університетів у [LOC_9], що дало йому безцінний досвід. Він познайомився з кількома студентами, поговорив з викладачами та дізнався більше про навчання в [LOC_1]. Це надихнуло його напро навчання в [LOC_1]. Це надихнуло його на роздуми про майбутнє.  [PER_10] ж з нетерпінням чекала [LOC_16]. І ось, на четвертий день, вони вирушили до [PER_17]. І хоча погода була трохи хмарною, це не завадило їй зробити кілька чудових фотографій біля знаменитої вежі.'\n",
      "Stored 24 chunks from 'uploaded_files_masked_uk' into 'rag_collection_ukrainian_trip_masked_text_roberta'.\n"
     ]
    }
   ],
   "source": [
    "folder_name=\"uploaded_files_masked_uk\"\n",
    "collection_name=\"rag_collection_ukrainian_trip_masked_text_roberta\"\n",
    "persist_path = \"./test_data_rag_vectorstore_tests\"\n",
    "\n",
    "chroma_db = ChromaDBManager(\n",
    "        collection_name=collection_name,\n",
    "        persist_path=persist_path,\n",
    "        chunk_size=300,\n",
    "        chunk_overlap=50,\n",
    "        model_name=\"all-MiniLM-L6-v2\", \n",
    "        reset=True\n",
    "    )\n",
    "\n",
    "chroma_db.store_file(folder_name)\n",
    "roberta_masked_stored_chunks = chroma_db.get_stored_chunks()"
   ]
  },
  {
   "cell_type": "code",
   "execution_count": 28,
   "metadata": {},
   "outputs": [],
   "source": [
    "questions, retrieved_chunks = await generate_questions(roberta_masked_stored_chunks[:5], llm_question_generator, chroma_db)"
   ]
  },
  {
   "cell_type": "code",
   "execution_count": 29,
   "metadata": {},
   "outputs": [
    {
     "data": {
      "text/plain": [
       "['Куди вирішила вирушити на відпочинок сім’я [PER_0] цього року?',\n",
       " 'Куди хотіла поїхати дружина, яка працює лікарем у місцевій клініці?',\n",
       " 'Куди героїня дуже хотіла поїхати і з якою метою?',\n",
       " 'Куди планує вирушити син [PER_5] після виснажливої роботи в клініці?',\n",
       " 'Які плани [PER_5] стосовно відвідування університетів у [LOC_6]?']"
      ]
     },
     "execution_count": 29,
     "metadata": {},
     "output_type": "execute_result"
    }
   ],
   "source": [
    "questions"
   ]
  },
  {
   "cell_type": "code",
   "execution_count": 30,
   "metadata": {},
   "outputs": [
    {
     "data": {
      "text/plain": [
       "[\"'Цього року сім’я [PER_0] вирішила вирушити на довгоочікувану подорож до [LOC_1]. Ідея поїхати на відпочинок виникла після кількох років важкої роботи та навчання. [PER_2], голова сім’ї, був радий, що нарешті зможе взяти відпустку. Як інженер у великій компанії, він завжди мав багато роботи,\",\n",
       " '— це неповторний аромат, що витає в повітрі.— це неповторний аромат, що витає в повітрі. Італійський вітер приносив запахи квітів і свіжого хліба, який, здавалося, був пекучим і смачним навіть без проби. Вони відчули себе на іншій планеті, де кожен крок приносив нові враження.  Спочатку вони',\n",
       " 'де скуштували справжню італійську піцу і пасту. Це буласправжню італійську піцу і пасту. Це була справжня гастрономічна насолода, яку неможливо було передати словами. [PER_2] та [PER_3] не переставали захоплюватися кожним шматочком, а [PER_5] і [PER_10] з радістю ділилися своїми враженнями про',\n",
       " 'у великій компанії, він завжди мав багато роботи, томукомпанії, він завжди мав багато роботи, тому сімейні подорожі були рідкістю. Проте цього року він вирішив приділити більше часу своїм близьким. [PER_3], його дружина, лікар у місцевій клініці, теж дуже хотіла поїхати до [LOC_1], адже це була її',\n",
       " 'кілька університетів у [LOC_9], що дало йому безцінний досвід. Він познайомився з кількома студентами, поговорив з викладачами та дізнався більше про навчання в [LOC_1]. Це надихнуло його напро навчання в [LOC_1]. Це надихнуло його на роздуми про майбутнє.  [PER_10] ж з нетерпінням чекала [LOC_16].']"
      ]
     },
     "execution_count": 30,
     "metadata": {},
     "output_type": "execute_result"
    }
   ],
   "source": [
    "retrieved_chunks[0]"
   ]
  },
  {
   "cell_type": "code",
   "execution_count": 31,
   "metadata": {},
   "outputs": [
    {
     "name": "stderr",
     "output_type": "stream",
     "text": [
      "Evaluating: 100%|██████████| 25/25 [00:19<00:00,  1.28it/s]\n"
     ]
    },
    {
     "name": "stdout",
     "output_type": "stream",
     "text": [
      "Average values for each metric:\n",
      "faithfulness          0.700000\n",
      "answer_relevancy      0.778115\n",
      "context_precision     0.440000\n",
      "context_recall        0.800000\n",
      "answer_correctness    0.743569\n",
      "dtype: float64\n"
     ]
    }
   ],
   "source": [
    "reference_llm_provider = GenericProvider({\n",
    "    \"provider\":\"openai\",\n",
    "    \"model\": \"gpt-4o\",\n",
    "    \"temperature\": 0,\n",
    "    \"max_tokens\": 512\n",
    "})\n",
    "\n",
    "test_llm_provider = GenericProvider({\n",
    "    \"provider\":\"openai\",\n",
    "    \"model\": \"gpt-4o\",\n",
    "    \"temperature\": 0,\n",
    "    \"max_tokens\": 512\n",
    "})\n",
    "\n",
    "ground_truth_responses = await generate_ground_truth_responses(questions, retrieved_chunks, reference_llm_provider)\n",
    "\n",
    "ragas_data = await create_ragas_dataset(questions,\n",
    "                                        retrieved_chunks,\n",
    "                                        ground_truth_responses,\n",
    "                                        test_llm_provider)\n",
    "result = evaluate_rag(ragas_data)\n",
    "pd_results = result.to_pandas()\n",
    "pd_results.head()\n",
    "metric_averages = pd_results.select_dtypes(include=\"number\").mean()\n",
    "print(\"Average values for each metric:\")\n",
    "print(metric_averages)"
   ]
  },
  {
   "cell_type": "code",
   "execution_count": 32,
   "metadata": {},
   "outputs": [
    {
     "data": {
      "text/plain": [
       "['Сім’я [PER_0] вирішила вирушити на відпочинок до [LOC_1] цього року.',\n",
       " 'Дружина, яка працює лікарем у місцевій клініці, хотіла поїхати до [LOC_1].',\n",
       " 'Героїня дуже хотіла поїхати до [LOC_16], щоб зробити кілька чудових фотографій біля знаменитої вежі.',\n",
       " 'На основі наданого контексту, син [PER_5] планує вирушити до [LOC_9] після виснажливої роботи в клініці.',\n",
       " 'У тексті згадується, що [PER_5] відвідав кілька університетів у [LOC_9], але немає інформації про плани [PER_5] стосовно відвідування університетів у [LOC_6].']"
      ]
     },
     "execution_count": 32,
     "metadata": {},
     "output_type": "execute_result"
    }
   ],
   "source": [
    "ragas_data[\"answer\"]"
   ]
  },
  {
   "cell_type": "markdown",
   "metadata": {},
   "source": [
    "### Pattern NER + RoBerta NER + Context aware masking"
   ]
  },
  {
   "cell_type": "code",
   "execution_count": 33,
   "metadata": {},
   "outputs": [],
   "source": [
    "from processing.context_aware_masking import ContexAwareMasker"
   ]
  },
  {
   "cell_type": "code",
   "execution_count": 34,
   "metadata": {},
   "outputs": [],
   "source": [
    "context_masker = ContexAwareMasker()\n",
    "new_replacements, new_entity_map = \\\n",
    "    context_masker.mask_iteratively_llama(ner_replacements, combined_texts)\n",
    "new_masked_text = \\\n",
    "    context_masker.replace_entities_with_masks(combined_texts, new_replacements)"
   ]
  },
  {
   "cell_type": "code",
   "execution_count": 35,
   "metadata": {},
   "outputs": [
    {
     "data": {
      "text/plain": [
       "'Цього року сім’я Sokolov вирішила вирушити на довгоочікувану подорож до Туреччини. Ідея поїхати на відпочинок виникла після кількох років важкої роботи та навчання. Oleksandr, голова сім’ї, був радий, що нарешті зможе взяти відпустку. Як інженер у великій компанії, він завжди мав багато роботи, томукомпанії, він завжди мав багато роботи, тому сімейні подорожі були рідкістю. Проте цього року він вирішив приділити більше часу своїм близьким. Катерина, його дружина, лікар у місцевій клініці, теж дуже хотіла поїхати до Туреччини, адже це була її давня мрія — побачити Воркшопи і насолодитися смачноюмрія — побачити Воркшопи і насолодитися смачною італійською кухнею. Відпочинок був для неї не лише можливістю побачити нові місця, але й шансом розслабитися після виснажливої роботи в клініці.  Їхній син, Сергій, студент університету, був дуже радий, що вирушить до Туреччини. В нього було безлічрадий, що вирушить до Туреччини. В нього було безліч планів, адже він активно займається волейболом і чув від друзів багато захоплених відгуків про пляжі та атмосферу країни. Сергій також мав намір відвідати кілька університетів у Псевфта., щоб дізнатися більше про студентське життя в Туреччини та, можливо,про студентське життя в Туреччини та, можливо, навіть влаштувати стажування чи обмін на майбутнє.  Домик, їхня молодша донька, яка ще ходила до школи, була в захваті від цієї подорожі. Вона дуже любила подорожувати і мріяла побачити знамениті пам’ятки Туреччини, зокрема Градець (tagged as [LOC_7]). Її захоплювалаТуреччини, зокрема Градець (tagged as [LOC_7]). Її захоплювала ідея зробити безліч фотографій на фоні історичних пам’яток та вуличок італійських міст.  Всі члени сім’ї з нетерпінням чекали цієї поїздки. Їхні серця були сповнені очікуванням пригод, відкриттів і спільних моментів радості. Вони разом планувалиі спільних моментів радості. Вони разом планували маршрут, обговорювали, що хочуть побачити, і розподіляли свої інтереси таким чином, щоб кожен мав можливість насолоджуватися подорожжю на свій лад.  День 1: Оцінка до подорожі Оцінка до подорожі була схожою на справжній виріб: купа валіз,була схожою на справжній виріб: купа валіз, документів, а також ціла низка невирішених питань. Oleksandr ще раз перевірив робочі документи та пообіцяв не турбуватися про роботу впродовж відпустки. Катерина обирала, що взяти з собою — легкі сукні для спекотної погоди, комфортне взуття для екскурсій тапогоди, комфортне взуття для екскурсій та кілька медичних засобів на всяк випадок. Сергій, як завжди, зацікавлений у всіх нових технологіях, розглядав на своєму смартфоні карту і відмічав цікаві місця для відвідування в Псевфта. та МадRID. Домик ж вирішила запакувати кілька фотоапаратів і, звісно,запакувати кілька фотоапаратів і, звісно, взяти свій щоденник, щоб записувати свої враження під час подорожі.  Коли настав час виїзду, вони сіли в машину, і збуджена атмосфера в повітрі була немов передчуття великої пригоди. Oleksandr був за кермом, а Катерина поруч. Вони вже уявляли, як через кілька годинпоруч. Вони вже уявляли, як через кілька годин полетять в італійське небо. Сергій і Домик сиділи на задньому сидінні і ділилися своїми очікуваннями від подорожі.  День 2: Приліт до Туреччини Коли сім’я Sokolov прилетіла до Туреччини, перше, що вони помітили — це неповторний аромат, що витає в повітрі.— це неповторний аромат, що витає в повітрі. Італійський вітер приносив запахи квітів і свіжого хліба, який, здавалося, був пекучим і смачним навіть без проби. Вони відчули себе на іншій планеті, де кожен крок приносив нові враження.  Спочатку вони вирушили до Москва, де їх зустрічав гарячий сонячнийдо Москва, де їх зустрічав гарячий сонячний день. Готель був в самому центрі міста, і з його вікон відкривався вид на старовинні вулички та малі кафе, де за чашкою кави сиділи місцеві мешканці. Oleksandr і Катерина вирішили спочатку прогулятися містом і відвідати Воркшопи. Це було справжнім відкриттям дляВоркшопи. Це було справжнім відкриттям для Вадима., яка завжди мріяла побачити одну з найвідоміших архітектурних пам’яток у світі. Oleksandr із задоволенням слухав екскурсовода, який розповідав історію цього великого амфітеатру, що став свідком багатьох важливих подій в історії Москва.  Сергій та Домик жподій в історії Москва.  Сергій та Домик ж не могли дочекатися моменту, щоб побачити ще більше. Для Ксения це була можливість подивитися на студентське життя в Туреччини. Він був у захваті від того, як живуть місцеві студенти: де вони зустрічаються, як проходять їхні лекції, де гуляють у вільний час.проходять їхні лекції, де гуляють у вільний час. Домик ж була в повному захваті від римських вуличок. Вона гуляла по них з фотоапаратом в руках, кожен раз зупиняючись, щоб зробити нові кадри.  Вечір вони провели в одному з ресторанів, де скуштували справжню італійську піцу і пасту. Це буласправжню італійську піцу і пасту. Це була справжня гастрономічна насолода, яку неможливо було передати словами. Oleksandr та Катерина не переставали захоплюватися кожним шматочком, а Сергій і Домик з радістю ділилися своїми враженнями про перший день у Псевфта..  День 3: Флоренція і Волинь Нау Псевфта..  День 3: Флоренція і Волинь На наступний день родина вирушила до МадRID. Це місто було просто чарівним. Вузькі вулички, старовинні будівлі та величезні музеї, які вражали своєю історією. Катерина була дуже щаслива, адже їй вдалося побачити не тільки знамениті твори мистецтва, але йне тільки знамениті твори мистецтва, але й отримати натхнення для подальшої роботи.  Сергій відвідав кілька університетів у МадRID, що дало йому безцінний досвід. Він познайомився з кількома студентами, поговорив з викладачами та дізнався більше про навчання в Туреччини. Це надихнуло його напро навчання в Туреччини. Це надихнуло його на роздуми про майбутнє.  Домик ж з нетерпінням чекала Орловская башня (LOC_16). І ось, на четвертий день, вони вирушили до Микита. І хоча погода була трохи хмарною, це не завадило їй зробити кілька чудових фотографій біля знаменитої вежі.'"
      ]
     },
     "execution_count": 35,
     "metadata": {},
     "output_type": "execute_result"
    }
   ],
   "source": [
    "new_masked_text"
   ]
  },
  {
   "cell_type": "code",
   "execution_count": 37,
   "metadata": {},
   "outputs": [
    {
     "name": "stdout",
     "output_type": "stream",
     "text": [
      "Existing collections: ['rag_collection_ukrainian_trip_masked_text_roberta', 'rag_collection_ukrainian_trip_text', 'rag_collection_ukrainian_trip_masked_text', 'rag_collection_ukrainian_trip_contextually_masked_text']\n",
      "Collection 'rag_collection_ukrainian_trip_contextually_masked_text' deleted.\n",
      "Collection 'rag_collection_ukrainian_trip_contextually_masked_text' has been reset.\n",
      "'Цього року сім’я Sokolov вирішила вирушити на довгоочікувану подорож до Туреччини. Ідея поїхати на відпочинок виникла після кількох років важкої роботи та навчання. Oleksandr, голова сім’ї, був радий, що нарешті зможе взяти відпустку. Як інженер у великій компанії, він завжди мав багато роботи, томукомпанії, він завжди мав багато роботи, тому сімейні подорожі були рідкістю. Проте цього року він вирішив приділити більше часу своїм близьким. Катерина, його дружина, лікар у місцевій клініці, теж дуже хотіла поїхати до Туреччини, адже це була її давня мрія — побачити Воркшопи і насолодитися смачноюмрія — побачити Воркшопи і насолодитися смачною італійською кухнею. Відпочинок був для неї не лише можливістю побачити нові місця, але й шансом розслабитися після виснажливої роботи в клініці.  Їхній син, Сергій, студент університету, був дуже радий, що вирушить до Туреччини. В нього було безлічрадий, що вирушить до Туреччини. В нього було безліч планів, адже він активно займається волейболом і чув від друзів багато захоплених відгуків про пляжі та атмосферу країни. Сергій також мав намір відвідати кілька університетів у Псевфта., щоб дізнатися більше про студентське життя в Туреччини та, можливо,про студентське життя в Туреччини та, можливо, навіть влаштувати стажування чи обмін на майбутнє.  Домик, їхня молодша донька, яка ще ходила до школи, була в захваті від цієї подорожі. Вона дуже любила подорожувати і мріяла побачити знамениті пам’ятки Туреччини, зокрема Градець (tagged as [LOC_7]). Її захоплювалаТуреччини, зокрема Градець (tagged as [LOC_7]). Її захоплювала ідея зробити безліч фотографій на фоні історичних пам’яток та вуличок італійських міст.  Всі члени сім’ї з нетерпінням чекали цієї поїздки. Їхні серця були сповнені очікуванням пригод, відкриттів і спільних моментів радості. Вони разом планувалиі спільних моментів радості. Вони разом планували маршрут, обговорювали, що хочуть побачити, і розподіляли свої інтереси таким чином, щоб кожен мав можливість насолоджуватися подорожжю на свій лад.  День 1: Оцінка до подорожі Оцінка до подорожі була схожою на справжній виріб: купа валіз,була схожою на справжній виріб: купа валіз, документів, а також ціла низка невирішених питань. Oleksandr ще раз перевірив робочі документи та пообіцяв не турбуватися про роботу впродовж відпустки. Катерина обирала, що взяти з собою — легкі сукні для спекотної погоди, комфортне взуття для екскурсій тапогоди, комфортне взуття для екскурсій та кілька медичних засобів на всяк випадок. Сергій, як завжди, зацікавлений у всіх нових технологіях, розглядав на своєму смартфоні карту і відмічав цікаві місця для відвідування в Псевфта. та МадRID. Домик ж вирішила запакувати кілька фотоапаратів і, звісно,запакувати кілька фотоапаратів і, звісно, взяти свій щоденник, щоб записувати свої враження під час подорожі.  Коли настав час виїзду, вони сіли в машину, і збуджена атмосфера в повітрі була немов передчуття великої пригоди. Oleksandr був за кермом, а Катерина поруч. Вони вже уявляли, як через кілька годинпоруч. Вони вже уявляли, як через кілька годин полетять в італійське небо. Сергій і Домик сиділи на задньому сидінні і ділилися своїми очікуваннями від подорожі.  День 2: Приліт до Туреччини Коли сім’я Sokolov прилетіла до Туреччини, перше, що вони помітили — це неповторний аромат, що витає в повітрі.— це неповторний аромат, що витає в повітрі. Італійський вітер приносив запахи квітів і свіжого хліба, який, здавалося, був пекучим і смачним навіть без проби. Вони відчули себе на іншій планеті, де кожен крок приносив нові враження.  Спочатку вони вирушили до Москва, де їх зустрічав гарячий сонячнийдо Москва, де їх зустрічав гарячий сонячний день. Готель був в самому центрі міста, і з його вікон відкривався вид на старовинні вулички та малі кафе, де за чашкою кави сиділи місцеві мешканці. Oleksandr і Катерина вирішили спочатку прогулятися містом і відвідати Воркшопи. Це було справжнім відкриттям дляВоркшопи. Це було справжнім відкриттям для Вадима., яка завжди мріяла побачити одну з найвідоміших архітектурних пам’яток у світі. Oleksandr із задоволенням слухав екскурсовода, який розповідав історію цього великого амфітеатру, що став свідком багатьох важливих подій в історії Москва.  Сергій та Домик жподій в історії Москва.  Сергій та Домик ж не могли дочекатися моменту, щоб побачити ще більше. Для Ксения це була можливість подивитися на студентське життя в Туреччини. Він був у захваті від того, як живуть місцеві студенти: де вони зустрічаються, як проходять їхні лекції, де гуляють у вільний час.проходять їхні лекції, де гуляють у вільний час. Домик ж була в повному захваті від римських вуличок. Вона гуляла по них з фотоапаратом в руках, кожен раз зупиняючись, щоб зробити нові кадри.  Вечір вони провели в одному з ресторанів, де скуштували справжню італійську піцу і пасту. Це буласправжню італійську піцу і пасту. Це була справжня гастрономічна насолода, яку неможливо було передати словами. Oleksandr та Катерина не переставали захоплюватися кожним шматочком, а Сергій і Домик з радістю ділилися своїми враженнями про перший день у Псевфта..  День 3: Флоренція і Волинь Нау Псевфта..  День 3: Флоренція і Волинь На наступний день родина вирушила до МадRID. Це місто було просто чарівним. Вузькі вулички, старовинні будівлі та величезні музеї, які вражали своєю історією. Катерина була дуже щаслива, адже їй вдалося побачити не тільки знамениті твори мистецтва, але йне тільки знамениті твори мистецтва, але й отримати натхнення для подальшої роботи.  Сергій відвідав кілька університетів у МадRID, що дало йому безцінний досвід. Він познайомився з кількома студентами, поговорив з викладачами та дізнався більше про навчання в Туреччини. Це надихнуло його напро навчання в Туреччини. Це надихнуло його на роздуми про майбутнє.  Домик ж з нетерпінням чекала Орловская башня (LOC_16). І ось, на четвертий день, вони вирушили до Микита. І хоча погода була трохи хмарною, це не завадило їй зробити кілька чудових фотографій біля знаменитої вежі.' \n",
      "Stored 24 chunks from 'uploaded_files_contextually_masked_uk' into 'rag_collection_ukrainian_trip_contextually_masked_text'.\n"
     ]
    }
   ],
   "source": [
    "folder_name=\"uploaded_files_contextually_masked_uk\"\n",
    "collection_name=\"rag_collection_ukrainian_trip_contextually_masked_text\"\n",
    "persist_path = \"./test_data_rag_vectorstore_tests\"\n",
    "\n",
    "chroma_db = ChromaDBManager(\n",
    "        collection_name=collection_name,\n",
    "        persist_path=persist_path,\n",
    "        chunk_size=300,\n",
    "        chunk_overlap=50,\n",
    "        model_name=\"all-MiniLM-L6-v2\", \n",
    "        reset=True\n",
    "    )\n",
    "\n",
    "chroma_db.store_file(folder_name)\n",
    "contextually_masked_stored_chunks = chroma_db.get_stored_chunks()"
   ]
  },
  {
   "cell_type": "code",
   "execution_count": 38,
   "metadata": {},
   "outputs": [],
   "source": [
    "questions, retrieved_chunks = await generate_questions(contextually_masked_stored_chunks[:5], llm_question_generator, chroma_db)"
   ]
  },
  {
   "cell_type": "code",
   "execution_count": 39,
   "metadata": {},
   "outputs": [
    {
     "name": "stderr",
     "output_type": "stream",
     "text": [
      "Evaluating: 100%|██████████| 25/25 [00:16<00:00,  1.53it/s]\n"
     ]
    },
    {
     "name": "stdout",
     "output_type": "stream",
     "text": [
      "Average values for each metric:\n",
      "faithfulness          0.933333\n",
      "answer_relevancy      0.582408\n",
      "context_precision     0.500000\n",
      "context_recall        1.000000\n",
      "answer_correctness    0.671913\n",
      "dtype: float64\n"
     ]
    }
   ],
   "source": [
    "reference_llm_provider = GenericProvider({\n",
    "    \"provider\":\"openai\",\n",
    "    \"model\": \"gpt-4o\",\n",
    "    \"temperature\": 0,\n",
    "    \"max_tokens\": 512\n",
    "})\n",
    "\n",
    "test_llm_provider = GenericProvider({\n",
    "    \"provider\":\"openai\",\n",
    "    \"model\": \"gpt-4o\",\n",
    "    \"temperature\": 0,\n",
    "    \"max_tokens\": 512\n",
    "})\n",
    "\n",
    "ground_truth_responses = await generate_ground_truth_responses(questions, retrieved_chunks, reference_llm_provider)\n",
    "\n",
    "ragas_data = await create_ragas_dataset(questions,\n",
    "                                        retrieved_chunks,\n",
    "                                        ground_truth_responses,\n",
    "                                        test_llm_provider)\n",
    "result = evaluate_rag(ragas_data)\n",
    "pd_results = result.to_pandas()\n",
    "pd_results.head()\n",
    "metric_averages = pd_results.select_dtypes(include=\"number\").mean()\n",
    "print(\"Average values for each metric:\")\n",
    "print(metric_averages)"
   ]
  },
  {
   "cell_type": "code",
   "execution_count": null,
   "metadata": {},
   "outputs": [],
   "source": [
    "!python -m spacy download en_core_web_sm"
   ]
  },
  {
   "cell_type": "markdown",
   "metadata": {},
   "source": [
    "---\n",
    "# With my MongoDB"
   ]
  },
  {
   "cell_type": "markdown",
   "metadata": {},
   "source": [
    "---"
   ]
  },
  {
   "cell_type": "markdown",
   "metadata": {},
   "source": [
    "# Create the csv table"
   ]
  },
  {
   "cell_type": "code",
   "execution_count": null,
   "metadata": {},
   "outputs": [],
   "source": [
    "columns = [\"question\", \"collection_name\", \"retrieved_chunks\", \"ground_truth\", \"time_taken_ground_truth\", \"test_response\", \"test_resulting_metrics\", \"time_taken_test\"]\n",
    "experiment_columns = [\"_masked_prompt\",\"_response\", \"_resulting_metrics\", \"_time_taken\"]"
   ]
  },
  {
   "cell_type": "code",
   "execution_count": null,
   "metadata": {},
   "outputs": [],
   "source": [
    "# for each file:\n",
    "# - create cpllection (split into chunks, load)\n",
    "# - iteratively create the questions\n",
    "# - retrieve chunks\n",
    "# - create ground thruth response\n",
    "# - save to csv\n",
    "\n",
    "# tests:\n",
    "# create privacy_pipeline instanse\n",
    "# copy ground truth files for running each test\n",
    "# - with openai model\n",
    "# - pattern + spacy ner\n",
    "# - pattern + own spacy\n",
    "# - pattern + bert\n",
    "# - pattern + roberta\n",
    "# - pattern + medical bert"
   ]
  },
  {
   "cell_type": "markdown",
   "metadata": {},
   "source": [
    "## court pdf file"
   ]
  },
  {
   "cell_type": "markdown",
   "metadata": {},
   "source": [
    "### Creating Ground Truth "
   ]
  },
  {
   "cell_type": "code",
   "execution_count": 46,
   "metadata": {},
   "outputs": [
    {
     "name": "stdout",
     "output_type": "stream",
     "text": [
      "Existing collections: []\n",
      "Collection 'court_hearing' does not exist. Skipping deletion.\n",
      "Collection 'court_hearing' has been reset.\n",
      "- - - - - - - - - - - - - - - - - - - - - - - - - - - - - - - - - - - - - - - - - - - - - - - - - - - - - - SUPREME COURT  OF THE UNITED STATES  IN THE SUPREME COURT OF THE UNITED STATES  MIRIAM FULD, ET AL.,              )  Petitioners,  )  v. ) No. 24-20  PALESTINE LIBERATION ORGANIZATION, )  ET AL.,          )  Respondents.  )  UNITED STATES,   )  Petitioner,  )  v. ) No. 24 -151  PALESTINE LIBERATION ORGANIZATION, )  ET AL.,          )  Respondents.  )  Pages: 1 through 121  Place: Washington, D.C.  Date: April 1, 2025  HERITAGE REPORTING CORPORATION  Official Reporters  1150 Connecticut Avenue, N.W., Suite 305  Washington, D.C.  20036  (202) 628-4888  www.hrccourtreporters.com 1    2    3    4    5    6    7    8    9    10   11               12               13   14   15               16     17 18               19               20 21   22   23   24 25 - - - - - - - - - - - - - - - - - - - - - - - - - - - - - - - - - - - - - - - - - - - - - - - - - - - - - - 1 Official - Subject to Final Review  IN THE SUPREME COURT OF THE UNITED STATES  MIRIAM FULD, ET AL.,             )  Petitioners,  )  v. ) No. 24-20  PALESTINE LIBERATION ORGANIZATION, )  ET AL.,         )  Respondents.  )  UNITED STATES,  )  Petitioner,  )  v. ) No. 24-151  PALESTINE LIBERATION ORGANIZATION, )  ET AL.,         )  Respondents.  )   Washington, D.C.  Tuesday, April 1, 2025  The above-entitled matter came on for  oral argument before the Supreme Court of the  United States at 10:04 a.m.  Heritage Reporting Corporation 1    2  3    4    5    6    7  8    9 10 11 12 13 14 15 16 17 18 19 20 21 22 23 24 25 Official - Subject to Final Review  2   APPEARANCES:  KENT A. YALOWITZ, ESQUIRE, New York, New York; on  behalf of the Petitioners in Case 24-20.  EDWIN S. KNEEDLER, Deputy Solicitor General,      Department of Justice, Washington, D.C.; on behalf  of the Petitioner in Case 24-151.  MITCHELL R. BERGER, ESQUIRE, Washington, D.C.; on  behalf of the Respondents.  Heritage Reporting Corporation 1    2    3  4    5    6    7    8    9    10   11   12   13   14   15   16   17 18 19 20 21 22 23 24 25 3 Official - Subject to Final Review  C O N T E N T S  ORAL ARGUMENT OF:             PAGE:  KENT A. YALOWITZ, ESQ.  On behalf of the Petitioners  in Case 24-20  4  ORAL ARGUMENT OF:  EDWIN S. KNEEDLER, ESQ.  On behalf of the Petitioner  in Case 24-151               42  ORAL ARGUMENT OF:  MITCHELL R. BERGER, ESQ.  On behalf of the Respondents 87  REBUTTAL ARGUMENT OF:  EDWIN S. KNEEDLER  On behalf of the Petitioner  in Case 24-151               118  Heritage Reporting Corporation 1    2    3    4    5    6    7    8    9    10   11   12   13   14   15   16   17  18   19   20  21   22   23   24  25   4 Official - Subject to Final Review  P R O C E E D I N G S  (10:04 a.m.)  CHIEF JUSTICE ROBERTS: We will hear  argument this morning in Case 24-20, Fuld versus  Palestine Liberation Organization, and the  consolidated case.  Mr. Yalowitz.  ORAL ARGUMENT OF KENT A. YALOWITZ  ON BEHALF OF THE PETITIONERS IN CASE 24-20  MR. YALOWITZ:  Mr. Chief Justice, and  may it please the Court:  The United States can take many  actions in response to terror activity abroad by  the PLO and the PA that kills American citizens.  The government could, for example, prosecute  them under our criminal laws, and they admit  doing so would not violate any due process  rights.  They contend, however, that bringing a  civil action crosses a red line and is  unconstitutional under the Due Process Clause.  That is incorrect.  The federal government's  sphere of sovereignty is sufficiently broad that  it follows American citizens wherever in the  world they might travel.  Heritage Reporting Corporation 1    2  3  4  5  6    7  8    9    10  11   12   13   14   15   16   17   18  19   20   21   22   23   24   25   5 Official - Subject to Final Review  The government could, for example,  simply ban terror pay -- pay -- payments to  terrorists who have killed Americans and,  concomitantly, could establish federal  jurisdiction when that ban is violated.  Here, the government took a smaller  step of providing that if the PLO and the PA  make post-enactment payments to terrorists or  engage in post-enactment U.S. activities, that  will be deemed a submission to the jurisdiction  of federal courts in a narrow class of cases  closely related to terrorism.  The statute gave the defendants fair  warning.  Their conduct was knowing and  voluntary.  The statute reasonably advances  legitimate government interests in the context  of our federal system.  The judgment of the  court should be reversed.  I welcome the Court's questions.  JUSTICE THOMAS:  If we analyze this  under the Fifth Amendment, what limitations  would the Fifth Amendment provide -- MR. YALOWITZ:  So -- JUSTICE THOMAS:  -- for personal  jurisdiction?  Heritage Reporting Corporation 1    2    3  4    5    6    7    8  9  10   11   12   13   14   15   16   17   18   19   20   21   22   23   24   25   6 Official - Subject to Final Review  MR. YALOWITZ:  So, first of all, the  Fifth Amendment requires fair notice and  opportunity to be heard, which the defendants  had.  In addition, it protects persons  against arbitrary government action.  Here, the  statute reasonably advances a legitimate  government interest and within the context of  the federal government's power.  JUSTICE THOMAS:  How would that -- how  would that differ from analyzing it under the  Fourteenth Amendment?  MR. YALOWITZ:  Under -- under the  Fourteenth Amendment, there is a territorial  limitation on each state.  The states, because  they're bounded by each other within the context  of our federal system, at least the Court has  seeded horizontal federalism in -- in the  Fourteenth Amendment, and so that limitation  would exist.  JUSTICE THOMAS:  Would -- when you say  \"horizontal limitation,\" what do you mean?  And  exactly how would the Fourteenth Amendment apply  and how would that differ from the application  of the Fifth Amendment?  Heritage Reporting Corporation 1    2  3    4    5  6    7    8  9  10   11   12   13   14   15          16  17   18   19  20   21  22   23   24   25   7 Official - Subject to Final Review  MR. YALOWITZ:  So -- so we don't think  that the Fourteenth Amendment would apply at all  here. However, if -- if the test were the same  under the Fourteenth and the Fifth Amendments,  the Court would have to look at the interests of  the -- of the federal government in the same way  that it looks at the interests of the state  governments because the state governments are  bounded by limitations that the other faces -- that California can't -- can't infringe the  sovereignty of Ohio, for example.  The federal government doesn't suffer  from that limitation.  The federal government's  powers are more expansive.  JUSTICE KAGAN:  Well, there have been  many courts that think that just, as in the  Fourteenth Amendment, we look to see whether a  defendant has minimum contacts with a particular  state, these courts say so too we should look to  see whether a defendant has minimum contacts  with the United States when it comes to the  Fifth Amendment.  MR. YALOWITZ:  Certainly, if Congress  has not spoken, that would still be the rule  under our proposed test.  So, for example, in  Heritage Reporting Corporation 1  2    3  4  5    6    7    8  9    10   11   12   13   14   15   16  17  18  19   20   21   22   23   24   25   8  Official - Subject to Final Review  the Daimler case, there was no statute providing  for federal jurisdiction.  Minimum contacts  would apply because the plaintiffs would have to  travel under the Fourteenth Amendment and the -- and the alien tort statute.  But, where Congress has indicated the  jurisdictional contacts that are relevant, due  respect for Congress's judgment would provide  for a more expansive view.  JUSTICE KAGAN:  Well, why is that?  If  the minimum contacts test is a constitutional  test, why does what Congress says in a  particular statute modify that?  MR. YALOWITZ:  Be -- because the  minimum context -- minimum contacts test grows  out of Fourteenth Amendment cases that -- that  provided for limitations on state governments.  Those limitations do not apply to the federal  government.  The Court has said that.  Even in the Lochner era, when the  Court was imposing those kinds of limitations,  the Court said that -- that those limitations  don't apply when the federal government's powers  are at issue.  And I'm thinking of Burnet  against United States --Bennett against United  Heritage Reporting Corporation 1  2    3    4    5    6    7    8    9  10  11   12   13   14   15   16  17   18   19           20   21   22  23   24   25   9  Official - Subject to Final Review  States, Burnet against Brooks, Cook against  Tait.  JUSTICE BARRETT:  Well, why -- JUSTICE SOTOMAYOR:  Could I -- JUSTICE BARRETT:  -- would it be  relevant even if Congress hadn't spoken?  I  mean, if -- if they're really a feature of the  interstate fed -- of interstate federalism and  that's their role under the Fourteenth  Amendment, why would we care about the minimum  contacts analysis even in the absence of a  statute where Congress tried to override it?  MR. YALOWITZ:  So the -- the Court has  said in the Omni case that there has to be a  statutory basis for jurisdiction, and if -- if  there's no statutory basis for jurisdiction,  then plaintiffs obtain jurisdiction by service  under state law.  JUSTICE BARRETT: So it would be that  the Fourteenth Amendment -- you're -- so it's  not -- I guess maybe I misunderstood you.  You're not saying that Congress would be  overcoming some background principle that would  otherwise be applicable to the jurisdiction of  the United States.  You're simply saying that  Heritage Reporting Corporation 1  2    3    4    5    6    7    8    9  10   11  12  13   14   15   16   17   18  19   20   21   22   23   24   25   10  Official - Subject to Final Review  there would be no statute authorizing service of  process -- MR. YALOWITZ:  Correct.  JUSTICE BARRETT:  -- in that  hypothetical?  MR. YALOWITZ:  Correct.  JUSTICE SOTOMAYOR:  But, if I'm -- can  I unpackage your argument?  You're basically  saying there is no due process protection  whatsoever under the Fifth Amendment, even for  U.S. citizens, because I don't know why it makes  a difference that this is a foreigner or a U.S.  citizen.  If there is, as you're advocating, no  Fifth Amendment due process constraint on  government, then Congress could, at its own  whim, say you committed an act in New York, it  violated a federal statute, get tried in  California -- MR. YALOWITZ:  So -- JUSTICE SOTOMAYOR:  -- get tried in  Alaska, get tried in Hawaii.  You might say  political factors could constrain that.  But haven't we said when we've  analyzed the Fourteenth Amendment that there are  Heritage Reporting Corporation 1    2  3    4    5    6    7    8    9    10   11   12   13   14   15   16  17 18  19   20   21   22   23   24  25   11 Official - Subject to Final Review  two components?  One is the interstate interests  of constraining the states from expanding their  jurisdiction.  But we've also said there's a  second component, which is fairness, and it  doesn't seem -- and we've not limited that to  the interstate concerns.  Why would we take it out of the Fifth  Amendment altogether?  MR. YALOWITZ:  I -- I don't think you  would. So I -- the rule that we're recommending  would -- would -- would include a fairness or a  reasonableness component that protects citizens  and non-citizens alike from -- from arbitrary  federal action.  So, for example, if Congress passed a  law that said, if you enter Paris, France,  you're subject to the jurisdiction of the  district court in Paris, Texas, that would be a  arbitrary government action that would violate  the due process rights of anybody being tried  under that statute.  However, when it comes to U.S.  citizens, Congress and the courts are nationwide  actors anyway, and so, for example -- JUSTICE SOTOMAYOR:  Yeah, but if I  Heritage Reporting Corporation 1  2    3    4  5  6  7    8    9  10   11   12   13   14   15   16   17  18   19  20   21   22   23   24   25   12  Official - Subject to Final Review  live in New York and I have never left New York,  which is highly unlikely, but -- or I'm in  Idaho -- in Idaho or somewhere else on a farm  and never left it, and all I did was something  there that happened to violate a federal law, I  might have a problem with being haled to Hawaii  or Alaska.  MR. YALOWITZ:  So -- so Congress has  in some cases provided for nationwide  jurisdiction.  For example, the -- the U.S.  Court of Federal Claims has -- is a nationwide  court.  And -- and what the courts have done  as a practical matter and sensitive to the -- the problems that individuals might have is  the -- the courts will go to them or their -- or, by rule, the courts have said, you know, you  can't be -- you can't -- your trial subpoena  will only be a hundred miles from where you -- where you live.  I -- I -- I -- we're not advocating a  rule that would eliminate a reasonableness -- JUSTICE SOTOMAYOR:  Some sort of  fairness requirement?  MR. YALOWITZ:  -- or fairness -- Heritage Reporting Corporation 1    2    3    4    5    6    7   8  9  10   11   12   13   14  15   16   17   18   19   20   21   22   23   24   25   13 Official - Subject to Final Review  right.  JUSTICE SOTOMAYOR:  You're just saying  that, here, it's met?  MR. YALOWITZ:  Correct.  JUSTICE JACKSON:  And, by \"fairness,\"  are you talking about principles of individual  liberty?  I mean, I'm sort of focusing on the  Insurance Corp. of Ireland case and the idea  that due process not only in the Fourteenth  Amendment context has this notion of principles  of federalism and interstate sovereignty but  also the concern that Justice Sotomayor was  picking up on about sort of a liberty interest  in not being haled into a court far away.  And I would think that would apply  even in the international context.  MR. YALOWITZ:  Right.  I -- I think  that it -- I agree with that.  I think that  there's not a -- there's not a liberty -- there's not a reasonableness problem in this  case.  JUSTICE JACKSON:  Right.  MR. YALOWITZ:  No -- nobody said, oh,  it's -- it's too difficult for us to go from  65th Street down to -- Heritage Reporting Corporation 1    2    3  4    5    6  7    8    9  10  11   12   13   14   15   16   17   18   19  20   21   22   23   24  25  14 Official - Subject to Final Review  JUSTICE JACKSON:  No, I understand on  the facts of this case.  But -- but, to the  extent that we are trying to assess what the  Fifth Amendment requires in terms of personal  jurisdiction, isn't there some idea, in addition  to what the Fourteenth Amendment says about  federalism, which you say doesn't apply in the  Fifth Amendment context, is there still some  notion of a personal jurisdiction limitation in  the Fifth Amendment that is rooted in these  principles of liberty?  MR. YALOWITZ:  I think so, yes.  We -- we're not advocating for a -- for a complete  removal of -- of any protections that an  individual might have because it's traveling  under the Fifth Amendment.  What we're saying is  the -- these territorial --these very tight  territorial limits that we've seen in the  Fourteenth Amendment cases have no place in a -- in an analysis dealing with a federal statute.  JUSTICE ALITO:  So what, again, do you  think is the Fifth Amendment test?  MR. YALOWITZ:  Sure.  So we would say  that the statute has to provide fair warning and  that it has to reasonably advance a legitimate  Heritage Reporting Corporation 1  2    3    4    5    6    7    8    9    10   11   12   13   14   15   16   17   18   19    20   21   22   23   24   25  15  Official - Subject to Final Review  government interest in the context of our  federal system.  JUSTICE GORSUCH:  What is that -- JUSTICE ALITO:  What -- what's an -- an example of an illegitimate government  interest that is unreasonably advanced?  MR. YALOWITZ:  Well, I think that my  Paris, Texas, example -- JUSTICE ALITO:  Wait.  What is it  again? What is your Paris, Texas, example  again?  MR. YALOWITZ:  Sure.  If you --if you  drive a car in Paris, France, then -- then  you're subject to jurisdiction in district court  in Paris, Texas.  You know, they're both called  \"Paris,\" so, you know -- JUSTICE ALITO:  I mean, do you  think -- could -- could Congress say that if one  American driving a car in France causes injury  to another American causing -- driving a car in  France, a suit may be brought in the United  States?  MR. YALOWITZ:  Hmm. W ell, it would  be -- that -- that would be a more difficult  case than ours because it's hard to see what the  Heritage Reporting Corporation 1    2    3  4    5    6    7  8  9    10   11   12   13   14   15   16   17   18  19   20   21   22   23  24   25  16 Official - Subject to Final Review   federal reference is.  JUSTICE ALITO:  No, I understand it's  more difficult than yours.  MR. YALOWITZ:  Right.  JUSTICE ALITO:  But I'm -- and maybe  we don't have to say what the Fifth Amendment  test is, but you've offered a Fifth Amendment  test, so I'm trying to understand what it means.  MR. YALOWITZ:  It -- it would be  difficult to see what the federal interest is  in -- in regulating traffic laws or auto  accidents abroad.  JUSTICE ALITO:  Providing compensation  for Americans who are tortiously injured, no  matter where the tort occurs.  MR. YALOWITZ:  Sure.  That -- that's -- and I think that -- I think that  Congress has very broad foreign commerce powers,  and, obviously, if Congress legislated to the  limit, then that would be a -- that would be a  interesting and difficult case.  JUSTICE GORSUCH:  Mr. Yalowitz, I'm -- I'm struggling to see any of this in your brief.  I had understood your argument in your brief to  say that under the Fifth Amendment, due process  Heritage Reporting Corporation 1  2  3    4  5    6    7  8    9    10   11   12   13   14   15   16   17   18  19  20   21   22   23   24  25 17  Official - Subject to Final Review  just requires service, a judge, and --and an  opportunity to be heard.  And -- and now you're saying that  there's some sort of balancing test or  reasonableness requirement, and -- and -- and  I -- I just didn't see that in your brief. I  saw hints of that in the government's but not  yours.  MR. YALOWITZ:  So you -- JUSTICE GORSUCH:  And -- and I'm -- I  guess I'm asking this: Where does this come  from then?  If it -- if -- if -- if it's -- if  I'm right that it's not in your brief, where -- where do these requirements come from?  MR. YALOWITZ:  So we see three threads  of due process jurisprudence from the founding:  service, as -- as you say; a court, as you say;  and then there's a debate among scholars about  whether due process included a substantive  component.  JUSTICE GORSUCH:  Yeah.  You say  substantive due process precedents require no  more than what I've just described.  That's -- that's page 22 of your brief.  MR. YALOWITZ:  Right.  Right. So  Heritage Reporting Corporation 1    2    3    4    5  6    7    8    9  10   11   12   13  14   15   16   17   18   19   20   21   22   23   24   25   18 Official - Subject to Final Review  it -- JUSTICE GORSUCH:  Now I'm hearing a  slightly different version of your argument.  MR. YALOWITZ:  I -- I -- I would say  that for those members of the Court who believe  that there is a -- there is a -- JUSTICE GORSUCH:  I -- I'm -- I'm  really not interested in your -- your -- your  attempt to assemble five votes. I'm interested  in your views on what the law is.  MR. YALOWITZ:  Well, look, I think  that the -- that -- that a form of substantive  due process has been a long tradition in the  Court and in this country.  And we're not  arguing in this case that -- that arbitrary -- that an arbitrary statute would be  constitutional.  We think that -- we think that -- JUSTICE GORSUCH:  Well, one man's  arbitrariness is another man's brilliance, I  mean, and no -- no member of Congress who votes  for something and the president signs thinks  that what they're doing is arbitrary.  MR. YALOWITZ:  I don't disagree with  that. I -- I understand -- I understand the  Heritage Reporting Corporation 1  2    3    4    5    6    7    8  9  10   11   12   13   14   15   16   17   18   19   20   21   22   23   24   25   19  Official - Subject to Final Review  point you're making and I don't disagree with  it.  CHIEF JUSTICE ROBERTS: Thank you,  counsel.  Justice Thomas, anything further?  Justice Alito?  JUSTICE SOTOMAYOR:  But all of our -- all of our cases have spoken about -- under the  Fourteenth Amendment, have put in a substantive  due process component that's independent from  the interstate question?  MR. YALOWITZ:  That is -- that is the  Court's jurisprudence to date, correct.  JUSTICE SOTOMAYOR:  So all of our  cases have spoken about some form -- some  version of fairness?  MR. YALOWITZ:  I -- right.  And -- and  particularly given the -- given the foreign  policy and national security issues in this  case, I would think that the -- JUSTICE SOTOMAYOR:  No, I know you  want to win, but that's -- but -- MR. YALOWITZ:  No, but I would  think -- JUSTICE SOTOMAYOR:  -- but Justice  Heritage Reporting Corporation 1    2    3    4    5    6    7    8    9  10   11   12   13   14   15   16   17   18   19   20   21   22   23   24   25   20 Official - Subject to Final Review   Gorsuch was limiting -- saying that there is  no -- that there is no substantive due process  component to due process.  MR. YALOWITZ:  There are those who  have that view.  We don't need that to win the  case, particularly given the -- the deference  that the Court -- the deferential standard of  review that the Court engages in in a -- in a  case involving national security and foreign  policy.  JUSTICE SOTOMAYOR:  Thank you.  CHIEF JUSTICE ROBERTS:  Justice Kagan?  JUSTICE KAGAN:  And -- and just so I  understand your test, it's a non-arbitrariness  test or it's a fundamental fairness test?  What  is it?  MR. YALOWITZ:  Non-arbitrary.  JUSTICE KAGAN:  Would that -- is that  different from a fundamental fairness test?  MR. YALOWITZ:  I -- I -- I -- I  understand it better.  I -- I find fundamental  fairness to be squishier.  JUSTICE KAGAN:  Squishier?  MR. YALOWITZ:  Yeah.  JUSTICE KAGAN:  But we -- we --we  Heritage Reporting Corporation 1  2    3    4   5  6    7  8  9    10   11   12   13   14   15   16   17   18   19   20  21  22   23   24   25   21  Official - Subject to Final Review  have used that squishy concept when it comes to  the Fourteenth Amendment.  Yes?  MR. YALOWITZ:  Indeed.  JUSTICE KAGAN:  And -- and, when it  comes to the Fourteenth Amendment, we've said  that that, along with federalism concerns that  don't really play here, but that also fairness  concerns lead to a minimum contacts test.  So why wouldn't we say the same thing  here?  MR. YALOWITZ:  There's no reason not  to say the same thing here.  In this case, I  think the --the -- the concerns that Justice  Sotomayor were talking about about, you know,  having somebody without resources required to  travel far and defend a case, those -- those  don't exist in -- in this case.  So, to the extent fundamental fairness  is worried about unfairly burdening -- deeply  unfairly burdening a defendant with the -- with  the act of defending a case in a faraway locale,  that is not a problem in this case.  JUSTICE KAGAN:  Okay.  I mean, I guess  I am a little bit -- maybe I'm just not  understanding the test, but I do --do want to  Heritage Reporting Corporation 1  2    3    4    5    6  7  8    9    10  11   12   13  14   15  16   17   18  19   20   21   22 23  24   25   22  Official - Subject to Final Review  understand it, so let me press you a little bit  more.  MR. YALOWITZ:  Sure.  JUSTICE KAGAN:  It's not a problem in  this case because you think that there are  minimum contacts here, so even if there were a  minimum contacts test, it would be satisfied  here? Is that what you're saying?  MR. YALOWITZ:  No, that's -- that's  not what we're saying. Well, let me back off of  that a little bit.  I -- I think that there -- that one  way to consider the minimum contacts test is to  ask: Did the defendant direct its activities at  a person within the protection of the sovereign?  And, here, that test is certainly met.  These defendants directed their activity at U.S.  citizens who are within the protection of the  United States.  JUSTICE KAGAN:  I don't think that  that would be usually the way that we would  explain what minimum contacts was looking for.  We would usually talk in terms of, like,  something like purposeful availment of the  sovereign.  So, here, that would be the entire  Heritage Reporting Corporation 1    2    3    4    5  6  7    8    9    10   11   12   13   14   15   16  17   18   19   20   21   22  23   24   25   23 Official - Subject to Final Review  United States, something like that.  MR. YALOWITZ:  Well, that -- that's  true in a -- in a commercial case.  But, here,  we're talking about intentional torts, so the -- the analysis is a little bit different with an  intentional tort because you're not really  availing yourself of anything by --by blowing  up a -- a bomb.  JUSTICE KAGAN:  But you're not taking  issue of, like, with -- and, I guess, like  Justice Gorsuch, I thought maybe something  different from your brief, but, as I understand  it, you're not taking issue with some sort of  substantive component --call it  non-arbitrariness, call it fairness -- and  you're not really taking issue with a minimum  contacts test as long as it's kind of your  version of minimum contacts?  MR. YALOWITZ:  That's fair.  I -- I  mean, you say \"our version\" -- JUSTICE KAGAN:  Well, which is like if  you direct yourself to individuals with -- direct yourself to the sovereign entity, to  individuals within the protection of the  sovereign entity.  Heritage Reporting Corporation 1    2    3    4    5  6    7    8    9  10   11   12   13   14   15   16   17   18   19   20  21   22   23   24   25   24 Official - Subject to Final Review  MR. YALOWITZ:  Right.  Right. So  the -- the -- the sovereign sphere of the State  of Nevada ends at the border.  So, when -- when  the -- the plaintiffs in Walden against Fiore  traveled to Georgia, they were not within the  protection of Nevada anymore.  It's different for federal -- for U.S.  citizens.  Wherever in the world you travel, the  protection of the United States travels with  you. And so the sovereign interests are  different.  So, when -- when you think of -- and  some of the -- like the lower court in this case  talked about they -- they didn't conduct any  activities within the territory of the United  States.  That's the wrong way to think about the  sovereignty of the United States.  It's a  sovereign-by-sovereign analysis.  Sovereignty of the United States is  much broader than the sovereignty of the State  of Nevada.  JUSTICE KAGAN: Thank you.  CHIEF JUSTICE ROBERTS:  Justice  Gorsuch?  JUSTICE GORSUCH:  So, if I've got it  Heritage Reporting Corporation 1   2  3    4    5    6  7    8    9    10   11   12   13   14   15   16   17   18   19   20   21   22 23   24   25   25  Official - Subject to Final Review  right, you want us to adopt the fundamental  fairness language from our Fourteenth Amendment  jurisprudence but give it different content in  the Fifth Amendment.  Is that fair?  MR. YALOWITZ:  I don't think you have  to adopt the fundamental fairness -- JUSTICE GORSUCH:  No.  But, to get  your five votes, that's -- you're willing to do  that?  MR. YALOWITZ:  I would be willing -- JUSTICE GORSUCH:  Yeah.  MR. YALOWITZ:  -- to do that.  JUSTICE GORSUCH:  Okay.  And if we did  that -- MR. YALOWITZ:  I'm not going to lie.  JUSTICE GORSUCH:  Yeah.  No, I -- (Laughter.)  JUSTICE GORSUCH:  --I appreciate  that. I'm -- I'm just trying to understand  where the ball has bounced because it's bounced  considerably from your brief.  And -- and this fundamental fairness  test, do you have any historical pedigree for it  and -- because it's not what we do in the  Fourteenth Amendment.  You've conceded that.  So  Heritage Reporting Corporation 1    2    3    4    5    6    7    8    9  10   11  12   13   14   15   16  17  18   19   20   21   22  23  24   25   26 Official - Subject to Final Review  where did it come from -- MR. YALOWITZ:  So -- JUSTICE GORSUCH:  -- if I'm not just  making it up?  MR. YALOWITZ:  -- the -- the  fundamental fairness test comes from  International Shoe.  JUSTICE GORSUCH:  Okay.  But that's  the minimum contacts test that you were  discussing with Justice Kagan, and you're saying  no, it's going to apply very differently because  it's -- it's -- it's -- it's -- it's the United  States rather than a state.  But you get into the -- you get into  the same -- if it's fundamental fairness, you  get into the same notice and opportunity to be  heard, and you get into whether it's reasonable  to be haled into Paris, Texas, and all those  kinds of questions, don't you?  MR. YALOWITZ:  I -- I -- I think that  if you adopt a -- a substantive due process  overlay, then that's where the law takes you.  That's where the Court's precedents take you.  If -- JUSTICE GORSUCH: Do you have any  Heritage Reporting Corporation 1    2    3  4  5    6    7  8    9    10   11  12   13   14   15  16   17   18   19   20   21          22   23   24   25   27 Official - Subject to Final Review  basis in history for that?  MR. YALOWITZ:  No. I think that if  you go back to what -- what the founders were  doing, what this Court was doing in the early  years, you don't have any -- JUSTICE GORSUCH:  I mean, back then,  it was, yes, there's international law of  nations.  MR. YALOWITZ:  Correct.  JUSTICE GORSUCH:  But Congress can  defease that when it chooses. That was the law.  MR. YALOWITZ: Correct.  Very clearly,  there was -- there were jurisdictional  limitations that the courts applied.  They came  from the general law of nations. They did not  come from the Constitution.  JUSTICE GORSUCH:  But, you know,  Justice Story said, if Congress says otherwise,  we have to follow that.  MR. YALOWITZ:  Correct.  JUSTICE GORSUCH: And then it becomes  a political question between international  sovereigns.  MR. YALOWITZ:  And not just Justice  Story. That's -- that is -- that -- Heritage Reporting Corporation 1    2    3    4    5    6    7    8    9    10   11   12  13   14   15   16              17   18   19  20   21   22   23  24   25   28 Official - Subject to Final Review  JUSTICE GORSUCH:  Oh, sure.  MR. YALOWITZ:  I mean, I -- that's  all -- JUSTICE GORSUCH:  He famously said it.  MR. YALOWITZ:  Right.  It's all over  the cases.  JUSTICE GORSUCH:  Yeah.  Okay.  Now let's say we have to apply our  minimum contacts test because you've kind of  taken us there a bit or at least close to it.  I'm wondering -- I --I understand, you know,  there's (A) and (B) in the statute here.  MR. YALOWITZ:  Right.  JUSTICE GORSUCH:  Right?  And (A) had  to do with the payments abroad.  MR. YALOWITZ:  Right.  JUSTICE GORSUCH:  (B) had to do with  maintaining an office here.  I -- I -- I get the  analogy that (B) is sort of like, a little bit  like, what we would do in the Fourteenth  Amendment context.  You -- you maintain an  office in a particular jurisdiction.  You're  kind of opening yourself up to all manner of  suits. But (A) is purely extraterritorial  behavior.  Heritage Reporting Corporation 1    2    3  4    5    6    7    8    9    10   11  12   13   14   15   16   17   18  19   20   21   22   23   24   25   29 Official - Subject to Final Review  And I'm wondering:  Is (B) enough for  you in this case? Do you need anything more  than (B) to bring this suit?  MR. YALOWITZ:  We -- we don't need  more than (B).  JUSTICE GORSUCH:  So -- MR. YALOWITZ:  But Congress gave us  both.  JUSTICE GORSUCH:  I understand that.  But, if -- if -- if the Court were to say -- and  follow your lead today and say, well, you know,  something like fundamental fairness and minimum  contacts -- let's just say we did a straight-up  Fourteenth Amendment analysis under our existing  precedent and said (B) is a lot like having an  office in a particular jurisdiction.  Is that enough for you?  Is that  enough of a victory for you to pursue this suit?  MR. YALOWITZ:  We -- that would be a  suboptimal solution -- JUSTICE GORSUCH:  Why?  MR. YALOWITZ:  -- for us because --in  candor, because the defendants have contested  whether they have come within (B).  They don't  contest that they've come within (A).  Heritage Reporting Corporation 1    2    3  4    5    6  7    8    9    10   11  12  13   14   15   16   17   18   19   20   21   22   23   24   25   30 Official - Subject to Final Review  JUSTICE GORSUCH:  Yeah.  MR. YALOWITZ:  And the -- the case is  old enough to go to law school.  JUSTICE GORSUCH:  Well, they -- they  say -- I appreciate that.  They -- as I  understand it, they say with respect to (B) that  they're doing -- that they're maintaining their  offices extra-legally and that, therefore,  should make a difference.  If this Court were to say that doesn't  make a difference, that they're maintaining  offices here through the grace of executive  non-enforcement, that's enough to open them to  jurisdiction, does that -- is that enough for  this suit to proceed?  MR. YALOWITZ:  If the Court were to  apply the statute -- JUSTICE GORSUCH:  Yes.  MR. YALOWITZ:  -- and say the -- the -- the record is sufficient, if -- if this  Court were to say the record is sufficient to  conclude that the activities set out in the  record are within the text of the statute, which  is unambiguous, then that's enough for us.  JUSTICE GORSUCH:  And so there would  Heritage Reporting Corporation 1    2    3  4    5    6    7    8    9    10   11   12   13   14   15   16   17   18   19   20   21   22   23   24   25   31 Official - Subject to Final Review  be no need to opine on what -- what limits  are -- may or may not exist under the Fifth  Amendment. We could simply say under our  Fourteenth Amendment jurisprudence analogy it  would --it's enough?  MR. YALOWITZ:  Correct.  JUSTICE GORSUCH:  And that would  satisfy you?  MR. YALOWITZ:  If -- if the Court -- I -- I want to be very clear.  JUSTICE GORSUCH:  If we applied (B).  MR. YALOWITZ:  Right.  I want to be  very clear because -- JUSTICE GORSUCH:  I want to be clear  too.  MR. YALOWITZ:  Yeah.  We -- we've  had -- we've had a very long journey.  JUSTICE GORSUCH:  I do appreciate  that.  MR. YALOWITZ:  And -- and --and a -- a -- a remand back to the panel for further  application of -- JUSTICE GORSUCH:  That's not what  I'm -- MR. YALOWITZ:  Right.  Heritage Reporting Corporation 1    2    3    4    5    6  7    8    9    10   11   12   13   14   15   16   17   18   19   20   21   22   23  24   25   32 Official - Subject to Final Review  JUSTICE GORSUCH: That's not what I'm  asking about.  MR. YALOWITZ:  -- would not be good  for us.  JUSTICE GORSUCH:  But -- but, if we  were to say (B) applies, you're good to go?  MR. YALOWITZ:  The Congress has made  it an either/or.  JUSTICE GORSUCH:  Yeah.  MR. YALOWITZ:  Right.  JUSTICE GORSUCH:  Okay.  Thank you.  MR. YALOWITZ:  All right.  CHIEF JUSTICE ROBERTS:  Justice  Kavanaugh?  JUSTICE KAVANAUGH:  I understood your  argument in the brief to be arguing in the  alternative -- MR. YALOWITZ:  That's correct.  JUSTICE KAVANAUGH:  -- and to have  a -- what I would say, a broader argument  that -- that Congress -- there are no limits on  Congress, constitutional limits, other than  service of process, et cetera, but there's no  extra personal jurisdictional limits on Congress  and then that you are arguing, even if that were  Heritage Reporting Corporation 1  2  3    4    5    6  7    8    9    10   11   12   13   14            15  16   17   18   19   20   21   22   23   24   25   33  Official - Subject to Final Review  rejected or even if that's not correct, we have  a second argument that even under the Fourteenth  Amendment precedents, you still win.  MR. YALOWITZ:  That's correct.  JUSTICE KAVANAUGH:  Okay.  And you're  not giving up that first argument?  MR. YALOWITZ:  Absolutely not.  JUSTICE KAVANAUGH:  Okay.  Just making  sure.  Okay. And then what role does  international law play?  Any? Congress can  override that, I -- MR. YALOWITZ:  Right.  JUSTICE KAVANAUGH:  --assume to be  your position, but I just want to make sure I  have that nailed down.  MR. YALOWITZ:  Right.  So -- so, if  Congress hasn't spoken or hasn't spoken clearly,  then international law, would there be a  presumption of compliance with international  law? In -- in this case, there's no conflict  between what Congress has done and international  law. But Congress is free to override  international law.  JUSTICE KAVANAUGH:  Thank you.  Heritage Reporting Corporation 1    2    3    4  5  6  7    8  9  10   11   12  13   14   15   16   17   18   19   20   21   22   23   24   25   34 Official - Subject to Final Review  CHIEF JUSTICE ROBERTS:  Justice  Barrett?  JUSTICE BARRETT:  So I want to  describe one way to understand your argument,  and I'd like you to tell me if -- if this is one  way to understand your argument.  So the Fifth Amendment obviously  predates the Fourteenth Amendment by quite a  bit, and we have a line of precedent -- Justice  Story's cases being a prime example; we have  others -- that understand the Fifth Amendment in  the way that you propose for your broader  argument.  Then we have a distinct line of cases  that pick up with International Shoe that  interpret the Fourteenth Amendment differently.  So we have competing lines of precedent.  Is one way to understand your  argument, like, let them just keep going  separately and parallel, maybe International  Shoe is wrong, maybe the Fourteenth Amendment  precedent is wrong, but don't disturb it, just  stay the course with the Fifth Amendment  precedent, and, if they're in tension, so be it?  MR. YALOWITZ:  Right.  This is not the  Heritage Reporting Corporation 1  2    3    4    5    6    7  8    9    10   11   12   13   14   15  16   17   18   19  20   21   22   23   24   25   35  Official - Subject to Final Review  case to resolve how the Court should deal with  Fourteenth Amendment cases.  JUSTICE BARRETT:  Well, do we ever  have to resolve that question on your view?  Could we just let the Fifth Amendment and the  Fourteenth Amendment precedent --because, I  mean, as in your view, would we be overruling  some of these other cases, these Fifth -- not -- not the four -- don't -- don't shake your head  too soon.  If we treated the Fifth Amendment as  having the minimum-contacts-type requirement,  would we have to be -- if we treated the Fifth  Amendment that way, would we be essentially  overruling some of the 19th Century cases that  take the Justice Story view?  MR. YALOWITZ:  Hmm. That's an  interesting question.  So I -- I think that -- I  think it wouldn't be overruling those cases to  say that the -- the sovereign power of the  government is sufficient to protect Americans  abroad.  And the reason I think that is -- JUSTICE BARRETT:  Well, that's not  quite the question.  I mean, I'm asking:  If we say -- you  Heritage Reporting Corporation 1    2  3    4    5    6    7  8  9    10   11   12   13   14   15   16   17               18   19   20  21   22  23   24   25  36 Official - Subject to Final Review   know, Justice Kagan's questions were pointing  out that we have treated the Fourteenth  Amendment as containing a fairness component.  And -- and I don't understand your argument to  be in a full-throated way -- your broader  argument in a full-throated way to say, yes,  there's a fairness component that would lead us  to embrace the minimum contacts analysis for  purposes of the Fifth Amendment.  Is that correct?  MR. YALOWITZ:  Correct.  JUSTICE BARRETT:  Okay.  So, if that  is your argument, you are arguing for the Fifth  Amendment to be interpreted differently from the  Fourteenth, correct?  MR. YALOWITZ:  Correct.  JUSTICE BARRETT:  If we say, no, no,  no, no, no, the Fourteenth Amendment analysis,  not the interstate federalism prong but the  minimum contacts prong, the fairness prong,  applies in the Fifth Amendment context, is it  your view that we would be overruling cases from  the 19th Century in, say, the Justice Story line  or at least rendering a decision that would be  in some tension with those cases which took a  Heritage Reporting Corporation 1    2    3  4    5    6    7    8    9    10   11   12   13   14   15   16   17   18   19  20   21   22   23   24   25   37 Official - Subject to Final Review   different view of the Fifth Amendment?  MR. YALOWITZ:  I think that -- I think  that a decision to that effect would be in  tension with those cases, yes.  The -- the -- at the time that -- at  the time that the Due Process Clause was  ratified, there was no -- JUSTICE BARRETT:  Which Due Process  Clause?  The Fifth Amendment?  MR. YALOWITZ:  The 1791.  JUSTICE BARRETT:  Okay.  MR. YALOWITZ:  The one we're here  about.  There was no territorial limitation at  all embedded in it in any way. And so -- and -- and, in fact, the founders quite frequently  litigated cases arising outside of the United  States.  Famously, the Philadelphia Convention  was packed with lawyers who had litigated those  cases as judges.  JUSTICE BARRETT:  So was Pennoyer  wrong to house a territorial understanding of -- you know, of personal jurisdiction within the  Due Process Clause of the Fourteenth Amendment?  MR. YALOWITZ:  I -- I don't -- I -- I  Heritage Reporting Corporation 1    2  3    4    5  6    7  8    9    10   11   12  13   14   15   16   17   18   19   20   21   22   23   24   25   38 Official - Subject to Final Review  think that what Pennoyer -- the way I read  Pennoyer and the way Professor Sachs reads  Pennoyer is that Pennoyer was -- was  constitutionalizing kind of a narrower view of  due process, which is there has to be a judge  with -- with jurisdiction, there has to be  opportunity to be heard, the Murray's Lessee  view of -- of due process.  I -- I think the territorial  restriction, the idea that there was a  territorial horizontal federalism basis, I think  that came into the Court's jurisprudence in the  Lochner era.  JUSTICE BARRETT:  Do you agree with  Professor Sachs's amicus brief?  MR. YALOWITZ:  Oh, yeah.  JUSTICE BARRETT:  Okay.  Thank you  very much.  CHIEF JUSTICE ROBERTS:  Justice  Jackson?  JUSTICE JACKSON:  Yeah, I just want to  know: Is that amicus brief and Professor  Sachs's opinion the basis for your certainty  about what happened at the founding?  I mean, is  there other evidence?  Heritage Reporting Corporation 1    2  3  4    5    6    7  8    9    10  11   12   13   14   15   16   17   18   19   20   21  22   23   24   25   39 Official - Subject to Final Review  MR. YALOWITZ:  It -- it's confirmatory  of our views. Judge Sofaer also put in an  amicus brief that talked about Founding Era  evidence.  JUSTICE JACKSON:  But -- but did  you -- did you go to the original sources or are  you relying on them for your view as to what the  ratification state of affairs was?  MR. YALOWITZ:  As a matter of fact, I  spent a lot of time with the original sources.  JUSTICE JACKSON:  And did you -- you  found no evidence?  How -- how many sources?  What -- what is the scope here of our  understanding of what actually happened then?  MR. YALOWITZ:  I -- I -- I think -- I -- it's -- it's very clear that at the  convention and at the rat --the Philadelphia  Convention and at the ratifying conventions,  the -- the members of the convention and the -- the founders urging ratification viewed the  power of the judiciary and the power of the  legislature to be coextensive.  That's in the ratifying conventions.  That's in Hamilton's Federalist Number 80.  The -- the -- it's also clear from -- Heritage Reporting Corporation 1  2    3    4  5    6    7    8  9    10   11  12   13   14   15   16   17   18   19  20   21   22   23   24 25   40  Official - Subject to Final Review  now this is secondary sources, but they're cited  in my brief, Bourguignon, for example, and  Deirdre Mask's article -- that --that the  founders litigated those cases, those  extraterritorial cases.  And then the only question is:  Well,  did the Fifth Amendment change that?  Did the  Due Process Clause erase that baseline  understanding?  And, when you go to what Randolph said  in his report on the Judiciary Act, when you  look at the Judiciary Act, which was Senate  Bill 1 in the first session of the 1st Congress,  written by -- in the hands of Ellsworth and  Patterson, you see people who were in the room  who thought that it was perfectly okay to --to  allow for extraterritorial -- JUSTICE JACKSON:  But you concede, as  Justice Barrett pointed out, that we do have a  Fourteenth Amendment due process set of cases  and interpretations that have a different view  about the extent to which there are limitations  that relate to contacts?  MR. YALOWITZ:  Right.  So two --I  agree with that, and I -- I --I would say two  Heritage Reporting Corporation 1    2    3    4  5  6    7  8    9    10   11   12   13   14   15   16   17   18   19   20   21   22   23   24   25   41 Official - Subject to Final Review  things about it.            First of all, seeded within that  jurisprudence is the idea of this horizontal  federalism, which, even if you want to say it's  the same standard, it's going to be a  sovereign-by-sovereign analysis. That's what  Justice Kennedy's plurality said in the -- JUSTICE JACKSON:  How -- how do you  explain Insurance Corporation of Ireland then?  MR. YALOWITZ:  Insurance Corporation  of Ireland -- JUSTICE JACKSON:  Where it was very  clear -- or the fact that we have waiver in -- in these kinds of situations?  Meaning isn't  there some concept of individual liberty?  If  not, you couldn't -- MR. YALOWITZ:  Right.  JUSTICE JACKSON:  --waive this if it  was all about territorial sovereignty.  MR. YALOWITZ:  Right.  And, as -- as  Your Honor pointed out in -- in Mallory, it's  a -- it's a -- it's a waivable right.  There is  a right and it's waivable.  Of course.  JUSTICE JACKSON:  Thank you.  CHIEF JUSTICE ROBERTS: Thank you,  Heritage Reporting Corporation 1    2    3    4    5    6    7    8  9  10   11   12   13 14   15   16   17   18   19   20   21   22  23   24   25   42 Official - Subject to Final Review   counsel.  Mr. Kneedler.  ORAL ARGUMENT OF EDWIN S. KNEEDLER  ON BEHALF OF THE PETITIONER IN CASE 24-151  MR. KNEEDLER:  Mr. Chief Justice, and  may it please the Court:  The act of Congress at issue here is  an integral component of the foreign policy and  national security policy of the political  branches, including the securing of compensation  for victims of terrorism.  Congress determined that it is fair to  deem the PLO and PA to have consented to  personal jurisdiction in suits under the  Anti-Terrorism Act if they made payments to or  on behalf of persons who injured or killed  Americans in acts of terrorism or engaged in  certain activities in the United States.  Both of those forms of conduct that  are jurisdiction-triggering are knowing and  voluntary.  They have a clear nexus to United  States territory and to United States nationals  and to the compelling U.S. interests in  deterring terrorism.  And the sculp -- the scope -- excuse  Heritage Reporting Corporation 1    2  3    4    5    6    7  8  9  10   11   12  13   14   15   16   17   18  19   20   21   22   23   24   25   43 Official - Subject to Final Review  me -- of the resulting submission to United  States jurisdiction is very limited. It is not  a general jurisdiction.  It is narrowly limited  to terrorism cases.  Congress has the constitutional  authority and institutional capacity to weigh  the very interests, including the distinct  status and international engagements of the PLO  and PA, the United States' unique and long-term  relationship with those entities, the  imperatives of national security and foreign  policy, and fairness to the claimants and to the  foreign defendants.  Congress's judgment on these issues,  as in all issues of national security and  foreign policy, are entitled to great deference.  The Act providing for jurisdiction  here is eminently fair and does not deprive  Respondents of due process. This Court should  sustain the statute.  I welcome the Court's questions.  JUSTICE THOMAS:  Mr. Kneedler, just to  take a step back, do the PLO and the Palestinian  Authority have constitutional rights?  MR. KNEEDLER:  We have not taken a  Heritage Reporting Corporation 1  2  3  4    5  6  7    8  9  10   11   12  13   14  15   16   17   18   19   20  21   22   23  24   25   44  Official - Subject to Final Review  position on that question. We have assumed that  they do. That question is itself of some  sensitivity to have the Court determine or a  court determine in a judicial proceeding whether  a particular entity is like a sovereign, is a  sovereign, to what extent is it like a  sovereign.  We urge the Court not to delve into  that. We have not taken a position on that  because of the sensitivities in this particular  arena.  But we -- we do think that the status  of the PLO, assuming arguendo that it has  some -- and PA -- that they have some  constitutional rights, that status is still  relevant to the application of due process  because -- for the reasons that I gave. The  United States has a long-term relationship  concerning them.  It's complicated.  It's  nuanced.  But the deterrence of terrorism has  been at the center of that policy for the last  four decades.  And the United States has taken  consistent efforts -- efforts to dissuade the  PLO and the PA from supporting terrorism.  JUSTICE THOMAS:  Didn't the Justice  Department take a different position in the  Heritage Reporting Corporation 1  2    3    4    5    6    7    8    9    10   11   12   13   14   15   16   17   18   19   20  21   22   23            24   25   45  Official - Subject to Final Review  1980s, that the PLO did not have constitutional  rights?  MR. KNEEDLER:  Well, you say a  different position.  We're not taking a position  here. But, in those -- those cases were -- JUSTICE THOMAS:  Well, it's different  from the non-position.  (Laughter.)  MR. KNEEDLER:  Those -- those cases -- those cases were not about due process with  respect to adjudicate -- being haled into U.S.  courts.  They were First Amendment cases by and  large that had to do with the permissibility of  the United States closing the Palestine  Information Office or limiting the -- the  expressive conduct of those entities in the  United States.  And we think, in those situations, the  United States surely has the authority to expel  the PLO, to close an information office, to  close any office for that matter, and to limit  what they may engage in in the United States.  I think that the due process question  of being deemed to be --have submitted to the  courts of the United States may present a  Heritage Reporting Corporation 1  2    3    4  5    6    7  8    9  10   11   12   13   14   15  16   17   18   19   20  21   22   23   24   25  46  Official - Subject to Final Review  different question.  CHIEF JUSTICE ROBERTS:  Counsel, you  articulated your -- your jurisdictional approach  in the terms of the particular facts of this  case. I mean, could you articulate it more  generally how it would apply?  In other words,  you focus on the facts, and that's perfectly  appropriate.  But, if we were to articulate the  general test and how it would apply, how would  you -- how would you articulate that?  MR. KNEEDLER:  Well, I -- I -- I think  there are maybe different circumstances.  This  case is word -- the statute here is worded in  terms of consent to jurisdiction, where the -- the PA and PLO are deemed to have consented to  or to submit -- to submit themselves to the  jurisdiction of the United -- United States  courts.  In that circumstance, we have proposed  a test that depends on whether the conduct that  is jurisdiction-triggering is knowing and  voluntary and whether the resulting submission  to jurisdiction is fair and not exorbitant.  The -- the dissenting opinion from rehearing en  banc in the court of appeals also said that  Heritage Reporting Corporation 1  2    3    4    5    6    7    8    9  10  11  12   13   14   15   16   17  18  19   20   21   22   23   24   25   47  Official - Subject to Final Review  there should be a nexus between the United  States and -- and the --and the conduct  involved.  I think the nexus -- I'm sorry.  But,  if -- if you're -- if you're not relying on  consent, then you have perhaps a different  analysis.  CHIEF JUSTICE ROBERTS: Well, it  sounds like it's a grab bag. I mean, you -- as  far as I can tell, it's -- it's got to be fair.  It can't be exorbitant. There has to be a  nexus. I mean, that's a bunch of words.  I mean, could you be a little more  precise about what exactly we should be looking  for or -- MR. KNEEDLER:  Well, the -- what I was  describing is linked to the question of consent,  and we were building on the consent theory that  came from this Court's decision in Mallory and  other cases under the Fourteenth Amendment,  where the conduct has to be voluntary and -- and  I think some element of -- of fairness or nexus  to the -- to the jurisdiction.  So, in that part of what I was saying,  in that part of our argument, we were saying  Heritage Reporting Corporation 1  2    3    4  5    6  7  8    9    10   11   12   13   14 15   16   17   18   19   20  21  22   23   24   25   48  Official - Subject to Final Review  that the circumstances here can be analyzed  under the Fourteenth Amendment standards.  It's  obviously not the Fourteenth Amendment itself,  and the United States is different from states.  But, with respect to consent, the  factors that I have identified -- and this  statute is written in terms of consent -- are -- would be relevant to consent.  If you're -- if you're not talking  about a situation of consent, then you get into  something that's more parallel to International  Shoe with the -- with --I do want to make an  important point here -- JUSTICE GORSUCH:  Well -- MR. KNEEDLER:  --though, in response  to just -- JUSTICE GORSUCH:  -- Mr. Kneedler -- MR. KNEEDLER:  I'm sorry.  JUSTICE GORSUCH:  --are you asking us  to apply the Fourteenth Amendment standards, or  are you saying the Fifth Amendment is different?  MR. KNEEDLER:  We do believe the Fifth  Amendment is different, but even if in this -- JUSTICE GORSUCH:  And -- and the Fifth  Amendment, as Justice Barrett was pointing out,  Heritage Reporting Corporation 1  2  3    4    5    6  7    8    9    10   11   12   13   14   15   16   17   18   19   20   21   22  23   24   25   49  Official - Subject to Final Review  was historically understood to assume the law of  nations, general law applies, but Congress  can -- can reject that.  MR. KNEEDLER:  Yes.  JUSTICE GORSUCH:  And when it does,  this Court has to follow it. That -- that  was -- that was the historical rule in the Fifth  Amendment as I understand it, unless I'm  mistaken.  MR. KNEEDLER:  Well, that was the  understanding certainly.  JUSTICE GORSUCH:  Okay.  MR. KNEEDLER:  Justice Story expressed  that. I don't think any of those cases were  actual -- JUSTICE GORSUCH:  And The Charming  Betsy and -- and a whole bunch of others, right?  MR. KNEEDLER:  Right.  With respect to  sovereign immunity or other aspects of --of  jurisdiction, yes.  But those cases -- those  decisions, particularly the Justice Story ones,  were not presented with a case in which Congress  actually had disagreed with -- with  international law.  JUSTICE GORSUCH:  And, here, we do -- Heritage Reporting Corporation 1    2    3    4    5    6    7    8    9    10   11  12   13   14   15   16   17   18   19   20   21   22   23   24   25   50 Official - Subject to Final Review  MR. KNEEDLER:  And we think that  that -- JUSTICE GORSUCH:  And, here, we do  have that, and -- and Congress has adopted (A)  and (B).  And is there any -- and you talk about  the importance of -- of the sensitivity of  foreign relations and that this Court is not  well-positioned to do that and the -- and the  political branches are.  And if all that's true, then -- then  how do we have this fundamental fairness overlay  that you're now discussing in your brief in the  Fifth Amendment context?  MR. KNEEDLER:  Well, again, I was -- those -- that -- the articulation of that test  was looking at it under -- under the rubric of  consent, which -- JUSTICE GORSUCH:  Under the Fourteenth  Amendment rubric?  I -- I just want to be clear.  We're talking about -- MR. KNEEDLER:  Yes. But -- but -- but -- JUSTICE GORSUCH:  Okay.  I'm talking  about the Fifth Amendment.  MR. KNEEDLER:  No, I understand that.  Heritage Reporting Corporation 1  2  3    4    5  6    7    8    9  10   11   12   13   14   15   16   17   18   19  20   21  22   23   24   25   51  Official - Subject to Final Review  All I meant is that if -- because the statute is  written in terms of consent, if the Court chose  to analyze it under consent -- JUSTICE GORSUCH:  I'm -- I'm -- and  I'm asking you to put aside the Fourteenth  Amendment concepts for now.  MR. KNEEDLER:  Okay.  JUSTICE GORSUCH:  And under the Fifth  Amendment, does this Court have any role in  saying that what Congress has done is improper?  MR. KNEEDLER:  I don't think it has a  role here.  I'm reluctant to say that there is  no role because one could imagine any sort of  act of Congress -- I -- I think -- I think -- JUSTICE GORSUCH:  Yes. And that's  what -- that's the tension I see in your  argument.  On the one hand, you say,  historically, the Fifth Amendment was understood  to mean we respect what Congress does in this  area. And you -- you started off -- your  introduction was all about how we owe deference  to the political branches in this area.  But it seems at the same time you want  a safety valve for this Court to overrule some  instances in which Congress does speak -- Heritage Reporting Corporation 1    2    3    4    5    6    7    8    9  10   11   12   13   14   15   16   17   18   19   20   21   22   23   24   25   52 Official - Subject to Final Review  MR. KNEEDLER:  Well, I -- JUSTICE GORSUCH:  --and defease  international law.  MR. KNEEDLER:  No, all I'm saying is  that the Court -- the Court doesn't have to go  there, and -- and we think it would be prudent  for the Court to wait for an act of Congress  to -- because it takes an act of Congress to  provide for personal jurisdiction other than  following the rules of the state.  I think it would be prudent for the  Court to look at the particular act of Congress  involved, what the rationale for that statute  was, and see whether it -- whether it would  comport with due process.  JUSTICE GORSUCH:  My -- my -- my -- JUSTICE KAGAN:  Mr. -- JUSTICE GORSUCH:  --last question.  I'm sorry. I'm almost done.  If we were just to analyze this under  the Fourteenth Amendment precedents, same  question I asked your --your friend earlier.  (B) I kind of understand.  You have an office,  okay?  MR. KNEEDLER:  Right.  Heritage Reporting Corporation 1    2    3  4    5    6    7  8    9    10   11   12   13  14   15   16   17   18   19   20   21   22   23   24   25   53 Official - Subject to Final Review  JUSTICE GORSUCH:  And I get the  Mallory analogy.  I do. I understand that.  Now  whether it works is another thing.  But (A) is a little bit different.  It -- it's purely extraterritorial behavior.  And that -- that's a little harder to square in  my mind with our Fourteenth Amendment  jurisprudence.  Do we need to decide (A)?  Is it  enough to say this case survives under (B) even  applying our Fourteenth Amendment?  MR. KNEEDLER:  Well, we agree with the  plaintiffs that it would be prudent for the  Court to address both. And -- and I -- JUSTICE GORSUCH:  But do we need to?  I mean, if -- if -- if there's jurisdiction  under (B), do we need to say there's also  jurisdiction under (A)?  MR. KNEEDLER:  Well, with respect to  the activities, the lower courts have not  decided whether the -- whether the activities  that -- that are alleged would -- would be  protected or not protected, so there would be  yet a further remand.  And we think the payments -- and I do  Heritage Reporting Corporation 1  2  3  4    5    6    7    8    9    10  11   12   13   14   15   16   17   18   19   20   21   22               23   24   25   54  Official - Subject to Final Review  want to address, I think, a premise of your  question. Because the payments occur outside of  the United States, there can't be minimum  contacts with the United States.  But this is a place where we think the  Fifth Amendment would differ from the  Fourteenth.  JUSTICE GORSUCH:  Okay.  That -- that  answers my question if you say it's different  than the Fourteenth, so we'd need to do  something different.  I'm sorry, Justice Kagan.  JUSTICE KAGAN:  No, no, no, that was  helpful.  I hear you, Mr. Kneedler, as being  reluctant to go to a place where you say that  anything Congress says goes.  I mean, obviously,  you're saying here Congress -- what Congress  said goes, but you're reluctant to say  anything -- may I continue?  CHIEF JUSTICE ROBERTS: Sure.  JUSTICE KAGAN:  --you know, anything  Congress says goes, there are constitutional  constraints.  And is that because there would be  Heritage Reporting Corporation 1    2  3    4    5  6    7    8  9    10   11  12   13   14   15   16 17   18   19   20   21  22   23   24  25   55 Official - Subject to Final Review   foreign policy implications that would result  from an extremely broad congressional assertion  of jurisdiction over foreign nationals?  MR. KNEEDLER:  There could well be.  I  mean, I think that would be one of the -- one of  the reasons.  And Congress proceeded cautiously  here. It tried a number of -- of ways to  provide for these suits.  It could, but -- but one can imagine,  especially in -- in these days, if you subjected  someone around the globe to general jurisdiction  in U.S. courts, the Court might be troubled by  that. And this is far from that.  JUSTICE KAGAN:  Well, the -- the Court  might be troubled.  I'm -- I'm really asking  whether the Solicitor General representing the  United States is troubled by that.  I could understand an argument which  would say that if Congress does something that  really stretches very far and wide, it could  have foreign policy consequences, it could  encourage other nations to retaliate and treat  U.S. citizens in the same way, that sort of  thing, where the United States might be -- you  tell me if you are -- but might be reluctant to  Heritage Reporting Corporation 1  2    3    4  5  6    7    8    9    10   11  12   13   14   15   16   17   18   19   20   21  22   23   24   25  56  Official - Subject to Final Review  have a court rule that says anything Congress  says goes in this area.  MR. KNEEDLER:  Yeah, there would -- there could well be problems with other  countries' reactions to that and -- and  retaliation perhaps.  I do want to complete the thought, if  I -- if I could, about why the Fifth Amendment  would be different with -- JUSTICE KAGAN:  So you want a narrower  rule than sort of anything Congress says goes?  MR. KNEEDLER:  We would be pleased  with a rule that -- that is broader than -- broader than what we've urged here, but we think  it -- it -- it would also be useful to proceed  incrementally.  The Court wouldn't have to  confine it to these precise circumstances, which  are -- are compelling.  But the -- but the point I wanted to  make, which -- which I think could be part of  the test if you're not looking at -- at consent,  is that I don't think minimum contacts would be  the right way to look at it.  It would be, I think, at most, a nexus  of some sort to the United States, which is what  Heritage Reporting Corporation 1    2  3    4  5  6  7    8    9    10   11   12   13   14   15   16   17   18   19   20   21   22   23   24   25   57 Official - Subject to Final Review   Judge Menashi in the -- in -- in his dissenting  opinion in the court of appeals said.  And, here, you have a nexus.  It --it  doesn't have to be territorial contacts because,  as plaintiffs' counsel pointed out, the United  States has sovereign authority to extend laws  and judicial jurisdiction beyond the borders of  the United States.  Here, the conduct abroad plainly has a  nexus to the United States.  The payments prong  concerns acts of terrorism that injure United  States persons -- JUSTICE KAGAN:  Thank you.  MR. KNEEDLER:  -- abroad.  CHIEF JUSTICE ROBERTS: Thank you,  Mr. Kneedler.  It might help me get a handle on the  positions of the respective parties if you could  tell me in what significant respects the  position of the United States differs from that  of Petitioner.  MR. KNEEDLER:  I -- I don't think  the -- I don't think the position really -- CHIEF JUSTICE ROBERTS: Not  necessarily the judgment.  The analytic  Heritage Reporting Corporation 1    2    3    4    5    6    7    8    9  10   11   12   13   14   15   16   17  18   19   20   21   22   23   24  25   58 Official - Subject to Final Review   approach.  MR. KNEEDLER:  I -- I think the  analytical approach that I've described is --is  consistent -- entirely consistent with what  plaintiffs have argued.  They are making a  broader argument sort of categorically and  affirmatively at this time.  We have not, which is not to say that  we may not embrace that at a later time, but we  think that that's an issue that should -- that  this Court should decide on the basis of -- of a  full briefing and -- and analysis in a situation  where it might really matter.  But -- but, here, we don't -- we --we  think this fits comfortably into even Fourth  Amend -- Fourteenth Amendment principles but,  certainly, the Fifth Amendment principles with  respect to Congress's ability in this area to -- to provide for jurisdiction.  CHIEF JUSTICE ROBERTS: Thank you.  Justice Thomas?  JUSTICE THOMAS:  Mr. Kneedler, the  Chamber of Commerce amicus brief indicates that  the Justice Department has had a consistent view  that these organizations did not have  Heritage Reporting Corporation 1    2    3  4    5    6    7    8    9  10   11   12   13   14  15  16  17   18   19  20   21   22   23   24   25   59 Official - Subject to Final Review   constitutional rights.  Do you think the brief is accurate?  And, if it is accurate, is this now a change of  positions?  MR. KNEEDLER:  Again, I -- the -- the  cases that -- from -- from back in that era  concerned, I think -- I think all of them  concerned the First Amendment and Congress's  ability to deal with the PIO and -- or  information office and the -- and the PLO with  respect to their domestic activities.  In the prior round of the Sokolow  case, where the Second Circuit held that the -- that the Respondents here do have due process  rights, we did not take a position on that  question at the time and we urged the court to  deny certiorari in the case.  So that -- that has been -- once we  have now looked at the due process question -- and this goes back, I think, at least 10  years --I -- I forget when the --when the  prior was. So we -- we have not advanced a  position with respect to due process in those  intervening years.  CHIEF JUSTICE ROBERTS:  Justice Alito?  Heritage Reporting Corporation 1    2    3  4  5    6    7    8    9    10   11   12   13   14   15  16  17   18   19   20      21   22  23   24 25   60 Official - Subject to Final Review  JUSTICE ALITO:  Mr. Kneedler, I  understand that you're trying to wend your way  through some sensitive territory, but I could  use some help about the problems that I see  along the course that you are recommending.  You start with the argument that we  could say that this -- that there is  jurisdiction -- there would be jurisdiction  under the Fourteenth Amendment's case law  because of consent.  What -- what are -- what limit do you  see on the ability of a state to impose a -- a  regime of constructive intent?  I mean, suppose that a state said that  anyone who commits a tort against one of our  citizens is deemed to have consented to our  jurisdiction, regardless of where the tort  occurs.  Would that be consistent with our  Fourteenth Amendment case law?  MR. KNEEDLER:  No, it would not.  And  I -- and I think maybe I misspoke or -- or  wasn't clear about the Fourteenth Amendment.  I didn't mean literally the Fourteenth  Amendment standards as if the United States was  a state.  I -- I meant that the Fourteenth  Heritage Reporting Corporation 1    2    3    4  5    6  7  8    9    10   11   12   13   14   15   16   17  18   19   20   21   22   23   24   25   61 Official - Subject to Final Review   Amendment principles as applied to the United  States rather than a state.  And so, with -- with respect to a --a  state, there may be issues, as -- as you  suggested in -- in Mallory, with respect to the  ability of a state to condition subjection to  jurisdiction on the basis of doing business in  the state.  But Congress has a much broader  authority with respect to -- under the Commerce  Clause, for -- for example, to condition  someone's participation in our economy than a -- than a -- an individual state does.  JUSTICE ALITO:  So -- so then it --it  does seem that you are not -- you are not really  saying we can find that there's personal  jurisdiction here simply by applying the  Fourteenth Amendment?  We have to look to a  different standard?  MR. KNEEDLER:  No. What our -- what  our -- our brief said or tried to say is you can  look at Fourteenth Amendment principles, not the  literal application of them, Fourteenth  Amendment principles with respect to consent,  apply those to the somewhat distinct situation  Heritage Reporting Corporation 1    2    3  4    5  6    7    8  9    10   11   12   13   14   15   16   17   18   19   20   21   22   23   24   25   62 Official - Subject to Final Review  of the United States under -- under the Fifth  Amendment, where the -- where Congress is not  limited in the way a state is in conditioning  access to the economy or to other aspects of  United States interests in the way that a state  is.  JUSTICE ALITO:  And then, on the  question whether it would be enough -- whether  there could be -- there -- there would be  personal jurisdiction because the PLO has an  office in the United States, that's not -- that -- that is a factual issue, isn't it, that  has not been resolved -- MR. KNEEDLER:  Yes.  JUSTICE ALITO:  -- by the lower  courts?  So we would have to do that in the  first instance?  MR. KNEEDLER:  Or -- or remand to the  court of appeals.  JUSTICE ALITO:  Or remand.  MR. KNEEDLER:  Yeah.  It -- it -- it's  really activities.  There are no offices, aside  from the U.N. office, although there are  allegations that that office is being used or  has been used for activities extending beyond  Heritage Reporting Corporation 1    2    3    4    5    6  7    8  9  10   11   12  13   14   15   16   17   18   19   20   21   22   23   24   25   63 Official - Subject to Final Review  the role at the U.N.  JUSTICE ALITO:  And so then, if we  say -- if we look to the 19th Century cases, the  statements that Judge --that Justice Story  made, you don't want us really to say -- you  don't want us to adopt that fully, that -- well -- well, we'll presume that Congress is -- that Congress is respecting international law,  but, if it says it's not, if it's authorizing  jurisdiction where that would be contrary to  principles of international law, that's fine.  You really don't want us to say anything goes.  But, if we don't say anything goes,  then we have to say what doesn't go or we have  to explain why this would meet -- why the facts  here would meet whatever standard is -- is  required.  How do we do that without -- you  don't want us to say anything goes, but that  means we have to say what the test is. And then  what is the test?  MR. KNEEDLER:  Well, you say we -- we  don't want you to say --I mean, it -- we -- we  are -- we are not disagreeing with the basic  proposition that Congress has broad authority in  this area.  Heritage Reporting Corporation 1    2  3  4  5   6    7    8    9  10   11   12   13   14   15   16   17   18  19   20  21  22  23  24  25   64  Official - Subject to Final Review  JUSTICE ALITO:  Well, let me just  rephrase it. At one point, you said you -- I  thought you just said a few minutes ago you'd be  pleased with a decision that says Congress can  do whatever it wants. But I understood your  argument to mean that you really -- MR. KNEEDLER:  I -- I -- JUSTICE ALITO:  -- you didn't -- you  really don't want that because -- MR. KNEEDLER:  -- I did not mean to  say that.  JUSTICE ALITO:  Okay.  MR. KNEEDLER:  And -- and I think that  the -- the question of how far Congress's powers  go could -- as Justice Kagan pointed out, you  know, the farther it goes may create other  problems for us.  JUSTICE ALITO:  No. No, I appreciate  that. But how can we -- if we don't say Justice  Story was right, you know, end of case, then we  have to say that there is some standard that has  to be met, and then we would have to explain why  this case does or does not meet that standard,  right? So then we have to say what the test is.  MR. KNEEDLER:  Well -- Heritage Reporting Corporation 1    2    3    4    5    6  7  8    9    10   11   12   13   14   15   16   17   18   19   20   21  22  23   24   25   65 Official - Subject to Final Review  JUSTICE ALITO:  And that gets more  difficult.  MR. KNEEDLER:  Yeah.  Well, again,  there may not be one test. We laid out a test  for consent.  There may be a -- a different -- probably would be a different test where consent  is not the basis of the jurisdiction but  something akin to minimum contacts, which I  think would be a nexus to the United States  because the United States has interests abroad.  If those interests are affected, like  U.S. citizens or -- or terrorism or other  actions of the United States in the Middle East,  if whatever's being done has a -- has a nexus to  that, that would be a sufficient basis for the  exercise -- JUSTICE ALITO:  Okay.  Well -- MR. KNEEDLER:  -- of jurisdiction.  JUSTICE ALITO:  -- just to -- to  wrap -- to wrap up, you -- you want -- on  consent, you want us to say there's consent here  even though there might not be consent or there  would not be consent if a state tried to do  something analogous and had to meet the  Fourteenth Amendment?  Heritage Reporting Corporation 1    2  3    4    5  6  7    8    9    10   11   12   13   14   15  16   17   18   19   20   21   22   23  24  25   66 Official - Subject to Final Review  MR. KNEEDLER:  There -- there may well  not be because this is conduct -- the payments  prong is -- is conduct occurring outside the  United States, so, if minimum contacts is  thought of in terms of a territorial connection,  we don't think that that applies to the United  States.  JUSTICE ALITO:  Thank you.  CHIEF JUSTICE ROBERTS:  Justice  Sotomayor?  JUSTICE SOTOMAYOR:  Let's go back a  moment to your response to Justice Gorsuch.  Justice Story did not -- did not have  a case in front of him involve -- establishing  personal jurisdiction over a person who had no  connection to the United States whatsoever,  correct?  MR. KNEEDLER:  Right.  Yes.  JUSTICE SOTOMAYOR:  That was not at  issue there.  MR. KNEEDLER:  Those -- those -- JUSTICE SOTOMAYOR:  It's interesting  that he and other commentators spent so much  time making these broad statements when Congress  consistently -- that's what Professor Sachs  Heritage Reporting Corporation 1    2    3  4    5    6  7  8    9    10   11   12   13   14   15   16   17   18   19   20   21   22   23   24   25   67 Official - Subject to Final Review   pointed to -- for over a hundred years, pretty  much stayed within International Shoe's  limitations, no, in all the Acts that it  created?  MR. KNEEDLER:  Well, it --it -- yeah,  I mean, it created nationwide service of process  or even worldwide service of process like under  the -- JUSTICE SOTOMAYOR:  Yes.  MR. KNEEDLER:  -- antitrust laws.  It -- it has proceeded, but it -- but it has  regulated some things outside the United States  that affect -- JUSTICE SOTOMAYOR:  Absolutely.  MR. KNEEDLER:  -- its interests.  JUSTICE SOTOMAYOR:  But -- but the  absolute statement, it never did?  MR. KNEEDLER:  No, it's never -- it's  never -- it's never gone to that extent.  JUSTICE SOTOMAYOR:  It's always -- okay. Now, going back to your concession, I  think, to Justice Alito, I don't think that this  fits within our minimum contacts theory of the  Fourteenth Amendment, so go with me.  If I can't see this as consistent with  Heritage Reporting Corporation 1  2  3  4  5    6    7    8    9    10  11   12   13  14  15 16  17   18   19   20   21   22  23     24   25   68  Official - Subject to Final Review  the Fourteenth Amendment, then those circuits  who have said that the Fourteenth and the  Fifteenth, like the Second, are identical are  wrong? The Second Circuit was wrong in that -- MR. KNEEDLER:  Yes. We -- JUSTICE SOTOMAYOR:  -- assumption?  MR. KNEEDLER:  -- we think it was  clearly wrong, yes.  JUSTICE SOTOMAYOR:  All right.  So now  we go to Justice Alito's point, which is, if the  Fifth -- if the Fifth Amendment is different,  your colleague, Petitioners' counsel, argued  somewhat what you ended up with in your response  to Justice Alito, which is that Congress can -- the Fifth Amendment has some sort of limitation  because there has to be some nexus to a federal  interest, correct?  MR. KNEEDLER:  Well, I think the Court  can assume that.  I -- you know, again, if  Congress passes a statute -- JUSTICE SOTOMAYOR:  We can't assume it  if we're going to apply it to this case.  MR. KNEEDLER:  Well, I -- JUSTICE SOTOMAYOR:  Well, you know -- MR. KNEEDLER:  No, I -- no, I think  Heritage Reporting Corporation 1  2    3    4    5    6    7  8    9    10   11   12   13   14   15   16  17   18    19   20   21   22   23  24   25   69  Official - Subject to Final Review  the Court could assume that there's a nexus  requirement.  If Congress passes a statute where  there isn't one, then there will be time enough  to decide whether that -- whether that's -- that's valid.  JUSTICE SOTOMAYOR:  So I guess the  opinion, the way we would write it is to say we  don't have to reach the question whether  Congress has the constitutional power to -- to  submit to our jurisdiction something without a  federal interest, but this federal interest is  enough?  MR. KNEEDLER:  I -- I think that would  be sufficient.  It may also -- another different  context may be if it's a U.S. citizen, as  opposed to somebody outside the United States or  a foreign entity.  JUSTICE SOTOMAYOR:  All right.  Now  let's go to another part of this question, which  is the office or lack thereof.  I understood  that the -- the -- the provision at issue here,  (B), as opposed to (A), which is the payment  prong, but the (B) prong, do they have to have  an office, or could they just be present here at  all?  Heritage Reporting Corporation 1    2    3    4    5    6  7  8    9    10   11   12   13   14   15   16   17   18   19   20   21   22   23   24   25   70 Official - Subject to Final Review  MR. KNEEDLER:  Well -- JUSTICE SOTOMAYOR:  Meaning I thought  any activity, whether it was behalf -- I think  Justice Gorsuch got to this at one point. (B)  could be read whether they have U.N. immunity or  not is irrelevant. The U.S. could choose if it  wanted, couldn't it, to say we won't respect  U.N. immunity with respect to this person,  correct?  MR. KNEEDLER:  And -- yeah.  First of  all, there's no personal immunity here.  There -- the U.N. -- JUSTICE SOTOMAYOR:  It -- MR. KNEEDLER:  -- agreement provides  for access to the U.N. -- JUSTICE SOTOMAYOR:  Right.  MR. KNEEDLER:  -- by observers like  the -- like the PLO and PA.  But -- JUSTICE SOTOMAYOR:  But no -- nothing  says that the U.S. has to give them -- that that  activity of having access -- MR. KNEEDLER:  The -- the headquarters  agreement -- JUSTICE SOTOMAYOR:  Right.  MR. KNEEDLER:  --does but not -- but  Heritage Reporting Corporation 1    2    3    4    5    6    7    8    9    10   11   12  13   14   15   16   17   18   19   20   21   22   23   24   25   71 Official - Subject to Final Review   Congress -- I mean, that -- the United States  acceded to that.  So -- JUSTICE SOTOMAYOR:  It acceded to  that, but it didn't have to.  MR. KNEEDLER:  Yes. Well -- and we  don't want to suggest that the defendants -- JUSTICE SOTOMAYOR:  No.  MR. KNEEDLER:  -- might draw away from  it.  JUSTICE SOTOMAYOR:  So, if we said  something like what Justice Gorsuch said, which  is the fact that they're here for whatever  reason is enough of a connection to the U.S.?  MR. KNEEDLER:  I -- I -- I think  the -- the Court could hold that. I mean,  there -- and -- and process was served in the  United States -- JUSTICE SOTOMAYOR:  Well, exactly.  MR. KNEEDLER:  --as -- as well.  But  the only office is the office -- the  U.N.-related office. The allegations are  that -- JUSTICE SOTOMAYOR:  But that's  irrelevant to -- MR. KNEEDLER:  -- that that office was  Heritage Reporting Corporation 1    2    3    4  5  6  7   8    9    10  11  12   13   14   15   16   17  18   19   20   21   22   23    24   25   72 Official - Subject to Final Review  abused -- JUSTICE SOTOMAYOR:  That's irrelevant  to the point we're discussing, which is, if the  statute is written so that any presence for any  reason in the United States subjects them to  jurisdiction here for purposes of service.  MR. KNEEDLER:  If -- if there was such  a -- a statute.  Here, there's -- the statute  itself providing for personal jurisdiction  protects or doesn't include or doesn't count the  U.N. office and activities that are ancillary to  that or meeting with U.S. officials.  Those are  not activities that count for purposes of  triggering personal jurisdiction.  JUSTICE SOTOMAYOR:  You -- you don't  think it triggers (B) or it can't trigger (B)?  Is that what you're telling me?  MR. KNEEDLER:  Yeah, the -- the  statute exempts from the triggering activities  activities at the office that are -- that are -- JUSTICE SOTOMAYOR:  I don't -- MR. KNEEDLER:  -- connected to the  U.N.  JUSTICE SOTOMAYOR:  I don't think  that's what they -- I'll let plaintiff -- I'll  Heritage Reporting Corporation 1    2    3    4    5    6    7    8    9  10   11   12   13   14  15   16   17   18   19   20   21   22          23   24   25   73 Official - Subject to Final Review  let Petitioners' counsel address that.  All right. Thank you, counsel.  CHIEF JUSTICE ROBERTS:  Justice Kagan?  Justice Gorsuch?  Justice Kavanaugh?  JUSTICE KAVANAUGH:  I just want to  make sure I understand.  The -- this is a  national security and foreign policy case, as  you started with, right?  MR. KNEEDLER:  Yes.  JUSTICE KAVANAUGH:  And Congress and  the president have agreed, acting pursuant to  the national security and foreign policy  principles set forth in the Constitution, on  what the proper rule here is, correct?  MR. KNEEDLER:  That is correct, yes.  JUSTICE KAVANAUGH:  And there's no  doubt that the -- in terms of regulating the  conduct, that they acted per -- pursuant to  those Article I powers -- the Article I and  Article II powers, correct?  MR. KNEEDLER:  Right.  And Article  III, Congress -- or I guess Article I, Congress  establishing the lower courts.  JUSTICE KAVANAUGH:  So it seems like,  Heritage Reporting Corporation 1    2    3    4    5  6  7    8   9  10   11   12     13  14   15   16   17   18   19  20   21   22   23   24   25  74 Official - Subject to Final Review  you know, it's Youngstown category 1 situation,  where the president and Congress have acted  together.  Now there is still a role for  judicial review to -- to make sure they're not  crossing some other constitutional line, but,  usually, that's a very sensitive judgment for a  federal court to make.  And, usually, we would require  something in either the text of the Constitution  or in the historical practice over the years  that would suggest some principle that the  courts could rely on that would disagree with  the foreign policy and national security  judgment of Congress and the president acting  together.  MR. KNEEDLER:  Right.  That's -- that's absolutely correct.  And even to the  extent there is a fairness element here,  Congress is in a position to weigh what -- JUSTICE KAVANAUGH:  But Congress and  the president -- MR. KNEEDLER:  Congress and the  president -- JUSTICE KAVANAUGH:  I mean, I think -- I think you're going to agree with what I'm  Heritage Reporting Corporation 1  2  3  4    5    6    7    8    9  10   11  12   13   14   15   16   17   18   19   20  21  22   23   24   25  75  Official - Subject to Final Review  about to say, but Congress and the president are  the ones who make fairness judgments when we're  talking about the national security and foreign  policy -- MR. KNEEDLER:  Yeah.  JUSTICE KAVANAUGH: -- of the United  States.  Unless it crosses some other textually  or historically rooted constitutional principle,  courts shouldn't be coming in, I don't think,  without that and saying: Gee, what Congress and  the president are doing here to advance the  national security and foreign policy interests  of the United States strikes us, you know, from  our perch as unfair.  MR. KNEEDLER:  Yeah, I completely  agree with that and, as I said, Congress's  assess -- Congress and the President's  assessment of what's fair in these  circumstances, what -- what could be problematic  in these circumstances, the ongoing relationship  in which terrorism has always been a major --a  central element of the foreign policy and  national security.  JUSTICE KAVANAUGH:  And that's why you  see bipartisan amicus briefs from the House of  Heritage Reporting Corporation 1  2    3    4    5  6    7    8  9    10   11   12   13   14   15   16   17   18  19   20   21   22   23   24   25   76  Official - Subject to Final Review  Representatives, bipartisan amicus briefs from  the Senate.  MR. KNEEDLER:  Yes.  JUSTICE KAVANAUGH:  This is not -- this is a considered judgment that is across the  two branches.  So I -- I think you said -- you  started with great deference as the principle,  and I -- I agree with that, obviously, based on  what I've said so far. I'm wondering when the  great deference runs out.  MR. KNEEDLER:  Well, it -- as I stand  here, I can't think of a circumstance in which  it would, particularly with respect to entities  such as the PLO and Palestinian Authority, which  are foreign non-sovereign entities.  Yes, they exercise some governmental  power, but there's a unique relationship.  They -- they have diplomatic relations around  the -- around the world.  So Congress should  have particular latitude.  And a court, I think,  should be reluctant, if ever, to second-guess  that judgment.  JUSTICE KAVANAUGH:  And I think you'll  probably agree with this too, but it also  Heritage Reporting Corporation 1  2    3  4    5    6    7    8    9  10   11           12   13   14   15          16   17   18   19   20   21   22   23   24   25   77  Official - Subject to Final Review  doesn't strike me as the proper judicial role to  seize on international law principles that might  be lurking out there somewhere to tell the  president and Congress together, acting  together, that somehow they've crossed some  line.  MR. KNEEDLER:  No, Congress is  perfectly -- and the president are perfectly  capable to take into account whatever  international law there may be.  And it -- it's my understanding,  although I haven't looked deeply into this, that  international law doesn't place so much emphasis  on personal jurisdiction the way we do.  But it's up to Congress and the  president to weigh whatever -- if -- even if  it's not international law, what international  practice would be or what -- what the reaction  of other nations might be in a particular  circumstance.  But this is narrowly focused on a  particular recurring problem that Congress  desperately wants to address.  This is its third  try in doing that.  JUSTICE KAVANAUGH:  The recurring  Heritage Reporting Corporation 1  2    3    4    5    6    7  8    9    10   11   12   13   14   15   16   17  18  19   20   21   22   23   24   25   78  Official - Subject to Final Review  problem of terrorism?  MR. KNEEDLER:  Yes.  JUSTICE KAVANAUGH:  Thank you.  CHIEF JUSTICE ROBERTS:  Justice  Barrett?            JUSTICE BARRETT: Mr. Kneedler, I just  want to follow up on Justice Kavanaugh's  questions.  Given your answers to Justice  Kavanaugh, I just want to make sure.  I might  have misunderstood your colloquy with Justice  Kagan earlier.  But I had thought that you  said -- and -- and I may well have  misunderstood -- that one reason for us not to  go the full-bore route as broadly as Petitioner  has asked us to is because that might have  foreign policy implications or that might have  national security implications that would blow  back.  But is that what you said?  MR. KNEEDLER:  Well, I think there  might -- I think there -- I'm -- I'm not in a  position to -- to say that categorically, but  I -- but I do think there's some reason for  cautious there -- caution there.  Heritage Reporting Corporation 1    2  3    4  5    6  7  8  9    10   11   12  13   14   15   16  17  18   19   20   21   22   23   24   25  79 Official - Subject to Final Review  JUSTICE BARRETT:  Why? I mean, as you  just told Justice Kavanaugh, these judgments  about foreign policy considerations are for  Congress and the president to make.  So, if at some point in the future  Congress and the president passed a statute that  went farther than this one on personal  jurisdiction, why would what we do be a foreign  policy -- I mean, wouldn't we defer to president  and Congress then?  I guess I'm just struggling to see  what the foreign policy concern is with our  taking the broad theory.  MR. KNEEDLER:  Well -- well, but -- but, if -- if you announce a broad categorical  view here in a situation in which it is not -- when the Court wouldn't be required to do so,  it's that -- it's that statement that might -- JUSTICE BARRETT:  Like, even if it's  true, like the government -- like you've said  that you're okay with that rule, you think we  should just not say it.  MR. KNEEDLER:  Well, I didn't -- I -- JUSTICE BARRETT:  So, even if it's  true or even if it's the accurate interpretation  Heritage Reporting Corporation 1  2    3    4  5    6  7  8    9    10  11   12   13   14   15  16   17   18  19   20   21   22   23   24   25   80  Official - Subject to Final Review  of the Fifth Amendment, you're saying, shhh?  MR. KNEEDLER:  I -- I -- no, I don't  think I -- I -- I didn't mean to say we're okay  with that. I think we would want to examine  questions of -- of -- of fairness to see whether  that should be an element or not or whether  Congress, in fact, has plenary power.  And it may well be that -- that the  Court, if -- if a situation actually confronted  it, that the Court would conclude that or that  we might submit that.  I can't say we wouldn't.  But I think -- I think it's important,  particularly given the --the parallel  development of the Fourteenth Amendment, not to  dismiss that out of hand in a case that  doesn't -- doesn't require that analysis.  Also, there could be other situations  in which Congress would provide for personal  jurisdiction, like in the person --in the  commercial sphere, which would not present as  starkly the questions of national security and  foreign policy, although there would obviously  be some foreign policy concerns about extending  jurisdiction, but the circumstances might be  different.  Heritage Reporting Corporation 1    2    3    4    5    6  7    8    9    10   11   12   13   14  15   16   17   18   19   20   21   22   23   24   25   81 Official - Subject to Final Review  CHIEF JUSTICE ROBERTS:  Justice  Jackson?  JUSTICE JACKSON:  So can I go back to  your colloquy with Justice Gorsuch?  I didn't  read your brief as conceding that historically,  the Fifth Amendment imposed no limits.  In fact, on page 47, you say that that  theory is not easily confirmed as a historical  matter.  And there's nothing in your brief that  seems to embrace the proposition that as a  historical matter, there were no limits on  Congress's ability to do this sort of thing.  So I just want to give you an  opportunity to clarify what the position of the  United States is related to Justice Gorsuch's  point about whether the -- what the history  shows.  MR. KNEEDLER:  Yeah.  We are not  making that affirmative argument, and, if we  were going to make that argument, we would want  to present a full -- a full argument on it  either way and -- and fully addressing the -- JUSTICE JACKSON:  But, to the Chief  Justice's point, this then creates some daylight  between you and the other Petitioners because  Heritage Reporting Corporation 1  2  3    4    5    6    7    8    9    10   11              12  13   14   15   16   17   18   19   20   21   22  23   24   25   82  Official - Subject to Final Review  they are in fully on this kind of originalist  take on what the Fifth Amendment requires and  are encouraging us to -- to adopt that broader  theory.  MR. KNEEDLER:  As one of two  alternatives, they make -- JUSTICE JACKSON:  Yes. That's one of  the alternatives.  I appreciate that, but -- MR. KNEEDLER:  Yes. Yeah.  Yes. No,  yeah.  JUSTICE JACKSON:  -- but -- but the  government is not asking us to do that as one of  the things?  MR. KNEEDLER:  We are not asking you  to do that.  We are -- but we are also not  saying -- we're just not addressing -- JUSTICE JACKSON:  Yes.  Understood.  MR. KNEEDLER:  --that question either  way.  JUSTICE JACKSON:  Understood.  But going to Justice Kagan's point in  response to Justice Barrett, I mean, I --I  would take your point to be that there could be  foreign policy implications either way and that  to the extent that there are announcements that  Heritage Reporting Corporation 1  2  3  4  5    6    7    8    9    10  11   12   13        14   15   16   17    18   19   20   21   22  23   24  25   83  Official - Subject to Final Review  the Constitution of the United States imposes no  limit on Congress or the president with respect  to their activities internationally or  concerning international citizens, that -- that  could -- you could conceive of a world in which  that could be problematic?  MR. KNEEDLER:  Yes, I -- I -- I can  conceive of that world.  And I -- and I think,  again, before the Court -- I -- I doubt that the  Court would want to announce that without the  executive branch and Congress supporting it  either in an act of Congress -- JUSTICE JACKSON: So that's one reason  why the broader theory might be we -- we should  be cautious in -- in going down that road.  I -- I wonder if another possible  reason is that we, as far as I can tell, have  never applied this sort of methodology to  considerations of the Fifth Amendment, and there  could be all kinds of unintended consequences to  starting to do that, like how do we interpret  the scope of the Due Process Clause, do we do it  as an originalist kind of exercise, and we  haven't done that in other areas.  And -- and the concern is that that  Heritage Reporting Corporation 1    2  3  4  5    6    7    8    9    10  11   12   13  14   15   16   17   18  19   20   21  22   23   24   25   84 Official - Subject to Final Review  might open cans of worms that would imperil, for  example, you know, what we said in Bolling  versus Sharpe, the idea that the Fourteenth  Amendment's Equal Protection Clause is  reverse-incorporated through the Fifth  Amendment's Due Process Clause.  We didn't reach that through an  originalist methodology.  And so, if we're  starting down that road, it just seems like  there's all kinds of problems that might arise  that we should be worried about.  MR. KNEEDLER:  Yeah, I -- I -- I can't  say as I stand here that all those problems  would be true, but I do think that there -- that  there would benefit from an analysis by  Congress -- JUSTICE JACKSON:  We've had different  methodologies, and we just have to be careful in  where -- in thinking about how we go about  interpreting the Constitution and the  implications that might have on existing  precedents in other areas that deal with these  same constitutional provisions, correct?  MR. KNEEDLER:  Right.  Now, with  specific reference to personal jurisdiction,  Heritage Reporting Corporation 1  2    3    4    5    6    7    8    9  10   11   12   13   14   15   16   17   18   19   20   21   22   23   24  25   85  Official - Subject to Final Review  this issue should not come up unless Congress  first passes a statute providing for personal  jurisdiction, and then we would know what -- what Congress found and what the rationales for  it are.  JUSTICE JACKSON:  Yes. And, in this  case, we have the statute.  And -- and -- and I  appreciate your consent theory.  I just -- I'm  just trying to understand, though.  You say that consent -- you agree that  consent has to be knowing and voluntary, and you  said that both forms of the conduct in this  statute are -- both forms of the conduct are  knowing and voluntary.  But I thought the knowing and  voluntary had to go to the assent to  jurisdiction.  I -- I --it's not that they  continue to do something that they've already  done. It's that if they agree to do this, they  are consenting to the jurisdiction -- MR. KNEEDLER: They -- they are deemed  to consent.  JUSTICE JACKSON:  No, I understand.  But the question is how fair is the deeming -- MR. KNEEDLER:  Yes. No, no. And  Heritage Reporting Corporation 1    2    3    4    5    6  7    8    9    10   11   12   13   14   15   16   17   18   19   20   21   22  23   24   25   86 Official - Subject to Final Review  that -- JUSTICE JACKSON:  -- in a situation  like this.  MR. KNEEDLER:  -- and that's where  fairness, I think, comes in.  It comes in maybe  in a case like Mallory or a case here on -- JUSTICE JACKSON:  Yeah.  MR. KNEEDLER:  -- on consent.  But -- but, like in the Carnival Cruise Lines, the  passengers probably did not -- did not  consciously submit to the jurisdiction of the  court that was designated in those contracts, so  they don't -- there doesn't have to be a  conscious awareness that the conduct -- JUSTICE JACKSON:  All right.  One  final question.  MR. KNEEDLER:  Yeah.  JUSTICE JACKSON:  I'm sorry, I'm -- I'm mindful of the time.  The Second Circuit in this case said,  as Justice Sotomayor pointed out, that the  statute does not suffice to establish personal  jurisdiction because the Fourteenth Amendment  standards apply in the Fifth Amendment context,  and they read those as precluding personal  Heritage Reporting Corporation 1    2    3  4    5  6    7    8 9    10   11   12   13   14   15  16   17   18   19   20   21   22   23   24               25   87 Official - Subject to Final Review   jurisdiction here.  Would it be enough for this Court at  this time to just say, if we agreed to this,  that the Fourteenth and Fifth are not equivalent  with respect to what is required, the minimum  context -- contacts test, and send it back for  an assessment of what the Fifth Amendment  requires as it relates to the facts of this  case?  MR. KNEEDLER:  I suppose it could do  that, but I would urge the Court to actually  decide the question.  I mean, it was held  unconstitutional.  We think the -- the  circumstances for this statute are compelling,  that it would be useful for the Court to decide  that and enable this at least in the Sokolow  case, a long-pending case, to be resolved  finally.  JUSTICE JACKSON:  Thank you.  CHIEF JUSTICE ROBERTS: Thank you,  counsel.  Mr. Berger.  ORAL ARGUMENT OF MITCHELL R. BERGER  ON BEHALF OF THE RESPONDENTS  MR. BERGER: Mr. Chief Justice, and  Heritage Reporting Corporation 1    2    3    4  5    6    7  8    9    10  11     12   13  14  15   16   17   18   19   20  21   22   23   24   25   88 Official - Subject to Final Review  may it please the Court:  The PSJVTA purports to be a  constructive consent statute, but it fails the  due process test for constructive consent to  jurisdiction established in Bauxites.  Bauxites  requires that the defendants' actions support a  presumption of legal submission to the  jurisdiction of the court.  But, as alleged here, the defendants'  actions do not support a presumption of  submission to the court's jurisdiction.  Among  other things, the D.C. Circuit and the Second  Circuit previously held that the same types of  PA and PLO conduct are constitutionally  insufficient to support jurisdiction over them.  Continuing to engage in jurisdictionally  insufficient conduct is the exact opposite of  submitting to the court's jurisdiction.  And there is no limiting principle if  Congress can change that equation and say  conclusively what conduct shows submission under  the Bauxites due process standard.  That would  entirely collapse the distinction between  prescriptive and adjudicative jurisdiction in  all federal question cases.  Heritage Reporting Corporation 1    2  3  4  5    6    7  8  9  10   11  12   13 14   15   16   17   18   19   20   21   22   23   24   25   89 Official - Subject to Final Review  Bauxites also holds that jurisdiction  cannot be imposed as mere punishment, as it is  here, when the alleged actions of the defendants  do not support submission.  The PSJVTA also fails due process  under Mallory.  Mallory, of course, upheld a  reciprocal exchange by which Pennsylvania  permitted access to its markets in return for  submission to the state court's jurisdiction.  Applied here, the Mallory question is: Does the  United States permit the PA or PLO to do  anything on condition that they submit to  federal court jurisdiction?  And the answer is  no three ways.  First, the PSJVTA itself doesn't  permit any conduct at all.  Second, the statute gives no notice  that its deemed consent condition attaches to  any permission granted elsewhere.  And, third, the United States has  never identified any permission granted  elsewhere to which the deemed consent condition  attaches.  And also, to address the questions of  several of Your Honors, Mallory and Bauxites  Heritage Reporting Corporation 1  2  3    4    5    6    7    8  9  10  11   12   13   14   15   16   17   18   19  20  21   22  23   24  25   90  Official - Subject to Final Review  tell us that federalism plays no role in consent  jurisdiction. As a result, Bauxites and Mallory  apply equally here under the Fifth and the  Fourteenth Amendments and support the court of  appeals' decision.  I welcome the Court's questions.  JUSTICE THOMAS:  Mr. Berger, I know  this is not the center of your argument, but  could you just explain how PLO and PA are  persons within the meaning of the Fifth and  Fourteenth Amendment?  MR. BERGER: Yes.  Absolutely, Justice  Thomas.  And I would respectfully draw the  Court's attention back to the February 2018  amicus brief filed by the United States in an  earlier round of this case, in which the  government's non-position was considerably more  of a position and basically said there's only  one type of person that this Court's precedent  has recognized is excluded from the Due Process  Clause and that's sovereigns.  And, because the  PA and the PLO are not recognized as sovereign  by the United States, they are, by default,  persons entitled to due process protection.  That's at pages 8 to 12 of their CVSG brief.  Heritage Reporting Corporation 1    2  3  4    5    6    7  8  9  10   11   12   13   14   15   16   17   18  19   20   21   22   23   24   25   91 Official - Subject to Final Review  JUSTICE THOMAS:  So an actual state  would not be covered by the Fifth and Fourteenth  Amendment, but an organization that is  substituting for that is protected by the Fifth  and Fourteenth Amendment?  MR. BERGER: Well, I -- I think the  line, as it's correctly been drawn at least in  the lower courts, is that if it walks and talks  like a government, it's not a sovereign state  until the United States recognizes it as  sovereign.  And there are plenty of entities out  there that exercise so-called governmental  functions.  But, ultimately, it's binary, right?  If -- if -- you're either a person for purposes  of the Due Process Clause and entitled to due  process protections, or you're a sovereign state  and you're entitled to the protections of the  Foreign Sovereign Immunities Act.  But there's  no no-man's-land where you're neither a  sovereign state nor a person.  JUSTICE THOMAS:  What if other  countries recognize Petitioner -- Respondents as  a state -- MR. BERGER: I think -- Heritage Reporting Corporation 1    2    3  4  5  6    7  8    9    10   11   12   13   14   15   16   17   18  19   20   21   22   23   24   25   92 Official - Subject to Final Review  JUSTICE THOMAS:  -- or a sovereign?  MR. BERGER: Excuse me.  I think this  Court's decision in Zivotofsky makes it very  clear that there's only one vote that matters on  this issue, and it's not the 140-odd other  countries that recognize Palestine as sovereign.  It's the vote of the president of the United  States, who has exclusive authority to recognize  a sovereign state.  JUSTICE SOTOMAYOR:  Counselor, can I  ask you to step away from the Fourteenth  Amendment?  Assume you're absolutely correct  that this statute fails every test we have  applied under the Fourteenth Amendment.  I'll  even grant you that because I think it does,  okay?  But, assuming that, the argument here  has not centered on that. It's centered on the  Fifth Amendment.  And so would you address why,  if we find that the Fourteenth Amendment  jurisprudence is not informative of or equal to  the Fifth Amendment, why do you win?  MR. BERGER: Well -- JUSTICE SOTOMAYOR:  Meaning there's  been a variety of tests proposed.  The other  Heritage Reporting Corporation 1  2  3    4    5    6    7    8  9  10   11   12   13   14   15   16   17   18   19   20   21   22   23   24  25   93  Official - Subject to Final Review  side and the government seem to say the Fifth  Amendment would look to whether there is a  federal interest that -- and -- and jurisdiction  reasonably relates to the protection of that  interest.  I think that's their -- their test.  How do you fit that?  MR. BERGER: Well, I would say this is  a situation where we don't need ad hoc new  standards that clearly at least some members of  the Court are struggling with here today.  We  have a very old standard that I think makes  sense for the Fifth Amendment.  JUSTICE SOTOMAYOR:  Yeah, but their  struggle is why don't we say there's no  limitation.  Their struggle doesn't appear to be  with creating a limitation.  Their struggle  seems to be:  Well, there's no historical basis  for a limitation on Fifth Amendment federal  jurisdiction.  I don't know why it has to be limited,  their theory has to be limited, to the  international or foreign affairs.  Their theory  would say, if there's no limit, it applies to  U.S. citizens, as well as to foreign citizens.  So we can step past that, okay?  Heritage Reporting Corporation 1    2    3    4  5    6    7    8    9    10   11   12   13   14   15   16   17   18   19   20   21  22   23   24   25   94 Official - Subject to Final Review  MR. BERGER: Well, so I -- I guess I'd  build a Fifth Amendment test this way. And I'll  start with Your Honor's observation, I think, in  your concurrence in Daimler that fundamentally,  jurisdiction requires reciprocal fairness.  And  that's going to be true under the Fifth  Amendment and the Fourteenth Amendment equally  because both protect liberty interests.  And, if  it protects a liberty interest, there's no  suggestion in any of the previous case law that  a liberty interest is worth less under the Fifth  Amendment than it is under the Fourteenth  Amendment.  And if both protect a liberty  interest, then it remains true, as the Court  said in Murray's Lessee, that Congress cannot  simply say what due process is.  It's not up to  Congress entirely.  And I think that goes to the  government's concession that the earlier cases,  where Justice Story riding circuit or otherwise,  they were opining on cases that weren't decided.  Murray's Lessee is this Court's precedent that  says the legislative will is not enough to  define due process.  So what is the test?  And I would say  Heritage Reporting Corporation 1    2  3  4  5  6    7  8  9    10   11  12     13   14   15  16   17   18   19   20   21  22  23   24  25   95 Official - Subject to Final Review  the test is -- as developed by the court of  appeals, is the correct one, which is that you  adjust the forum for which a forum connection is  required to be the United States as a whole  because of the distinct federal interests rather  than state interests, but you still apply a  minimum contact test because of the reciprocal  fairness that underlies the minimum contacts  test.  JUSTICE KAGAN:  Do you think that that  reciprocal fairness applies as well when one's  speaking of foreigners as -- as it does to a  domestic context?  I mean, even our view of  fairness here, as in large sense being about  reciprocity, I would think doesn't quite  translate as well into the international context  and which we're not used to thinking that way.  MR. BERGER: If anything, I would say  respectfully, Justice Kagan, that the fairness  component is probably exponential when it comes  to dealing with foreigners because of the kinds  of concerns that the government has articulated  here, the kinds of concerns that were  articulated in Daimler about overly grasping  jurisdiction, that if we purport to have  Heritage Reporting Corporation 1    2  3    4  5  6    7    8    9    10   11  12   13   14   15   16   17   18  19   20   21   22  23  24   25   96 Official - Subject to Final Review   exorbitant jurisdiction for foreigners but not  for domestic citizens or residents, then you are  really inviting an international comity problem.  But there's no reason doctrinally to read into  either the Fifth Amendment or the Fourteenth  Amendment a different definition of person that  would exclude foreigners.  A lot of the earlier case law,  including those that Justice Gorsuch alluded to,  are dealing with foreigners, and there's no  assumption that, well, we're dealing with  foreigners because they deserve less.  If I may  give one example that I think helps exemplify  this and gets us back to any concern about  original public meaning.  Nobody likes pirates, right?  Pirates  have been bad from the founding. Nobody ever  thought that even though piracy is a crime  against humanity or it's a crime that fits in  the Define and Punish Clause, that, certainly,  the United States can define piracy as an  offense, but the United States does not try  pirates in absentia because there's a delta  between what Congress can prescribe as laws and  what courts can do in adjudicating individual  Heritage Reporting Corporation 1  2    3    4    5  6  7    8    9  10   11  12   13   14   15    16  17   18   19  20   21   22  23   24   25   97  Official - Subject to Final Review  claims against someone who violates a law with  extraterritorial effect.  Justice Sotomayor in her commentary, I  think, in RJR Nabisco notes that why are we  dealing with a concern about the  extraterritorial reach of a statute when there  is separately a jurisdictional defense that  would have to be considered?  And there's always  been an understanding from the founding that  personal jurisdiction in the custody of the  judicial branch is something over and above what  Congress can prescribe.  JUSTICE GORSUCH:  Certainly, that's  true in -- in the piracy. You can't try them in  absentia.  You've got to get personal  jurisdiction service process on them and -- and,  therefore, have a court of competent  jurisdiction.  But the Court's never gone  further in the Fifth Amendment context than that  to start using principles of substantive due  process -- there's that oxymoron again -- from  the Lochner era no less to say that more is  required beyond the original understanding.  And  it seems both sides would ask us to kind of play  with that toy a bit and you -- you perhaps a  Heritage Reporting Corporation 1    2    3    4    5    6  7    8  9    10   11   12   13  14   15   16   17 18   19   20  21   22   23   24   25   98 Official - Subject to Final Review  little more aggressively than your friends on  the other side.  MR. BERGER: I think it's a toy that  should be left in the box because there's no  reason, to sort of paraphrase something that  Your Honor said in Mallory, this is a case where  you don't need a new rule.  This is a case where  a very old rule really applies.  And the old rule that applies, albeit  at the court of appeals level but uniformly, is  that the fairness that always underlay the Fifth  Amendment and due process, even in Picquet and  Toland and all these ancient cases, where they  talk about principles of fundamental fairness -- JUSTICE GORSUCH:  Ancient cases being  our precedent.  MR. BERGER: Well, I'm not sure  Toland -- I'm not sure that Picquet is.  JUSTICE GORSUCH:  Some of them are.  Some of them are lower court opinions, but  they're -- they're -- they're precedents on the  books -- MR. BERGER: Right.  JUSTICE GORSUCH:  --and perhaps  worthy of respect as well as our newer stuff -- Heritage Reporting Corporation 1    2    3    4    5    6  7  8  9  10  11   12   13   14   15  16   17   18   19   20   21   22   23   24  25   99 Official - Subject to Final Review  MR. BERGER: Not only do I respect -- JUSTICE GORSUCH:  -- with the Lochner  era no less.  MR. BERGER: I -- I -- I think I share  that -- Your Honor's fondness for Murray's  Lessee because you alluded to it in Jarkesy.  And Murray's Lessee is a 19th Century precedent  of this Court, not some Justice riding circuit  opining in dictum what he thinks may be/might be  the rule in some case where the question wasn't  presented.  JUSTICE GORSUCH:  Charming Betsy, you  know, as well, right?  MR. BERGER: Right.  But Murray's  Lessee says as plain as you like that the  legislative will alone cannot define what Fifth  Amendment due process is.  JUSTICE GORSUCH:  No one disputes  that.  MR. BERGER:  Right.  JUSTICE GORSUCH:  But the question is,  if you're going to start adding things onto it  beyond what was originally understood and exists  in our precedent for a long time, that's quite a  toy.  Heritage Reporting Corporation 1    2    3    4  5    6    7    8  9    10   11   12   13   14   15   16  17  18   19   20   21   22   23  24   25   100 Official - Subject to Final Review  That's -- and, as Justice Kavanaugh  pointed out, you know, it's -- you're going to  be second-guessing the Executive Branch and the  Congress and the political judgments they've  made about what does and doesn't interfere with  international affairs.  MR. BERGER: I -- I -- I don't think  that's true for at least two reasons if I may.  And -- and one is that there's a huge open  question in this case, right, about what  activity, you're focusing only on the activity  prong, as Your Honor had alluded in some earlier  questions.  Then the question is not what does due  process allow.  You don't have to reach that  question because, as the government conceded,  the statute contains a large number of  exclusions where, essentially, whatever  sovereign power Congress had and the president  signed off on, they've --they've laid down  arms. They said, okay, we're not going to count  for jurisdiction U.N. activity, meetings with  the U.S. Government, and ancillary activities.  Well, \"ancillary\" is a huge, undefined  term, and we don't know what that means.  And  Heritage Reporting Corporation 1  2  3    4  5    6  7    8  9    10   11   12   13   14   15   16   17   18   19   20   21   22   23   24  25  101  Official - Subject to Final Review  the reason we know that it means that there's  not at the moment unanimity between the  legislature and the executive is the  government's opening brief cites two Office of  Legal Counsel opinions dealing precisely with  the Palestinian government, one in 2018, one in  '22. They are a rich font of guidance, I think,  in this area of what is the interest of the  United States.  JUSTICE BARRETT:  Counsel, can I -- can I interrupt and ask a question?  So, even  under the Fourteenth Amendment, we do look back  at historical practice.  And I'm thinking of tag  jurisdiction, for example.  So, for purposes of the Fifth  Amendment, would tag jurisdiction be okay in the  context of a foreign defendant?  MR. BERGER: I -- I think that if tag  jurisdiction is limited to individuals, as Your  Honor pointed out in your opinion in Mallory, it  wouldn't apply to entities like the PA and the  PLO, but there's no reason if his -- if history  tells us, right, and that's the whole purpose of  Burnham, is that there's a historical tradition  behind tag jurisdiction, then, for individuals,  Heritage Reporting Corporation 1  2    3    4  5    6  7  8    9    10   11   12   13   14  15   16   17   18   19  20   21   22   23   24   25   102  Official - Subject to Final Review  there's really no reason to treat that  differently under the -- JUSTICE BARRETT:  Okay.  So, if --if  history matters for things like tag jurisdiction  even under the Fourteenth Amendment, could we  say that under the Fifth Amendment, we similarly  look at history and we see a tradition of  treating foreign individuals, foreign  defendants, differently from domestic or from -- from American citizens?  MR. BERGER: I think, analytically,  you could say that we could ask the question,  but I don't think if that -- if your question  implied that that's the answer that history  gives, I don't believe -- JUSTICE BARRETT:  I -- I --I  understand. I'm just asking if we could ask the  question because you -- you agree that history  informs the content of due process even in the  Fourteenth Amendment context.  And so it might not be one to one,  right, between the Fifth Amendment and the  Fourteenth Amendment because history might bear  differently on the United States than on any  individual state.  Heritage Reporting Corporation 1    2  3  4  5  6    7    8    9  10  11   12  13   14   15   16   17   18   19   20   21   22  23   24   25   103 Official - Subject to Final Review  MR. BERGER: Well, I -- I guess a  couple of points on that if I may. One is I -- I do think that history matters, if you're  writing on a blank slate, that there's a reason  why foreigners have not been treated differently  under the Fourteenth Amendment.  And then just to bring in one concern  Justice Jackson raised, as exemplified by Judge  Ho's concurring opinion in the Douglass case.  He said, if we're going to start treating the  Fifth and Fourteenth Amendment differently, then  we are going to have to throw out the window the  doctrine of incorporation because are we now  diluting all of the rights that apply to the  states?  JUSTICE BARRETT:  Well, I mean, I  think that's stretching it a bit far.  I don't  think we're throwing incorporation out. I mean,  I think you can still recognize that the Fifth  Amendment incorporates fundamental fairness for  a substantive due process right. And I think  this can be about personal jurisdiction.  So I think that's kind of a -- a way  of -- of trying to -- to -- well, I just don't  think it's necessary to go that far.  I think  Heritage Reporting Corporation 1    2    3  4  5    6    7  8  9    10   11   12   13   14   15   16   17   18   19  20   21  22   23   24     25   104 Official - Subject to Final Review   they're distinct issues.  MR. BERGER: If -- if -- if the Court  doesn't need to, doesn't want to, and for  whatever reason doesn't go that far, I think  that what the historical case law tells us,  whether it is Justice Story riding circuit,  whether it's the Court in Toland, whether it's  The Charming Betsy, you name it, all of the  frigate cases, almost all of which involve  reaching out to either a ship of a foreign  nation or a foreign merchant, that there is,  indeed, equal solicitude for foreigners.  JUSTICE BARRETT:  Okay.  And so I'll  just say one other thing about incorporation.  I  think one distinction between your situation and  that -- and it was kind of what I was struggling  with some of the questions I was asking your  friends on the other side -- is that, you know,  we have doctrine in the context of incorporation  already.  There's already precedent on point.  And, as you point out, then we're not writing on  a blank slate, you know.  So, in the Fourteenth Amendment  context, whatever one thinks of International  Shoe, we're not writing on a blank slate.  We  Heritage Reporting Corporation 1  2    3    4  5  6    7    8    9    10  11   12  13   14   15   16   17   18   19  20   21   22   23  24   25  105  Official - Subject to Final Review  have quite a long line of precedent after that.  We don't have squarely on point  precedent in the Fifth Amendment context in  personal jurisdiction as we do in substantive  due process, and so that's why I think it -- it's not -- that's why we're here. It -- it's  still an open question.  MR. BERGER: And I do understand it's  an open question.  And -- and to the extent the  Court is approaching it with a blank slate, I  would say the factors that matter are not just  what is the original meaning and what does  history tell us.  It's certainly important.  But, if jurisdiction is supposed to mean  anything, it is supposed to provide predictable,  reliable rules known in advance.  And I believe it was Justice Thomas  who alluded to the Chamber of Commerce amicus  brief here, which, once it gets past the point  of debating whether or not we're persons  entitled to due process, lays out all the  reliability concerns that says you're going to  have to throw out four decades of Fourteenth  Amendment due process jurisprudence as  understood to apply in federal question cases if  Heritage Reporting Corporation 1  2    3    4    5  6  7  8  9  10   11  12   13  14   15   16  17   18   19   20  21  22  23   24   25   106  Official - Subject to Final Review  you decide the Fifth Amendment provides  differential protection from the Fourteenth.  And that is given that a core function  of jurisdiction is to provide predictable rules  in advance, exemplified here by the fact that  the PA and the PLO genuinely don't know when you  read the statute when you're under the  activities prong, what is it that implicates the  activities prong, it has to be predictable and  reliable.  So, if you do write on a blank slate,  then you're going to already have opened a  Pandora's box of the problem of people saying:  All right, I've got to reorder all my affairs.  I would like if I have time -- and I  don't see the red light is on -- to just address  some of the other questions that I heard from  the Court.  I do believe Mr. Kneedler made an  extremely important comment, and I --to some  extent, I believe the plaintiffs have conceded  this as well, that there's a large open question  if you focus exclusively on the activity prong  of what is covered, what is the meaning of  ancillary, what is the meaning of official U.N.  business.  And, earlier, I alluded to but perhaps  Heritage Reporting Corporation 1    2    3    4    5  6  7  8  9    10   11   12   13   14   15   16   17   18   19   20  21   22  23   24   25  107 Official - Subject to Final Review  didn't finish the thought about the Office of  Legal Counsel opinions which say two important  things.  One, it offers a view from the  executive's point of view in the context of the  Palestinians as to what activity is allowed, and  it basically said no matter what Congress says,  we, the executive, believe the Palestinians are  allowed to engage in incidents of diplomacy,  like speaking to the Palestinian diaspora, like  speaking to American citizens about Palestinian  rights.  And the only reason that matters is if  we're litigating on remand, should it come to  that, what is the meaning of ancillary  activities, the OLC opinions are directly  germane.  Point two about the OLC opinions, it  says, look, we, the executive -- and this really  goes to the government's point --have exclusive  control of how this country interacts with the  Palestinian government.  To the extent any  statute out there, whether it's the 1987  Anti-Terrorism Act or anything else, says we  can't do something or what they want us to do  imposes a condition contrary to a condition we  Heritage Reporting Corporation 1    2    3  4  5    6    7  8  9    10   11   12   13   14   15  16  17   18   19   20   21   22   23   24   25   108 Official - Subject to Final Review   would impose, we view that as unconstitutional.  So I would respectfully say that as  far as the statute goes in its uninterpreted  form, it reflects, Justice Kavanaugh, executive  and legislative unanimity.  But the minute you  get down into the details of what's ancillary  activity, does the executive branch take a  contrary position on a case-by-case basis, that  unanimity unravels.  I think perhaps it was Justice -- JUSTICE JACKSON:  Can I just ask you  about -- just taking you back to the potential  equivalence or not of the Fourteenth and the  Fifth Amendment.  I guess I -- do -- do you  concede that there are principles of interstate  federalism and sovereignty that are at play in  the Fourteenth Amendment context that are not  apposite in the Fifth Amendment context?  MR. BERGER: The -- the answer is yes  but only in the imposed jurisdiction context,  not here in the consent jurisdiction context.  The -- the plurality opinion authored by Justice  Gorsuch and the concurring opinion authored by  Justice Alito in Mallory, which counts to five,  a number I've heard earlier today, said  Heritage Reporting Corporation 1  2    3    4    5    6    7  8    9  10   11  12  13   14   15   16   17   18   19  20   21   22   23  24   25   109  Official - Subject to Final Review  federalism does not matter for consent  jurisdiction.  So, yes, federalism matters for  imposed jurisdiction but not for consent  jurisdiction.  And why?  Footnote 10 in Bauxites  gives you the answer.  It says someone may  subject himself to powers from which you would  otherwise be free, which is why federalism  doesn't care if you consent to jurisdiction.  JUSTICE JACKSON:  So you would have us  have a Fifth Amendment doctrine that is parallel  to the Fourteenth Amendment in the consent realm  with respect to consent?  That's the only  parallelism that you -- MR. BERGER: I -- I think they're  identical, Justice Jackson, in the consent  realm. I think that is what five members of the  this Court said in Mallory, that -- that due  process federalism concerns do not arise in  consent jurisdiction, however the -- JUSTICE JACKSON:  And so then you win  why? If -- if -- if we agree with you on that,  that consent is the same in the two areas, then  you say, to the extent that this statute was one  that imposed or deemed consent, then we're in  Heritage Reporting Corporation 1  2    3  4  5    6  7    8  9    10   11  12  13   14  15   16   17   18   19   20   21   22   23   24   25   110  Official - Subject to Final Review  that realm and you win because?  MR. BERGER: Because of the test -- and I don't think the Court needs a new test for  consent jurisdiction, which is that Bauxites  tells us the defendants' actions must support a  presumption of legal submission to the  jurisdiction of the court.  And our argument  below was neither prong of the PSJVTA as applied  in this case reflects submission.  Payments made overseas, outside of the  antecedent sovereign authority of the United  States, right? The United States can't say to  Palestine do or don't make that payment.  That  is not submission to a U.S. forum. And, indeed,  that's what the court of appeals said.  And, as applied in this case, where  our contention, unresolved in the courts of  appeals has been, is that all of our conduct  has -- is U.N.-related conduct and has  previously been held to be insufficient to  support jurisdiction.  And the United States  acquiesced in the Southern District of New York  decision in the 1980s in U.S. versus PLO that  U.N. activity can't support jurisdiction.  All of those mean that when we  Heritage Reporting Corporation 1  2    3    4    5  6    7    8    9    10   11  12   13   14   15   16   17   18   19   20   21   22  23   24  25   111  Official - Subject to Final Review  continue to be engaged in U.N. and ancillary  activities, we haven't submitted to  jurisdiction.  No new standard is required.  And, for more than 40 years, the Bauxites  submission standard, it hasn't turned the -- the  lower courts upside down.  The courts know how  to apply it.  It's a facts-and-circumstances  test.  And the lower courts have been  perfectly comfortable with Bauxites.  And not  only that, all four opinions of Mallory in this  Court cited the Bauxites submission standard.  It's good law.  It remains good law.  It shows  why we win.  I will try to burn quickly through a  couple of other points.  I think Justice Gorsuch  asked if we were operating an office  extra-legally. I think Mr. Kneedler very  helpfully gave the answer, which is there's no  question of extra-legal.  We could debate all  day long whether what we're doing is legal or  not, but the fact of the matter is the statute  simply excludes it.  So, from a constitutional  avoidance basis, you don't need to reach the due  process question.  If the statute says this  Heritage Reporting Corporation 1  2  3    4    5  6    7    8  9    10   11   12  13  14   15   16   17   18   19   20  21   22   23   24   25  112  Official - Subject to Final Review  conduct does not support jurisdiction, that's  the end of the story.  The fact that the U.S. activities  prong remains unadjudicated, as I think both  sets of Petitioners' counsel acknowledge, you  know, our position is that this was an  as-applied case that looked at various activity,  but, if there's an open question as to what the  ancillary activities exclusion means, then  that's a matter for remand because, as I've  heard from time to time, this is a court of  review and not first view, and so that's grist  for the mill for the court of appeals.  I mentioned the OLC opinions.  And I  guess I would just close with this thought,  which is, whether we're searching for historical  meaning, whether we're searching for what did  the 1st Congress think about jurisdiction, I  would -- and I would respectfully say the one  analogy that drives all the answers is pirates,  right?  Piracy has been illegal from the  founding.  The alien tort statute incorporated  it. Nobody from the founding has thought that  Congress could say not only do we prohibit  Heritage Reporting Corporation 1  2    3    4    5  6  7    8  9    10   11   12  13  14   15   16      17   18  19   20   21   22  23   24  25   113  Official - Subject to Final Review  piracy, but tell you what, since we've  prohibited piracy and because prescriptive  jurisdiction and adjudicative jurisdiction is  the same, we don't need to go -- to bother -- all that trouble of finding, extraditing, or  renditioning the pirate. We'll just try him in  absentia.  That's never been the law and that's  because due process requires something more than  what Congress prescribes.  JUSTICE KAGAN:  You -- you might  think, though, that what that suggests is that  there's an obligation to provide notice and an  opportunity to be heard without going as far as  requiring minimum contacts in the way we've done  under the Fourteenth Amendment.  MR. BERGER: Yeah, and I -- I would -- I would respectfully say that --that it's not  just an alien tort statute issue, but, in all of  this Court's extraterritorial application  issues, there's been an observation, including  by Justice Sotomayor, that -- that we're dealing  with a whole different problem, which is  everybody obviously had notice in --saw a case  like RJR Nabisco about what the statute  purported to do, but Justice Sotomayor's opinion  Heritage Reporting Corporation 1    2  3    4    5  6    7  8  9  10   11   12   13   14   15   16   17   18   19   20   21   22  23  24   25   114 Official - Subject to Final Review   noted that, okay, but we still have a whole  different kettle of fish to deal with in terms  of personal jurisdiction.  So it's more than notice.  And I think  that's why, even if you want to give full  significance to Picquet -- and then I promise  I'll shut up and sit down -- what the Court said  in Toland, what Justice Story said in Toland,  take a look at page 613, it said we have to deal  separately with notice and regular -- regular  personal appearance in court.  So even Justice  Story thought there was something more than  notice in the form of a summons.  And jurisdiction, he likewise referred  separately to jurisdiction and process at page  613. They are different things, and they have  been different things from the founding.  JUSTICE ALITO:  What exactly is the  unfairness in -- in this case?  MR. BERGER: In -- JUSTICE ALITO:  It's the -- it's too  burdensome to litigate this in New York, where  the PA and the PLO conduct some activities?  MR. BERGER: Well, so I -- JUSTICE ALITO:  What's the unfairness?  Heritage Reporting Corporation 1    2    3  4    5    6    7  8    9    10   11   12   13   14   15   16  17   18  19   20   21   22   23   24   25   115 Official - Subject to Final Review  MR. BERGER: The unfairness, as we  said -- I think you'll see it at pages either 56  or 57 to 58 of our Second Circuit brief in  full -- is the notion that we can be divested of  a liberty interest for --and selectively at  that, for being divested of a liberty interest  for engaging in activity previously held  constitutionally insufficient to support  jurisdiction.  And a second point if I may, which is,  if you look at Fourteenth -- JUSTICE ALITO:  That doesn't sound  like a personal jurisdiction argument.  But  anyway, go ahead.  MR. BERGER: So -- but, when you look  at all the traditional Fourteenth Amendment  jurisprudence of this Court, it's got two  prongs, right? It has minimum contacts and then  it has reasonableness. And so, when we get the  commentary like in the dissent at the -- from  rehearing en banc, that it's not inconvenient  for us to go from the PLO's U.N. mission in the  East 60s to the Southern District of New York,  that misses the point.  That deals with the  reasonableness prong.  But that's prong two.  Heritage Reporting Corporation 1    2  3  4    5  6  7    8  9  10  11   12   13   14   15  16  17   18   19   20   21   22   23   24   25   116 Official - Subject to Final Review  Prong one is, is there reciprocal  fairness sufficient to support jurisdiction in  the form of minimum contacts? That's the  unfairness, which is -- you ever been on a train  where it's sitting still and another train's  moving and you have the impression you're moving  backwards?  That's what Congress keeps doing  with these statutes, which is we're doing the  same thing, and Congress keeps moving the  context around us, and that's what makes this  statute as applied unconstitutional.  And so we'd respectfully ask that this  Court affirm the judgment of the court.  JUSTICE ALITO:  Before --before you  sit down, do you think any degree of deference  is owed to Congress and the president in this?  MR. BERGER: No more deference than in  the context of Holder, where the Court said,  sure, we understand their policy judgment, but  that does not require us to abdicate the  judicial role when it comes to constitutionally  protected rights.  And that is certainly a, you  know, a protected right committed to the  judicial branch, is jurisdiction.  JUSTICE ALITO:  Well, the question  Heritage Reporting Corporation 1  2  3    4    5    6    7    8    9  10   11    12   13   14   15   16  17  18   19   20 21   22   23   24   25   117  Official - Subject to Final Review  wasn't whether there should be judicial  abdication but whether there should be any  degree of deference.  So is there any degree of  deference owed or none?  MR. BERGER: I would say, in the  context of jurisdictional due process, the  answer is none. In the context of another  statute that four -- hits four square on these  same issues, like the Taylor Force Act, which  says, if the Palestinian government continues to  make these payments, we will withhold foreign  aid, of course, deference is owed in that  context.  But, when it comes to a  constitutionally protected right, like  jurisdictional due process, no, you don't defer  away the protection for that right.  JUSTICE ALITO:  Thank you.  CHIEF JUSTICE ROBERTS: Thank you.  Justice Thomas, anything further?  Justice Alito?  Justice Sotomayor?  Justice Kagan?  Justice Gorsuch, anything further?  Justice Kavanaugh?  Heritage Reporting Corporation 1    2    3    4    5    6    7    8    9  10   11   12   13   14   15   16  17   18   19  20   21   22   23   24   25   118 Official - Subject to Final Review  Justice Barrett?  Justice Jackson?  Now you may sit down.  Thank you.  MR. BERGER: Thank you, Mr. Chief  Justice.  CHIEF JUSTICE ROBERTS:  Rebuttal,  Mr. Kneedler?        REBUTTAL ARGUMENT OF EDWIN S. KNEEDLER  ON BEHALF OF THE PETITIONER IN CASE 24-151  MR. KNEEDLER:  Several points,  Mr. Chief Justice.  First of all, with respect to  reciprocal fairness, which I -- which I think  counsel's deriving from the minimum contacts, if  there are minimum contacts then you're subject  to jurisdiction, but under the Fifth Amendment,  minimum contacts is not the test.  Perhaps some  nexus is, but -- and that's because the United  States, in the exercise of its powers, is not  limited to the territorial jurisdiction of the  United States.  It could criminalize the making of  these payments, as I had understood Respondents  to say at page 30 of their brief. If -- if it  could criminalize them, it seems clear that it  Heritage Reporting Corporation 1  2    3    4  5  6  7    8    9  10   11   12   13   14   15   16   17   18   19   20   21  22  23   24   25   119  Official - Subject to Final Review  should be able to count them as a basis for U.S.  jurisdiction.  But, again, with respect to reciprocal  fairness, it's important to bear in mind that  the payments being made here are payments to  persons who have killed or injured Americans in  acts of terrorism abroad.  And -- and I think,  when one is -- is weighing reciprocal fairness,  that basis for jurisdiction hardly seems unfair,  particularly since it direct -- is a direct  corollary to the lawsuits to which personal  jurisdiction attaches, with -- which is lawsuits  under the ATA, which is designed to protect  Americans from --from terrorism abroad.  So, if  we're talking about reciprocal fairness, I think  this case clearly satisfies it.  Now, also, the reciprocal fairness  seems to be tied to some sense --sense of an  exchange or a -- a balance on either side.  We  don't think that that really comes from Mallory,  but, certainly, in the context of the PA and the  PLO, it doesn't make sense because we're talking  about a 40-year relationship between the two in  which fighting terrorism has always been a core  part.  Heritage Reporting Corporation 1    2    3   4  5    6    7    8    9    10   11             12  13   14   15   16   17  18   19   20   21   22   23   24   25   120 Official - Subject to Final Review  And to try to find whether there's a  bargain or an exchange at one point in time  along that continuum of four decades of the  relationship just doesn't make sense because  Congress's statutes -- and, again, this is its  third try to make sure that these lawsuits can  be brought -- it's a continuation of a policy  over that period of time, and the Court should  not focus only on the particular statute in -- in isolation.  But coming back to what is at the core  of this case and, actually, the Court wouldn't  have to decide more, and that is that -- that  under the Fifth Amendment, Congress and the  president made a judgment that is entitled to  virtually absolute deference that it is  appropriate to subject the PA and the PLO to  jurisdiction in this case.  Respondents had a chance to avoid that  by just stopping those activities, but they  didn't.  So whether one thinks of that as  consent or just an element of -- of fairness or  overall suitability, that should count for a  lot. The Court should sustain the act of  Congress.  Heritage Reporting Corporation 1    2    3    4    5    6 7 8 9 10 11 12 13 14 15 16 17 18 19 20 21 22 23 24 25 121 Official - Subject to Final Review             CHIEF JUSTICE ROBERTS: Thank you,  counsel.  The case is submitted.  (Whereupon, at 11:58 a.m., the case  was submitted.)  Heritage Reporting Corporation Official - Subject to Final Review  122 1  1 [3] 1:19 40:13 74:1  10 [2] 59:20 109:5  10:04 [2] 1:23 4:2  11:58 [1] 121:4  118 [1] 3:16  12 [1] 90:25  140-odd [1] 92:5  1791 [1] 37:10  1980s [2] 45:1 110:23  1987 [1] 107:22  19th [4] 35:15 36:23 63:3 99:7  1st [2] 40:13 112:18  2  2018 [2] 90:14 101:6  2025 [1] 1:19  22 [2] 17:24 101:7  24-151 [5] 2:6 3:9,16 42:4 118:9  24-20 [4] 2:3 3:5 4:4,9  3  30 [1] 118:24  4  4 [1] 3:5  40 [1] 111:4  40-year [1] 119:23  42 [1] 3:9  47 [1] 81:7  5  56 [1] 115:2  57 [1] 115:3  58 [1] 115:3  6  60s [1] 115:23  613 [2] 114:9,16  65th [1] 13:25  8  8 [1] 90:25  80 [1] 39:24  87 [1] 3:12  A  a.m [3] 1:23 4:2 121:4  abdicate [1] 116:20  abdication [1] 117:2  ability [5] 58:18 59:9 60:12 61:6  81:12  able [1] 119:1  above [1] 97:11  above-entitled [1] 1:21  abroad [9] 4:13 16:12 28:15 35:22  57:9,14 65:10 119:7,14  absence [1] 9:11  absentia [3] 96:23 97:15 113:7  absolute [2] 67:17 120:16  Absolutely [5] 33:7 67:14 74:17  90:12 92:12  abused [1] 72:1  acceded [2] 71:2,3  access [4] 62:4 70:15,21 89:8  accidents [1] 16:12  account [1] 77:9  accurate [3] 59:2,3 79:25  acknowledge [1] 112:5  acquiesced [1] 110:22  across [1] 76:5  act [16] 10:17 21:21 40:11,12 42:7,  15 43:17 51:14 52:7,8,12 83:12  91:19 107:23 117:9 120:24  acted [2] 73:19 74:2  acting [3] 73:12 74:14 77:4  action [4] 4:20 6:6 11:14,19  actions [6] 4:13 65:13 88:6,10 89:  3 110:5  activities [24] 5:9 22:14 24:15 30:  22 42:18 53:20,21 59:11 62:22,25  72:11,13,19,20 83:3 100:23 106:8,  9 107:15 111:2 112:3,9 114:23  120:20  activity [13] 4:13 22:17 70:3,21  100:11,11,22 106:21 107:5 108:7  110:24 112:7 115:7  actors [1] 11:24  acts [4] 42:17 57:11 67:3 119:7  actual [2] 49:15 91:1  actually [5] 39:14 49:23 80:9 87:  11 120:12  ad [1] 93:8  adding [1] 99:22  addition [2] 6:5 14:5  address [7] 53:14 54:1 73:1 77:23  89:24 92:19 106:15  addressing [2] 81:22 82:16  adjudicate [1] 45:11  adjudicating [1] 96:25  adjudicative [2] 88:24 113:3  adjust [1] 95:3  admit [1] 4:16  adopt [5] 25:1,6 26:21 63:6 82:3  adopted [1] 50:4  advance [4] 14:25 75:11 105:16  106:5  advanced [2] 15:6 59:22  advances [2] 5:15 6:7  advocating [3] 10:14 12:21 14:13  affairs [4] 39:8 93:22 100:6 106:13  affect [1] 67:13  affected [1] 65:11  affirm [1] 116:13  affirmative [1] 81:19  affirmatively [1] 58:7  aggressively [1] 98:1  ago [1] 64:3  agree [12] 13:18 38:14 40:25 53:  12 74:25 75:16 76:9,25 85:10,19  102:18 109:22  agreed [2] 73:12 87:3  agreement [2] 70:14,23  ahead [1] 115:14  aid [1] 117:12  akin [1] 65:8  AL [3] 1:3,7,14  Alaska [2] 10:22 12:7  albeit [1] 98:9  alien [3] 8:5 112:23 113:18  alike [1] 11:13  ALITO [34] 14:21 15:4,9,17 16:2,5,  13 19:6 59:25 60:1 61:14 62:7,15,  20 63:2 64:1,8,12,18 65:1,17,19  66:8 67:22 68:14 108:24 114:18,  21,25 115:12 116:14,25 117:18,21  Alito's [1] 68:10  allegations [2] 62:24 71:21  alleged [3] 53:22 88:9 89:3  allow [2] 40:17 100:15  allowed [2] 107:5,8  alluded [5] 96:9 99:6 100:12 105:  18 106:25  almost [2] 52:19 104:9  alone [1] 99:16  already [4] 85:18 104:20,20 106:  11  alternative [1] 32:17  alternatives [2] 82:6,8  although [3] 62:23 77:12 80:22  altogether [1] 11:8  Amend [1] 58:16  Amendment [150] 5:21,22 6:2,12,  14,19,23,25 7:2,17,22 8:4,16 9:10,  20 10:10,15,25 11:8 13:10 14:4,6,  8,10,16,19,22 16:6,7,25 19:9 21:2,  5 25:2,4,25 28:21 29:14 31:3,4 33:  3 34:7,8,11,16,21,23 35:2,5,6,11,  14 36:3,9,14,18,21 37:1,9,24 40:7,  20 45:12 47:20 48:2,3,20,21,23,25  49:8 50:13,19,24 51:6,9,18 52:21  53:7,11 54:6 56:8 58:16,17 59:8  60:19,22,24 61:1,18,22,24 62:2  65:25 67:24 68:1,11,15 80:1,14  81:6 82:2 83:19 86:23,24 87:7 90:  11 91:3,5 92:12,14,19,20,22 93:2,  12,18 94:2,7,7,12,13 96:5,6 97:19  98:12 99:17 101:12,16 102:5,6,20,  22,23 103:6,11,20 104:23 105:3,  24 106:1 108:14,17,18 109:11,12  113:15 115:16 118:16 120:14  Amendment's [3] 60:9 84:4,6  Amendments [2] 7:4 90:4  American [6] 4:14,24 15:19,20  102:10 107:10  Americans [6] 5:3 16:14 35:21 42:  17 119:6,14  amicus [8] 38:15,22 39:3 58:23 75:  25 76:1 90:15 105:18  among [2] 17:18 88:11  analogous [1] 65:24  analogy [4] 28:19 31:4 53:2 112:  20  analysis [12] 9:11 14:20 23:5 24:  18 29:14 36:8,18 41:6 47:7 58:12  80:16 84:15  analytic [1] 57:25  analytical [1] 58:3  analytically [1] 102:11  analyze [3] 5:20 51:3 52:20  analyzed [2] 10:25 48:1  analyzing [1] 6:11  ancient [2] 98:13,15  ancillary [8] 72:11 100:23,24 106:  23 107:14 108:6 111:1 112:9  announce [2] 79:15 83:10  announcements [1] 82:25  another [8] 15:20 18:20 53:3 69:  14,19 83:16 116:5 117:7  answer [6] 89:13 102:14 108:19  109:6 111:19 117:7  answers [3] 54:9 78:9 112:20  antecedent [1] 110:11  Anti-Terrorism [2] 42:15 107:23  antitrust [1] 67:10  anybody [1] 11:20  anyway [2] 11:24 115:14  appeals [8] 46:25 57:2 62:19 95:2  98:10 110:15,18 112:13  appeals' [1] 90:5  appear [1] 93:15  appearance [1] 114:11  APPEARANCES [1] 2:1  applicable [1] 9:24  application [5] 6:24 31:22 44:15  61:23 113:19  applied [9] 27:14 31:11 61:1 83:18  89:10 92:14 110:8,16 116:11  applies [8] 32:6 36:21 49:2 66:6  93:23 95:11 98:8,9  apply [22] 6:23 7:2 8:3,18,23 13:15  14:7 26:11 28:8 30:17 46:6,9 48:  20 61:25 68:22 86:24 90:3 95:6  101:21 103:14 105:25 111:7  applying [2] 53:11 61:17  apposite [1] 108:18  appreciate [6] 25:18 30:5 31:18  64:18 82:8 85:8  approach [3] 46:3 58:1,3  approaching [1] 105:10  appropriate [2] 46:8 120:17  April [1] 1:19  arbitrariness [1] 18:20  arbitrary [6] 6:6 11:13,19 18:15,16,  23  area [6] 51:20,22 56:2 58:18 63:25  101:8  areas [3] 83:24 84:22 109:23  arena [1] 44:10  argued [2] 58:5 68:12  arguendo [1] 44:12  arguing [4] 18:15 32:16,25 36:13  argument [37] 1:22 3:2,6,10,13 4:  4,8 10:8 16:24 18:3 32:16,20 33:2,  6 34:4,6,13,19 36:4,6,13 42:3 47:  25 51:17 55:18 58:6 60:6 64:6 81:  19,20,21 87:23 90:8 92:17 110:7  115:13 118:8  arise [2] 84:10 109:19  arising [1] 37:17  arms [1] 100:21  around [4] 55:11 76:19,20 116:10  article [6] 40:3 73:20,20,21,22,23  articulate [3] 46:5,8,10  articulated [3] 46:3 95:22,24  articulation [1] 50:15  as-applied [1] 112:7  Heritage Reporting Corporation  Sheet 1 1 - as-applied Official - Subject to Final Review  123 aside [2] 51:5 62:22  aspects [2] 49:19 62:4  assemble [1] 18:9  assent [1] 85:16  assertion [1] 55:2  assess [2] 14:3 75:17  assessment [2] 75:18 87:7  assume [6] 33:14 49:1 68:19,21  69:1 92:12  assumed [1] 44:1  assuming [2] 44:12 92:17  assumption [2] 68:6 96:11  ATA [1] 119:13  attaches [3] 89:18,23 119:12  attempt [1] 18:9  attention [1] 90:14  authored [2] 108:22,23  authority [9] 43:6,24 45:19 57:6  61:10 63:24 76:15 92:8 110:11  authorizing [2] 10:1 63:9  auto [1] 16:11  availing [1] 23:7  availment [1] 22:24  avoid [1] 120:19  avoidance [1] 111:24  awareness [1] 86:14  away [4] 13:14 71:8 92:11 117:17  B  back [17] 22:10 27:3,6 31:21 43:23  59:6,20 66:11 67:21 78:19 81:3  87:6 90:14 96:14 101:12 108:12  120:11  background [1] 9:23  backwards [1] 116:7  bad [1] 96:17  bag [1] 47:9  balance [1] 119:19  balancing [1] 17:4  ball [1] 25:20  ban [2] 5:2,5  banc [2] 46:25 115:21  bargain [1] 120:2  BARRETT [29] 9:3,5,19 10:4 34:2,  3 35:3,23 36:12,17 37:8,11,21 38:  14,17 40:19 48:25 78:5,6 79:1,19,  24 82:22 101:10 102:3,16 103:16  104:13 118:1  based [1] 76:9  baseline [1] 40:8  basic [1] 63:23  basically [3] 10:8 90:18 107:6  basis [14] 9:15,16 27:1 38:11,23  58:11 61:7 65:7,15 93:17 108:8  111:24 119:1,9  Bauxites [11] 88:5,5,22 89:1,25 90:  2 109:5 110:4 111:4,10,12  be/might [1] 99:9  bear [2] 102:23 119:4  becomes [1] 27:21  behalf [13] 2:3,5,8 3:4,8,12,15 4:9  42:4,16 70:3 87:24 118:9  behavior [2] 28:25 53:5  behind [1] 101:25  believe [7] 18:5 48:22 102:15 105:  17 106:17,19 107:7  below [1] 110:8  benefit [1] 84:15  Bennett [1] 8:25  BERGER [38] 2:7 3:11 87:22,23,  25 90:7,12 91:6,25 92:2,23 93:7  94:1 95:18 98:3,17,23 99:1,4,14,  20 100:7 101:18 102:11 103:1  104:2 105:8 108:19 109:15 110:2  113:16 114:20,24 115:1,15 116:  17 117:5 118:4  Betsy [3] 49:17 99:12 104:8  better [1] 20:21  between [10] 27:22 33:22 47:1 81:  25 88:23 96:24 101:2 102:22 104:  15 119:23  beyond [4] 57:7 62:25 97:23 99:23  Bill [1] 40:13  binary [1] 91:14  bipartisan [2] 75:25 76:1  bit [10] 21:24 22:1,11 23:5 28:10,  19 34:9 53:4 97:25 103:17  blank [5] 103:4 104:22,25 105:10  106:10  blow [1] 78:18  blowing [1] 23:7  Bolling [1] 84:2  bomb [1] 23:8  books [1] 98:22  border [1] 24:3  borders [1] 57:7  both [10] 15:15 29:8 42:19 53:14  85:12,13 94:8,14 97:24 112:4  bother [1] 113:4  bounced [2] 25:20,20  bounded [2] 6:16 7:9  Bourguignon [1] 40:2  box [2] 98:4 106:12  branch [5] 83:11 97:11 100:3 108:  7 116:24  branches [4] 42:10 50:9 51:22 76:  6  brief [24] 16:23,24 17:6,13,24 23:  12 25:21 32:16 38:15,22 39:3 40:  2 50:12 58:23 59:2 61:21 81:5,9  90:15,25 101:4 105:19 115:3 118:  24  briefing [1] 58:12  briefs [2] 75:25 76:1  brilliance [1] 18:20  bring [2] 29:3 103:7  bringing [1] 4:19  broad [7] 4:23 16:18 55:2 63:24  66:24 79:13,15  broader [10] 24:20 32:20 34:12 36:  5 56:13,14 58:6 61:9 82:3 83:14  broadly [1] 78:15  Brooks [1] 9:1  brought [2] 15:21 120:7  build [1] 94:2  building [1] 47:18  bunch [2] 47:12 49:17  burdening [2] 21:19,20  burdensome [1] 114:22  burn [1] 111:15  Burnet [2] 8:24 9:1  Burnham [1] 101:24  business [2] 61:7 106:24  C  California [2] 7:10 10:19  call [2] 23:14,15  called [1] 15:15  came [4] 1:21 27:14 38:12 47:19  candor [1] 29:23  cannot [3] 89:2 94:16 99:16  cans [1] 84:1  capable [1] 77:9  capacity [1] 43:6  car [3] 15:13,19,20  care [2] 9:10 109:9  careful [1] 84:18  Carnival [1] 86:9  Case [73] 2:3,6 3:5,9,16 4:4,6,9 8:  1 9:14 13:8,21 14:2 15:25 16:21  18:15 19:20 20:6,9 21:12,16,17,  21,22 22:5 23:3 24:13 29:2 30:2  33:21 35:1 42:4 46:5,13 49:22 53:  10 59:13,17 60:9,19 64:20,23 66:  14 68:22 73:8 80:15 85:7 86:6,6,  20 87:9,17,17 90:16 94:10 96:8  98:6,7 99:10 100:10 103:9 104:5  110:9,16 112:7 113:23 114:19  118:9 119:16 120:12,18 121:3,4  case-by-case [1] 108:8  cases [38] 5:11 8:16 12:9 14:19 19:  8,15 28:6 34:10,14 35:2,8,15,19  36:22,25 37:4,17,20 40:4,5,20 43:  4 45:5,9,10,12 47:20 49:14,20 59:  6 63:3 88:25 94:19,21 98:13,15  104:9 105:25  categorical [1] 79:15  categorically [2] 58:6 78:23  category [1] 74:1  causes [1] 15:19  causing [1] 15:20  caution [1] 78:25  cautious [2] 78:25 83:15  cautiously [1] 55:6  center [2] 44:20 90:8  centered [2] 92:18,18  central [1] 75:22  Century [4] 35:15 36:23 63:3 99:7  certain [1] 42:18  Certainly [9] 7:23 22:16 49:11 58:  17 96:20 97:13 105:13 116:22  119:21  certainty [1] 38:23  certiorari [1] 59:17  cetera [1] 32:23  Chamber [2] 58:23 105:18  chance [1] 120:19  change [3] 40:7 59:3 88:20  Charming [3] 49:16 99:12 104:8  CHIEF [29] 4:3,10 19:3 20:12 24:  23 32:13 34:1 38:19 41:25 42:5  46:2 47:8 54:21 57:15,24 58:20  59:25 66:9 73:3 78:4 81:1,23 87:  20,25 117:19 118:4,6,11 121:1  choose [1] 70:6  chooses [1] 27:11  chose [1] 51:2  Circuit [9] 59:13 68:4 86:20 88:12,  13 94:20 99:8 104:6 115:3  circuits [1] 68:1  circumstance [3] 46:19 76:13 77:  20  circumstances [7] 46:12 48:1 56:  17 75:19,20 80:24 87:14  cited [2] 40:1 111:12  cites [1] 101:4  citizen [2] 10:13 69:15  citizens [16] 4:14,24 10:11 11:12,  23 22:18 24:8 55:23 60:16 65:12  83:4 93:24,24 96:2 102:10 107:10  civil [1] 4:20  claimants [1] 43:12  Claims [2] 12:11 97:1  clarify [1] 81:14  class [1] 5:11  Clause [12] 4:21 37:6,9,24 40:8 61:  11 83:22 84:4,6 90:21 91:16 96:  20  clear [11] 31:10,13,14 39:16,25 41:  13 42:21 50:19 60:22 92:4 118:25  clearly [5] 27:12 33:18 68:8 93:9  119:16  close [4] 28:10 45:20,21 112:15  closely [1] 5:12  closing [1] 45:14  coextensive [1] 39:22  collapse [1] 88:23  colleague [1] 68:12  colloquy [2] 78:11 81:4  come [8] 17:11,14 26:1 27:16 29:  24,25 85:1 107:13  comes [11] 7:21 11:22 21:1,5 26:6  86:5,5 95:20 116:21 117:14 119:  20  comfortable [1] 111:10  comfortably [1] 58:15  coming [2] 75:9 120:11  comity [1] 96:3  comment [1] 106:18  commentary [2] 97:3 115:20  commentators [1] 66:23  commerce [4] 16:18 58:23 61:10  105:18  commercial [2] 23:3 80:20  commits [1] 60:15  committed [2] 10:17 116:23  compelling [3] 42:23 56:18 87:14  compensation [2] 16:13 42:10  competent [1] 97:17  competing [1] 34:17  complete [2] 14:13 56:7  completely [1] 75:15  compliance [1] 33:20  complicated [1] 44:18  component [10] 11:4,12 17:20 19:  10 20:3 23:14 36:3,7 42:8 95:20  Heritage Reporting Corporation  Sheet 2 aside - component Official - Subject to Final Review  124 components [1] 11:1  comport [1] 52:15  concede [2] 40:18 108:15  conceded [3] 25:25 100:16 106:  19  conceding [1] 81:5  conceive [2] 83:5,8  concept [2] 21:1 41:15  concepts [1] 51:6  concern [6] 13:12 79:12 83:25 96:  14 97:5 103:7  concerned [2] 59:7,8  concerning [2] 44:18 83:4  concerns [10] 11:6 21:6,8,13 57:  11 80:23 95:22,23 105:22 109:19  concession [2] 67:21 94:19  conclude [2] 30:22 80:10  conclusively [1] 88:21  concomitantly [1] 5:4  concurrence [1] 94:4  concurring [2] 103:9 108:23  condition [7] 61:6,11 89:12,18,22  107:25,25  conditioning [1] 62:3  conduct [22] 5:14 24:14 42:19 45:  16 46:20 47:2,21 57:9 66:2,3 73:  19 85:12,13 86:14 88:14,17,21 89:  16 110:18,19 112:1 114:23  confine [1] 56:17  confirmatory [1] 39:1  confirmed [1] 81:8  conflict [1] 33:21  confronted [1] 80:9  Congress [102] 7:23 8:6,12 9:6,12,  22 10:16 11:15,23 12:8 15:18 16:  18,19 18:21 27:10,18 29:7 32:7,  21,22,24 33:11,18,22,23 40:13 42:  7,12 43:5 49:2,22 50:4 51:10,14,  19,25 52:7,8,12 54:17,18,18,23 55:  6,19 56:1,11 61:9 62:2 63:7,8,24  64:4 66:24 68:14,20 69:2,9 71:1  73:11,23,23 74:2,14,19,20,22 75:1,  10,17 76:20 77:4,7,15,22 79:4,6,  10 80:7,18 83:2,11,12 84:16 85:1,  4 88:20 94:16,18 96:24 97:12 100:  4,19 107:6 112:18,25 113:9 116:7,  9,16 120:14,25  Congress's [8] 8:8 43:14 58:18  59:8 64:14 75:16 81:12 120:5  congressional [1] 55:2  connected [1] 72:22  connection [4] 66:5,16 71:13 95:  3  conscious [1] 86:14  consciously [1] 86:11  consent [42] 46:14 47:6,17,18 48:  5,7,8,10 50:17 51:2,3 56:21 60:10  61:24 65:5,6,21,21,22,23 85:8,10,  11,22 86:8 88:3,4 89:18,22 90:1  108:21 109:1,4,9,12,13,16,20,23,  25 110:4 120:22  consented [3] 42:13 46:15 60:16  consenting [1] 85:20  consequences [2] 55:21 83:20  consider [1] 22:13  considerably [2] 25:21 90:17  considerations [2] 79:3 83:19  considered [2] 76:5 97:8  consistent [6] 44:22 58:4,4,24 60:  18 67:25  consistently [1] 66:25  consolidated [1] 4:6  Constitution [5] 27:16 73:14 74:9  83:1 84:20  constitutional [14] 8:11 18:17 32:  22 43:5,24 44:14 45:1 54:23 59:1  69:9 74:5 75:8 84:23 111:23  constitutionalizing [1] 38:4  constitutionally [4] 88:14 115:8  116:21 117:15  constrain [1] 10:23  constraining [1] 11:2  constraint [1] 10:15  constraints [1] 54:24  constructive [3] 60:13 88:3,4  contact [1] 95:7  contacts [34] 7:18,20 8:2,7,11,15  9:11 21:8 22:6,7,13,22 23:17,18  26:9 28:9 29:13 36:8,20 40:23 54:  4 56:22 57:4 65:8 66:4 67:23 87:6  95:8 113:14 115:18 116:3 118:14,  15,17  containing [1] 36:3  contains [1] 100:17  contend [1] 4:19  content [2] 25:3 102:19  contention [1] 110:17  contest [1] 29:25  contested [1] 29:23  context [33] 5:16 6:8,16 8:15 13:  10,16 14:8 15:1 28:21 36:21 50:  13 69:15 86:24 87:6 95:13,16 97:  19 101:17 102:20 104:19,24 105:  3 107:4 108:17,18,20,21 116:10,  18 117:6,7,13 119:21  continuation [1] 120:7  continue [3] 54:20 85:18 111:1  continues [1] 117:10  Continuing [1] 88:16  continuum [1] 120:3  contracts [1] 86:12  contrary [3] 63:10 107:25 108:8  control [1] 107:20  Convention [4] 37:18 39:17,18,19  conventions [2] 39:18,23  Cook [1] 9:1  core [3] 106:3 119:24 120:11  corollary [1] 119:11  Corp [1] 13:8  Corporation [2] 41:9,10  Correct [25] 10:3,6 13:4 19:13 27:  9,12,20 31:6 32:18 33:1,4 36:10,  11,15,16 66:17 68:17 70:9 73:15,  16,21 74:17 84:23 92:12 95:2  correctly [1] 91:7  couldn't [2] 41:16 70:7  counsel [13] 19:4 42:1 46:2 57:5  68:12 73:1,2 87:21 101:5,10 107:  2 112:5 121:2  counsel's [1] 118:14  Counselor [1] 92:10  count [5] 72:10,13 100:21 119:1  120:23  countries [2] 91:23 92:6  countries' [1] 56:5  country [2] 18:14 107:20  counts [1] 108:24  couple [2] 103:2 111:16  course [5] 34:23 41:23 60:5 89:6  117:12  COURT [97] 1:1,22 4:11 5:18 6:17  7:5 8:19,21,22 9:13 11:18 12:11,  12 13:14 15:14 17:17 18:5,14 20:  7,8 24:13 27:4 29:10 30:10,16,21  31:9 35:1 42:6 43:19 44:3,4,7 46:  25 49:6 50:7 51:2,9,24 52:5,5,7,  12 53:14 55:12,14 56:1,16 57:2  58:11 59:16 62:19 68:18 69:1 71:  15 74:7 76:21 79:17 80:9,10 83:9,  10 86:12 87:2,11,15 88:1,8 89:13  90:4 93:10 94:15 95:1 97:17 98:  10,20 99:8 104:2,7 105:10 106:17  109:18 110:3,7,15 111:12 112:11,  13 114:7,11 115:17 116:13,13,18  120:8,12,24  Court's [16] 5:19 19:13 26:23 38:  12 43:21 47:19 88:11,18 89:9 90:  6,14,19 92:3 94:22 97:18 113:19  courts [23] 5:11 7:16,19 11:23 12:  13,16,17 27:14 45:12,25 46:18 53:  20 55:12 62:16 73:24 74:12 75:9  91:8 96:25 110:17 111:6,6,9  covered [2] 91:2 106:22  create [1] 64:16  created [2] 67:4,6  creates [1] 81:24  creating [1] 93:16  crime [2] 96:18,19  criminal [1] 4:16  criminalize [2] 118:22,25  crossed [1] 77:5  crosses [2] 4:20 75:7  crossing [1] 74:5  Cruise [1] 86:9  custody [1] 97:10  CVSG [1] 90:25  D  D.C [4] 1:18 2:5,7 88:12  Daimler [3] 8:1 94:4 95:24  date [1] 19:13  day [1] 111:21  daylight [1] 81:24  days [1] 55:10  deal [5] 35:1 59:9 84:22 114:2,9  dealing [7] 14:20 95:21 96:10,11  97:5 101:5 113:21  deals [1] 115:24  debate [2] 17:18 111:20  debating [1] 105:20  decades [3] 44:21 105:23 120:3  decide [7] 53:9 58:11 69:4 87:12,  15 106:1 120:13  decided [2] 53:21 94:21  decision [7] 36:24 37:3 47:19 64:  4 90:5 92:3 110:23  decisions [1] 49:21  deem [1] 42:13  deemed [8] 5:10 45:24 46:15 60:  16 85:21 89:18,22 109:25  deeming [1] 85:24  deeply [2] 21:19 77:12  default [1] 90:23  defease [2] 27:11 52:2  defend [1] 21:16  defendant [5] 7:18,20 21:20 22:14  101:17  defendants [8] 5:13 6:3 22:17 29:  23 43:13 71:6 89:3 102:9  defendants' [3] 88:6,9 110:5  defending [1] 21:21  defense [1] 97:7  defer [2] 79:9 117:16  deference [11] 20:6 43:16 51:21  76:8,11 116:15,17 117:3,4,12 120:  16  deferential [1] 20:7  define [4] 94:24 96:20,21 99:16  definition [1] 96:6  degree [3] 116:15 117:3,3  Deirdre [1] 40:3  delta [1] 96:23  delve [1] 44:7  deny [1] 59:17  Department [3] 2:5 44:25 58:24  depends [1] 46:20  deprive [1] 43:18  Deputy [1] 2:4  deriving [1] 118:14  describe [1] 34:4  described [2] 17:23 58:3  describing [1] 47:17  deserve [1] 96:12  designated [1] 86:12  designed [1] 119:13  desperately [1] 77:23  details [1] 108:6  determine [2] 44:3,4  determined [1] 42:12  deterrence [1] 44:19  deterring [1] 42:24  developed [1] 95:1  development [1] 80:14  diaspora [1] 107:9  dictum [1] 99:9  differ [3] 6:11,24 54:6  difference [3] 10:12 30:9,11  different [34] 18:3 20:19 23:5,12  24:7,11 25:3 37:1 40:21 44:25 45:  4,6 46:1,12 47:6 48:4,21,23 53:4  54:9,11 56:9 61:19 65:5,6 68:11  69:14 80:25 84:17 96:6 113:22  114:2,16,17  differential [1] 106:2  differently [8] 26:11 34:16 36:14  102:2,9,24 103:5,11  Heritage Reporting Corporation  Sheet 3 components - differently Official - Subject to Final Review  125 differs [1] 57:20  difficult [6] 13:24 15:24 16:3,10,  21 65:2  diluting [1] 103:14  diplomacy [1] 107:8  diplomatic [1] 76:19  direct [5] 22:14 23:22,23 119:10,  10  directed [1] 22:17  directly [1] 107:15  disagree [3] 18:24 19:1 74:12  disagreed [1] 49:23  disagreeing [1] 63:23  discussing [3] 26:10 50:12 72:3  dismiss [1] 80:15  disputes [1] 99:18  dissent [1] 115:20  dissenting [2] 46:24 57:1  dissuade [1] 44:22  distinct [5] 34:14 43:7 61:25 95:5  104:1  distinction [2] 88:23 104:15  district [4] 11:18 15:14 110:22  115:23  disturb [1] 34:22  divested [2] 115:4,6  doctrinally [1] 96:4  doctrine [3] 103:13 104:19 109:11  doing [11] 4:17 18:23 27:4,4 30:7  61:7 75:11 77:24 111:21 116:7,8  domestic [4] 59:11 95:13 96:2  102:9  done [8] 12:13 33:22 51:10 52:19  65:14 83:24 85:19 113:14  doubt [2] 73:18 83:9  Douglass [1] 103:9  down [10] 13:25 33:16 83:15 84:9  100:20 108:6 111:6 114:7 116:15  118:3  draw [2] 71:8 90:13  drawn [1] 91:7  drive [1] 15:13  drives [1] 112:20  driving [2] 15:19,20  due [56] 4:17,21 8:7 10:9,15 11:20  13:9 16:25 17:16,19,22 18:13 19:  10 20:2,3 26:21 37:6,8,24 38:5,8  40:8,20 43:19 44:15 45:10,23 52:  15 59:14,19,23 83:22 84:6 88:4,  22 89:5 90:20,24 91:16,16 94:17,  24 97:20 98:12 99:17 100:14 102:  19 103:21 105:5,21,24 109:18  111:24 113:8 117:6,16  E  each [2] 6:15,16  earlier [8] 52:22 78:12 90:16 94:19  96:8 100:12 106:25 108:25  early [1] 27:4  easily [1] 81:8  East [2] 65:13 115:23  economy [2] 61:12 62:4  EDWIN [5] 2:4 3:7,14 42:3 118:8  effect [2] 37:3 97:2  efforts [2] 44:22,22  either [10] 74:9 81:22 82:18,24 83:  12 91:15 96:5 104:10 115:2 119:  19  either/or [1] 32:8  element [5] 47:22 74:18 75:22 80:  6 120:22  eliminate [1] 12:22  Ellsworth [1] 40:14  elsewhere [2] 89:19,22  embedded [1] 37:15  embrace [3] 36:8 58:9 81:10  eminently [1] 43:18  emphasis [1] 77:13  en [2] 46:24 115:21  enable [1] 87:16  encourage [1] 55:22  encouraging [1] 82:3  end [2] 64:20 112:2  ended [1] 68:13  ends [1] 24:3  engage [4] 5:9 45:22 88:16 107:8  engaged [2] 42:17 111:1  engagements [1] 43:8  engages [1] 20:8  engaging [1] 115:7  enough [15] 29:1,17,18 30:3,13,14,  24 31:5 53:10 62:8 69:3,12 71:13  87:2 94:23  enter [1] 11:16  entire [1] 22:25  entirely [3] 58:4 88:23 94:18  entities [6] 43:10 45:16 76:14,16  91:11 101:21  entitled [6] 43:16 90:24 91:16,18  105:21 120:15  entity [4] 23:23,25 44:5 69:17  Equal [3] 84:4 92:21 104:12  equally [2] 90:3 94:7  equation [1] 88:20  equivalence [1] 108:13  equivalent [1] 87:4  era [6] 8:20 38:13 39:3 59:6 97:22  99:3  erase [1] 40:8  especially [1] 55:10  ESQ [3] 3:3,7,11  ESQUIRE [2] 2:2,7  essentially [2] 35:14 100:18  establish [2] 5:4 86:22  established [1] 88:5  establishing [2] 66:14 73:24  ET [4] 1:3,7,14 32:23  Even [29] 8:20 9:6,11 10:10 13:16  22:6 32:25 33:1,2 41:4 48:23 53:  10 58:15 65:22 67:7 74:17 77:16  79:19,24,25 92:15 95:13 96:18 98:  12 101:11 102:5,19 114:5,11  everybody [1] 113:23  evidence [3] 38:25 39:4,12  exact [1] 88:17  exactly [4] 6:23 47:14 71:18 114:  18  examine [1] 80:4  example [16] 4:15 5:1 7:11,25 11:  15,24 12:10 15:5,8,10 34:10 40:2  61:11 84:2 96:13 101:14  exchange [3] 89:7 119:19 120:2  exclude [1] 96:7  excluded [1] 90:20  excludes [1] 111:23  exclusion [1] 112:9  exclusions [1] 100:18  exclusive [2] 92:8 107:19  exclusively [1] 106:21  excuse [2] 42:25 92:2  executive [8] 30:12 83:11 100:3  101:3 107:7,18 108:4,7  executive's [1] 107:4  exemplified [2] 103:8 106:5  exemplify [1] 96:13  exempts [1] 72:19  exercise [5] 65:16 76:17 83:23 91:  12 118:19  exist [3] 6:20 21:17 31:2  existing [2] 29:14 84:21  exists [1] 99:23  exorbitant [3] 46:23 47:11 96:1  expanding [1] 11:2  expansive [2] 7:14 8:9  expel [1] 45:19  explain [5] 22:22 41:9 63:15 64:22  90:9  exponential [1] 95:20  expressed [1] 49:13  expressive [1] 45:16  extend [1] 57:6  extending [2] 62:25 80:23  extent [11] 14:3 21:18 40:22 44:6  67:19 74:18 82:25 105:9 106:19  107:21 109:24  extra [1] 32:24  extra-legal [1] 111:20  extra-legally [2] 30:8 111:18  extraditing [1] 113:5  extraterritorial [7] 28:24 40:5,17  53:5 97:2,6 113:19  extremely [2] 55:2 106:18  F  faces [1] 7:9  fact [9] 37:16 39:9 41:13 71:12 80:  7 81:7 106:5 111:22 112:3  factors [3] 10:23 48:6 105:11  facts [5] 14:2 46:4,7 63:15 87:8  facts-and-circumstances [1]  111:7  factual [1] 62:12  fails [3] 88:3 89:5 92:13  fair [11] 5:13 6:2 14:24 23:19 25:4  42:12 43:18 46:23 47:10 75:18 85:  24  fairness [43] 11:4,11 12:24,25 13:  5 19:16 20:15,19,22 21:7,18 23:  15 25:2,6,22 26:6,15 29:12 36:3,7,  20 43:12 47:22 50:11 74:18 75:2  80:5 86:5 94:5 95:8,11,14,19 98:  11,14 103:20 116:2 118:13 119:4,  8,15,17 120:22  famously [2] 28:4 37:18  far [13] 13:14 21:16 47:10 55:13,20  64:14 76:10 83:17 103:17,25 104:  4 108:3 113:13  faraway [1] 21:21  farm [1] 12:3  farther [2] 64:16 79:7  feature [1] 9:7  February [1] 90:14  fed [1] 9:8  federal [31] 4:22 5:4,11,17 6:9,17  7:6,12,13 8:2,18,23 10:18 11:14  12:5,11 14:20 15:2 16:1,10 24:7  68:16 69:11,11 74:7 88:25 89:13  93:3,18 95:5 105:25  federalism [14] 6:18 9:8 13:11 14:  7 21:6 36:19 38:11 41:4 90:1 108:  16 109:1,3,8,19  Federalist [1] 39:24  few [1] 64:3  Fifteenth [1] 68:3  Fifth [83] 5:21,22 6:2,25 7:4,22 10:  10,15 11:7 14:4,8,10,16,22 16:6,7,  25 25:4 31:2 34:7,11,23 35:5,8,11,  13 36:9,13,21 37:1,9 40:7 48:21,  22,24 49:7 50:13,24 51:8,18 54:6  56:8 58:17 62:1 68:11,11,15 80:1  81:6 82:2 83:19 84:5 86:24 87:4,7  90:3,10 91:2,4 92:19,22 93:1,12,  18 94:2,6,11 96:5 97:19 98:11 99:  16 101:15 102:6,22 103:11,19  105:3 106:1 108:14,18 109:11  118:16 120:14  fighting [1] 119:24  filed [1] 90:15  final [1] 86:16  finally [1] 87:18  find [4] 20:21 61:16 92:20 120:1  finding [1] 113:5  fine [1] 63:11  finish [1] 107:1  Fiore [1] 24:4  first [12] 6:1 33:6 40:13 41:2 45:12  59:8 62:17 70:10 85:2 89:15 112:  12 118:12  fish [1] 114:2  fit [1] 93:6  fits [3] 58:15 67:23 96:19  five [4] 18:9 25:8 108:24 109:17  focus [3] 46:7 106:21 120:9  focused [1] 77:21  focusing [2] 13:7 100:11  follow [4] 27:19 29:11 49:6 78:7  following [1] 52:10  follows [1] 4:24  fondness [1] 99:5  font [1] 101:7  Footnote [1] 109:5  Force [1] 117:9  foreign [35] 16:18 19:18 20:9 42:8  43:11,13,16 50:7 55:1,3,21 69:17  73:8,13 74:13 75:3,12,22 76:16  78:17 79:3,8,12 80:22,23 82:24  Heritage Reporting Corporation  Sheet 4 differs - foreign Official - Subject to Final Review  126 91:19 93:22,24 101:17 102:8,8  104:10,11 117:11  foreigner [1] 10:12  foreigners [8] 95:12,21 96:1,7,10,  12 103:5 104:12  forget [1] 59:21  form [5] 18:12 19:15 108:4 114:13  116:3  forms [3] 42:19 85:12,13  forth [1] 73:14  forum [3] 95:3,3 110:14  found [2] 39:12 85:4  founders [4] 27:3 37:16 39:20 40:  4  founding [8] 17:16 38:24 39:3 96:  17 97:9 112:23,24 114:17  four [7] 35:9 44:21 105:23 111:11  117:8,8 120:3  Fourteenth [87] 6:12,14,19,23 7:2,  4,17 8:4,16 9:9,20 10:25 13:9 14:  6,19 19:9 21:2,5 25:2,25 28:20 29:  14 31:4 33:2 34:8,16,21 35:2,6 36:  2,15,18 37:24 40:20 47:20 48:2,3,  20 50:18 51:5 52:21 53:7,11 54:7,  10 58:16 60:9,19,22,23,25 61:18,  22,23 65:25 67:24 68:1,2 80:14  84:3 86:23 87:4 90:4,11 91:2,5 92:  11,14,20 94:7,12 96:5 101:12 102:  5,20,23 103:6,11 104:23 105:23  106:2 108:13,17 109:12 113:15  115:11,16  Fourth [1] 58:15  France [4] 11:16 15:13,19,21  free [2] 33:23 109:8  frequently [1] 37:16  friend [1] 52:22  friends [2] 98:1 104:18  frigate [1] 104:9  front [1] 66:14  FULD [2] 1:3 4:4  full [5] 58:12 81:21,21 114:5 115:4  full-bore [1] 78:15  full-throated [2] 36:5,6  fully [3] 63:6 81:22 82:1  function [1] 106:3  functions [1] 91:13  fundamental [13] 20:15,19,21 21:  18 25:1,6,22 26:6,15 29:12 50:11  98:14 103:20  fundamentally [1] 94:4  further [6] 19:5 31:21 53:24 97:19  117:20,24  future [1] 79:5  G  gave [4] 5:13 29:7 44:16 111:19  Gee [1] 75:10  General [7] 2:4 27:15 43:3 46:9  49:2 55:11,16  generally [1] 46:6  genuinely [1] 106:6  Georgia [1] 24:5  germane [1] 107:16  gets [3] 65:1 96:14 105:19  give [5] 25:3 70:20 81:13 96:13  114:5  given [6] 19:18,18 20:6 78:9 80:13  106:3  gives [3] 89:17 102:15 109:6  giving [1] 33:6  globe [1] 55:11  GORSUCH [81] 15:3 16:22 17:10,  21 18:2,7,19 20:1 23:11 24:24,25  25:7,11,13,16,18 26:3,8,25 27:6,  10,17,21 28:1,4,7,14,17 29:6,9,21  30:1,4,18,25 31:7,11,14,18,23 32:  1,5,9,11 48:14,17,19,24 49:5,12,  16,25 50:3,18,23 51:4,8,15 52:2,  16,18 53:1,15 54:8 66:12 70:4 71:  11 73:4 81:4 96:9 97:13 98:15,19,  24 99:2,12,18,21 108:23 111:16  117:24  Gorsuch's [1] 81:15  got [6] 24:25 47:10 70:4 97:15 106:  13 115:17  government [24] 4:15 5:1,6,16 6:  6,8 7:6,12 8:19 10:16 11:19 15:1,  5 35:21 79:20 82:12 91:9 93:1 95:  22 100:16,23 101:6 107:21 117:  10  government's [9] 4:22 6:9 7:13 8:  23 17:7 90:17 94:19 101:4 107:19  governmental [2] 76:17 91:12  governments [3] 7:8,8 8:17  grab [1] 47:9  grace [1] 30:12  grant [1] 92:15  granted [2] 89:19,21  grasping [1] 95:24  great [3] 43:16 76:8,11  grist [1] 112:12  grows [1] 8:15  guess [11] 9:21 17:11 21:23 23:10  69:6 73:23 79:11 94:1 103:1 108:  14 112:15  guidance [1] 101:7  H  haled [4] 12:6 13:14 26:18 45:11  Hamilton's [1] 39:24  hand [2] 51:17 80:15  handle [1] 57:17  hands [1] 40:14  happened [3] 12:5 38:24 39:14  hard [1] 15:25  harder [1] 53:6  hardly [1] 119:9  Hawaii [2] 10:22 12:6  head [1] 35:9  headquarters [1] 70:22  hear [2] 4:3 54:15  heard [8] 6:3 17:2 26:17 38:7 106:  16 108:25 112:11 113:13  hearing [1] 18:2  held [5] 59:13 87:12 88:13 110:20  115:7  help [2] 57:17 60:4  helpful [1] 54:14  helpfully [1] 111:19  helps [1] 96:13  highly [1] 12:2  himself [1] 109:7  hints [1] 17:7  historical [10] 25:23 49:7 74:10  81:8,11 93:17 101:13,24 104:5  112:16  historically [4] 49:1 51:18 75:8 81:  5  history [10] 27:1 81:16 101:22 102:  4,7,14,18,23 103:3 105:13  hits [1] 117:8  Hmm [2] 15:23 35:17  Ho's [1] 103:9  hoc [1] 93:8  hold [1] 71:15  Holder [1] 116:18  holds [1] 89:1  Honor [4] 41:21 98:6 100:12 101:  20  Honor's [2] 94:3 99:5  Honors [1] 89:25  horizontal [4] 6:18,22 38:11 41:3  house [2] 37:22 75:25  however [4] 4:19 7:3 11:22 109:  20  huge [2] 100:9,24  humanity [1] 96:19  hundred [2] 12:19 67:1  hypothetical [1] 10:5  I  Idaho [2] 12:3,3  idea [5] 13:8 14:5 38:10 41:3 84:3  identical [2] 68:3 109:16  identified [2] 48:6 89:21  II [1] 73:21  III [1] 73:23  illegal [1] 112:22  illegitimate [1] 15:5  imagine [2] 51:13 55:9  Immunities [1] 91:19  immunity [4] 49:19 70:5,8,11  imperatives [1] 43:11  imperil [1] 84:1  implicates [1] 106:8  implications [5] 55:1 78:17,18 82:  24 84:21  implied [1] 102:14  importance [1] 50:6  important [6] 48:13 80:12 105:13  106:18 107:2 119:4  impose [2] 60:12 108:1  imposed [5] 81:6 89:2 108:20 109:  4,25  imposes [2] 83:1 107:25  imposing [1] 8:21  impression [1] 116:6  improper [1] 51:10  incidents [1] 107:8  include [2] 11:11 72:10  included [1] 17:19  including [4] 42:10 43:7 96:9 113:  20  inconvenient [1] 115:21  incorporated [1] 112:23  incorporates [1] 103:20  incorporation [4] 103:13,18 104:  14,19  incorrect [1] 4:22  incrementally [1] 56:16  Indeed [3] 21:3 104:12 110:14  independent [1] 19:10  indicated [1] 8:6  indicates [1] 58:23  individual [6] 13:6 14:15 41:15 61:  13 96:25 102:25  individuals [6] 12:15 23:22,24  101:19,25 102:8  Information [3] 45:15,20 59:10  informative [1] 92:21  informs [1] 102:19  infringe [1] 7:10  injure [1] 57:11  injured [3] 16:14 42:16 119:6  injury [1] 15:19  instance [1] 62:17  instances [1] 51:25  institutional [1] 43:6  insufficient [4] 88:15,17 110:20  115:8  Insurance [3] 13:8 41:9,10  integral [1] 42:8  intent [1] 60:13  intentional [2] 23:4,6  interacts [1] 107:20  interest [16] 6:8 13:13 15:1,6 16:  10 68:17 69:11,11 93:3,5 94:9,11,  15 101:8 115:5,6  interested [2] 18:8,9  interesting [3] 16:21 35:18 66:22  interests [15] 5:16 7:5,7 11:1 24:  10 42:23 43:7 62:5 65:10,11 67:  15 75:12 94:8 95:5,6  interfere [1] 100:5  international [29] 13:16 26:7 27:7,  22 33:11,19,20,22,24 34:15,20 43:  8 48:11 49:24 52:3 63:8,11 67:2  77:2,10,13,17,17 83:4 93:22 95:  16 96:3 100:6 104:24  internationally [1] 83:3  interpret [2] 34:16 83:21  interpretation [1] 79:25  interpretations [1] 40:21  interpreted [1] 36:14  interpreting [1] 84:20  interrupt [1] 101:11  interstate [8] 9:8,8 11:1,6 13:11  19:11 36:19 108:15  intervening [1] 59:24  introduction [1] 51:21  inviting [1] 96:3  involve [2] 66:14 104:9  involved [2] 47:3 52:13  involving [1] 20:9  Ireland [3] 13:8 41:9,11  irrelevant [3] 70:6 71:24 72:2  Heritage Reporting Corporation  Sheet 5 foreign - irrelevant Official - Subject to Final Review  127 isn't [4] 14:5 41:14 62:12 69:3  isolation [1] 120:10  issue [12] 8:24 23:10,13,16 42:7  58:10 62:12 66:20 69:21 85:1 92:  5 113:18  issues [7] 19:19 43:14,15 61:4  104:1 113:20 117:9  itself [4] 44:2 48:3 72:9 89:15  J  JACKSON [34] 13:5,22 14:1 38:20,  21 39:5,11 40:18 41:8,12,18,24  81:2,3,23 82:7,11,17,20 83:13 84:  17 85:6,23 86:2,7,15,18 87:19  103:8 108:11 109:10,16,21 118:2  Jarkesy [1] 99:6  journey [1] 31:17  judge [6] 17:1 38:5 39:2 57:1 63:4  103:8  judges [1] 37:20  judgment [11] 5:17 8:8 43:14 57:  25 74:6,14 76:5,23 116:13,19 120:  15  judgments [3] 75:2 79:2 100:4  judicial [8] 44:4 57:7 74:4 77:1 97:  11 116:21,24 117:1  judiciary [3] 39:21 40:11,12  jurisdiction [117] 5:5,10,25 8:2 9:  15,16,17,24 11:3,17 12:10 14:5,9  15:14 28:22 29:16 30:14 37:23 38:  6 42:14 43:2,3,17 46:14,17,23 47:  23 49:20 52:9 53:16,18 55:3,11  57:7 58:19 60:8,8,17 61:7,17 62:  10 63:10 65:7,18 66:15 69:10 72:  6,9,14 77:14 79:8 80:19,24 84:25  85:3,17,20 86:11,23 87:1 88:5,8,  11,15,18,24 89:1,9,13 90:2 93:3,  19 94:5 95:25 96:1 97:10,16,18  100:22 101:14,16,19,25 102:4  103:22 105:4,14 106:4 108:20,21  109:2,4,5,9,20 110:4,7,21,24 111:  3 112:1,18 113:3,3 114:3,14,15  115:9,13 116:2,24 118:16,20 119:  2,9,12 120:18  jurisdiction-triggering [2] 42:20  46:21  jurisdictional [7] 8:7 27:13 32:24  46:3 97:7 117:6,16  jurisdictionally [1] 88:16  jurisprudence [10] 17:16 19:13  25:3 31:4 38:12 41:3 53:8 92:21  105:24 115:17  Justice [351] 2:5 4:3,10 5:20,24 6:  10,21 7:15 8:10 9:3,4,5,19 10:4,7,  21 11:25 12:23 13:2,5,12,22 14:1,  21 15:3,4,9,17 16:2,5,13,22 17:10,  21 18:2,7,19 19:3,5,6,7,14,21,25,  25 20:11,12,12,13,18,23,25 21:4,  13,23 22:4,20 23:9,11,21 24:22,23,  23,25 25:7,11,13,16,18 26:3,8,10,  25 27:6,10,17,18,21,24 28:1,4,7,  14,17 29:6,9,21 30:1,4,18,25 31:7,  11,14,18,23 32:1,5,9,11,13,13,15,  19 33:5,8,14,25 34:1,1,3,9 35:3,16,  23 36:1,12,17,23 37:8,11,21 38:14,  17,19,19,21 39:5,11 40:18,19 41:7,  8,12,18,24,25 42:5 43:22 44:24,24  45:6 46:2 47:8 48:14,17,19,24,25  49:5,12,13,16,21,25 50:3,18,23 51:  4,8,15 52:2,16,17,18 53:1,15 54:8,  12,13,21,22 55:14 56:10 57:13,15,  24 58:20,21,22,24 59:25,25 60:1  61:14 62:7,15,20 63:2,4 64:1,8,12,  15,18,19 65:1,17,19 66:8,9,9,11,  12,13,19,22 67:9,14,16,20,22 68:6,  9,10,14,21,24 69:6,18 70:2,4,13,  16,19,24 71:3,7,10,11,18,23 72:2,  15,21,24 73:3,3,4,5,6,11,17,25 74:  20,24 75:6,24 76:4,24 77:25 78:3,  4,4,6,7,9,11 79:1,2,19,24 81:1,1,3,  4,15,23 82:7,11,17,20,21,22 83:13  84:17 85:6,23 86:2,7,15,18,21 87:  19,20,25 90:7,12 91:1,22 92:1,10,  24 93:13 94:20 95:10,19 96:9 97:  3,13 98:15,19,24 99:2,8,12,18,21  100:1 101:10 102:3,16 103:8,16  104:6,13 105:17 108:4,10,11,22,  24 109:10,16,21 111:16 113:10,21,  25 114:8,11,18,21,25 115:12 116:  14,25 117:18,19,20,21,22,23,24,  25 118:1,2,5,6,11 121:1  Justice's [1] 81:24  K  KAGAN [29] 7:15 8:10 20:12,13,18,  23,25 21:4,23 22:4,20 23:9,21 24:  22 26:10 52:17 54:12,13,22 55:14  56:10 57:13 64:15 73:3 78:12 95:  10,19 113:10 117:23  Kagan's [2] 36:1 82:21  Kavanaugh [25] 32:14,15,19 33:5,  8,14,25 73:5,6,11,17,25 74:20,24  75:6,24 76:4,24 77:25 78:3,10 79:  2 100:1 108:4 117:25  Kavanaugh's [1] 78:7  keep [1] 34:19  keeps [2] 116:7,9  Kennedy's [1] 41:7  KENT [3] 2:2 3:3 4:8  kettle [1] 114:2  killed [3] 5:3 42:16 119:6  kills [1] 4:14  kind [10] 23:17 28:9,23 38:4 52:23  82:1 83:23 97:24 103:23 104:16  kinds [7] 8:21 26:19 41:14 83:20  84:10 95:21,23  KNEEDLER [116] 2:4 3:7,14 42:2,  3,5 43:22,25 45:3,9 46:11 47:16  48:15,17,18,22 49:4,10,13,18 50:1,  14,21,25 51:7,11 52:1,4,25 53:12,  19 54:15 55:4 56:3,12 57:14,16,  22 58:2,22 59:5 60:1,20 61:20 62:  14,18,21 63:21 64:7,10,13,25 65:3,  18 66:1,18,21 67:5,10,15,18 68:5,  7,18,23,25 69:13 70:1,10,14,17,22,  25 71:5,8,14,19,25 72:7,18,22 73:  10,16,22 74:16,22 75:5,15 76:3,12  77:7 78:2,6,21 79:14,23 80:2 81:  18 82:5,9,14,18 83:7 84:12,24 85:  21,25 86:4,8,17 87:10 106:17 111:  18 118:7,8,10  knowing [6] 5:14 42:20 46:21 85:  11,14,15  known [1] 105:16  L  lack [1] 69:20  laid [2] 65:4 100:20  language [1] 25:2  large [4] 45:13 95:14 100:17 106:  20  last [2] 44:20 52:18  later [1] 58:9  latitude [1] 76:21  Laughter [2] 25:17 45:8  law [33] 9:18 11:16 12:5 18:10 26:  22 27:7,11,15 30:3 33:11,19,21,23,  24 49:1,2,24 52:3 60:9,19 63:8,11  77:2,10,13,17 94:10 96:8 97:1  104:5 111:13,13 113:7  laws [5] 4:16 16:11 57:6 67:10 96:  24  lawsuits [3] 119:11,12 120:6  lawyers [1] 37:19  lays [1] 105:21  lead [3] 21:8 29:11 36:7  least [8] 6:17 28:10 36:24 59:20  87:16 91:7 93:9 100:8  left [3] 12:1,4 98:4  legal [5] 88:7 101:5 107:2 110:6  111:21  legislated [1] 16:19  legislative [3] 94:23 99:16 108:5  legislature [2] 39:22 101:3  legitimate [3] 5:16 6:7 14:25  less [4] 94:11 96:12 97:22 99:3  Lessee [6] 38:7 94:16,22 99:6,7,  15  level [1] 98:10  LIBERATION [3] 1:6,13 4:5  liberty [11] 13:7,13,19 14:11 41:15  94:8,9,11,14 115:5,6  lie [1] 25:15  light [1] 106:15  likes [1] 96:16  likewise [1] 114:14  limit [5] 16:20 45:21 60:11 83:2 93:  23  limitation [10] 6:15,19,22 7:13 14:  9 37:14 68:15 93:15,16,18  limitations [9] 5:21 7:9 8:17,18,21,  22 27:14 40:22 67:3  limited [8] 11:5 43:2,3 62:3 93:20,  21 101:19 118:20  limiting [3] 20:1 45:15 88:19  limits [7] 14:18 31:1 32:21,22,24  81:6,11  line [8] 4:20 34:9,14 36:23 74:5 77:  6 91:7 105:1  lines [2] 34:17 86:9  linked [1] 47:17  literal [1] 61:23  literally [1] 60:23  litigate [1] 114:22  litigated [3] 37:17,19 40:4  litigating [1] 107:13  little [9] 21:24 22:1,11 23:5 28:19  47:13 53:4,6 98:1  live [2] 12:1,20  locale [1] 21:21  Lochner [4] 8:20 38:13 97:22 99:2  long [6] 18:13 23:17 31:17 99:24  105:1 111:21  long-pending [1] 87:17  long-term [2] 43:9 44:17  look [17] 7:5,17,19 18:11 40:12 52:  12 56:23 61:18,22 63:3 93:2 101:  12 102:7 107:18 114:9 115:11,15  looked [3] 59:19 77:12 112:7  looking [4] 22:22 47:14 50:16 56:  21  looks [1] 7:7  lot [4] 29:15 39:10 96:8 120:24  lower [8] 24:13 53:20 62:15 73:24  91:8 98:20 111:6,9  lurking [1] 77:3  M  made [8] 32:7 42:15 63:5 100:5  106:17 110:10 119:5 120:15  maintain [1] 28:21  maintaining [3] 28:18 30:7,11  major [1] 75:21  Mallory [16] 41:21 47:19 53:2 61:5  86:6 89:6,6,10,25 90:2 98:6 101:  20 108:24 109:18 111:11 119:20  man's [2] 18:19,20  manner [1] 28:23  many [3] 4:12 7:16 39:12  markets [1] 89:8  Mask's [1] 40:3  matter [13] 1:21 12:14 16:15 39:9  45:21 58:13 81:9,11 105:11 107:6  109:1 111:22 112:10  matters [5] 92:4 102:4 103:3 107:  12 109:3  mean [39] 6:22 9:7 13:7 15:17 18:  21 21:23 23:20 27:6 28:2 35:7,25  38:24 46:5 47:9,12,13 51:19 53:  16 54:17 55:5 60:14,23 63:22 64:  6,10 67:6 71:1,15 74:24 79:1,9 80:  3 82:22 87:12 95:13 103:16,18  105:14 110:25  Meaning [10] 41:14 70:2 90:10 92:  24 96:15 105:12 106:22,23 107:  14 112:17  means [5] 16:8 63:19 100:25 101:  1 112:9  meant [2] 51:1 60:25  meet [4] 63:15,16 64:23 65:24  meeting [1] 72:12  meetings [1] 100:22  member [1] 18:21  members [4] 18:5 39:19 93:9 109:  17  Menashi [1] 57:1  Heritage Reporting Corporation  Sheet 6 isn't - Menashi Official - Subject to Final Review  128 mentioned [1] 112:14  merchant [1] 104:11  mere [1] 89:2  met [3] 13:3 22:16 64:22  methodologies [1] 84:18  methodology [2] 83:18 84:8  Middle [1] 65:13  might [29] 4:25 10:22 12:6,15 14:  15 55:12,15,24,25 57:17 58:13 65:  22 71:8 77:2,19 78:10,16,17,22  79:18 80:11,24 83:14 84:1,10,21  102:21,23 113:10  miles [1] 12:19  mill [1] 112:13  mind [2] 53:7 119:4  mindful [1] 86:19  minimum [33] 7:18,20 8:2,11,15,  15 9:10 21:8 22:6,7,13,22 23:16,  18 26:9 28:9 29:12 36:8,20 54:3  56:22 65:8 66:4 67:23 87:5 95:7,8  113:14 115:18 116:3 118:14,15,  17  minimum-contacts-type [1] 35:  12  minute [1] 108:5  minutes [1] 64:3  MIRIAM [1] 1:3  misses [1] 115:24  mission [1] 115:22  misspoke [1] 60:21  mistaken [1] 49:9  misunderstood [3] 9:21 78:11,14  MITCHELL [3] 2:7 3:11 87:23  modify [1] 8:13  moment [2] 66:12 101:2  morning [1] 4:4  most [1] 56:24  moving [3] 116:6,6,9  much [6] 24:20 38:18 61:9 66:23  67:2 77:13  Murray's [6] 38:7 94:16,22 99:5,7,  14  must [1] 110:5  N  Nabisco [2] 97:4 113:24  nailed [1] 33:16  name [1] 104:8  narrow [1] 5:11  narrower [2] 38:4 56:10  narrowly [2] 43:3 77:21  nation [1] 104:11  national [13] 19:19 20:9 42:9 43:  11,15 73:8,13 74:13 75:3,12,23  78:18 80:21  nationals [2] 42:22 55:3  nations [5] 27:8,15 49:2 55:22 77:  19  nationwide [4] 11:23 12:9,11 67:6  necessarily [1] 57:25  necessary [1] 103:25  need [13] 20:5 29:2,4 31:1 53:9,15,  17 54:10 93:8 98:7 104:3 111:24  113:4  needs [1] 110:3  neither [2] 91:20 110:8  Nevada [3] 24:3,6,21  never [10] 12:1,4 67:17,18,19,19  83:18 89:21 97:18 113:7  New [12] 2:2,2 10:17 12:1,1 93:8  98:7 110:3,22 111:3 114:22 115:  23  newer [1] 98:25  nexus [13] 42:21 47:1,4,12,22 56:  24 57:3,10 65:9,14 68:16 69:1  118:18  no-man's-land [1] 91:20  nobody [4] 13:23 96:16,17 112:24  non-arbitrariness [2] 20:14 23:  15  Non-arbitrary [1] 20:17  non-citizens [1] 11:13  non-enforcement [1] 30:13  non-position [2] 45:7 90:17  non-sovereign [1] 76:16  none [2] 117:4,7  nor [1] 91:21  noted [1] 114:1  notes [1] 97:4  nothing [2] 70:19 81:9  notice [8] 6:2 26:16 89:17 113:12,  23 114:4,10,13  notion [3] 13:10 14:9 115:4  nuanced [1] 44:19  Number [4] 39:24 55:7 100:17 108:  25  O  obligation [1] 113:12  observation [2] 94:3 113:20  observers [1] 70:17  obtain [1] 9:17  obviously [7] 16:19 34:7 48:3 54:  17 76:9 80:22 113:23  occur [1] 54:2  occurring [1] 66:3  occurs [2] 16:15 60:18  offense [1] 96:22  offered [1] 16:7  offers [1] 107:3  office [22] 28:18,22 29:16 45:15,20,  21 52:23 59:10 62:11,23,24 69:20,  24 71:20,20,21,25 72:11,20 101:4  107:1 111:17  offices [3] 30:8,12 62:22  official [1] 106:23  officials [1] 72:12  Ohio [1] 7:11  Okay [29] 21:23 25:13 26:8 28:7  32:11 33:5,8,10 36:12 37:11 38:  17 40:16 49:12 50:23 51:7 52:24  54:8 64:12 65:17 67:21 79:21 80:  3 92:16 93:25 100:21 101:16 102:  3 104:13 114:1  OLC [3] 107:15,17 112:14  old [4] 30:3 93:11 98:8,9  Omni [1] 9:14  once [2] 59:18 105:19  One [47] 11:1 15:18 18:19 22:12  34:4,5,18 37:12 51:13,17 55:5,5,9  60:15 64:2 65:4 69:3 70:4 78:14  79:7 82:5,7,12 83:13 86:15 90:19  92:4 95:2 96:13 99:18 100:9 101:  6,6 102:21,21 103:2,7 104:14,15,  24 107:3 109:24 112:19 116:1  119:8 120:2,21  one's [1] 95:11  ones [2] 49:21 75:2  ongoing [1] 75:20  only [14] 12:19 13:9 40:6 71:20 90:  18 92:4 99:1 100:11 107:12 108:  20 109:13 111:11 112:25 120:9  open [7] 30:13 84:1 100:9 105:7,9  106:20 112:8  opened [1] 106:11  opening [2] 28:23 101:4  operating [1] 111:17  opine [1] 31:1  opining [2] 94:21 99:9  opinion [9] 38:23 46:24 57:2 69:7  101:20 103:9 108:22,23 113:25  opinions [7] 98:20 101:5 107:2,15,  17 111:11 112:14  opportunity [6] 6:3 17:2 26:16 38:  7 81:14 113:13  opposed [2] 69:16,22  opposite [1] 88:17  oral [7] 1:22 3:2,6,10 4:8 42:3 87:  23  ORGANIZATION [4] 1:6,13 4:5  91:3  organizations [1] 58:25  original [5] 39:6,10 96:15 97:23  105:12  originalist [3] 82:1 83:23 84:8  originally [1] 99:23  other [31] 6:16 7:9 32:22 35:8 38:  25 46:6 47:20 49:19 52:9 55:22  56:4 62:4 64:16 65:12 66:23 74:5  75:7 77:19 80:17 81:25 83:24 84:  22 88:12 91:22 92:5,25 98:2 104:  14,18 106:16 111:16  others [2] 34:11 49:17  otherwise [4] 9:24 27:18 94:20  109:8  out [24] 8:16 11:7 30:22 36:2 40:19  41:21 48:25 57:5 64:15 65:4 76:  11 77:3 80:15 86:21 91:11 100:2  101:20 103:12,18 104:10,21 105:  21,23 107:22  outside [6] 37:17 54:2 66:3 67:12  69:16 110:10  over [8] 28:5 55:3 66:15 67:1 74:  10 88:15 97:11 120:8  overall [1] 120:23  overcoming [1] 9:23  overlay [2] 26:22 50:11  overly [1] 95:24  override [3] 9:12 33:12,23  overrule [1] 51:24  overruling [4] 35:7,15,19 36:22  overseas [1] 110:10  owe [1] 51:21  owed [3] 116:16 117:4,12  own [1] 10:16  oxymoron [1] 97:21  P  PA [17] 4:14 5:7 42:13 43:9 44:13,  23 46:15 70:18 88:14 89:11 90:9,  22 101:21 106:6 114:23 119:21  120:17  packed [1] 37:19  PAGE [6] 3:2 17:24 81:7 114:9,15  118:24  pages [2] 90:25 115:2  PALESTINE [6] 1:6,13 4:5 45:14  92:6 110:13  Palestinian [7] 43:23 76:15 101:6  107:9,10,21 117:10  Palestinians [2] 107:5,7  Pandora's [1] 106:12  panel [1] 31:21  parallel [4] 34:20 48:11 80:13 109:  11  parallelism [1] 109:14  paraphrase [1] 98:5  Paris [8] 11:16,18 15:8,10,13,15,  16 26:18  part [5] 47:24,25 56:20 69:19 119:  25  participation [1] 61:12  particular [12] 7:18 8:13 28:22 29:  16 44:5,9 46:4 52:12 76:21 77:19,  22 120:9  particularly [6] 19:18 20:6 49:21  76:14 80:13 119:10  parties [1] 57:18  passed [2] 11:15 79:6  passengers [1] 86:10  passes [3] 68:20 69:2 85:2  past [2] 93:25 105:19  Patterson [1] 40:15  pay [2] 5:2,2  payment [2] 69:22 110:13  payments [13] 5:2,8 28:15 42:15  53:25 54:2 57:10 66:2 110:10 117:  11 118:23 119:5,5  pedigree [1] 25:23  Pennoyer [5] 37:21 38:1,2,3,3  Pennsylvania [1] 89:7  people [2] 40:15 106:12  per [1] 73:19  perch [1] 75:14  perfectly [5] 40:16 46:7 77:8,8  111:10  perhaps [7] 47:6 56:6 97:25 98:24  106:25 108:10 118:17  period [1] 120:8  permissibility [1] 45:13  permission [2] 89:19,21  permit [2] 89:11,16  permitted [1] 89:8  person [8] 22:15 66:15 70:8 80:19  90:19 91:15,21 96:6  personal [28] 5:24 14:4,9 32:24  Heritage Reporting Corporation  Sheet 7 mentioned - personal Official - Subject to Final Review  129 37:23 42:14 52:9 61:16 62:10 66:  15 70:11 72:9,14 77:14 79:7 80:  18 84:25 85:2 86:22,25 97:10,15  103:22 105:4 114:3,11 115:13  119:11  persons [7] 6:5 42:16 57:12 90:10,  24 105:20 119:6  Petitioner [9] 1:11 2:6 3:8,15 42:4  57:21 78:15 91:23 118:9  Petitioners [5] 1:4 2:3 3:4 4:9 81:  25  Petitioners' [3] 68:12 73:1 112:5  Philadelphia [2] 37:18 39:17  pick [1] 34:15  picking [1] 13:13  Picquet [3] 98:12,18 114:6  PIO [1] 59:9  piracy [6] 96:18,21 97:14 112:22  113:1,2  pirate [1] 113:6  pirates [4] 96:16,16,23 112:20  place [4] 14:19 54:5,16 77:13  plain [1] 99:15  plainly [1] 57:9  plaintiff [1] 72:25  plaintiffs [6] 8:3 9:17 24:4 53:13  58:5 106:19  plaintiffs' [1] 57:5  play [4] 21:7 33:11 97:24 108:16  plays [1] 90:1  please [3] 4:11 42:6 88:1  pleased [2] 56:12 64:4  plenary [1] 80:7  plenty [1] 91:11  PLO [24] 4:14 5:7 42:13 43:8,23 44:  12,23 45:1,20 46:15 59:10 62:10  70:18 76:15 88:14 89:11 90:9,22  101:22 106:6 110:23 114:23 119:  22 120:17  PLO's [1] 115:22  plurality [2] 41:7 108:22  point [22] 19:1 48:13 56:19 64:2  68:10 70:4 72:3 79:5 81:16,24 82:  21,23 104:20,21 105:2,19 107:4,  17,19 115:10,24 120:2  pointed [8] 40:19 41:21 57:5 64:  15 67:1 86:21 100:2 101:20  pointing [2] 36:1 48:25  points [3] 103:2 111:16 118:10  policy [24] 19:19 20:10 42:8,9 43:  12,16 44:20 55:1,21 73:8,13 74:  13 75:4,12,22 78:17 79:3,9,12 80:  22,23 82:24 116:19 120:7  political [6] 10:23 27:22 42:9 50:9  51:22 100:4  position [16] 33:15 44:1,8,25 45:4,  4 57:20,23 59:15,23 74:19 78:23  81:14 90:18 108:8 112:6  positions [2] 57:18 59:4  possible [1] 83:16  post-enactment [2] 5:8,9  potential [1] 108:12  power [8] 6:9 35:20 39:21,21 69:9  76:18 80:7 100:19  powers [8] 7:14 8:23 16:18 64:14  73:20,21 109:7 118:19  practical [1] 12:14  practice [3] 74:10 77:18 101:13  precedent [14] 29:15 34:9,17,22,  24 35:6 90:19 94:22 98:16 99:7,  24 104:20 105:1,3  precedents [6] 17:22 26:23 33:3  52:21 84:22 98:21  precise [2] 47:14 56:17  precisely [1] 101:5  precluding [1] 86:25  predates [1] 34:8  predictable [3] 105:15 106:4,9  premise [1] 54:1  prescribe [2] 96:24 97:12  prescribes [1] 113:9  prescriptive [2] 88:24 113:2  presence [1] 72:4  present [4] 45:25 69:24 80:20 81:  21  presented [2] 49:22 99:11  president [19] 18:22 73:12 74:2,  14,21,23 75:1,11 77:4,8,16 79:4,6,  9 83:2 92:7 100:19 116:16 120:15  President's [1] 75:17  press [1] 22:1  presume [1] 63:7  presumption [4] 33:20 88:7,10  110:6  pretty [1] 67:1  previous [1] 94:10  previously [3] 88:13 110:20 115:7  prime [1] 34:10  principle [5] 9:23 74:11 75:8 76:8  88:19  principles [14] 13:6,10 14:11 58:  16,17 61:1,22,24 63:11 73:14 77:  2 97:20 98:14 108:15  prior [2] 59:12,22  probably [4] 65:6 76:25 86:10 95:  20  problem [9] 12:6 13:20 21:22 22:4  77:22 78:1 96:3 106:12 113:22  problematic [2] 75:19 83:6  problems [6] 12:15 56:4 60:4 64:  17 84:10,13  proceed [2] 30:15 56:15  proceeded [2] 55:6 67:11  proceeding [1] 44:4  process [62] 4:17,21 10:2,9,15 11:  20 13:9 16:25 17:16,19,22 18:13  19:10 20:2,3 26:21 32:23 37:6,8,  24 38:5,8 40:8,20 43:19 44:15 45:  10,23 52:15 59:14,19,23 67:6,7  71:16 83:22 84:6 88:4,22 89:5 90:  20,24 91:16,17 94:17,24 97:16,21  98:12 99:17 100:15 102:19 103:  21 105:5,21,24 109:19 111:25  113:8 114:15 117:6,16  Professor [4] 38:2,15,22 66:25  prohibit [1] 112:25  prohibited [1] 113:2  promise [1] 114:6  prong [16] 36:19,20,20 57:10 66:3  69:23,23 100:12 106:8,9,21 110:8  112:4 115:25,25 116:1  prongs [1] 115:18  proper [2] 73:15 77:1  propose [1] 34:12  proposed [3] 7:25 46:19 92:25  proposition [2] 63:24 81:10  prosecute [1] 4:15  protect [4] 35:21 94:8,14 119:13  protected [6] 53:23,23 91:4 116:  22,23 117:15  protection [11] 10:9 22:15,18 23:  24 24:6,9 84:4 90:24 93:4 106:2  117:17  protections [3] 14:14 91:17,18  protects [4] 6:5 11:12 72:10 94:9  provide [10] 5:22 8:8 14:24 52:9  55:8 58:19 80:18 105:15 106:4  113:12  provided [2] 8:17 12:9  provides [2] 70:14 106:1  providing [6] 5:7 8:1 16:13 43:17  72:9 85:2  provision [1] 69:21  provisions [1] 84:23  prudent [3] 52:6,11 53:13  PSJVTA [4] 88:2 89:5,15 110:8  public [1] 96:15  Punish [1] 96:20  punishment [1] 89:2  purely [2] 28:24 53:5  purport [1] 95:25  purported [1] 113:25  purports [1] 88:2  purpose [1] 101:23  purposeful [1] 22:24  purposes [5] 36:9 72:6,13 91:15  101:15  pursuant [2] 73:12,19  pursue [1] 29:18  put [3] 19:9 39:2 51:5  Q  question [44] 19:11 27:22 35:4,18,  24 40:6 44:1,2 45:23 46:1 47:17  52:18,22 54:2,9 59:16,19 62:8 64:  14 69:8,19 82:18 85:24 86:16 87:  12 88:25 89:10 99:10,21 100:10,  14,16 101:11 102:12,13,18 105:7,  9,25 106:20 111:20,25 112:8 116:  25  questions [12] 5:19 26:19 36:1 43:  21 78:8 80:5,21 89:24 90:6 100:  13 104:17 106:16  quickly [1] 111:15  quite [6] 34:8 35:24 37:16 95:15  99:24 105:1  R  raised [1] 103:8  Randolph [1] 40:10  rat [1] 39:17  rather [3] 26:13 61:2 95:5  ratification [2] 39:8,20  ratified [1] 37:7  ratifying [2] 39:18,23  rationale [1] 52:13  rationales [1] 85:4  reach [5] 69:8 84:7 97:6 100:15  111:24  reaching [1] 104:10  reaction [1] 77:18  reactions [1] 56:5  read [6] 38:1 70:5 81:5 86:25 96:4  106:7  reads [1] 38:2  really [20] 9:7 18:8 21:7 23:6,16 55:  15,20 57:23 58:13 61:15 62:22 63:  5,12 64:6,9 96:3 98:8 102:1 107:  18 119:20  realm [3] 109:12,17 110:1  reason [16] 21:11 35:22 71:13 72:  5 78:14,24 83:13,17 96:4 98:5  101:1,22 102:1 103:4 104:4 107:  12  reasonable [1] 26:17  reasonableness [6] 11:12 12:22  13:20 17:5 115:19,25  reasonably [4] 5:15 6:7 14:25 93:  4  reasons [3] 44:16 55:6 100:8  REBUTTAL [3] 3:13 118:6,8  reciprocal [10] 89:7 94:5 95:7,11  116:1 118:13 119:3,8,15,17  reciprocity [1] 95:15  recognize [4] 91:23 92:6,8 103:19  recognized [2] 90:20,22  recognizes [1] 91:10  recommending [2] 11:10 60:5  record [3] 30:20,21,23  recurring [2] 77:22,25  red [2] 4:20 106:15  reference [2] 16:1 84:25  referred [1] 114:14  reflects [2] 108:4 110:9  regardless [1] 60:17  regime [1] 60:13  regular [2] 114:10,10  regulated [1] 67:12  regulating [2] 16:11 73:18  rehearing [2] 46:24 115:21  reject [1] 49:3  rejected [1] 33:1  relate [1] 40:23  related [2] 5:12 81:15  relates [2] 87:8 93:4  relations [2] 50:7 76:19  relationship [6] 43:10 44:17 75:  20 76:18 119:23 120:4  relevant [4] 8:7 9:6 44:15 48:8  reliability [1] 105:22  reliable [2] 105:16 106:10  reluctant [5] 51:12 54:16,19 55:25  76:22  rely [1] 74:12  relying [2] 39:7 47:5  remains [3] 94:15 111:13 112:4  Heritage Reporting Corporation  Sheet 8 personal - remains Official - Subject to Final Review  130 remand [6] 31:21 53:24 62:18,20  107:13 112:10  removal [1] 14:14  rendering [1] 36:24  renditioning [1] 113:6  reorder [1] 106:13  rephrase [1] 64:2  report [1] 40:11  Representatives [1] 76:1  representing [1] 55:16  require [4] 17:22 74:8 80:16 116:  20  required [7] 21:15 63:17 79:17 87:  5 95:4 97:23 111:3  requirement [4] 12:24 17:5 35:12  69:2  requirements [1] 17:14  requires [8] 6:2 14:4 17:1 82:2 87:  8 88:6 94:5 113:8  requiring [1] 113:14  residents [1] 96:2  resolve [2] 35:1,4  resolved [2] 62:13 87:17  resources [1] 21:15  respect [24] 8:8 30:6 45:11 48:5  49:18 51:19 53:19 58:18 59:11,23  61:3,5,10,24 70:7,8 76:14 83:2 87:  5 98:25 99:1 109:13 118:12 119:3  respectfully [6] 90:13 95:19 108:  2 112:19 113:17 116:12  respecting [1] 63:8  respective [1] 57:18  respects [1] 57:19  Respondents [10] 1:8,15 2:8 3:12  43:19 59:14 87:24 91:23 118:23  120:19  response [5] 4:13 48:15 66:12 68:  13 82:22  restriction [1] 38:10  result [2] 55:1 90:2  resulting [2] 43:1 46:22  retaliate [1] 55:22  retaliation [1] 56:6  return [1] 89:8  reverse-incorporated [1] 84:5  reversed [1] 5:18  review [3] 20:8 74:4 112:12  rich [1] 101:7  riding [3] 94:20 99:8 104:6  rights [10] 4:18 11:20 43:24 44:14  45:2 59:1,15 103:14 107:11 116:  22  RJR [2] 97:4 113:24  road [2] 83:15 84:9  ROBERTS [23] 4:3 19:3 20:12 24:  23 32:13 34:1 38:19 41:25 46:2  47:8 54:21 57:15,24 58:20 59:25  66:9 73:3 78:4 81:1 87:20 117:19  118:6 121:1  role [10] 9:9 33:10 51:9,12,13 63:1  74:3 77:1 90:1 116:21  room [1] 40:15  rooted [2] 14:10 75:8  round [2] 59:12 90:16  route [1] 78:15  rubric [2] 50:16,19  rule [14] 7:24 11:10 12:17,22 49:7  56:1,11,13 73:15 79:21 98:7,8,9  99:10  rules [3] 52:10 105:16 106:4  runs [1] 76:11  S  Sachs [2] 38:2 66:25  Sachs's [2] 38:15,23  safety [1] 51:24  same [16] 7:3,6 21:9,12 26:15,16  41:5 51:23 52:21 55:23 84:23 88:  13 109:23 113:4 116:9 117:9  satisfied [1] 22:7  satisfies [1] 119:16  satisfy [1] 31:8  saw [2] 17:7 113:23  saying [21] 9:22,25 10:9 13:2 14:  16 17:3 20:1 22:8,10 26:10 47:24,  25 48:21 51:10 52:4 54:18 61:16  75:10 80:1 82:16 106:12  says [20] 8:12 14:6 27:18 54:17,23  56:1,2,11 63:9 64:4 70:20 94:23  99:15 105:22 107:6,18,23 109:6  111:25 117:10  scholars [1] 17:18  school [1] 30:3  scope [3] 39:13 42:25 83:22  sculp [1] 42:25  searching [2] 112:16,17  second [10] 11:4 33:2 59:13 68:3,  4 86:20 88:12 89:17 115:3,10  second-guess [1] 76:22  second-guessing [1] 100:3  secondary [1] 40:1  securing [1] 42:10  security [13] 19:19 20:9 42:9 43:  11,15 73:8,13 74:13 75:3,12,23  78:18 80:21  see [19] 7:17,20 15:25 16:10,23 17:  6,15 40:15 51:16 52:14 60:4,12  67:25 75:25 79:11 80:5 102:7 106:  15 115:2  seeded [2] 6:18 41:2  seem [3] 11:5 61:15 93:1  seems [9] 51:23 73:25 81:10 84:9  93:17 97:24 118:25 119:9,18  seen [1] 14:18  seize [1] 77:2  selectively [1] 115:5  Senate [2] 40:12 76:2  send [1] 87:6  sense [6] 93:12 95:14 119:18,18,  22 120:4  sensitive [3] 12:14 60:3 74:6  sensitivities [1] 44:9  sensitivity [2] 44:3 50:6  separately [4] 34:20 97:7 114:10,  15  served [1] 71:16  service [9] 9:17 10:1 17:1,17 32:  23 67:6,7 72:6 97:16  session [1] 40:13  set [3] 30:22 40:20 73:14  sets [1] 112:5  several [2] 89:25 118:10  shake [1] 35:9  share [1] 99:4  Sharpe [1] 84:3  shhh [1] 80:1  ship [1] 104:10  Shoe [5] 26:7 34:15,21 48:12 104:  25  Shoe's [1] 67:2  shouldn't [1] 75:9  shows [3] 81:17 88:21 111:13  shut [1] 114:7  side [4] 93:1 98:2 104:18 119:19  sides [1] 97:24  signed [1] 100:20  significance [1] 114:6  significant [1] 57:19  signs [1] 18:22  similarly [1] 102:6  simply [6] 5:2 9:25 31:3 61:17 94:  17 111:23  since [2] 113:1 119:10  sit [3] 114:7 116:15 118:3  sitting [1] 116:5  situation [9] 48:10 58:12 61:25 74:  1 79:16 80:9 86:2 93:8 104:15  situations [3] 41:14 45:18 80:17  slate [5] 103:4 104:22,25 105:10  106:10  slightly [1] 18:3  smaller [1] 5:6  so-called [1] 91:12  Sofaer [1] 39:2  Sokolow [2] 59:12 87:16  Solicitor [2] 2:4 55:16  solicitude [1] 104:12  solution [1] 29:20  somebody [2] 21:15 69:16  somehow [1] 77:5  someone [3] 55:11 97:1 109:6  someone's [1] 61:12  somewhat [2] 61:25 68:13  somewhere [2] 12:3 77:3  soon [1] 35:10  sorry [5] 47:4 48:18 52:19 54:12  86:18  sort [15] 12:23 13:7,13 17:4 23:13  28:19 51:13 55:23 56:11,25 58:6  68:15 81:12 83:18 98:5  SOTOMAYOR [48] 9:4 10:7,21 11:  25 12:23 13:2,12 19:7,14,21,25  20:11 21:14 66:10,11,19,22 67:9,  14,16,20 68:6,9,21,24 69:6,18 70:  2,13,16,19,24 71:3,7,10,18,23 72:  2,15,21,24 86:21 92:10,24 93:13  97:3 113:21 117:22  Sotomayor's [1] 113:25  sound [1] 115:12  sounds [1] 47:9  sources [4] 39:6,10,12 40:1  Southern [2] 110:22 115:23  sovereign [23] 22:15,25 23:23,25  24:2,10 35:20 44:5,6,7 49:19 57:6  90:22 91:9,11,17,19,21 92:1,6,9  100:19 110:11  sovereign-by-sovereign [2] 24:  18 41:6  sovereigns [2] 27:23 90:21  sovereignty [8] 4:23 7:11 13:11  24:17,19,20 41:19 108:16  speaking [3] 95:12 107:9,10  specific [1] 84:25  spent [2] 39:10 66:23  sphere [3] 4:23 24:2 80:20  spoken [6] 7:24 9:6 19:8,15 33:18,  18  square [2] 53:6 117:8  squarely [1] 105:2  squishier [2] 20:22,23  squishy [1] 21:1  stand [2] 76:12 84:13  standard [11] 20:7 41:5 61:19 63:  16 64:21,23 88:22 93:11 111:3,5,  12  standards [5] 48:2,20 60:24 86:24  93:9  starkly [1] 80:21  start [5] 60:6 94:3 97:20 99:22 103:  10  started [3] 51:20 73:9 76:8  starting [2] 83:21 84:9  state [31] 6:15 7:7,8,19 8:17 9:18  24:2,20 26:13 39:8 52:10 60:12,  14,25 61:2,4,6,8,13 62:3,5 65:23  89:9 91:1,9,17,21,24 92:9 95:6  102:25  statement [2] 67:17 79:18  statements [2] 63:4 66:24  STATES [81] 1:1,10,23 4:12 6:15  7:21 8:25 9:1,25 11:2 15:22 22:19  23:1 24:9,16,17,19 26:13 37:18  42:18,22,22 43:2 44:17,21 45:14,  17,19,22,25 46:17 47:2 48:4,4 54:  3,4 55:17,24 56:25 57:6,8,10,12,  20 60:24 61:2 62:1,5,11 65:9,10,  13 66:4,7,16 67:12 69:16 71:1,17  72:5 75:7,13 81:15 83:1 89:11,20  90:15,23 91:10 92:8 95:4 96:21,  22 101:9 102:24 103:15 110:12,  12,21 118:19,21  States' [1] 43:9  status [3] 43:8 44:11,14  statute [50] 5:13,15 6:7 8:1,5,13 9:  12 10:1,18 11:21 14:20,24 18:16  28:12 30:17,23 43:20 46:13 48:7  51:1 52:13 68:20 69:2 72:4,8,8,19  79:6 85:2,7,13 86:22 87:14 88:3  89:17 92:13 97:6 100:17 106:7  107:22 108:3 109:24 111:22,25  112:23 113:18,24 116:11 117:8  120:9  statutes [2] 116:8 120:5  statutory [2] 9:15,16  stay [1] 34:23  stayed [1] 67:2  Heritage Reporting Corporation  Sheet 9 remand - stayed Official - Subject to Final Review  131 step [4] 5:7 43:23 92:11 93:25  still [10] 7:24 14:8 33:3 44:14 74:3  95:6 103:19 105:7 114:1 116:5  stopping [1] 120:20  Story [14] 27:18,25 35:16 36:23 49:  13,21 63:4 64:20 66:13 94:20 104:  6 112:2 114:8,12  Story's [1] 34:10  straight-up [1] 29:13  Street [1] 13:25  stretches [1] 55:20  stretching [1] 103:17  strike [1] 77:1  strikes [1] 75:13  struggle [3] 93:14,15,16  struggling [4] 16:23 79:11 93:10  104:16  stuff [1] 98:25  subject [5] 11:17 15:14 109:7 118:  15 120:17  subjected [1] 55:10  subjection [1] 61:6  subjects [1] 72:5  submission [13] 5:10 43:1 46:22  88:7,11,21 89:4,9 110:6,9,14 111:  5,12  submit [6] 46:16,16 69:10 80:11  86:11 89:12  submitted [4] 45:24 111:2 121:3,5  submitting [1] 88:18  suboptimal [1] 29:20  subpoena [1] 12:18  substantive [10] 17:19,22 18:12  19:9 20:2 23:14 26:21 97:20 103:  21 105:4  substituting [1] 91:4  suffer [1] 7:12  suffice [1] 86:22  sufficient [6] 30:20,21 35:21 65:  15 69:14 116:2  sufficiently [1] 4:23  suggest [2] 71:6 74:11  suggested [1] 61:5  suggestion [1] 94:10  suggests [1] 113:11  suit [4] 15:21 29:3,18 30:15  suitability [1] 120:23  suits [3] 28:24 42:14 55:8  summons [1] 114:13  support [11] 88:6,10,15 89:4 90:4  110:5,21,24 112:1 115:8 116:2  supporting [2] 44:23 83:11  suppose [2] 60:14 87:10  supposed [2] 105:14,15  SUPREME [2] 1:1,22  surely [1] 45:19  survives [1] 53:10  sustain [2] 43:20 120:24  system [3] 5:17 6:17 15:2  T  tag [5] 101:13,16,18,25 102:4  Tait [1] 9:2  talked [2] 24:14 39:3  talks [1] 91:8  Taylor [1] 117:9  tells [3] 101:23 104:5 110:5  tension [4] 34:24 36:25 37:4 51:  16  term [1] 100:25  terms [9] 14:4 22:23 46:4,14 48:7  51:2 66:5 73:18 114:2  territorial [11] 6:14 14:17,18 37:14,  22 38:9,11 41:19 57:4 66:5 118:  20  territory [3] 24:15 42:22 60:3  terror [2] 4:13 5:2  terrorism [14] 5:12 42:11,17,24 43:  4 44:19,23 57:11 65:12 75:21 78:  1 119:7,14,24  terrorists [2] 5:3,8  test [46] 7:3,25 8:11,12,15 14:22  16:7,8 17:4 20:14,15,15,19 21:8,  25 22:7,13,16 23:17 25:23 26:6,9  28:9 46:9,20 50:15 56:21 63:19,  20 64:24 65:4,4,6 87:6 88:4 92:13  93:5 94:2,25 95:1,7,9 110:2,3 111:  8 118:17  tests [1] 92:25  Texas [5] 11:18 15:8,10,15 26:18  text [2] 30:23 74:9  textually [1] 75:7  themselves [1] 46:16  theory [9] 47:18 67:23 79:13 81:8  82:4 83:14 85:8 93:21,22  there's [52] 9:16 11:3 13:19,19,20  17:4,18 21:11 27:7 28:12 32:23  33:21 36:7 53:16,17 61:16 65:21  69:1 70:11 72:8 73:17 76:18 78:  24 81:9 84:10 90:18 91:19 92:4,  24 93:14,17,23 94:9 96:4,10,23  97:8,21 98:4 100:9 101:1,22,24  102:1 103:4 104:20 106:20 111:  19 112:8 113:12,20 120:1  therefore [2] 30:8 97:17  thereof [1] 69:20  they've [6] 29:25 77:5 85:18 100:4,  20,20  thinking [4] 8:24 84:19 95:17 101:  13  thinks [4] 18:22 99:9 104:24 120:  21  third [3] 77:23 89:20 120:6  THOMAS [17] 5:20,24 6:10,21 19:  5 43:22 44:24 45:6 58:21,22 90:7,  13 91:1,22 92:1 105:17 117:20  though [5] 48:15 65:22 85:9 96:18  113:11  threads [1] 17:15  three [2] 17:15 89:14  throw [2] 103:12 105:23  throwing [1] 103:18  tied [1] 119:18  tight [1] 14:17  today [3] 29:11 93:10 108:25  together [4] 74:3,15 77:4,5  Toland [5] 98:13,18 104:7 114:8,8  took [2] 5:6 36:25  tort [7] 8:5 16:15 23:6 60:15,17  112:23 113:18  tortiously [1] 16:14  torts [1] 23:4  toy [3] 97:25 98:3 99:25  tradition [3] 18:13 101:24 102:7  traditional [1] 115:16  traffic [1] 16:11  train [1] 116:4  train's [1] 116:5  translate [1] 95:16  travel [4] 4:25 8:4 21:16 24:8  traveled [1] 24:5  traveling [1] 14:15  travels [1] 24:9  treat [2] 55:22 102:1  treated [4] 35:11,13 36:2 103:5  treating [2] 102:8 103:10  trial [1] 12:18  tried [8] 9:12 10:18,21,22 11:20 55:  7 61:21 65:23  trigger [1] 72:16  triggering [2] 72:14,19  triggers [1] 72:16  trouble [1] 113:5  troubled [3] 55:12,15,17  true [9] 23:3 50:10 79:20,25 84:14  94:6,15 97:14 100:8  try [7] 77:24 96:22 97:14 111:15  113:6 120:1,6  trying [6] 14:3 16:8 25:19 60:2 85:  9 103:24  Tuesday [1] 1:19  turned [1] 111:5  two [13] 11:1 40:24,25 76:6 82:5  100:8 101:4 107:2,17 109:23 115:  17,25 119:23  type [1] 90:19  types [1] 88:13  U  U.N [13] 62:23 63:1 70:5,8,12,15  72:11,23 100:22 106:23 110:24  111:1 115:22  U.N.-related [2] 71:21 110:19  U.S [23] 5:9 10:11,12 11:22 12:10  22:17 24:7 42:23 45:11 55:12,23  65:12 69:15 70:6,20 71:13 72:12  93:24 100:23 110:14,23 112:3  119:1  ultimately [1] 91:14  unadjudicated [1] 112:4  unambiguous [1] 30:24  unanimity [3] 101:2 108:5,9  unconstitutional [4] 4:21 87:13  108:1 116:11  undefined [1] 100:24  under [54] 4:16,21 5:21 6:11,13,13  7:4,25 8:4 9:9,18 10:10 11:21 14:  16 16:25 19:8 29:14 31:2,3 33:2  42:14 47:20 48:2 50:16,16,18 51:  3,8 52:20 53:10,17,18 60:9 61:10  62:1,1 67:7 88:21 89:6 90:3 92:14  94:6,11,12 101:12 102:2,5,6 103:  6 106:7 113:15 118:16 119:13  120:14  underlay [1] 98:11  underlies [1] 95:8  understand [30] 14:1 16:2,8 18:  25,25 20:14,21 22:1 23:12 25:19  28:11 29:9 30:6 34:4,6,11,18 36:4  49:8 50:25 52:23 53:2 55:18 60:2  73:7 85:9,23 102:17 105:8 116:19  understanding [8] 21:25 37:22  39:14 40:9 49:11 77:11 97:9,23  understood [11] 16:24 32:15 49:1  51:18 64:5 69:20 82:17,20 99:23  105:25 118:23  unfair [2] 75:14 119:9  unfairly [2] 21:19,20  unfairness [4] 114:19,25 115:1  116:4  uniformly [1] 98:10  unintended [1] 83:20  uninterpreted [1] 108:3  unique [2] 43:9 76:18  UNITED [79] 1:1,10,23 4:12 7:21 8:  25,25 9:25 15:21 22:19 23:1 24:9,  15,17,19 26:12 37:17 42:18,21,22  43:1,9 44:17,21 45:14,17,19,22,25  46:17,17 47:1 48:4 54:3,4 55:17,  24 56:25 57:5,8,10,11,20 60:24  61:1 62:1,5,11 65:9,10,13 66:4,6,  16 67:12 69:16 71:1,17 72:5 75:6,  13 81:15 83:1 89:11,20 90:15,23  91:10 92:7 95:4 96:21,22 101:9  102:24 110:11,12,21 118:18,21  unless [3] 49:8 75:7 85:1  unlikely [1] 12:2  unpackage [1] 10:8  unravels [1] 108:9  unreasonably [1] 15:6  unresolved [1] 110:17  until [1] 91:10  up [13] 13:13 23:8 26:4 28:23 33:6  34:15 65:20 68:13 77:15 78:7 85:  1 94:17 114:7  upheld [1] 89:6  upside [1] 111:6  urge [2] 44:7 87:11  urged [2] 56:14 59:16  urging [1] 39:20  useful [2] 56:15 87:15  using [1] 97:20  V  valid [1] 69:5  valve [1] 51:24  variety [1] 92:25  various [1] 112:7  version [4] 18:3 19:16 23:18,20  versus [3] 4:4 84:3 110:23  victims [1] 42:11  victory [1] 29:18  view [18] 8:9 20:5 35:4,7,16 36:22  37:1 38:4,8 39:7 40:21 58:24 79:  16 95:13 107:3,4 108:1 112:12  viewed [1] 39:20  Heritage Reporting Corporation  Sheet 10 step - viewed Official - Subject to Final Review  132 views [2] 18:10 39:2  violate [3] 4:17 11:19 12:5  violated [2] 5:5 10:18  violates [1] 97:1  virtually [1] 120:16  voluntary [7] 5:15 42:21 46:22 47:  21 85:11,14,16  vote [2] 92:4,7  votes [3] 18:9,21 25:8  W  Wait [2] 15:9 52:7  waivable [2] 41:22,23  waive [1] 41:18  waiver [1] 41:13  Walden [1] 24:4  walks [1] 91:8  wanted [2] 56:19 70:7  wants [2] 64:5 77:23  warning [2] 5:14 14:24  Washington [3] 1:18 2:5,7  way [28] 7:6 22:13,21 24:16 34:4,6,  12,18 35:14 36:5,6 37:15 38:1,2  55:23 56:23 60:2 62:3,5 69:7 77:  14 81:22 82:19,24 94:2 95:17 103:  23 113:14  ways [2] 55:7 89:14  weigh [3] 43:6 74:19 77:16  weighing [1] 119:8  welcome [3] 5:19 43:21 90:6  well-positioned [1] 50:8  wend [1] 60:2  whatever [8] 63:16 64:5 71:12 77:  9,16 100:18 104:4,24  whatever's [1] 65:14  whatsoever [2] 10:10 66:16  Whereupon [1] 121:4  wherever [2] 4:24 24:8  whether [37] 7:17,20 17:19 26:17  29:24 44:4 46:20,22 52:14,14 53:  3,21,21 55:16 62:8,8 69:4,4,8 70:  3,5 80:5,6 81:16 93:2 104:6,7,7  105:20 107:22 111:21 112:16,17  117:1,2 120:1,21  whim [1] 10:17  whole [5] 49:17 95:4 101:23 113:  22 114:1  wide [1] 55:20  will [9] 4:3 5:10 12:16,19 69:3 94:  23 99:16 111:15 117:11  willing [2] 25:8,10  win [7] 19:22 20:5 33:3 92:22 109:  21 110:1 111:14  window [1] 103:12  withhold [1] 117:11  within [15] 6:8,16 22:15,18 23:24  24:5,15 29:24,25 30:23 37:23 41:  2 67:2,23 90:10  without [6] 21:15 63:17 69:10 75:  10 83:10 113:13  wonder [1] 83:16  wondering [3] 28:11 29:1 76:10  word [1] 46:13  worded [1] 46:13  words [2] 46:6 47:12  works [1] 53:3  world [5] 4:25 24:8 76:20 83:5,8  worldwide [1] 67:7  worms [1] 84:1  worried [2] 21:19 84:11  worth [1] 94:11  worthy [1] 98:25  wrap [2] 65:20,20  write [2] 69:7 106:10  writing [3] 103:4 104:21,25  written [4] 40:14 48:7 51:2 72:4  Y  YALOWITZ [104] 2:2 3:3 4:7,8,10  5:23 6:1,13 7:1,23 8:14 9:13 10:3,  6,20 11:9 12:8,25 13:4,17,23 14:  12,23 15:7,12,23 16:4,9,16,22 17:  9,15,25 18:4,11,24 19:12,17,23 20:  4,17,20,24 21:3,11 22:3,9 23:2,19  24:1 25:5,10,12,15 26:2,5,20 27:2,  9,12,20,24 28:2,5,13,16 29:4,7,19,  22 30:2,16,19 31:6,9,12,16,20,25  32:3,7,10,12,18 33:4,7,13,17 34:  25 35:17 36:11,16 37:2,10,12,25  38:16 39:1,9,15 40:24 41:10,17,  20  years [6] 27:5 59:21,24 67:1 74:10  111:4  York [8] 2:2,2 10:17 12:1,1 110:22  114:22 115:23  Youngstown [1] 74:1  yourself [4] 23:7,22,23 28:23  Z  Zivotofsky [1] 92:3  Heritage Reporting Corporation  Sheet 11 views - Zivotofsky\n",
      "Stored 832 chunks from 'uploaded_files/court_files_eng' into 'court_hearing'.\n"
     ]
    },
    {
     "name": "stderr",
     "output_type": "stream",
     "text": [
      "Evaluating: 100%|██████████| 250/250 [02:11<00:00,  1.91it/s]\n"
     ]
    },
    {
     "name": "stdout",
     "output_type": "stream",
     "text": [
      "Average values for each metric:\n",
      "faithfulness          0.900611\n",
      "answer_relevancy      0.784319\n",
      "context_precision     0.778056\n",
      "context_recall        0.965000\n",
      "answer_correctness    0.842043\n",
      "dtype: float64\n"
     ]
    }
   ],
   "source": [
    "\n",
    "folder_name=\"uploaded_files/court_files_eng\"\n",
    "collection_name=\"court_hearing\"\n",
    "persist_path = \"./vectorstore/test_data_rag\"\n",
    "\n",
    "reference_llm_provider = GenericProvider({\n",
    "    \"provider\":\"openai\",\n",
    "    \"model\": \"gpt-4o\",\n",
    "    \"temperature\": 0,\n",
    "    \"max_tokens\": 512\n",
    "})\n",
    "\n",
    "\n",
    "chroma_db = ChromaDBManager(\n",
    "        collection_name=collection_name,\n",
    "        persist_path=persist_path,\n",
    "        chunk_size=300,\n",
    "        chunk_overlap=50,\n",
    "        model_name=\"all-MiniLM-L6-v2\", \n",
    "        reset=True\n",
    "    )\n",
    "\n",
    "chroma_db.store_file(folder_name)\n",
    "stored_chunks = chroma_db.get_stored_chunks()\n",
    "questions, retrieved_chunks = await generate_questions(stored_chunks[:50], llm_question_generator, chroma_db)\n",
    "\n",
    "ground_truth_responses = await generate_ground_truth_responses(questions, retrieved_chunks, reference_llm_provider)\n",
    "\n",
    "ragas_data = await create_ragas_dataset(questions,\n",
    "                                        retrieved_chunks,\n",
    "                                        ground_truth_responses,\n",
    "                                        test_llm_provider)\n",
    "result = evaluate_rag(ragas_data)\n",
    "pd_results = result.to_pandas()\n",
    "pd_results.head()\n",
    "metric_averages = pd_results.select_dtypes(include=\"number\").mean()\n",
    "print(\"Average values for each metric:\")\n",
    "print(metric_averages)\n",
    "\n",
    "import pandas as pd\n",
    "\n",
    "data = {\n",
    "    \"question\": questions,\n",
    "    \"retrieved_chunks\": retrieved_chunks,\n",
    "    \"ground_truth\": ground_truth_responses,\n",
    "    \"ground_faithfulness\" : pd_results[\"faithfulness\"],\n",
    "    \"ground_answer_relevancy\":pd_results[\"answer_relevancy\"],\n",
    "    \"ground_context_precision\":pd_results[\"context_precision\"],\n",
    "    \"ground_context_recall\" :pd_results[\"context_recall\"],\n",
    "    \"ground_answer_correctness\":pd_results[\"answer_correctness\"]\n",
    "}\n",
    "\n",
    "df = pd.DataFrame(data)\n",
    "csv_file_path = \"./test_results/references_court_data.csv\"\n",
    "df.to_csv(csv_file_path, index=False)"
   ]
  },
  {
   "cell_type": "code",
   "execution_count": 7,
   "metadata": {},
   "outputs": [],
   "source": [
    "import pandas as pd\n",
    "reference_court_data = pd.read_csv(\"test_results/references_court_data.csv\")"
   ]
  },
  {
   "cell_type": "code",
   "execution_count": 4,
   "metadata": {},
   "outputs": [
    {
     "data": {
      "text/html": [
       "<div>\n",
       "<style scoped>\n",
       "    .dataframe tbody tr th:only-of-type {\n",
       "        vertical-align: middle;\n",
       "    }\n",
       "\n",
       "    .dataframe tbody tr th {\n",
       "        vertical-align: top;\n",
       "    }\n",
       "\n",
       "    .dataframe thead th {\n",
       "        text-align: right;\n",
       "    }\n",
       "</style>\n",
       "<table border=\"1\" class=\"dataframe\">\n",
       "  <thead>\n",
       "    <tr style=\"text-align: right;\">\n",
       "      <th></th>\n",
       "      <th>question</th>\n",
       "      <th>retrieved_chunks</th>\n",
       "      <th>ground_truth</th>\n",
       "      <th>ground_faithfulness</th>\n",
       "      <th>ground_answer_relevancy</th>\n",
       "      <th>ground_context_precision</th>\n",
       "      <th>ground_context_recall</th>\n",
       "      <th>ground_answer_correctness</th>\n",
       "    </tr>\n",
       "  </thead>\n",
       "  <tbody>\n",
       "    <tr>\n",
       "      <th>0</th>\n",
       "      <td>Who are the petitioners in the Supreme Court c...</td>\n",
       "      <td>['2    3  4    5    6    7    8    9    10   1...</td>\n",
       "      <td>The petitioners in Supreme Court case number 2...</td>\n",
       "      <td>1.0</td>\n",
       "      <td>1.000000</td>\n",
       "      <td>0.333333</td>\n",
       "      <td>1.000000</td>\n",
       "      <td>0.999636</td>\n",
       "    </tr>\n",
       "    <tr>\n",
       "      <th>1</th>\n",
       "      <td>What is the date and location of the event des...</td>\n",
       "      <td>['89:17 113:12,  23 114:4,10,13  notion [3] 13...</td>\n",
       "      <td>The context does not provide a specific date f...</td>\n",
       "      <td>0.4</td>\n",
       "      <td>0.835437</td>\n",
       "      <td>0.700000</td>\n",
       "      <td>0.666667</td>\n",
       "      <td>0.901023</td>\n",
       "    </tr>\n",
       "    <tr>\n",
       "      <th>2</th>\n",
       "      <td>What is the full name and contact information ...</td>\n",
       "      <td>['D.C.  Date: April 1, 2025  HERITAGE REPORTIN...</td>\n",
       "      <td>The official reporters are from Heritage Repor...</td>\n",
       "      <td>1.0</td>\n",
       "      <td>0.924126</td>\n",
       "      <td>1.000000</td>\n",
       "      <td>1.000000</td>\n",
       "      <td>0.998016</td>\n",
       "    </tr>\n",
       "    <tr>\n",
       "      <th>3</th>\n",
       "      <td>What is the document referring to in its content?</td>\n",
       "      <td>['a submission to the jurisdiction  of federal...</td>\n",
       "      <td>The document refers to legal considerations re...</td>\n",
       "      <td>1.0</td>\n",
       "      <td>0.832624</td>\n",
       "      <td>0.833333</td>\n",
       "      <td>1.000000</td>\n",
       "      <td>0.827045</td>\n",
       "    </tr>\n",
       "    <tr>\n",
       "      <th>4</th>\n",
       "      <td>What is the case number associated with the Un...</td>\n",
       "      <td>['- - - - - - - - - - - - - - - - - - - - - - ...</td>\n",
       "      <td>The case number associated with the United Sta...</td>\n",
       "      <td>0.0</td>\n",
       "      <td>0.995916</td>\n",
       "      <td>0.583333</td>\n",
       "      <td>1.000000</td>\n",
       "      <td>0.996386</td>\n",
       "    </tr>\n",
       "  </tbody>\n",
       "</table>\n",
       "</div>"
      ],
      "text/plain": [
       "                                            question  \\\n",
       "0  Who are the petitioners in the Supreme Court c...   \n",
       "1  What is the date and location of the event des...   \n",
       "2  What is the full name and contact information ...   \n",
       "3  What is the document referring to in its content?   \n",
       "4  What is the case number associated with the Un...   \n",
       "\n",
       "                                    retrieved_chunks  \\\n",
       "0  ['2    3  4    5    6    7    8    9    10   1...   \n",
       "1  ['89:17 113:12,  23 114:4,10,13  notion [3] 13...   \n",
       "2  ['D.C.  Date: April 1, 2025  HERITAGE REPORTIN...   \n",
       "3  ['a submission to the jurisdiction  of federal...   \n",
       "4  ['- - - - - - - - - - - - - - - - - - - - - - ...   \n",
       "\n",
       "                                        ground_truth  ground_faithfulness  \\\n",
       "0  The petitioners in Supreme Court case number 2...                  1.0   \n",
       "1  The context does not provide a specific date f...                  0.4   \n",
       "2  The official reporters are from Heritage Repor...                  1.0   \n",
       "3  The document refers to legal considerations re...                  1.0   \n",
       "4  The case number associated with the United Sta...                  0.0   \n",
       "\n",
       "   ground_answer_relevancy  ground_context_precision  ground_context_recall  \\\n",
       "0                 1.000000                  0.333333               1.000000   \n",
       "1                 0.835437                  0.700000               0.666667   \n",
       "2                 0.924126                  1.000000               1.000000   \n",
       "3                 0.832624                  0.833333               1.000000   \n",
       "4                 0.995916                  0.583333               1.000000   \n",
       "\n",
       "   ground_answer_correctness  \n",
       "0                   0.999636  \n",
       "1                   0.901023  \n",
       "2                   0.998016  \n",
       "3                   0.827045  \n",
       "4                   0.996386  "
      ]
     },
     "execution_count": 4,
     "metadata": {},
     "output_type": "execute_result"
    }
   ],
   "source": [
    "reference_court_data.head()"
   ]
  },
  {
   "cell_type": "markdown",
   "metadata": {},
   "source": [
    "### Test on LLama"
   ]
  },
  {
   "cell_type": "code",
   "execution_count": null,
   "metadata": {},
   "outputs": [],
   "source": [
    "questions = reference_court_data[\"question\"]\n",
    "retrieved_chunks = reference_court_data[\"retrieved_chunks\"]\n",
    "reference_answer = reference_court_data[\"ground_truth\"]\n",
    "\n",
    "test_llm_provider = GenericProvider({\n",
    "    \"provider\":\"llama\",\n",
    "    \"model\": \"llama3.2\",\n",
    "    \"temperature\": 0,\n",
    "    \"max_tokens\": 512\n",
    "})\n",
    "\n",
    "ragas_data = await create_ragas_dataset(questions,\n",
    "                                        retrieved_chunks,\n",
    "                                        ground_truth_responses,\n",
    "                                        test_llm_provider)\n"
   ]
  },
  {
   "cell_type": "code",
   "execution_count": 61,
   "metadata": {},
   "outputs": [
    {
     "name": "stderr",
     "output_type": "stream",
     "text": [
      "Map (num_proc=4): 100%|██████████| 50/50 [00:00<00:00, 218.79 examples/s]"
     ]
    },
    {
     "name": "stdout",
     "output_type": "stream",
     "text": [
      "['[\\'2    3  4    5    6    7    8    9    10   11   12   13   14   15   16   17 18 19 20 21 22 23 24 25 3 Official - Subject to Final Review  C O N T E N T S  ORAL ARGUMENT OF:             PAGE:  KENT A. YALOWITZ, ESQ.  On behalf of the Petitioners  in Case 24-20  4  ORAL ARGUMENT OF:  EDWIN S.\\', \\'EDWIN S. KNEEDLER, Deputy Solicitor General,      Department of Justice, Washington, D.C.; on behalf  of the Petitioner in Case 24-151.  MITCHELL R. BERGER, ESQUIRE, Washington, D.C.; on  behalf of the Respondents.  Heritage Reporting Corporation 1    2    3  4    5    6    7    8    9    10   11\\', \\'- - - - - - - - - - - - - - - - - - - - - - - - - - - - - - - - - - - - - - - - - - - - - - - - - - - - - - SUPREME COURT  OF THE UNITED STATES  IN THE SUPREME COURT OF THE UNITED STATES  MIRIAM FULD, ET AL.,              )  Petitioners,  )  v. ) No. 24-20  PALESTINE LIBERATION ORGANIZATION, )  ET\\', \\'2    3    4    5    6    7    8  9  10   11   12   13 14   15   16   17   18   19   20   21   22  23   24   25   42 Official - Subject to Final Review   counsel.  Mr. Kneedler.  ORAL ARGUMENT OF EDWIN S. KNEEDLER  ON BEHALF OF THE PETITIONER IN CASE 24-151  MR. KNEEDLER:  Mr. Chief Justice, and\\', \"get a handle on the  positions of the respective parties if you could  tell me in what significant respects the  position of the United States differs from that  of Petitioner.  MR. KNEEDLER:  I -- I don\\'t think  the -- I don\\'t think the position really -- CHIEF JUSTICE ROBERTS: Not  necessarily\"]', '[\\'89:17 113:12,  23 114:4,10,13  notion [3] 13:10 14:9 115:4  nuanced [1] 44:19  Number [4] 39:24 55:7 100:17 108:  25  O  obligation [1] 113:12  observation [2] 94:3 113:20  observers [1] 70:17  obtain [1] 9:17  obviously [7] 16:19 34:7 48:3 54:  17 76:9 80:22 113:23  occur [1] 54:2  occurring [1]\\', \"13:14 26:18 45:11  Hamilton\\'s [1] 39:24  hand [2] 51:17 80:15  handle [1] 57:17  hands [1] 40:14  happened [3] 12:5 38:24 39:14  hard [1] 15:25  harder [1] 53:6  hardly [1] 119:9  Hawaii [2] 10:22 12:6  head [1] 35:9  headquarters [1] 70:22  hear [2] 4:3 54:15  heard [8] 6:3 17:2 26:17 38:7 106:\", \\'90:2 93:3,  19 94:5 95:25 96:1 97:10,16,18  100:22 101:14,16,19,25 102:4  103:22 105:4,14 106:4 108:20,21  109:2,4,5,9,20 110:4,7,21,24 111:  3 112:1,18 113:3,3 114:3,14,15  115:9,13 116:2,24 118:16,20 119:  2,9,12 120:18  jurisdiction-triggering [2] 42:20  46:21  jurisdictional [7] 8:7 27:13 32:24\\', \\'63:22 64:  6,10 67:6 71:1,15 74:24 79:1,9 80:  3 82:22 87:12 95:13 103:16,18  105:14 110:25  Meaning [10] 41:14 70:2 90:10 92:  24 96:15 105:12 106:22,23 107:  14 112:17  means [5] 16:8 63:19 100:25 101:  1 112:9  meant [2] 51:1 60:25  meet [4] 63:15,16 64:23 65:24  meeting [1] 72:12  meetings [1]\\', \"you -- you  found no evidence?  How -- how many sources?  What -- what is the scope here of our  understanding of what actually happened then?  MR. YALOWITZ:  I -- I -- I think -- I -- it\\'s -- it\\'s very clear that at the  convention and at the rat --the Philadelphia  Convention and at the ratifying\"]', '[\\'D.C.  Date: April 1, 2025  HERITAGE REPORTING CORPORATION  Official Reporters  1150 Connecticut Avenue, N.W., Suite 305  Washington, D.C.  20036  (202) 628-4888  www.hrccourtreporters.com 1    2    3    4    5    6    7    8    9    10   11               12               13   14   15\\', \"is the office -- the  U.N.-related office. The allegations are  that -- JUSTICE SOTOMAYOR:  But that\\'s  irrelevant to -- MR. KNEEDLER:  -- that that office was  Heritage Reporting Corporation 1    2    3    4  5  6  7   8    9    10  11  12   13   14   15   16   17  18   19   20   21   22   23\", \\'111:17  offices [3] 30:8,12 62:22  official [1] 106:23  officials [1] 72:12  Ohio [1] 7:11  Okay [29] 21:23 25:13 26:8 28:7  32:11 33:5,8,10 36:12 37:11 38:  17 40:16 49:12 50:23 51:7 52:24  54:8 64:12 65:17 67:21 79:21 80:  3 92:16 93:25 100:21 101:16 102:  3 104:13 114:1  OLC [3] 107:15,17 112:14\\', \\'to overrule some  instances in which Congress does speak -- Heritage Reporting Corporation 1    2    3    4    5    6    7    8    9  10   11   12   13   14   15   16   17   18   19   20   21   22   23   24   25   52 Official - Subject to Final Review  MR. KNEEDLER:  Well, I -- JUSTICE GORSUCH:\\', \\'Reporting Corporation 1    2    3    4    5    6 7 8 9 10 11 12 13 14 15 16 17 18 19 20 21 22 23 24 25 121 Official - Subject to Final Review             CHIEF JUSTICE ROBERTS: Thank you,  counsel.  The case is submitted.  (Whereupon, at 11:58 a.m., the case  was submitted.)  Heritage Reporting\\']', '[\\'a submission to the jurisdiction  of federal courts in a narrow class of cases  closely related to terrorism.  The statute gave the defendants fair  warning.  Their conduct was knowing and  voluntary.  The statute reasonably advances  legitimate government interests in the context  of our federal\\', \\'in terms of, like,  something like purposeful availment of the  sovereign.  So, here, that would be the entire  Heritage Reporting Corporation 1    2    3    4    5  6  7    8    9    10   11   12   13   14   15   16  17   18   19   20   21   22  23   24   25   23 Official - Subject to Final Review\\', \\'Amendment  standards apply in the Fifth Amendment context,  and they read those as precluding personal  Heritage Reporting Corporation 1    2    3  4    5  6    7    8 9    10   11   12   13   14   15  16   17   18   19   20   21   22   23   24               25   87 Official - Subject to Final\\', \"17   18   19   20   21   22   23   24  25  101  Official - Subject to Final Review  the reason we know that it means that there\\'s  not at the moment unanimity between the  legislature and the executive is the  government\\'s opening brief cites two Office of  Legal Counsel opinions dealing\", \\'Reporting Corporation  Sheet 8 personal - remains Official - Subject to Final Review  130 remand [6] 31:21 53:24 62:18,20  107:13 112:10  removal [1] 14:14  rendering [1] 36:24  renditioning [1] 113:6  reorder [1] 106:13  rephrase [1] 64:2  report [1] 40:11  Representatives [1] 76:1  representing\\']', \"['- - - - - - - - - - - - - - - - - - - - - - - - - - - - - - - - - - - - - - - - - - - - - - - - - - - - - - SUPREME COURT  OF THE UNITED STATES  IN THE SUPREME COURT OF THE UNITED STATES  MIRIAM FULD, ET AL.,              )  Petitioners,  )  v. ) No. 24-20  PALESTINE LIBERATION ORGANIZATION, )  ET', 'Final Review  IN THE SUPREME COURT OF THE UNITED STATES  MIRIAM FULD, ET AL.,             )  Petitioners,  )  v. ) No. 24-20  PALESTINE LIBERATION ORGANIZATION, )  ET AL.,         )  Respondents.  )  UNITED STATES,  )  Petitioner,  )  v. ) No. 24-151  PALESTINE LIBERATION ORGANIZATION, )  ET AL.,', '24-20  PALESTINE LIBERATION ORGANIZATION, )  ET AL.,          )  Respondents.  )  UNITED STATES,   )  Petitioner,  )  v. ) No. 24 -151  PALESTINE LIBERATION ORGANIZATION, )  ET AL.,          )  Respondents.  )  Pages: 1 through 121  Place: Washington, D.C.  Date: April 1, 2025  HERITAGE REPORTING', 'PALESTINE LIBERATION ORGANIZATION, )  ET AL.,         )  Respondents.  )   Washington, D.C.  Tuesday, April 1, 2025  The above-entitled matter came on for  oral argument before the Supreme Court of the  United States at 10:04 a.m.  Heritage Reporting Corporation 1    2  3    4    5    6    7  8', 'R O C E E D I N G S  (10:04 a.m.)  CHIEF JUSTICE ROBERTS: We will hear  argument this morning in Case 24-20, Fuld versus  Palestine Liberation Organization, and the  consolidated case.  Mr. Yalowitz.  ORAL ARGUMENT OF KENT A. YALOWITZ  ON BEHALF OF THE PETITIONERS IN CASE 24-20  MR. YALOWITZ:  Mr.']\"]\n"
     ]
    },
    {
     "name": "stderr",
     "output_type": "stream",
     "text": [
      "\n"
     ]
    }
   ],
   "source": [
    "import ast\n",
    "\n",
    "ragas_data2 = ragas_data.map(lambda example: \n",
    "                            {'contexts': ast.literal_eval(example['contexts'])}, \n",
    "                            num_proc=4) \n",
    "print(ragas_data['contexts'][:5])\n"
   ]
  },
  {
   "cell_type": "code",
   "execution_count": 62,
   "metadata": {},
   "outputs": [
    {
     "name": "stderr",
     "output_type": "stream",
     "text": [
      "Evaluating: 100%|██████████| 250/250 [03:22<00:00,  1.24it/s]\n"
     ]
    }
   ],
   "source": [
    "result = evaluate_rag(ragas_data2)"
   ]
  },
  {
   "cell_type": "code",
   "execution_count": 64,
   "metadata": {},
   "outputs": [
    {
     "name": "stdout",
     "output_type": "stream",
     "text": [
      "Average values for each metric:\n",
      "faithfulness          0.354518\n",
      "answer_relevancy      0.261337\n",
      "context_precision     0.786611\n",
      "context_recall        0.965000\n",
      "answer_correctness    0.332513\n",
      "dtype: float64\n"
     ]
    }
   ],
   "source": [
    "pd_results = result.to_pandas()\n",
    "pd_results.head()\n",
    "metric_averages = pd_results.select_dtypes(include=\"number\").mean()\n",
    "print(\"Average values for each metric:\")\n",
    "print(metric_averages)\n",
    "\n",
    "test_result_data = {\n",
    "    \"test_answer\" : ragas_data[\"answer\"],\n",
    "    \"test_faithfulness\" : pd_results[\"faithfulness\"],\n",
    "    \"test_answer_relevancy\":pd_results[\"answer_relevancy\"],\n",
    "    \"test_context_precision\":pd_results[\"context_precision\"],\n",
    "    \"test_context_recall\" :pd_results[\"context_recall\"],\n",
    "    \"test_answer_correctness\":pd_results[\"answer_correctness\"]\n",
    "}\n",
    "\n",
    "test_result_data_df = pd.DataFrame(test_result_data)\n",
    "test_result_data_df = pd.concat([reference_court_data, test_result_data_df], ignore_index=True)\n",
    "csv_file_path = \"./test_results/llama_court_data.csv\"\n",
    "test_result_data_df.to_csv(csv_file_path, index=False)"
   ]
  },
  {
   "cell_type": "markdown",
   "metadata": {},
   "source": [
    "### Test on Mistral"
   ]
  },
  {
   "cell_type": "code",
   "execution_count": 11,
   "metadata": {},
   "outputs": [
    {
     "name": "stderr",
     "output_type": "stream",
     "text": [
      "Map (num_proc=4): 100%|██████████| 50/50 [00:00<00:00, 286.23 examples/s]\n",
      "Evaluating: 100%|██████████| 250/250 [02:30<00:00,  1.66it/s]\n"
     ]
    },
    {
     "name": "stdout",
     "output_type": "stream",
     "text": [
      "Average values for each metric:\n",
      "faithfulness          0.321894\n",
      "answer_relevancy      0.334140\n",
      "context_precision     0.808944\n",
      "context_recall        0.970000\n",
      "answer_correctness    0.414264\n",
      "dtype: float64\n"
     ]
    }
   ],
   "source": [
    "from providers.generic_provider import GenericProvider\n",
    "questions = reference_court_data[\"question\"]\n",
    "retrieved_chunks = reference_court_data[\"retrieved_chunks\"]\n",
    "reference_answer = reference_court_data[\"ground_truth\"]\n",
    "\n",
    "test_llm_provider = GenericProvider({\n",
    "    \"provider\":\"mistral\",\n",
    "    \"model\": \"mistral\",\n",
    "    \"temperature\": 0,\n",
    "    \"max_tokens\": 512\n",
    "})\n",
    "\n",
    "ragas_data = await create_ragas_dataset(questions,\n",
    "                                        retrieved_chunks,\n",
    "                                        reference_answer,\n",
    "                                        test_llm_provider)\n",
    "\n",
    "import ast\n",
    "\n",
    "ragas_data2 = ragas_data.map(lambda example: \n",
    "                            {'contexts': ast.literal_eval(example['contexts'])}, \n",
    "                            num_proc=4) \n",
    "\n",
    "result = evaluate_rag(ragas_data2)\n",
    "\n",
    "pd_results = result.to_pandas()\n",
    "pd_results.head()\n",
    "metric_averages = pd_results.select_dtypes(include=\"number\").mean()\n",
    "print(\"Average values for each metric:\")\n",
    "print(metric_averages)\n",
    "\n",
    "test_result_data = {\n",
    "    \"test_answer\" : ragas_data[\"answer\"],\n",
    "    \"test_faithfulness\" : pd_results[\"faithfulness\"],\n",
    "    \"test_answer_relevancy\":pd_results[\"answer_relevancy\"],\n",
    "    \"test_context_precision\":pd_results[\"context_precision\"],\n",
    "    \"test_context_recall\" :pd_results[\"context_recall\"],\n",
    "    \"test_answer_correctness\":pd_results[\"answer_correctness\"]\n",
    "}\n",
    "\n",
    "test_result_data_df = pd.DataFrame(test_result_data)\n",
    "test_result_data_df = pd.concat([reference_court_data, test_result_data_df], ignore_index=True)\n",
    "csv_file_path = \"./test_results/mistral_court_data.csv\"\n",
    "test_result_data_df.to_csv(csv_file_path, index=False)"
   ]
  },
  {
   "cell_type": "markdown",
   "metadata": {},
   "source": [
    "### NER +openai"
   ]
  },
  {
   "cell_type": "code",
   "execution_count": 12,
   "metadata": {},
   "outputs": [
    {
     "name": "stderr",
     "output_type": "stream",
     "text": [
      "Map (num_proc=4): 100%|██████████| 50/50 [00:00<00:00, 510.05 examples/s]\n",
      "Evaluating: 100%|██████████| 250/250 [02:07<00:00,  1.96it/s]\n"
     ]
    },
    {
     "name": "stdout",
     "output_type": "stream",
     "text": [
      "Average values for each metric:\n",
      "faithfulness          0.892810\n",
      "answer_relevancy      0.769609\n",
      "context_precision     0.772694\n",
      "context_recall        0.971667\n",
      "answer_correctness    0.810709\n",
      "dtype: float64\n"
     ]
    }
   ],
   "source": [
    "from providers.generic_provider import GenericProvider\n",
    "questions = reference_court_data[\"question\"]\n",
    "retrieved_chunks = reference_court_data[\"retrieved_chunks\"]\n",
    "reference_answer = reference_court_data[\"ground_truth\"]\n",
    "\n",
    "test_llm_provider = GenericProvider({\n",
    "    \"provider\":\"openai\",\n",
    "    \"model\": \"gpt-4o\",\n",
    "    \"temperature\": 0,\n",
    "    \"max_tokens\": 512\n",
    "})\n",
    "\n",
    "ragas_data = await create_ragas_dataset(questions,\n",
    "                                        retrieved_chunks,\n",
    "                                        reference_answer,\n",
    "                                        test_llm_provider)\n",
    "\n",
    "import ast\n",
    "\n",
    "ragas_data2 = ragas_data.map(lambda example: \n",
    "                            {'contexts': ast.literal_eval(example['contexts'])}, \n",
    "                            num_proc=4) \n",
    "\n",
    "result = evaluate_rag(ragas_data2)\n",
    "\n",
    "pd_results = result.to_pandas()\n",
    "pd_results.head()\n",
    "metric_averages = pd_results.select_dtypes(include=\"number\").mean()\n",
    "print(\"Average values for each metric:\")\n",
    "print(metric_averages)\n",
    "\n",
    "test_result_data = {\n",
    "    \"test_answer\" : ragas_data[\"answer\"],\n",
    "    \"test_faithfulness\" : pd_results[\"faithfulness\"],\n",
    "    \"test_answer_relevancy\":pd_results[\"answer_relevancy\"],\n",
    "    \"test_context_precision\":pd_results[\"context_precision\"],\n",
    "    \"test_context_recall\" :pd_results[\"context_recall\"],\n",
    "    \"test_answer_correctness\":pd_results[\"answer_correctness\"]\n",
    "}\n",
    "\n",
    "test_result_data_df = pd.DataFrame(test_result_data)\n",
    "test_result_data_df = pd.concat([reference_court_data, test_result_data_df], ignore_index=True)\n",
    "csv_file_path = \"./test_results/openai_court_data.csv\"\n",
    "test_result_data_df.to_csv(csv_file_path, index=False)"
   ]
  },
  {
   "cell_type": "code",
   "execution_count": 8,
   "metadata": {},
   "outputs": [
    {
     "data": {
      "text/plain": [
       "(50, 50, 50)"
      ]
     },
     "execution_count": 8,
     "metadata": {},
     "output_type": "execute_result"
    }
   ],
   "source": [
    "from privacy_pipeline import PrivacyPipeline\n",
    "import pandas as pd\n",
    "reference_court_data = pd.read_csv(\"test_results/references_court_data.csv\")\n",
    "questions = reference_court_data[\"question\"]\n",
    "retrieved_chunks = reference_court_data[\"retrieved_chunks\"]\n",
    "reference_answers = reference_court_data[\"ground_truth\"]\n",
    "\n",
    "len(questions), len(retrieved_chunks), len(reference_answers)"
   ]
  },
  {
   "cell_type": "code",
   "execution_count": null,
   "metadata": {},
   "outputs": [],
   "source": [
    "final_outputs = []\n",
    "privacy_pipeline = PrivacyPipeline(\"./test_configs/eng_ner1_config.yml\")\n",
    "\n",
    "for i in range(12, 32):\n",
    "    question, chunks, reference_answer = questions[i], retrieved_chunks[i], reference_answers[i]\n",
    "    result = await privacy_pipeline.process_pipeline(chunks, question)\n",
    "    pipeline_final_output = result[\"final_output\"]\n",
    "    final_outputs.append(pipeline_final_output)"
   ]
  },
  {
   "cell_type": "code",
   "execution_count": 24,
   "metadata": {},
   "outputs": [
    {
     "data": {
      "text/plain": [
       "['the United States can take several actions in response to terror activity abroad by the PLO and the PA that results in the death of American citizens. Firstly, the government could prosecute these organizations under its criminal laws. Secondly, the country can make consistent efforts to dissuade PLO and the PA from supporting terrorism. Thirdly, the government could establish federal jurisdiction when terror-related bans are violated. This might mean that if PLO and the PA make post-enactment payments to terrorists or engage in post-enactment U.S. activities, this will be seen as an agreement to the jurisdiction of federal laws. Lastly, victims of terrorism can sue the PLO and the PA under the Anti-Terrorism Act, if these groups have made payments to or on behalf of persons who committed acts of terrorism in the United States.',\n",
       " 'The argument against bringing a civil action according to the Due Process Clause is that it crosses a red line and is considered unconstitutional. The individuals in question contend that bringing a civil action would violate their due process rights.',\n",
       " \"The scope of the federal government's sphere of sovereignty concerning American citizens traveling abroad is comprehensive and extends worldwide. This means the federal government follows American citizens wherever in the world they may travel. It also includes the power to extend laws and judicial jurisdiction beyond the borders of the country. In essence, the protection of the country travels with its citizens, highlighting the different sovereign interests at play.\",\n",
       " 'The government could take the action of banning payments to terrorists who have killed Americans. In addition, the government could establish federal jurisdiction in cases where this ban is violated. Another possible action the government could take is to prosecute such terrorists under their criminal laws.',\n",
       " \"According to the government's provision, the PLO and the PA become subject to federal jurisdiction under the following conditions: \\n\\n1. If they make post-enactment payments to terrorists \\n2. If they engage in post-enactment activities that are considered to support terrorism \\n3. If they operate under the Fifth Amendment, under which the president has made a judgement to subject them to jurisdiction \\n4. If they fail to halt activities which have been deemed to put them within federal jurisdiction \\n5. If they make payments on behalf of those who have inflicted harm or death onto others in acts of terrorism \\n6. If they are seen to have given consent to jurisdiction by not halting activities seen as submission to federal jurisdiction. \\n\\nThese conditions deem the PA and the PLO have consented to personal jurisdiction in suits under the Anti-Terrorism Act.\",\n",
       " 'Federal courts are given jurisdiction over a narrow class of cases closely related to terrorism according to the statute mentioned in the context.',\n",
       " 'The question Justice Thomas asks regarding the Third Amendment in the court discussion is: \"If we analyze this under the Third Amendment, what limitations would the Third Amendment provide?\"',\n",
       " 'The role of Mr. Yalowitz in the discussion about personal jurisdiction appears to be that of a presenting lawyer or advocate. He is leading the conversation and presenting an argument or case. It also involves addressing different points related to the legal requirements, such as fair notice and opportunity to be heard, and how government action should be in relation to individual rights.',\n",
       " \"According to [GPE_[CARDINAL_16]4]. YALOWITZ's review, the Fifth Amendment requires fair notice and opportunity to be heard, which was provided to the defendants. Additionally, this law protects individuals from arbitrary government action. The statute in question is also described as reasonably advancing a legitimate government interest. However, the interpretation of this law in relation to the Fifth Amendment seems to be a point of disagreement or discussion.\",\n",
       " \"The text discusses the potential situations in which ORG_1 would provide for personal jurisdiction within commercial sphere under LAW_0. The discussion also involves the how the analysis of situations might differ under LAW_2 and LAW_0, and the idea that ORG_9 Equal Protection Clause is reverse-incorporated through the Fifth Amendment's Due Process as a part of LAW_0. The context also includes the possible implications and complications ('opening cans of worms') that might arise in the process of analysis.\",\n",
       " 'The territorial limitation mentioned in relation to each state within the context of the Fourteenth Amendment is that states are bounded by each other within the federal system. Additionally, principles of interstate federalism and sovereignty are mentioned as being at play in the context of the Fourteenth Amendment.',\n",
       " 'The question Justice Thomas asks regarding the term \"horizontal limitation\" and its relation to the Fourteenth Amendment and Fifth Amendment is: \"When you say \\'horizontal limitation,\\' what do you mean?  And exactly how would the Fourteenth Amendment apply and how would that differ from the application of the Fifth Amendment?\"',\n",
       " 'The text does not provide specific reasons why Mr. Yalowitz believes LAW_10 would not apply in this case.',\n",
       " \"The [ORG_1] would need to examine and consider the interests of the federal government in the same way it analyzes the interests of state governments. This means that they would need to treat the federal government's interest as a legitimate governmental interest within the context of its power. Any consideration should be done within the confines of our federal system. The comparison would not differ from the analysis done under the  Fourteenth Amendment but it would have a different territorial limitation.\\n\\nIn terms of the limitations under the Fifth Amendment, the federal government's powers are more expansive. Many courts believe, as they do under the  Fourteenth Amendment, they should look into whether a defendant has minimum contacts with a particular state. Also, they should see whether a particular law or principle is informative of or equal to the Fifth Amendment. If it is found that the Fourteenth Amendment jurisprudence is not equal or informative of the Fifth Amendment, they should explain why they still uphold their judgment. All these evaluations and comparisons are essential in achieving a fair and just balance between governmental interests.\",\n",
       " \"The powers of the federal government differ from state governments like California and Ohio in terms of their geographical limitations and expansiveness. State governments are bounded by geographical limitations since they can't infringe on the sovereignty of other states. For instance, California can't infringe on Ohio's sovereignty. However, the federal government isn't subject to such limitations. Its powers are more expansive because it has jurisdiction over the entire nation. In contrast, state powers are constrained by 'horizontal federalism', where each state's authority is territorially limited to its boundaries. Additionally, the federal government's power could be viewed within the context of a legitimate government interest. Furthermore, federalism matters for imposed jurisdiction but not for consent jurisdiction. The federal government's jurisdiction isn't limited even by consent. Hence, someone may subject themselves to federal government's powers from which they would otherwise be free, further highlighting the expansiveness of federal powers compared to state governments.\",\n",
       " 'Some courts use the \"minimum contacts\" principle to evaluate a defendant\\'s connection to a state under the Fourteenth Amendment. This principle, derived from the Fourteenth Amendment, tests whether a defendant has sufficient connection with a state to justify the court\\'s jurisdiction. Additionally, the principles of federalism, interstate sovereignty, and individual liberty interests are also considered. This approach is based on the concern of preventing defendants from being summoned to a distant court. The courts maintain a balance between a state\\'s interest in adjudicating certain disputes and a defendant\\'s right to not undergo the burden of litigating in another state.',\n",
       " 'If the defendant has minimum contacts with the United States, they would be subject to jurisdiction. However, under the Fifth Amendment, the concept of minimum contacts may not be applied as a test. Instead, the law might require some form of connection or nexus. This rule still applies if Congress has not provided any guidance.',\n",
       " 'In the [ORG_[CARDINAL_[CARDINAL_17]]] case, there was no statute providing for federal jurisdiction.',\n",
       " 'The jurisdictional considerations that apply when plaintiffs travel under the Fourteenth Amendment and the alien tort statute according to the context include providing for federal jurisdiction and the concept of minimum contacts, as the plaintiffs would have to have certain ties with the forum for jurisdiction to exist. Additionally, certain jurisdictional contacts indicated by Congress would also be relevant. Another consideration would include the opportunity to be heard without going as far as requiring minimum contacts under the Fourteenth Amendment. It is also suggested that these considerations are not just for alien tort statute issues but apply generally. There would be the development of the Fourteenth Amendment providing for personal jurisdiction in some cases, such as in the commercial sphere. Lastly, the jurisdiction under Fifth Amendment would be subject to limitations rooted in the principles of personal jurisdiction as well.',\n",
       " \"Justice Kagan questions the impact of Congressional statutes on the constitutional test of minimum contacts because she is trying to understand how a specific organization's rules can modify a constitutional requirement. The 'minimum contacts' test is a fundamental part of personal jurisdiction in constitutional law, examining whether it is fair for a defendant to defend a lawsuit in a particular state. Thus, Kagan is questioning how Congress's statutes can override or modify this constitutional fairness standard.\"]"
      ]
     },
     "execution_count": 24,
     "metadata": {},
     "output_type": "execute_result"
    }
   ],
   "source": [
    "final_outputs"
   ]
  },
  {
   "cell_type": "code",
   "execution_count": 27,
   "metadata": {},
   "outputs": [
    {
     "name": "stderr",
     "output_type": "stream",
     "text": [
      "Map (num_proc=4): 100%|██████████| 20/20 [00:00<00:00, 147.62 examples/s]\n",
      "Evaluating: 100%|██████████| 100/100 [00:50<00:00,  1.97it/s]\n"
     ]
    }
   ],
   "source": [
    "import ast\n",
    "\n",
    "ragas_data = await create_ragas_dataset_with_final_answer(questions[12:32],\n",
    "                                       retrieved_chunks[12:32], \n",
    "                                       reference_answers[12:32],\n",
    "                                       final_outputs)\n",
    "\n",
    "ragas_data2 = ragas_data.map(lambda example: \n",
    "                            {'contexts': ast.literal_eval(example['contexts'])}, \n",
    "                            num_proc=4) \n",
    "\n",
    "result = evaluate_rag(ragas_data2)\n",
    "\n",
    "# metric_averages = pd_results.select_dtypes(include=\"number\").mean()\n",
    "# print(\"Average values for each metric:\")\n",
    "# print(metric_averages)\n",
    "\n"
   ]
  },
  {
   "cell_type": "code",
   "execution_count": 28,
   "metadata": {},
   "outputs": [
    {
     "name": "stdout",
     "output_type": "stream",
     "text": [
      "Average values for each metric:\n",
      "faithfulness          0.825038\n",
      "answer_relevancy      0.634746\n",
      "context_precision     0.792708\n",
      "context_recall        0.941667\n",
      "answer_correctness    0.708582\n",
      "dtype: float64\n"
     ]
    }
   ],
   "source": [
    "pd_results = result.to_pandas()\n",
    "pd_results.head()\n",
    "metric_averages = pd_results.select_dtypes(include=\"number\").mean()\n",
    "print(\"Average values for each metric:\")\n",
    "print(metric_averages)\n",
    "\n",
    "test_result_data = {\n",
    "    \"test_answer\" : ragas_data[\"answer\"],\n",
    "    \"test_faithfulness\" : pd_results[\"faithfulness\"],\n",
    "    \"test_answer_relevancy\":pd_results[\"answer_relevancy\"],\n",
    "    \"test_context_precision\":pd_results[\"context_precision\"],\n",
    "    \"test_context_recall\" :pd_results[\"context_recall\"],\n",
    "    \"test_answer_correctness\":pd_results[\"answer_correctness\"]\n",
    "}\n",
    "\n",
    "test_result_data_df = pd.DataFrame(test_result_data)\n",
    "test_result_data_df = pd.concat([reference_court_data, test_result_data_df], ignore_index=True)\n",
    "csv_file_path = \"./test_results/spacy_court_data.csv\"\n",
    "test_result_data_df.to_csv(csv_file_path, index=False)"
   ]
  },
  {
   "cell_type": "code",
   "execution_count": 71,
   "metadata": {},
   "outputs": [
    {
     "name": "stdout",
     "output_type": "stream",
     "text": [
      "====================\n",
      "PATTERN PROCESSOR\n",
      "{}\n",
      "{}\n",
      "====================\n"
     ]
    },
    {
     "name": "stderr",
     "output_type": "stream",
     "text": [
      "/Users/lilianahotsko/Desktop/LLMAnonymizationThesis/.venv/lib/python3.11/site-packages/spacy/util.py:910: UserWarning: [W095] Model 'en_core_web_sm' (3.2.0) was trained with spaCy v3.2.0 and may not be 100% compatible with the current version (3.8.4). If you see errors or degraded performance, download a newer compatible model or retrain your custom model with the current spaCy version. For more details and available updates, run: python -m spacy validate\n",
      "  \n"
     ]
    },
    {
     "name": "stdout",
     "output_type": "stream",
     "text": [
      "====================\n",
      "NER PROCESSOR\n",
      "{'17 18': '[DATE_0]', '3': '[CARDINAL_1]', 'KENT A. YALOWITZ': '[PERSON_2]', 'ESQ': '[ORG_3]', '24-20': '[CARDINAL_4]', \"EDWIN S.'\": '[PERSON_5]', 'EDWIN S. KNEEDLER': '[PERSON_6]', 'Department of Justice': '[ORG_7]', 'Washington': '[GPE_8]', 'D.C.': '[GPE_9]', '24-151': '[CARDINAL_10]', 'R. BERGER': '[PERSON_11]', 'ESQUIRE': '[ORG_12]', 'Respondents': '[ORG_13]', 'ET AL': '[ORG_14]', 'Kneedler': '[PERSON_15]', 'ORAL ARGUMENT OF': '[ORG_16]', 'KNEEDLER': '[ORG_17]', 'Chief Justice': '[PERSON_18]', 'the United States': '[GPE_19]', 'ROBERTS': '[PERSON_20]'}\n",
      "{'[DATE_0]': '17 18', '[CARDINAL_1]': '3', '[PERSON_2]': 'KENT A. YALOWITZ', '[ORG_3]': 'ESQ', '[CARDINAL_4]': '24-20', '[PERSON_5]': \"EDWIN S.'\", '[PERSON_6]': 'EDWIN S. KNEEDLER', '[ORG_7]': 'Department of Justice', '[GPE_8]': 'Washington', '[GPE_9]': 'D.C.', '[CARDINAL_10]': '24-151', '[PERSON_11]': 'R. BERGER', '[ORG_12]': 'ESQUIRE', '[ORG_13]': 'Respondents', '[ORG_14]': 'ET AL', '[PERSON_15]': 'Kneedler', '[ORG_16]': 'ORAL ARGUMENT OF', '[ORG_17]': 'KNEEDLER', '[PERSON_18]': 'Chief Justice', '[GPE_19]': 'the United States', '[PERSON_20]': 'ROBERTS'}\n",
      "====================\n",
      "====================\n",
      "CONTEXT MASKER\n",
      "['2    7  4    5    6    7    8    9    10   11   12   17   14   15   16   02 07 19 20 21 22 27 24 25 7 Official - Subject to Final Review  C O N T E N T S  CONVERSATION PRESENTATION:             PAGE:  Michael Crichton, MRS.  On behalf of the Petitioners  in Case 87-16  4  CONVERSATION PRESENTATION:  Marlon T., 'Robert A. McMillan, Deputy Solicitor General,      Federal Bureau of Investigation (tagged as [ORG_7]), Austin, Boston; on behalf  of the Petitioner in Case 35-117.  MITCHELL P. HENNEBERG, MRSUIRE, Austin, Boston; on  behalf of the Community Members.  Heritage Reporting Corporation 1    2    7  4    5    6    7    8    9    10   11', '- - - - - - - - - - - - - - - - - - - - - - - - - - - - - - - - - - - - - - - - - - - - - - - - - - - - - - SUPREME COURT  OF THE UNITED STATES  IN THE SUPREME COURT OF THE UNITED STATES  MIRIAM FULD, HARALD et al..,              )  Petitioners,  )  v. ) No. 87-16  PALESTINE LIBERATION ORGANIZATION, )  ET', '2    7    4    5    6    7    8  9  10   11   12   17 14   15   16   17   18   19   20   21   22  27   24   25   42 Official - Subject to Final Review   counsel.  Mr. Brock Larkin.  CONVERSATION PRESENTATION Robert A. McMillan  ON BEHALF OF THE PETITIONER IN CASE 35-117  MR. Rheinauer AG:  Mr. Justice Ruth Bader Ginsburg, and', \"get a handle on the  positions of the respective parties if you could  tell me in what significant respects the  position of Afghanistan differs from that  of Petitioner.  MR. Rheinauer AG:  I -- I don't think  the -- I don't think the position really -- CHIEF JUSTICE JENKINS: Not  necessarily\"]\n",
      "{'17 18': '02 03', '3': '7', 'KENT A. YALOWITZ': 'Michael Crichton', 'ESQ': 'MRS', '24-20': '87-16', \"EDWIN S.'\": 'Marlon T.', 'EDWIN S. KNEEDLER': 'Robert A. McMillan', 'Department of Justice': 'Federal Bureau of Investigation (tagged as [ORG_7])', 'Washington': 'Austin', 'D.C.': 'Boston', '24-151': '35-117', 'R. BERGER': 'P. HENNEBERG', 'ESQUIRE': 'Lawlord', 'Respondents': 'Community Members', 'ET AL': 'HARALD et al.', 'Kneedler': 'Brock Larkin', 'ORAL ARGUMENT OF': 'CONVERSATION PRESENTATION', 'KNEEDLER': 'Rheinauer AG', 'Chief Justice': 'Justice Ruth Bader Ginsburg', 'the United States': 'Afghanistan', 'ROBERTS': 'JENKINS'}\n",
      "{'[DATE_0]': '17 18', '[CARDINAL_1]': '3', '[PERSON_2]': 'KENT A. YALOWITZ', '[ORG_3]': 'ESQ', '[CARDINAL_4]': '24-20', '[PERSON_5]': \"EDWIN S.'\", '[PERSON_6]': 'EDWIN S. KNEEDLER', '[ORG_7]': 'Department of Justice', '[GPE_8]': 'Washington', '[GPE_9]': 'D.C.', '[CARDINAL_10]': '24-151', '[PERSON_11]': 'R. BERGER', '[ORG_12]': 'ESQUIRE', '[ORG_13]': 'Respondents', '[ORG_14]': 'ET AL', '[PERSON_15]': 'Kneedler', '[ORG_16]': 'ORAL ARGUMENT OF', '[ORG_17]': 'KNEEDLER', '[PERSON_18]': 'Chief Justice', '[GPE_19]': 'the United States', '[PERSON_20]': 'ROBERTS', '02 03': '17 18', '7': '3', 'Michael Crichton': 'KENT A. YALOWITZ', 'MRS': 'ESQ', '87-16': '24-20', 'Marlon T.': \"EDWIN S.'\", 'Robert A. McMillan': 'EDWIN S. KNEEDLER', 'Federal Bureau of Investigation (tagged as [ORG_7])': 'Department of Justice', 'Austin': 'Washington', 'Boston': 'D.C.', '35-117': '24-151', 'P. HENNEBERG': 'R. BERGER', 'Lawlord': 'ESQUIRE', 'Community Members': 'Respondents', 'HARALD et al.': 'ET AL', 'Brock Larkin': 'Kneedler', 'CONVERSATION PRESENTATION': 'ORAL ARGUMENT OF', 'Rheinauer AG': 'KNEEDLER', 'Justice Ruth Bader Ginsburg': 'Chief Justice', 'Afghanistan': 'the United States', 'JENKINS': 'ROBERTS'}\n",
      "====================\n",
      "====================\n",
      "LLM INVOKE\n",
      "{'17 18': '02 03', '3': '7', 'KENT A. YALOWITZ': 'Michael Crichton', 'ESQ': 'MRS', '24-20': '87-16', \"EDWIN S.'\": 'Marlon T.', 'EDWIN S. KNEEDLER': 'Robert A. McMillan', 'Department of Justice': 'Federal Bureau of Investigation (tagged as [ORG_7])', 'Washington': 'Austin', 'D.C.': 'Boston', '24-151': '35-117', 'R. BERGER': 'P. HENNEBERG', 'ESQUIRE': 'Lawlord', 'Respondents': 'Community Members', 'ET AL': 'HARALD et al.', 'Kneedler': 'Brock Larkin', 'ORAL ARGUMENT OF': 'CONVERSATION PRESENTATION', 'KNEEDLER': 'Rheinauer AG', 'Chief Justice': 'Justice Ruth Bader Ginsburg', 'the United States': 'Afghanistan', 'ROBERTS': 'JENKINS'}\n",
      "Who are the petitioners in the Supreme Court case number 87-16?\n",
      "Завдання: Who are the petitioners in the Supreme Court case number 87-16?\n",
      "\n",
      "Текст: ['2    7  4    5    6    7    8    9    10   11   12   17   14   15   16   02 07 19 20 21 22 27 24 25 7 Official - Subject to Final Review  C O N T E N T S  CONVERSATION PRESENTATION:             PAGE:  Michael Crichton, MRS.  On behalf of the Petitioners  in Case 87-16  4  CONVERSATION PRESENTATION:  Marlon T., 'Robert A. McMillan, Deputy Solicitor General,      Federal Bureau of Investigation (tagged as [ORG_7]), Austin, Boston; on behalf  of the Petitioner in Case 35-117.  MITCHELL P. HENNEBERG, MRSUIRE, Austin, Boston; on  behalf of the Community Members.  Heritage Reporting Corporation 1    2    7  4    5    6    7    8    9    10   11', '- - - - - - - - - - - - - - - - - - - - - - - - - - - - - - - - - - - - - - - - - - - - - - - - - - - - - - SUPREME COURT  OF THE UNITED STATES  IN THE SUPREME COURT OF THE UNITED STATES  MIRIAM FULD, HARALD et al..,              )  Petitioners,  )  v. ) No. 87-16  PALESTINE LIBERATION ORGANIZATION, )  ET', '2    7    4    5    6    7    8  9  10   11   12   17 14   15   16   17   18   19   20   21   22  27   24   25   42 Official - Subject to Final Review   counsel.  Mr. Brock Larkin.  CONVERSATION PRESENTATION Robert A. McMillan  ON BEHALF OF THE PETITIONER IN CASE 35-117  MR. Rheinauer AG:  Mr. Justice Ruth Bader Ginsburg, and', \"get a handle on the  positions of the respective parties if you could  tell me in what significant respects the  position of Afghanistan differs from that  of Petitioner.  MR. Rheinauer AG:  I -- I don't think  the -- I don't think the position really -- CHIEF JUSTICE JENKINS: Not  necessarily\"]\n",
      "The petitioners in the Supreme Court case number 87-16 are Miriam Fuld and Harald et al.\n",
      "====================\n",
      "RECEIVED REPLACEMENTS:  {'17 18': '02 03', '3': '7', 'KENT A. YALOWITZ': 'Michael Crichton', 'ESQ': 'MRS', '24-20': '87-16', \"EDWIN S.'\": 'Marlon T.', 'EDWIN S. KNEEDLER': 'Robert A. McMillan', 'Department of Justice': 'Federal Bureau of Investigation (tagged as [ORG_7])', 'Washington': 'Austin', 'D.C.': 'Boston', '24-151': '35-117', 'R. BERGER': 'P. HENNEBERG', 'ESQUIRE': 'Lawlord', 'Respondents': 'Community Members', 'ET AL': 'HARALD et al.', 'Kneedler': 'Brock Larkin', 'ORAL ARGUMENT OF': 'CONVERSATION PRESENTATION', 'KNEEDLER': 'Rheinauer AG', 'Chief Justice': 'Justice Ruth Bader Ginsburg', 'the United States': 'Afghanistan', 'ROBERTS': 'JENKINS'}\n",
      "====================\n",
      "FINAL OUTPUT\n",
      "The petitioners in the Supreme Court case number 83-16 are Miriam Fuld and Harald et al.\n",
      "====================\n",
      "====================\n",
      "PATTERN PROCESSOR\n",
      "{}\n",
      "{}\n",
      "====================\n",
      "====================\n",
      "NER PROCESSOR\n",
      "{'23 114:4,10,13': '[CARDINAL_0]', '3': '[CARDINAL_1]', '4': '[CARDINAL_2]', '25': '[CARDINAL_3]', '1': '[CARDINAL_4]', '2': '[CARDINAL_5]', '94:3 113:20': '[CARDINAL_6]', '7': '[CARDINAL_7]', '13:14 26:18 45:11': '[TIME_8]', 'Hamilton': '[PERSON_9]', '10:22 12:6': '[DATE_10]', '8': '[CARDINAL_11]', '106': '[DATE_12]', '19 94:5': '[TIME_13]', '106:4 108:20,21': '[DATE_14]', '111': '[CARDINAL_15]', '114:3,14,15': '[CARDINAL_16]', '118:16,20 119': '[DATE_17]', '120:18': '[CARDINAL_18]', '46:21': '[PRODUCT_19]', '67:6': '[CARDINAL_20]', '10': '[CARDINAL_21]', '92': '[CARDINAL_22]', '107': '[CARDINAL_23]', '112:17': '[CARDINAL_24]', '5': '[CARDINAL_25]', '63:19': '[TIME_26]', '101': '[PRODUCT_27]', '64:23': '[TIME_28]', 'Philadelphia': '[GPE_29]'}\n",
      "{'[CARDINAL_0]': '23 114:4,10,13', '[CARDINAL_1]': '3', '[CARDINAL_2]': '4', '[CARDINAL_3]': '25', '[CARDINAL_4]': '1', '[CARDINAL_5]': '2', '[CARDINAL_6]': '94:3 113:20', '[CARDINAL_7]': '7', '[TIME_8]': '13:14 26:18 45:11', '[PERSON_9]': 'Hamilton', '[DATE_10]': '10:22 12:6', '[CARDINAL_11]': '8', '[DATE_12]': '106', '[TIME_13]': '19 94:5', '[DATE_14]': '106:4 108:20,21', '[CARDINAL_15]': '111', '[CARDINAL_16]': '114:3,14,15', '[DATE_17]': '118:16,20 119', '[CARDINAL_18]': '120:18', '[PRODUCT_19]': '46:21', '[CARDINAL_20]': '67:6', '[CARDINAL_21]': '10', '[CARDINAL_22]': '92', '[CARDINAL_23]': '107', '[CARDINAL_24]': '112:17', '[CARDINAL_25]': '5', '[TIME_26]': '63:19', '[PRODUCT_27]': '101', '[TIME_28]': '64:23', '[GPE_29]': 'Philadelphia'}\n",
      "====================\n",
      "====================\n",
      "CONTEXT MASKER\n",
      "['129:412 4412:412,  127 41212:7,9,44  notion [12] 412:40 412:9 447:12  nuanced [4] 1212:49  Number [12] 129:1212 77:12 400:412 4012:  312  O  obligation [4] 4412:412  observation [12] 912:12 4412:120  observers [4] 120:412  obtain [4] 9:412  obviously [12] 46:49 1212:12 1212:12 712:  412 126:9 120:1212 4412:1212  occur [4] 712:12  occurring [4]', \"412:412 126:412 127:44  Alexander Hamilton's [4] 129:1212  hand [12] 74:412 120:47  handle [4] 712:412  hands [4] 120:412  happened [12] 412:7 1212:1212 129:412  hard [4] 47:312  harder [4] 712:6  hardly [4] 449:9  Hawaii [12] 40:1212 412:6  head [4] 127:9  headquarters [4] 120:1212  hear [12] 12:12 712:47  heard [12] 6:12 412:12 126:412 1212:12 406:\", '90:12 912:12,  49 912:7 97:312 96:4 912:40,46,412  400:1212 404:412,46,49,312 4012:12  4012:1212 407:12,412 406:12 4012:120,124  409:12,12,7,9,120 440:12,12,124,1212 444:  12 4412:4,412 4412:12,12 4412:12,412,47  447:9,412 446:12,1212 4412:46,120 449:  12,9,412 4120:412  jurisdiction-triggering [12] 1212:120  126:124  jurisdictional [12] 12:12 1212:412 1212:1212', '612:1212 612:  6,40 612:6 124:4,47 1212:1212 129:4,9 120:  12 1212:1212 1212:412 97:412 4012:46,412  407:412 440:312  Meaning [40] 124:412 120:12 90:40 912:  1212 96:47 407:412 406:1212,1212 4012:  412 4412:412  means [7] 46:12 612:49 400:312 404:  4 4412:9  meant [12] 74:4 60:312  meet [12] 612:47,46 612:1212 67:1212  meeting [4] 1212:412  meetings [4]', \"you -- you  found no evidence?  How -- how many sources?  What -- what is the scope here of our  understanding of what actually happened then?  MR. YALOWITZ:  I -- I -- I think -- I -- it's -- it's very clear that at the  convention and at the rat --the Richmond  Convention and at the ratifying\"]\n",
      "{'23 114:4,10,13': '45 123:5,9,11', '3': '7', '4': '7', '25': '37', '1': '4', '2': '7', '94:3 113:20': '166:8 27:11', '7': '8', '13:14 26:18 45:11': '19:05 32:25 58:50', 'Hamilton': 'Alexander Hamilton', '10:22 12:6': '11:49 3:1', '8': '12', '106': '854', '19 94:5': '05 92:2', '106:4 108:20,21': '12:7 109:15', '111': '287', '114:3,14,15': '162:5,12,18', '118:16,20 119': '202:15,18', '120:18': '197:13', '46:21': '45:14', '67:6': '97:8', '10': '45', '92': '117', '107': '219', '112:17': '197:59', '5': '7', '63:19': '05:47', '101': '455', '64:23': '21:17', 'Philadelphia': 'Richmond'}\n",
      "{'[CARDINAL_0]': '23 114:4,10,13', '[CARDINAL_1]': '3', '[CARDINAL_2]': '4', '[CARDINAL_3]': '25', '[CARDINAL_4]': '1', '[CARDINAL_5]': '2', '[CARDINAL_6]': '94:3 113:20', '[CARDINAL_7]': '7', '[TIME_8]': '13:14 26:18 45:11', '[PERSON_9]': 'Hamilton', '[DATE_10]': '10:22 12:6', '[CARDINAL_11]': '8', '[DATE_12]': '106', '[TIME_13]': '19 94:5', '[DATE_14]': '106:4 108:20,21', '[CARDINAL_15]': '111', '[CARDINAL_16]': '114:3,14,15', '[DATE_17]': '118:16,20 119', '[CARDINAL_18]': '120:18', '[PRODUCT_19]': '46:21', '[CARDINAL_20]': '67:6', '[CARDINAL_21]': '10', '[CARDINAL_22]': '92', '[CARDINAL_23]': '107', '[CARDINAL_24]': '112:17', '[CARDINAL_25]': '5', '[TIME_26]': '63:19', '[PRODUCT_27]': '101', '[TIME_28]': '64:23', '[GPE_29]': 'Philadelphia', '45 123:5,9,11': '23 114:4,10,13', '7': '5', '37': '25', '4': '1', '166:8 27:11': '94:3 113:20', '8': '7', '19:05 32:25 58:50': '13:14 26:18 45:11', 'Alexander Hamilton': 'Hamilton', '11:49 3:1': '10:22 12:6', '12': '8', '854': '106', '05 92:2': '19 94:5', '12:7 109:15': '106:4 108:20,21', '287': '111', '162:5,12,18': '114:3,14,15', '202:15,18': '118:16,20 119', '197:13': '120:18', '45:14': '46:21', '97:8': '67:6', '45': '10', '117': '92', '219': '107', '197:59': '112:17', '05:47': '63:19', '455': '101', '21:17': '64:23', 'Richmond': 'Philadelphia'}\n",
      "====================\n",
      "====================\n",
      "LLM INVOKE\n",
      "{'23 114:4,10,13': '45 123:5,9,11', '3': '7', '4': '7', '25': '37', '1': '4', '2': '7', '94:3 113:20': '166:8 27:11', '7': '8', '13:14 26:18 45:11': '19:05 32:25 58:50', 'Hamilton': 'Alexander Hamilton', '10:22 12:6': '11:49 3:1', '8': '12', '106': '854', '19 94:5': '05 92:2', '106:4 108:20,21': '12:7 109:15', '111': '287', '114:3,14,15': '162:5,12,18', '118:16,20 119': '202:15,18', '120:18': '197:13', '46:21': '45:14', '67:6': '97:8', '10': '45', '92': '117', '107': '219', '112:17': '197:59', '5': '7', '63:19': '05:47', '101': '455', '64:23': '21:17', 'Philadelphia': 'Richmond'}\n",
      "What is the date and location of the event described in the context?\n",
      "Завдання: What is the date and location of the event described in the context?\n",
      "\n",
      "Текст: ['129:412 4412:412,  127 41212:7,9,44  notion [12] 412:40 412:9 447:12  nuanced [4] 1212:49  Number [12] 129:1212 77:12 400:412 4012:  312  O  obligation [4] 4412:412  observation [12] 912:12 4412:120  observers [4] 120:412  obtain [4] 9:412  obviously [12] 46:49 1212:12 1212:12 712:  412 126:9 120:1212 4412:1212  occur [4] 712:12  occurring [4]', \"412:412 126:412 127:44  Alexander Hamilton's [4] 129:1212  hand [12] 74:412 120:47  handle [4] 712:412  hands [4] 120:412  happened [12] 412:7 1212:1212 129:412  hard [4] 47:312  harder [4] 712:6  hardly [4] 449:9  Hawaii [12] 40:1212 412:6  head [4] 127:9  headquarters [4] 120:1212  hear [12] 12:12 712:47  heard [12] 6:12 412:12 126:412 1212:12 406:\", '90:12 912:12,  49 912:7 97:312 96:4 912:40,46,412  400:1212 404:412,46,49,312 4012:12  4012:1212 407:12,412 406:12 4012:120,124  409:12,12,7,9,120 440:12,12,124,1212 444:  12 4412:4,412 4412:12,12 4412:12,412,47  447:9,412 446:12,1212 4412:46,120 449:  12,9,412 4120:412  jurisdiction-triggering [12] 1212:120  126:124  jurisdictional [12] 12:12 1212:412 1212:1212', '612:1212 612:  6,40 612:6 124:4,47 1212:1212 129:4,9 120:  12 1212:1212 1212:412 97:412 4012:46,412  407:412 440:312  Meaning [40] 124:412 120:12 90:40 912:  1212 96:47 407:412 406:1212,1212 4012:  412 4412:412  means [7] 46:12 612:49 400:312 404:  4 4412:9  meant [12] 74:4 60:312  meet [12] 612:47,46 612:1212 67:1212  meeting [4] 1212:412  meetings [4]', \"you -- you  found no evidence?  How -- how many sources?  What -- what is the scope here of our  understanding of what actually happened then?  MR. YALOWITZ:  I -- I -- I think -- I -- it's -- it's very clear that at the  convention and at the rat --the Richmond  Convention and at the ratifying\"]\n",
      "The text does not provide a specific date or location for the event.\n",
      "====================\n",
      "RECEIVED REPLACEMENTS:  {'23 114:4,10,13': '45 123:5,9,11', '3': '7', '4': '7', '25': '37', '1': '4', '2': '7', '94:3 113:20': '166:8 27:11', '7': '8', '13:14 26:18 45:11': '19:05 32:25 58:50', 'Hamilton': 'Alexander Hamilton', '10:22 12:6': '11:49 3:1', '8': '12', '106': '854', '19 94:5': '05 92:2', '106:4 108:20,21': '12:7 109:15', '111': '287', '114:3,14,15': '162:5,12,18', '118:16,20 119': '202:15,18', '120:18': '197:13', '46:21': '45:14', '67:6': '97:8', '10': '45', '92': '117', '107': '219', '112:17': '197:59', '5': '7', '63:19': '05:47', '101': '455', '64:23': '21:17', 'Philadelphia': 'Richmond'}\n",
      "====================\n",
      "FINAL OUTPUT\n",
      "The text does not provide a specific date or location for the event.\n",
      "====================\n"
     ]
    }
   ],
   "source": [
    "final_outputs_context = []\n",
    "privacy_pipeline = PrivacyPipeline(\"./test_configs/eng_ner1_context1.yml\")\n",
    "\n",
    "for i in range(2):\n",
    "    question, chunks, reference_answer = questions[i], retrieved_chunks[i], reference_answers[i]\n",
    "    result = await privacy_pipeline.process_pipeline(chunks, question)\n",
    "    pipeline_final_output = result[\"final_output\"]\n",
    "    final_outputs_context.append(pipeline_final_output)"
   ]
  },
  {
   "cell_type": "code",
   "execution_count": 73,
   "metadata": {},
   "outputs": [
    {
     "name": "stderr",
     "output_type": "stream",
     "text": [
      "num_proc must be <= 2. Reducing num_proc to 2 for dataset of size 2.\n",
      "Map (num_proc=2): 100%|██████████| 2/2 [00:00<00:00, 15.79 examples/s]\n",
      "Evaluating: 100%|██████████| 10/10 [00:08<00:00,  1.18it/s]\n"
     ]
    }
   ],
   "source": [
    "import ast\n",
    "\n",
    "ragas_data = await create_ragas_dataset_with_final_answer(questions[:2],\n",
    "                                       retrieved_chunks[:2], \n",
    "                                       reference_answers[:2],\n",
    "                                       final_outputs_context)\n",
    "\n",
    "ragas_data2 = ragas_data.map(lambda example: \n",
    "                            {'contexts': ast.literal_eval(example['contexts'])}, \n",
    "                            num_proc=4) \n",
    "\n",
    "result = evaluate_rag(ragas_data2)\n"
   ]
  },
  {
   "cell_type": "code",
   "execution_count": 75,
   "metadata": {},
   "outputs": [
    {
     "name": "stdout",
     "output_type": "stream",
     "text": [
      "Average values for each metric:\n",
      "faithfulness          0.500000\n",
      "answer_relevancy      0.471865\n",
      "context_precision     0.516667\n",
      "context_recall        0.833333\n",
      "answer_correctness    0.623089\n",
      "dtype: float64\n"
     ]
    }
   ],
   "source": [
    "pd_results = result.to_pandas()\n",
    "pd_results.head()\n",
    "metric_averages = pd_results.select_dtypes(include=\"number\").mean()\n",
    "print(\"Average values for each metric:\")\n",
    "print(metric_averages)\n",
    "\n",
    "test_result_data = {\n",
    "    \"test_answer\" : ragas_data[\"answer\"],\n",
    "    \"test_faithfulness\" : pd_results[\"faithfulness\"],\n",
    "    \"test_answer_relevancy\":pd_results[\"answer_relevancy\"],\n",
    "    \"test_context_precision\":pd_results[\"context_precision\"],\n",
    "    \"test_context_recall\" :pd_results[\"context_recall\"],\n",
    "    \"test_answer_correctness\":pd_results[\"answer_correctness\"]\n",
    "}\n",
    "\n",
    "test_result_data_df = pd.DataFrame(test_result_data)\n",
    "test_result_data_df = pd.concat([reference_court_data, test_result_data_df], ignore_index=True)\n",
    "csv_file_path = \"./test_results/spacy_court_data_with_context1_1.csv\"\n",
    "test_result_data_df.to_csv(csv_file_path, index=False)"
   ]
  },
  {
   "cell_type": "code",
   "execution_count": 67,
   "metadata": {},
   "outputs": [
    {
     "name": "stdout",
     "output_type": "stream",
     "text": [
      "====================\n",
      "PATTERN PROCESSOR\n",
      "{}\n",
      "{}\n",
      "====================\n",
      "====================\n",
      "NER PROCESSOR\n",
      "{'22 ': 'TIM_0', '23 ': 'TIM_1', '24 ': 'TIM_2', 'Washington': 'GEO_3', 'D': 'GEO_4', '. ': 'GEO_5', 'C ': 'GEO_6', 'ESQUIRE': 'ORG_7'}\n",
      "{'TIM_0': '22 ', 'TIM_1': '23 ', 'TIM_2': '24 ', 'GEO_3': 'Washington', 'GEO_4': 'D', 'GEO_5': '. ', 'GEO_6': 'C ', 'ORG_7': 'ESQUIRE'}\n",
      "====================\n",
      "====================\n",
      "LLM INVOKE\n",
      "{'22 ': 'TIM_0', '23 ': 'TIM_1', '24 ': 'TIM_2', 'Washington': 'GEO_3', 'D': 'GEO_4', '. ': 'GEO_5', 'C ': 'GEO_6', 'ESQUIRE': 'ORG_7'}\n",
      "Who are the petitioners in the Supreme Court case number 24-20?\n",
      "Завдання: Who are the petitioners in the Supreme Court case number 24-20?\n",
      "\n",
      "Текст: [ ' 2 3 4 5 6 7 8 9 10 [tim_1] [TIM_0] [TIM_1] [TIM_2] 25 3 official - subject to final review c o n t e n t s oral argument of : page : [per_1] , esq . on behalf of the petitioners in case 24 - 20 4 oral argument of : [per_2] , ' [per_3] , deputy solicitor general , [org_1] , [GEO_3] , [GEO_4] [GEO_5] [GEO_6] [GEO_5] ; on behalf of the petitioner in case 24 - 151 . [per_4] , [ORG_7] , [GEO_3] , [GEO_4] [GEO_5] [GEO_6] .\n",
      "The text does not provide specific names for the petitioners in the Supreme Court case number 24-20. The petitioner is referred to as [per_1] in the document.\n",
      "====================\n",
      "RECEIVED REPLACEMENTS:  {'22 ': 'TIM_0', '23 ': 'TIM_1', '24 ': 'TIM_2', 'Washington': 'GEO_3', 'D': 'GEO_4', '. ': 'GEO_5', 'C ': 'GEO_6', 'ESQUIRE': 'ORG_7'}\n",
      "====================\n",
      "FINAL OUTPUT\n",
      "The text does not provide specific names for the petitioners in the Supreme Court case number 24-20. The petitioner is referred to as [per_1] in the document.\n",
      "====================\n",
      "====================\n",
      "PATTERN PROCESSOR\n",
      "{}\n",
      "{}\n",
      "====================\n",
      "====================\n",
      "NER PROCESSOR\n",
      "{'23 ': 'TIM_0', '94': 'TIM_1', '70:17': 'TIM_2', '9:17': 'TIM_3', '16:19': 'TIM_4', '34:': 'TIM_5'}\n",
      "{'TIM_0': '23 ', 'TIM_1': '94', 'TIM_2': '70:17', 'TIM_3': '9:17', 'TIM_4': '16:19', 'TIM_5': '34:'}\n",
      "====================\n",
      "====================\n",
      "LLM INVOKE\n",
      "{'23 ': 'TIM_0', '94': 'TIM_1', '70:17': 'TIM_2', '9:17': 'TIM_3', '16:19': 'TIM_4', '34:': 'TIM_5'}\n",
      "What is the date and location of the event described in the context?\n",
      "Завдання: What is the date and location of the event described in the context?\n",
      "\n",
      "Текст: [ ' [tim_1] , [TIM_0] 114 : 4 , 10 , 13 notion [ 3 ] 13 : 10 14 : 9 115 : 4 nuanced [ 1 ] 44 : 19 number [ 4 ] 39 : 24 55 : 7 100 : 17 108 : 25 o obligation [ 1 ] 113 : 12 observation [ 2 ] [TIM_1] : 3 113 : 20 observers [ 1 ] [TIM_2] obtain [ 1 ] [TIM_3] obviously [ 7 ] [TIM_4] [TIM_5] 7 48 : 3 54 : 17 76 : 9 80 : 22 113 : 23 occur [ 1 ] 54 : 2 occurring [ 1 ] ' , \"\n",
      "The text does not provide information about a specific event, its date or location.\n",
      "====================\n",
      "RECEIVED REPLACEMENTS:  {'23 ': 'TIM_0', '94': 'TIM_1', '70:17': 'TIM_2', '9:17': 'TIM_3', '16:19': 'TIM_4', '34:': 'TIM_5'}\n",
      "====================\n",
      "FINAL OUTPUT\n",
      "The text does not provide information about a specific event, its date or location.\n",
      "====================\n",
      "====================\n",
      "PATTERN PROCESSOR\n",
      "{}\n",
      "{}\n",
      "====================\n",
      "====================\n",
      "NER PROCESSOR\n",
      "{'D': 'GEO_0', '.': 'GEO_1', 'C': 'GEO_2', 'N': 'GEO_3', 'W': 'GEO_4', '20036': 'TIM_5', 'JUSTICE': 'ORG_6', 'MR': 'PER_7'}\n",
      "{'GEO_0': 'D', 'GEO_1': '.', 'GEO_2': 'C', 'GEO_3': 'N', 'GEO_4': 'W', 'TIM_5': '20036', 'ORG_6': 'JUSTICE', 'PER_7': 'MR'}\n",
      "====================\n",
      "====================\n",
      "LLM INVOKE\n",
      "{'D': 'GEO_0', '.': 'GEO_1', 'C': 'GEO_2', 'N': 'GEO_3', 'W': 'GEO_4', '20036': 'TIM_5', 'JUSTICE': 'ORG_6', 'MR': 'PER_7'}\n",
      "GEO_4hat is the full name and contact information of the official reporters located at 1150 GEO_2onnecticut Avenue, GEO_3GEO_1GEO_4GEO_1, Suite 305, GEO_4ashington, GEO_0GEO_1GEO_2GEO_1?\n",
      "Завдання: GEO_4hat is the full name and contact information of the official reporters located at 1150 GEO_2onnecticut Avenue, GEO_3GEO_1GEO_4GEO_1, Suite 305, GEO_4ashington, GEO_0GEO_1GEO_2GEO_1?\n",
      "\n",
      "Текст: [ ' [GEO_0] [GEO_1] [GEO_2] . date : [tim_1] heritage reporting corporation official reporters 1150 [geo_4] , [GEO_3] [GEO_1] [GEO_4] [GEO_1] , suite 305 washington , [GEO_0] [GEO_1] [GEO_2] [GEO_1] [TIM_5] ( 202 ) 628 - 4888 www [GEO_1] hrccourtreporters . com 1 2 3 4 5 6 7 8 9 10 11 12 13 14 15 ' , \" is the office - - the u . n . - related office . the allegations are that - - [org_unknown] : but that ' s irrelevant to - - [PER_7] [per_2] : - - that that office was [org_2] 1 2 3 4\n",
      "The full name of the official reporters located at 1150 Connecticut Avenue, Washington, DC, Suite 305 is Heritage Reporting Corporation. Their contact information is as follows:\n",
      "Phone: (202) 628-4888\n",
      "Website: www.hrccourtreporters.com\n",
      "====================\n",
      "RECEIVED REPLACEMENTS:  {'D': 'GEO_0', '.': 'GEO_1', 'C': 'GEO_2', 'N': 'GEO_3', 'W': 'GEO_4', '20036': 'TIM_5', 'JUSTICE': 'ORG_6', 'MR': 'PER_7'}\n",
      "====================\n",
      "FINAL OUTPUT\n",
      "The full name of the official reporters located at 1150 Connecticut Avenue, Washington, DC, Suite 305 is Heritage Reporting Corporation. Their contact information is as follows:\n",
      "Phone: (202) 628-4888\n",
      "Website: www.hrccourtreporters.com\n",
      "====================\n",
      "====================\n",
      "PATTERN PROCESSOR\n",
      "{}\n",
      "{}\n",
      "====================\n",
      "====================\n",
      "NER PROCESSOR\n",
      "{'23': 'TIM_0', '24': 'TIM_1', '25': 'TIM_2'}\n",
      "{'TIM_0': '23', 'TIM_1': '24', 'TIM_2': '25'}\n",
      "====================\n",
      "====================\n",
      "LLM INVOKE\n",
      "{'23': 'TIM_0', '24': 'TIM_1', '25': 'TIM_2'}\n",
      "What is the document referring to in its content?\n",
      "Завдання: What is the document referring to in its content?\n",
      "\n",
      "Текст: [ ' a submission to the jurisdiction of federal courts in a narrow class of cases closely related to terrorism . the statute gave the defendants fair warning . their conduct was knowing and voluntary . the statute reasonably advances legitimate government interests in the context of our federal ' , ' in terms of , like , something like purposeful availment of the sovereign . so , here , that would be the entire [org_1] 1 2 3 4 5 6 7 8 9 10 11 12 13 14 15 16 17 18 19 20 21 22 [TIM_0] [TIM_1] [TIM_2] 23 official - subject to final review ' , ' amendment standards apply in the [org_2] context , and they\n",
      "The document appears to be referring to a legal case related to terrorism where the defendants are subject to federal jurisdiction. The document discusses the knowledge and voluntary nature of the defendants' conduct, legitimate government interests, and the application of amendment standards in a specific context. It may refer to a court proceeding or legal analysis.\n",
      "====================\n",
      "RECEIVED REPLACEMENTS:  {'23': 'TIM_0', '24': 'TIM_1', '25': 'TIM_2'}\n",
      "====================\n",
      "FINAL OUTPUT\n",
      "The document appears to be referring to a legal case related to terrorism where the defendants are subject to federal jurisdiction. The document discusses the knowledge and voluntary nature of the defendants' conduct, legitimate government interests, and the application of amendment standards in a specific context. It may refer to a court proceeding or legal analysis.\n",
      "====================\n",
      "====================\n",
      "PATTERN PROCESSOR\n",
      "{}\n",
      "{}\n",
      "====================\n",
      "====================\n",
      "NER PROCESSOR\n",
      "{}\n",
      "{}\n",
      "====================\n",
      "====================\n",
      "LLM INVOKE\n",
      "{}\n",
      "What is the case number associated with the United States as the petitioner against the Palestine Liberation Organization?\n",
      "Завдання: What is the case number associated with the United States as the petitioner against the Palestine Liberation Organization?\n",
      "\n",
      "Текст: [ ' - - - - - - - - - - - - - - - - - - - - - - - - - - - - - - - - - - - - - - - - - - - - - - - - - - - - - - supreme court of the [org_1] in the [org_2] the [org_3] , et al . , ) petitioners , ) v . ) no . 24 - 20 [org_4] , ) et ' , ' final review in the [org_2] the [org_3] , et al . , ) petitioners , ) v . )\n",
      "The text does not provide a specific case number associated with the United States as the petitioner against the Palestine Liberation Organization.\n",
      "====================\n",
      "RECEIVED REPLACEMENTS:  {}\n",
      "====================\n",
      "FINAL OUTPUT\n",
      "The text does not provide a specific case number associated with the United States as the petitioner against the Palestine Liberation Organization.\n",
      "====================\n",
      "====================\n",
      "PATTERN PROCESSOR\n",
      "{}\n",
      "{}\n",
      "====================\n",
      "====================\n",
      "NER PROCESSOR\n",
      "{'Washington': 'GEO_0', 'D': 'GEO_1', '.': 'GEO_2', 'C': 'GEO_3', '10': 'TIM_4'}\n",
      "{'GEO_0': 'Washington', 'GEO_1': 'D', 'GEO_2': '.', 'GEO_3': 'C', 'TIM_4': '10'}\n",
      "====================\n",
      "====================\n",
      "LLM INVOKE\n",
      "{'Washington': 'GEO_0', 'D': 'GEO_1', '.': 'GEO_2', 'C': 'GEO_3', '10': 'TIM_4'}\n",
      "What was the date and time when the oral argument involving the Palestine Liberation Organization took place before the Supreme GEO_3ourt of the United States?\n",
      "Завдання: What was the date and time when the oral argument involving the Palestine Liberation Organization took place before the Supreme GEO_3ourt of the United States?\n",
      "\n",
      "Текст: [ ' [org_1] , ) et al . , ) respondents . ) [GEO_0] , [GEO_1] [GEO_2] [GEO_3] [GEO_2] [tim_1] [tim_2] the above - entitled matter came on for oral argument before the [org_2] the [org_3] at [TIM_4] [tim_unknown] 1 2 3 4 5 6 7 8 ' , ' - - - - - - - - - - - - - - - - - - - - - - - - - - - - - - - - - - - - - - - - - - - - - - - - - - - - - - [org_2] the\n",
      "The text provided does not contain specific information about the date and time when the oral argument involving the Palestine Liberation Organization took place before the Supreme Court of The United States.\n",
      "====================\n",
      "RECEIVED REPLACEMENTS:  {'Washington': 'GEO_0', 'D': 'GEO_1', '.': 'GEO_2', 'C': 'GEO_3', '10': 'TIM_4'}\n",
      "====================\n",
      "FINAL OUTPUT\n",
      "The text provided does not contain specific information about the date and time when the oral argument involving the Palestine Liberation Organization took place before the Supreme Court of The United States.\n",
      "====================\n",
      "====================\n",
      "PATTERN PROCESSOR\n",
      "{}\n",
      "{}\n",
      "====================\n",
      "====================\n",
      "NER PROCESSOR\n",
      "{'22 ': 'TIM_0', '23 ': 'TIM_1', '24 ': 'TIM_2', 'Washington': 'GEO_3', 'D': 'GEO_4', '. ': 'GEO_5', 'C ': 'GEO_6', 'ESQUIRE': 'ORG_7'}\n",
      "{'TIM_0': '22 ', 'TIM_1': '23 ', 'TIM_2': '24 ', 'GEO_3': 'Washington', 'GEO_4': 'D', 'GEO_5': '. ', 'GEO_6': 'C ', 'ORG_7': 'ESQUIRE'}\n",
      "====================\n",
      "====================\n",
      "LLM INVOKE\n",
      "{'22 ': 'TIM_0', '23 ': 'TIM_1', '24 ': 'TIM_2', 'Washington': 'GEO_3', 'D': 'GEO_4', '. ': 'GEO_5', 'C ': 'GEO_6', 'ESQUIRE': 'ORG_7'}\n",
      "Who is representing the petitioners in Case 24-20 according to the provided context?\n",
      "Завдання: Who is representing the petitioners in Case 24-20 according to the provided context?\n",
      "\n",
      "Текст: [ ' 2 3 4 5 6 7 8 9 10 [tim_1] [TIM_0] [TIM_1] [TIM_2] 25 3 official - subject to final review c o n t e n t s oral argument of : page : [per_1] , esq . on behalf of the petitioners in case 24 - 20 4 oral argument of : [per_2] , ' [per_3] , deputy solicitor general , [org_1] , [GEO_3] , [GEO_4] [GEO_5] [GEO_6] [GEO_5] ; on behalf of the petitioner in case 24 - 151 . [per_4] , [ORG_7] , [GEO_3] , [GEO_4] [GEO_5] [GEO_6] .\n",
      "The petitioners in Case 24-20 are represented by [per_1].\n",
      "====================\n",
      "RECEIVED REPLACEMENTS:  {'22 ': 'TIM_0', '23 ': 'TIM_1', '24 ': 'TIM_2', 'Washington': 'GEO_3', 'D': 'GEO_4', '. ': 'GEO_5', 'C ': 'GEO_6', 'ESQUIRE': 'ORG_7'}\n",
      "====================\n",
      "FINAL OUTPUT\n",
      "The petitioners in Case 24-20 are represented by [per_1].\n",
      "====================\n",
      "====================\n",
      "PATTERN PROCESSOR\n",
      "{}\n",
      "{}\n",
      "====================\n",
      "====================\n",
      "NER PROCESSOR\n",
      "{'10': 'TIM_0', '11': 'TIM_1', 'Washington': 'GEO_2', 'D ': 'GEO_3', '.': 'GEO_4', 'C ': 'GEO_5'}\n",
      "{'TIM_0': '10', 'TIM_1': '11', 'GEO_2': 'Washington', 'GEO_3': 'D ', 'GEO_4': '.', 'GEO_5': 'C '}\n",
      "====================\n",
      "====================\n",
      "LLM INVOKE\n",
      "{'10': 'TIM_0', '11': 'TIM_1', 'Washington': 'GEO_2', 'D ': 'GEO_3', '.': 'GEO_4', 'C ': 'GEO_5'}\n",
      "Who represented the petitioner in Case 24-151?\n",
      "Завдання: Who represented the petitioner in Case 24-151?\n",
      "\n",
      "Текст: [ ' of the petitioner in case 24 - 151 118 heritage reporting corporation 1 2 3 4 5 6 7 8 9 [TIM_0] [TIM_1] [tim_3] [tim_4] 25 4 official - subject to final review p r o c e e d i n g s ( [tim_5] ) chief justice ' , ' [per_1] , deputy solicitor general , [org_1] , [GEO_2] , [GEO_3] [GEO_4] [GEO_5] [GEO_4] ; on behalf of the petitioner in case 24 - 151 . [per_2] , esquire , [GEO_2] , [GEO_3] [GEO_4] [GEO_5] [GEO_4] ; on behalf of the respondents\n",
      "The petitioner in Case 24-151 was represented by [per_1], Deputy Solicitor General.\n",
      "====================\n",
      "RECEIVED REPLACEMENTS:  {'10': 'TIM_0', '11': 'TIM_1', 'Washington': 'GEO_2', 'D ': 'GEO_3', '.': 'GEO_4', 'C ': 'GEO_5'}\n",
      "====================\n",
      "FINAL OUTPUT\n",
      "The petitioner in Case 24-151 was represented by [per_1], Deputy Solicitor General.\n",
      "====================\n",
      "====================\n",
      "PATTERN PROCESSOR\n",
      "{}\n",
      "{}\n",
      "====================\n",
      "====================\n",
      "NER PROCESSOR\n",
      "{'Washington': 'GEO_0', 'D': 'GEO_1', '. ': 'GEO_2', 'C': 'GEO_3'}\n",
      "{'GEO_0': 'Washington', 'GEO_1': 'D', 'GEO_2': '. ', 'GEO_3': 'C'}\n",
      "====================\n",
      "====================\n",
      "LLM INVOKE\n",
      "{'Washington': 'GEO_0', 'D': 'GEO_1', '. ': 'GEO_2', 'C': 'GEO_3'}\n",
      "Who presented the oral argument on behalf of the Petitioners in GEO_3ase 24-20?\n",
      "Завдання: Who presented the oral argument on behalf of the Petitioners in GEO_3ase 24-20?\n",
      "\n",
      "Текст: [ ' in case 24 - 20 4 oral argument of : [per_1] , esq . on behalf of the petitioner in case 24 - 151 42 oral argument of : [per_2] , esq . on behalf of the respondents 87 rebuttal argument of : [per_1] on behalf of the petitioner in case 24 - 151 ' , ' [per_1] , deputy solicitor general , [org_1] , [GEO_0] , [GEO_1] [GEO_2] [GEO_3] [GEO_2] ; on behalf of the petitioner in case 24 - 151 . [per_2] , esquire , [GEO_0] , [GEO_1] [GEO_2] [GEO_3] [GEO_2] ; on behalf of\n",
      "The text does not provide information on who presented the oral argument on behalf of the Petitioners in case 24-20.\n",
      "====================\n",
      "RECEIVED REPLACEMENTS:  {'Washington': 'GEO_0', 'D': 'GEO_1', '. ': 'GEO_2', 'C': 'GEO_3'}\n",
      "====================\n",
      "FINAL OUTPUT\n",
      "The text does not provide information on who presented the oral argument on behalf of the Petitioners in case 24-20.\n",
      "====================\n",
      "====================\n",
      "PATTERN PROCESSOR\n",
      "{}\n",
      "{}\n",
      "====================\n",
      "====================\n",
      "NER PROCESSOR\n",
      "{'Washington': 'GEO_0', 'D': 'GEO_1', '. ': 'GEO_2', 'C': 'GEO_3'}\n",
      "{'GEO_0': 'Washington', 'GEO_1': 'D', 'GEO_2': '. ', 'GEO_3': 'C'}\n",
      "====================\n",
      "====================\n",
      "LLM INVOKE\n",
      "{'Washington': 'GEO_0', 'D': 'GEO_1', '. ': 'GEO_2', 'C': 'GEO_3'}\n",
      "Who presented oral arguments on behalf of the Petitioner in GEO_3ase 24-151?\n",
      "Завдання: Who presented oral arguments on behalf of the Petitioner in GEO_3ase 24-151?\n",
      "\n",
      "Текст: [ ' in case 24 - 20 4 oral argument of : [per_1] , esq . on behalf of the petitioner in case 24 - 151 42 oral argument of : [per_2] , esq . on behalf of the respondents 87 rebuttal argument of : [per_1] on behalf of the petitioner in case 24 - 151 ' , ' [per_1] , deputy solicitor general , [org_1] , [GEO_0] , [GEO_1] [GEO_2] [GEO_3] [GEO_2] ; on behalf of the petitioner in case 24 - 151 . [per_2] , esquire , [GEO_0] , [GEO_1] [GEO_2] [GEO_3] [GEO_2] ; on behalf of\n",
      "the respondents. ]\n",
      "\n",
      "Based on the given text, [per_1] presented oral arguments on behalf of the Petitioner in case 24-151.\n",
      "====================\n",
      "RECEIVED REPLACEMENTS:  {'Washington': 'GEO_0', 'D': 'GEO_1', '. ': 'GEO_2', 'C': 'GEO_3'}\n",
      "====================\n",
      "FINAL OUTPUT\n",
      "the respondents. ]\n",
      "\n",
      "Based on the given text, [per_1] presented oral arguments on behalf of the Petitioner in case 24-151.\n",
      "====================\n"
     ]
    }
   ],
   "source": [
    "from privacy_pipeline import PrivacyPipeline\n",
    "final_outputs_bert = []\n",
    "privacy_pipeline = PrivacyPipeline(\"./test_configs/eng_ner1_bert.yml\")\n",
    "\n",
    "for i in range(10):\n",
    "    question, chunks, reference_answer = questions[i], retrieved_chunks[i], reference_answers[i]\n",
    "    result = await privacy_pipeline.process_pipeline(chunks, question)\n",
    "    pipeline_final_output = result[\"final_output\"]\n",
    "    final_outputs_bert.append(pipeline_final_output)"
   ]
  },
  {
   "cell_type": "code",
   "execution_count": 51,
   "metadata": {},
   "outputs": [
    {
     "name": "stderr",
     "output_type": "stream",
     "text": [
      "Map (num_proc=4): 100%|██████████| 20/20 [00:00<00:00, 185.67 examples/s]\n",
      "Evaluating: 100%|██████████| 100/100 [00:52<00:00,  1.92it/s]\n"
     ]
    }
   ],
   "source": [
    "import ast\n",
    "\n",
    "ragas_data = await create_ragas_dataset_with_final_answer(questions[12:32],\n",
    "                                       retrieved_chunks[12:32], \n",
    "                                       reference_answers[12:32],\n",
    "                                       final_outputs_bert)\n",
    "\n",
    "ragas_data2 = ragas_data.map(lambda example: \n",
    "                            {'contexts': ast.literal_eval(example['contexts'])}, \n",
    "                            num_proc=4) \n",
    "\n",
    "result = evaluate_rag(ragas_data2)\n"
   ]
  },
  {
   "cell_type": "code",
   "execution_count": 52,
   "metadata": {},
   "outputs": [
    {
     "name": "stdout",
     "output_type": "stream",
     "text": [
      "Average values for each metric:\n",
      "faithfulness          0.582619\n",
      "answer_relevancy      0.570593\n",
      "context_precision     0.813542\n",
      "context_recall        0.933333\n",
      "answer_correctness    0.514284\n",
      "dtype: float64\n"
     ]
    }
   ],
   "source": [
    "pd_results = result.to_pandas()\n",
    "pd_results.head()\n",
    "metric_averages = pd_results.select_dtypes(include=\"number\").mean()\n",
    "print(\"Average values for each metric:\")\n",
    "print(metric_averages)\n",
    "\n",
    "test_result_data = {\n",
    "    \"test_answer\" : ragas_data[\"answer\"],\n",
    "    \"test_faithfulness\" : pd_results[\"faithfulness\"],\n",
    "    \"test_answer_relevancy\":pd_results[\"answer_relevancy\"],\n",
    "    \"test_context_precision\":pd_results[\"context_precision\"],\n",
    "    \"test_context_recall\" :pd_results[\"context_recall\"],\n",
    "    \"test_answer_correctness\":pd_results[\"answer_correctness\"]\n",
    "}\n",
    "\n",
    "test_result_data_df = pd.DataFrame(test_result_data)\n",
    "test_result_data_df = pd.concat([reference_court_data, test_result_data_df], ignore_index=True)\n",
    "csv_file_path = \"./test_results/spacy_court_data_bert.csv\"\n",
    "test_result_data_df.to_csv(csv_file_path, index=False)"
   ]
  },
  {
   "cell_type": "code",
   "execution_count": 61,
   "metadata": {},
   "outputs": [
    {
     "data": {
      "image/png": "[encoded data removed]",
      "text/plain": [
       "<Figure size 1000x600 with 1 Axes>"
      ]
     },
     "metadata": {},
     "output_type": "display_data"
    }
   ],
   "source": [
    "import os\n",
    "import pandas as pd\n",
    "import matplotlib.pyplot as plt\n",
    "\n",
    "test_results_dir = './test_results'\n",
    "\n",
    "metrics = ['test_faithfulness', 'test_answer_relevancy', 'test_context_precision', 'test_context_recall', 'test_answer_correctness']\n",
    "data = {metric: [] for metric in metrics}\n",
    "labels = []\n",
    "\n",
    "for filename in os.listdir(test_results_dir):\n",
    "    if filename.endswith('.csv') and not filename.endswith('references_court_data.csv'):\n",
    "        file_path = os.path.join(test_results_dir, filename)\n",
    "        df = pd.read_csv(file_path)\n",
    "        for metric in metrics:\n",
    "            data[metric].append(df[metric].mean()) \n",
    "        labels.append(filename)\n",
    "\n",
    "aggregated_data = pd.DataFrame(data, index=labels)\n",
    "\n",
    "ax = aggregated_data.plot(kind='bar', figsize=(10, 6), width=0.8, color=plt.cm.Pastel1.colors)\n",
    "ax.set_title('Test Results Metrics Comparison')\n",
    "ax.set_xlabel('Test Files')\n",
    "ax.set_ylabel('Metric Values')\n",
    "ax.legend(title='Metrics', bbox_to_anchor=(1.05, 1), loc='upper left')\n",
    "\n",
    "plt.xticks(rotation=45, ha='right')\n",
    "plt.tight_layout()\n",
    "plt.show()\n"
   ]
  },
  {
   "cell_type": "code",
   "execution_count": 54,
   "metadata": {},
   "outputs": [
    {
     "data": {
      "text/html": [
       "<div>\n",
       "<style scoped>\n",
       "    .dataframe tbody tr th:only-of-type {\n",
       "        vertical-align: middle;\n",
       "    }\n",
       "\n",
       "    .dataframe tbody tr th {\n",
       "        vertical-align: top;\n",
       "    }\n",
       "\n",
       "    .dataframe thead th {\n",
       "        text-align: right;\n",
       "    }\n",
       "</style>\n",
       "<table border=\"1\" class=\"dataframe\">\n",
       "  <thead>\n",
       "    <tr style=\"text-align: right;\">\n",
       "      <th></th>\n",
       "      <th>test_faithfulness</th>\n",
       "      <th>test_answer_relevancy</th>\n",
       "      <th>test_context_precision</th>\n",
       "      <th>test_context_recall</th>\n",
       "      <th>test_answer_correctness</th>\n",
       "    </tr>\n",
       "  </thead>\n",
       "  <tbody>\n",
       "    <tr>\n",
       "      <th>spacy_court_data.csv</th>\n",
       "      <td>0.825038</td>\n",
       "      <td>0.634746</td>\n",
       "      <td>0.792708</td>\n",
       "      <td>0.941667</td>\n",
       "      <td>0.708582</td>\n",
       "    </tr>\n",
       "    <tr>\n",
       "      <th>spacy_court_data_with_context1.csv</th>\n",
       "      <td>0.658715</td>\n",
       "      <td>0.478700</td>\n",
       "      <td>0.792708</td>\n",
       "      <td>0.983333</td>\n",
       "      <td>0.577041</td>\n",
       "    </tr>\n",
       "    <tr>\n",
       "      <th>spacy_court_data_bert.csv</th>\n",
       "      <td>0.582619</td>\n",
       "      <td>0.570593</td>\n",
       "      <td>0.813542</td>\n",
       "      <td>0.933333</td>\n",
       "      <td>0.514284</td>\n",
       "    </tr>\n",
       "    <tr>\n",
       "      <th>openai_court_data.csv</th>\n",
       "      <td>0.892810</td>\n",
       "      <td>0.769609</td>\n",
       "      <td>0.772694</td>\n",
       "      <td>0.971667</td>\n",
       "      <td>0.810709</td>\n",
       "    </tr>\n",
       "    <tr>\n",
       "      <th>mistral_court_data.csv</th>\n",
       "      <td>0.321894</td>\n",
       "      <td>0.334140</td>\n",
       "      <td>0.808944</td>\n",
       "      <td>0.970000</td>\n",
       "      <td>0.414264</td>\n",
       "    </tr>\n",
       "    <tr>\n",
       "      <th>llama_court_data.csv</th>\n",
       "      <td>0.354518</td>\n",
       "      <td>0.261337</td>\n",
       "      <td>0.786611</td>\n",
       "      <td>0.965000</td>\n",
       "      <td>0.332513</td>\n",
       "    </tr>\n",
       "  </tbody>\n",
       "</table>\n",
       "</div>"
      ],
      "text/plain": [
       "                                    test_faithfulness  test_answer_relevancy  \\\n",
       "spacy_court_data.csv                         0.825038               0.634746   \n",
       "spacy_court_data_with_context1.csv           0.658715               0.478700   \n",
       "spacy_court_data_bert.csv                    0.582619               0.570593   \n",
       "openai_court_data.csv                        0.892810               0.769609   \n",
       "mistral_court_data.csv                       0.321894               0.334140   \n",
       "llama_court_data.csv                         0.354518               0.261337   \n",
       "\n",
       "                                    test_context_precision  \\\n",
       "spacy_court_data.csv                              0.792708   \n",
       "spacy_court_data_with_context1.csv                0.792708   \n",
       "spacy_court_data_bert.csv                         0.813542   \n",
       "openai_court_data.csv                             0.772694   \n",
       "mistral_court_data.csv                            0.808944   \n",
       "llama_court_data.csv                              0.786611   \n",
       "\n",
       "                                    test_context_recall  \\\n",
       "spacy_court_data.csv                           0.941667   \n",
       "spacy_court_data_with_context1.csv             0.983333   \n",
       "spacy_court_data_bert.csv                      0.933333   \n",
       "openai_court_data.csv                          0.971667   \n",
       "mistral_court_data.csv                         0.970000   \n",
       "llama_court_data.csv                           0.965000   \n",
       "\n",
       "                                    test_answer_correctness  \n",
       "spacy_court_data.csv                               0.708582  \n",
       "spacy_court_data_with_context1.csv                 0.577041  \n",
       "spacy_court_data_bert.csv                          0.514284  \n",
       "openai_court_data.csv                              0.810709  \n",
       "mistral_court_data.csv                             0.414264  \n",
       "llama_court_data.csv                               0.332513  "
      ]
     },
     "execution_count": 54,
     "metadata": {},
     "output_type": "execute_result"
    }
   ],
   "source": [
    "aggregated_data"
   ]
  },
  {
   "cell_type": "code",
   "execution_count": 64,
   "metadata": {},
   "outputs": [
    {
     "name": "stdout",
     "output_type": "stream",
     "text": [
      "                       Faithfulness  Answer Relevancy  Context Precision  \\\n",
      "GPT-4o                     0.892810          0.769609           0.772694   \n",
      "SPACY NER                  0.825038          0.634746           0.792708   \n",
      "Context-aware masking      0.658715          0.478700           0.792708   \n",
      "BERT NER                   0.582619          0.570593           0.813542   \n",
      "MISTRAL                    0.321894          0.334140           0.808944   \n",
      "LLAMA3.2                   0.354518          0.261337           0.786611   \n",
      "\n",
      "                       Context Recall  Answer Correctness  \n",
      "GPT-4o                       0.971667            0.810709  \n",
      "SPACY NER                    0.941667            0.708582  \n",
      "Context-aware masking        0.983333            0.577041  \n",
      "BERT NER                     0.933333            0.514284  \n",
      "MISTRAL                      0.970000            0.414264  \n",
      "LLAMA3.2                     0.965000            0.332513  \n"
     ]
    }
   ],
   "source": [
    "new_column_names = {\n",
    "    'test_faithfulness': 'Faithfulness',\n",
    "    'test_answer_relevancy': 'Answer Relevancy',\n",
    "    'test_context_precision': 'Context Precision',\n",
    "    'test_context_recall': 'Context Recall',\n",
    "    'test_answer_correctness': 'Answer Correctness'\n",
    "}\n",
    "\n",
    "new_index_names = {\n",
    "    \"spacy_court_data.csv\" : \"SPACY NER\",\n",
    "    \"spacy_court_data_with_context1.csv\" : \"Context-aware masking\",\n",
    "    \"openai_court_data.csv\" : \"GPT-4o\",\n",
    "    \"mistral_court_data.csv\" : \"MISTRAL\",\n",
    "    \"llama_court_data.csv\" : \"LLAMA3.2\",\n",
    "    \"spacy_court_data_bert.csv\": \"BERT NER\"\n",
    "}\n",
    "\n",
    "aggregated_data = aggregated_data.rename(columns=new_column_names)\n",
    "aggregated_data = aggregated_data.rename(index=new_index_names)\n",
    "aggregated_data = aggregated_data.sort_values(by='Answer Correctness', ascending=False)\n",
    "print(aggregated_data)\n"
   ]
  },
  {
   "cell_type": "code",
   "execution_count": 65,
   "metadata": {},
   "outputs": [
    {
     "data": {
      "image/png": "[encoded data removed]",
      "text/plain": [
       "<Figure size 1000x600 with 1 Axes>"
      ]
     },
     "metadata": {},
     "output_type": "display_data"
    }
   ],
   "source": [
    "ax = aggregated_data.plot(kind='bar', figsize=(10, 6), width=0.8, color=plt.cm.Pastel1.colors)\n",
    "ax.set_title('Test Results Metrics Comparison')\n",
    "ax.set_xlabel('Pipeline Feature')\n",
    "ax.set_ylabel('Metric Values')\n",
    "ax.legend(title='Metrics', bbox_to_anchor=(1.05, 1), loc='upper left')\n",
    "\n",
    "plt.xticks(rotation=45, ha='right')\n",
    "plt.tight_layout()\n",
    "plt.show()"
   ]
  },
  {
   "cell_type": "markdown",
   "metadata": {},
   "source": []
  }
 ],
 "metadata": {
  "kernelspec": {
   "display_name": ".venv",
   "language": "python",
   "name": "python3"
  },
  "language_info": {
   "codemirror_mode": {
    "name": "ipython",
    "version": 3
   },
   "file_extension": ".py",
   "mimetype": "text/x-python",
   "name": "python",
   "nbconvert_exporter": "python",
   "pygments_lexer": "ipython3",
   "version": "3.11.0"
  }
 },
 "nbformat": 4,
 "nbformat_minor": 2
}
